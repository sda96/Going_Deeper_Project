{
 "cells": [
  {
   "cell_type": "markdown",
   "id": "excellent-david",
   "metadata": {},
   "source": [
    "#### 기본적으로 사용되는 패키지"
   ]
  },
  {
   "cell_type": "code",
   "execution_count": null,
   "id": "ranging-audio",
   "metadata": {},
   "outputs": [],
   "source": [
    "import numpy as np\n",
    "import pandas as pd\n",
    "import matplotlib.pyplot as plt\n",
    "import tensorflow as tf\n",
    "from packages import utils # 사용자 지정 패키지입니다.\n",
    "import seaborn as sns"
   ]
  },
  {
   "cell_type": "markdown",
   "id": "acoustic-reform",
   "metadata": {},
   "source": [
    "#### 한국어 형태소 분석기 Ubuntu 버전 Mecab 설치"
   ]
  },
  {
   "cell_type": "markdown",
   "id": "parallel-yeast",
   "metadata": {
    "scrolled": true
   },
   "source": [
    "!sudo apt-get install curl git  \n",
    "\n",
    "!bash <(curl -s https://raw.githubusercontent.com/konlpy/konlpy/master/scripts/mecab.sh)"
   ]
  },
  {
   "cell_type": "markdown",
   "id": "aging-tourism",
   "metadata": {},
   "source": [
    "#### matplotlib 한글 깨짐 해결 코드"
   ]
  },
  {
   "cell_type": "code",
   "execution_count": null,
   "id": "amber-stock",
   "metadata": {},
   "outputs": [],
   "source": [
    "### 1.1 한국어 형태소 분석기 Ubuntu 버전 Mecab 설치\n",
    "\n",
    "!sudo apt-get install curl git  \n",
    "\n",
    "!bash <(curl -s https://raw.githubusercontent.com/konlpy/konlpy/master/scripts/mecab.sh)np.random.seed(0)\n",
    "\n",
    "# 한글 지원 폰트\n",
    "sns.set(font='NanumGothic')\n",
    "\n",
    "# 마이너스 부호 \n",
    "\n",
    "plt.rcParams['axes.unicode_minus'] = False"
   ]
  }
 ],
 "metadata": {
  "kernelspec": {
   "display_name": "Python 3",
   "language": "python",
   "name": "python3"
  },
  "language_info": {
   "codemirror_mode": {
    "name": "ipython",
    "version": 3
   },
   "file_extension": ".py",
   "mimetype": "text/x-python",
   "name": "python",
   "nbconvert_exporter": "python",
   "pygments_lexer": "ipython3",
   "version": "3.7.9"
  }
 },
 "nbformat": 4,
 "nbformat_minor": 5
}
