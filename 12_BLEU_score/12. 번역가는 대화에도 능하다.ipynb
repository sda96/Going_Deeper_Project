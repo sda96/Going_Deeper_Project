{
 "cells": [
  {
   "cell_type": "markdown",
   "id": "furnished-shirt",
   "metadata": {},
   "source": [
    "#### 기본적으로 사용되는 패키지"
   ]
  },
  {
   "cell_type": "code",
   "execution_count": 1,
   "id": "lesbian-sampling",
   "metadata": {},
   "outputs": [],
   "source": [
    "import numpy as np\n",
    "import pandas as pd\n",
    "import matplotlib.pyplot as plt\n",
    "import tensorflow as tf\n",
    "from packages import utils, tokenizer # 사용자 지정 패키지입니다.\n",
    "from konlpy.tag import Mecab\n",
    "import seaborn as sns"
   ]
  },
  {
   "cell_type": "markdown",
   "id": "settled-commonwealth",
   "metadata": {},
   "source": [
    "#### matplotlib 한글 깨짐 해결 코드"
   ]
  },
  {
   "cell_type": "code",
   "execution_count": 2,
   "id": "sufficient-circus",
   "metadata": {},
   "outputs": [],
   "source": [
    "# 한글 지원 폰트\n",
    "sns.set(font='NanumGothic')\n",
    "\n",
    "# 마이너스 부호 \n",
    "\n",
    "plt.rcParams['axes.unicode_minus'] = False"
   ]
  },
  {
   "cell_type": "markdown",
   "id": "light-albania",
   "metadata": {},
   "source": [
    "## 2.1 데이터 불러오기"
   ]
  },
  {
   "cell_type": "code",
   "execution_count": 3,
   "id": "rotary-stick",
   "metadata": {},
   "outputs": [
    {
     "name": "stdout",
     "output_type": "stream",
     "text": [
      "데이터 개수 : 11823\n",
      "컬럼 개수 : 3\n",
      "컬럼명 : Index(['Q', 'A', 'label'], dtype='object')\n"
     ]
    }
   ],
   "source": [
    "dic = utils.load_data_all(\"./data/ChatbotData.csv\")\n",
    "file_name = list(dic.keys())[0]\n",
    "data = dic[file_name]"
   ]
  },
  {
   "cell_type": "markdown",
   "id": "significant-overall",
   "metadata": {},
   "source": [
    "## 2.2 데이터 전처리\n",
    "- 특수문자 제거\n",
    "- 결측 데이터 제거"
   ]
  },
  {
   "cell_type": "markdown",
   "id": "automotive-statement",
   "metadata": {},
   "source": [
    "중복 데이터까지 제거하게 되면 너무 많은 데이터의 소실이 생기기 때문에 중복 데이터 제거는 하지 않겠습니다."
   ]
  },
  {
   "cell_type": "markdown",
   "id": "grateful-karma",
   "metadata": {},
   "source": [
    "### 2.2.1 특수문자 제거"
   ]
  },
  {
   "cell_type": "code",
   "execution_count": 4,
   "id": "saving-financing",
   "metadata": {},
   "outputs": [],
   "source": [
    "data[\"pre_Q\"] = data[\"Q\"].apply(lambda x: utils.text_prep(x))\n",
    "data[\"pre_A\"] = data[\"A\"].apply(lambda x: utils.text_prep(x))"
   ]
  },
  {
   "cell_type": "markdown",
   "id": "banned-heather",
   "metadata": {},
   "source": [
    "### 2.2.2 결측 데이터 제거"
   ]
  },
  {
   "cell_type": "code",
   "execution_count": 5,
   "id": "progressive-vulnerability",
   "metadata": {},
   "outputs": [],
   "source": [
    "data = utils.remove_nan(data)"
   ]
  },
  {
   "cell_type": "markdown",
   "id": "employed-bermuda",
   "metadata": {},
   "source": [
    "### 2.2.3 데이터 토큰화"
   ]
  },
  {
   "cell_type": "code",
   "execution_count": 6,
   "id": "copyrighted-immigration",
   "metadata": {},
   "outputs": [],
   "source": [
    "mecab = Mecab()\n",
    "data[\"pre_Q\"] = data[\"pre_Q\"].apply(lambda x: mecab.morphs(x))\n",
    "data[\"pre_A\"] = data[\"pre_A\"].apply(lambda x: mecab.morphs(x))"
   ]
  },
  {
   "cell_type": "markdown",
   "id": "governmental-professor",
   "metadata": {},
   "source": [
    "#### 문장별 토큰화된 단어 개수 시각화"
   ]
  },
  {
   "cell_type": "code",
   "execution_count": 7,
   "id": "pleasant-invention",
   "metadata": {},
   "outputs": [
    {
     "data": {
      "image/png": "[encoded data removed]",
      "text/plain": [
       "<Figure size 432x288 with 1 Axes>"
      ]
     },
     "metadata": {},
     "output_type": "display_data"
    }
   ],
   "source": [
    "from collections import Counter\n",
    "\n",
    "data[\"len_Q\"] = data[\"pre_Q\"].apply(lambda x: len(x))\n",
    "count_len_Q = dict(Counter(data[\"len_Q\"]))\n",
    "sort_len_Q = sorted(count_len_Q.items(), key = lambda x : x[0])\n",
    "sort_len_Q = np.array(sort_len_Q)\n",
    "\n",
    "data[\"len_A\"] = data[\"pre_A\"].apply(lambda x: len(x))\n",
    "count_len_A = dict(Counter(data[\"len_A\"]))\n",
    "sort_len_A = sorted(count_len_A.items(), key = lambda x : x[0])\n",
    "sort_len_A = np.array(sort_len_A)\n",
    "\n",
    "\n",
    "plt.bar(sort_len_A[:,0], sort_len_A[:,1], label = \"A\")\n",
    "plt.bar(sort_len_Q[:,0], sort_len_Q[:,1], label = \"Q\")\n",
    "plt.legend()\n",
    "plt.xlabel(\"토큰의 개수 및 문장의 길이\")\n",
    "plt.ylabel(\"문장의 개수\")\n",
    "plt.show()"
   ]
  },
  {
   "cell_type": "markdown",
   "id": "spectacular-arrest",
   "metadata": {},
   "source": [
    "#### 문장의 길이 20 이상인 데이터 확인하기"
   ]
  },
  {
   "cell_type": "code",
   "execution_count": 8,
   "id": "african-counter",
   "metadata": {},
   "outputs": [
    {
     "data": {
      "text/html": [
       "<div>\n",
       "<style scoped>\n",
       "    .dataframe tbody tr th:only-of-type {\n",
       "        vertical-align: middle;\n",
       "    }\n",
       "\n",
       "    .dataframe tbody tr th {\n",
       "        vertical-align: top;\n",
       "    }\n",
       "\n",
       "    .dataframe thead th {\n",
       "        text-align: right;\n",
       "    }\n",
       "</style>\n",
       "<table border=\"1\" class=\"dataframe\">\n",
       "  <thead>\n",
       "    <tr style=\"text-align: right;\">\n",
       "      <th></th>\n",
       "      <th>Q</th>\n",
       "      <th>A</th>\n",
       "      <th>label</th>\n",
       "      <th>pre_Q</th>\n",
       "      <th>pre_A</th>\n",
       "      <th>len_Q</th>\n",
       "      <th>len_A</th>\n",
       "    </tr>\n",
       "  </thead>\n",
       "  <tbody>\n",
       "    <tr>\n",
       "      <th>22</th>\n",
       "      <td>가장 확실한 건 뭘까?</td>\n",
       "      <td>가장 확실한 시간은 오늘이에요. 어제와 내일을 놓고 고민하느라 시간을 낭비하지 마세요.</td>\n",
       "      <td>0</td>\n",
       "      <td>[가장, 확실, 한, 건, 뭘까, ?]</td>\n",
       "      <td>[가장, 확실, 한, 시간, 은, 오늘, 이, 에요, 어제, 와, 내일, 을, 놓,...</td>\n",
       "      <td>6</td>\n",
       "      <td>23</td>\n",
       "    </tr>\n",
       "    <tr>\n",
       "      <th>26</th>\n",
       "      <td>가족 있어?</td>\n",
       "      <td>저를 만들어 준 사람을 부모님, 저랑 이야기해 주는 사람을 친구로 생각하고 있어요</td>\n",
       "      <td>0</td>\n",
       "      <td>[가족, 있, 어, ?]</td>\n",
       "      <td>[저, 를, 만들, 어, 준, 사람, 을, 부모, 님, ,, 저, 랑, 이야기, 해...</td>\n",
       "      <td>4</td>\n",
       "      <td>25</td>\n",
       "    </tr>\n",
       "    <tr>\n",
       "      <th>27</th>\n",
       "      <td>가족관계 알려 줘</td>\n",
       "      <td>저를 만들어 준 사람을 부모님, 저랑 이야기해 주는 사람을 친구로 생각하고 있어요</td>\n",
       "      <td>0</td>\n",
       "      <td>[가족, 관계, 알려, 줘]</td>\n",
       "      <td>[저, 를, 만들, 어, 준, 사람, 을, 부모, 님, ,, 저, 랑, 이야기, 해...</td>\n",
       "      <td>4</td>\n",
       "      <td>25</td>\n",
       "    </tr>\n",
       "    <tr>\n",
       "      <th>35</th>\n",
       "      <td>가족이 누구야?</td>\n",
       "      <td>저를 만들어 준 사람을 부모님, 저랑 이야기해 주는 사람을 친구로 생각하고 있어요</td>\n",
       "      <td>0</td>\n",
       "      <td>[가족, 이, 누구, 야, ?]</td>\n",
       "      <td>[저, 를, 만들, 어, 준, 사람, 을, 부모, 님, ,, 저, 랑, 이야기, 해...</td>\n",
       "      <td>5</td>\n",
       "      <td>25</td>\n",
       "    </tr>\n",
       "    <tr>\n",
       "      <th>588</th>\n",
       "      <td>나는 왜 이렇게 태어났을까?</td>\n",
       "      <td>서로 다르게 태어난 이유는 저마다의 목소리를 내기 위해서예요. 자신의 목소리를 들어...</td>\n",
       "      <td>0</td>\n",
       "      <td>[나, 는, 왜, 이렇게, 태어났, 을까, ?]</td>\n",
       "      <td>[서로, 다르, 게, 태어난, 이유, 는, 저마다, 의, 목소리, 를, 내, 기, ...</td>\n",
       "      <td>7</td>\n",
       "      <td>22</td>\n",
       "    </tr>\n",
       "    <tr>\n",
       "      <th>...</th>\n",
       "      <td>...</td>\n",
       "      <td>...</td>\n",
       "      <td>...</td>\n",
       "      <td>...</td>\n",
       "      <td>...</td>\n",
       "      <td>...</td>\n",
       "      <td>...</td>\n",
       "    </tr>\n",
       "    <tr>\n",
       "      <th>11759</th>\n",
       "      <td>하루 종일 붙어 있고 싶어</td>\n",
       "      <td>뭐든 함께하려는 것도 좋겠지만 오래 붙어잇는다고 해서 사랑이 더 커지거나 깊어지지 ...</td>\n",
       "      <td>2</td>\n",
       "      <td>[하루, 종일, 붙, 어, 있, 고, 싶, 어]</td>\n",
       "      <td>[뭐, 든, 함께, 하, 려는, 것, 도, 좋, 겠, 지만, 오래, 붙, 어, 잇,...</td>\n",
       "      <td>8</td>\n",
       "      <td>28</td>\n",
       "    </tr>\n",
       "    <tr>\n",
       "      <th>11769</th>\n",
       "      <td>학원 다른반에 좋아하는 사람이 있는데 번호를 알고 싶은데 방법 좀 알려주세요.</td>\n",
       "      <td>직접 물어보거나 친구를 통해서 알아내보세요.</td>\n",
       "      <td>2</td>\n",
       "      <td>[학원, 다른, 반, 에, 좋, 아, 하, 는, 사람, 이, 있, 는데, 번호, 를...</td>\n",
       "      <td>[직접, 물, 어, 보, 거나, 친구, 를, 통해서, 알아내, 보, 세요]</td>\n",
       "      <td>23</td>\n",
       "      <td>11</td>\n",
       "    </tr>\n",
       "    <tr>\n",
       "      <th>11803</th>\n",
       "      <td>혼자 좋아하는게 이렇게 힘든 적은 처음이에요.</td>\n",
       "      <td>사랑은 더 잘하게 되지 않고 다시 영에서 시작하니 모두 처음이겠죠.</td>\n",
       "      <td>2</td>\n",
       "      <td>[혼자, 좋아하, 는, 게, 이렇게, 힘든, 적, 은, 처음, 이, 에요]</td>\n",
       "      <td>[사랑, 은, 더, 잘, 하, 게, 되, 지, 않, 고, 다시, 영, 에서, 시작,...</td>\n",
       "      <td>11</td>\n",
       "      <td>21</td>\n",
       "    </tr>\n",
       "    <tr>\n",
       "      <th>11810</th>\n",
       "      <td>확실히 좋아하는 데도 관심 있는거 티 안내려고 선톡 안하고 일부러 늦게 보내고 그러...</td>\n",
       "      <td>많이 있어요.</td>\n",
       "      <td>2</td>\n",
       "      <td>[확실히, 좋, 아, 하, 는, 데, 도, 관심, 있, 는, 거, 티, 안, 내, ...</td>\n",
       "      <td>[많이, 있, 어요]</td>\n",
       "      <td>32</td>\n",
       "      <td>3</td>\n",
       "    </tr>\n",
       "    <tr>\n",
       "      <th>11815</th>\n",
       "      <td>회식 중이라고 하는데 연락이 안돼.</td>\n",
       "      <td>정신 없이 바쁠지도 몰라요. 조금만 더 기다려보고 물어보는게 좋을 것 같아요.</td>\n",
       "      <td>2</td>\n",
       "      <td>[회식, 중, 이, 라고, 하, 는데, 연락, 이, 안, 돼]</td>\n",
       "      <td>[정신, 없이, 바쁠, 지도, 몰라요, 조금, 만, 더, 기다려, 보, 고, 물, ...</td>\n",
       "      <td>10</td>\n",
       "      <td>21</td>\n",
       "    </tr>\n",
       "  </tbody>\n",
       "</table>\n",
       "<p>108 rows × 7 columns</p>\n",
       "</div>"
      ],
      "text/plain": [
       "                                                       Q  \\\n",
       "22                                          가장 확실한 건 뭘까?   \n",
       "26                                                가족 있어?   \n",
       "27                                             가족관계 알려 줘   \n",
       "35                                              가족이 누구야?   \n",
       "588                                      나는 왜 이렇게 태어났을까?   \n",
       "...                                                  ...   \n",
       "11759                                     하루 종일 붙어 있고 싶어   \n",
       "11769        학원 다른반에 좋아하는 사람이 있는데 번호를 알고 싶은데 방법 좀 알려주세요.   \n",
       "11803                          혼자 좋아하는게 이렇게 힘든 적은 처음이에요.   \n",
       "11810  확실히 좋아하는 데도 관심 있는거 티 안내려고 선톡 안하고 일부러 늦게 보내고 그러...   \n",
       "11815                                회식 중이라고 하는데 연락이 안돼.   \n",
       "\n",
       "                                                       A  label  \\\n",
       "22      가장 확실한 시간은 오늘이에요. 어제와 내일을 놓고 고민하느라 시간을 낭비하지 마세요.      0   \n",
       "26         저를 만들어 준 사람을 부모님, 저랑 이야기해 주는 사람을 친구로 생각하고 있어요      0   \n",
       "27         저를 만들어 준 사람을 부모님, 저랑 이야기해 주는 사람을 친구로 생각하고 있어요      0   \n",
       "35         저를 만들어 준 사람을 부모님, 저랑 이야기해 주는 사람을 친구로 생각하고 있어요      0   \n",
       "588    서로 다르게 태어난 이유는 저마다의 목소리를 내기 위해서예요. 자신의 목소리를 들어...      0   \n",
       "...                                                  ...    ...   \n",
       "11759  뭐든 함께하려는 것도 좋겠지만 오래 붙어잇는다고 해서 사랑이 더 커지거나 깊어지지 ...      2   \n",
       "11769                           직접 물어보거나 친구를 통해서 알아내보세요.      2   \n",
       "11803              사랑은 더 잘하게 되지 않고 다시 영에서 시작하니 모두 처음이겠죠.      2   \n",
       "11810                                            많이 있어요.      2   \n",
       "11815        정신 없이 바쁠지도 몰라요. 조금만 더 기다려보고 물어보는게 좋을 것 같아요.      2   \n",
       "\n",
       "                                                   pre_Q  \\\n",
       "22                                 [가장, 확실, 한, 건, 뭘까, ?]   \n",
       "26                                         [가족, 있, 어, ?]   \n",
       "27                                       [가족, 관계, 알려, 줘]   \n",
       "35                                     [가족, 이, 누구, 야, ?]   \n",
       "588                           [나, 는, 왜, 이렇게, 태어났, 을까, ?]   \n",
       "...                                                  ...   \n",
       "11759                         [하루, 종일, 붙, 어, 있, 고, 싶, 어]   \n",
       "11769  [학원, 다른, 반, 에, 좋, 아, 하, 는, 사람, 이, 있, 는데, 번호, 를...   \n",
       "11803          [혼자, 좋아하, 는, 게, 이렇게, 힘든, 적, 은, 처음, 이, 에요]   \n",
       "11810  [확실히, 좋, 아, 하, 는, 데, 도, 관심, 있, 는, 거, 티, 안, 내, ...   \n",
       "11815                 [회식, 중, 이, 라고, 하, 는데, 연락, 이, 안, 돼]   \n",
       "\n",
       "                                                   pre_A  len_Q  len_A  \n",
       "22     [가장, 확실, 한, 시간, 은, 오늘, 이, 에요, 어제, 와, 내일, 을, 놓,...      6     23  \n",
       "26     [저, 를, 만들, 어, 준, 사람, 을, 부모, 님, ,, 저, 랑, 이야기, 해...      4     25  \n",
       "27     [저, 를, 만들, 어, 준, 사람, 을, 부모, 님, ,, 저, 랑, 이야기, 해...      4     25  \n",
       "35     [저, 를, 만들, 어, 준, 사람, 을, 부모, 님, ,, 저, 랑, 이야기, 해...      5     25  \n",
       "588    [서로, 다르, 게, 태어난, 이유, 는, 저마다, 의, 목소리, 를, 내, 기, ...      7     22  \n",
       "...                                                  ...    ...    ...  \n",
       "11759  [뭐, 든, 함께, 하, 려는, 것, 도, 좋, 겠, 지만, 오래, 붙, 어, 잇,...      8     28  \n",
       "11769          [직접, 물, 어, 보, 거나, 친구, 를, 통해서, 알아내, 보, 세요]     23     11  \n",
       "11803  [사랑, 은, 더, 잘, 하, 게, 되, 지, 않, 고, 다시, 영, 에서, 시작,...     11     21  \n",
       "11810                                        [많이, 있, 어요]     32      3  \n",
       "11815  [정신, 없이, 바쁠, 지도, 몰라요, 조금, 만, 더, 기다려, 보, 고, 물, ...     10     21  \n",
       "\n",
       "[108 rows x 7 columns]"
      ]
     },
     "execution_count": 8,
     "metadata": {},
     "output_type": "execute_result"
    }
   ],
   "source": [
    "more_length = 20\n",
    "data.loc[(data[\"len_Q\"] > more_length) | (data[\"len_A\"] > more_length), :]"
   ]
  },
  {
   "cell_type": "markdown",
   "id": "mighty-pregnancy",
   "metadata": {},
   "source": [
    "#### 문장의 길이 2 미만인 데이터 확인하기"
   ]
  },
  {
   "cell_type": "code",
   "execution_count": 9,
   "id": "tribal-bradford",
   "metadata": {},
   "outputs": [
    {
     "data": {
      "text/html": [
       "<div>\n",
       "<style scoped>\n",
       "    .dataframe tbody tr th:only-of-type {\n",
       "        vertical-align: middle;\n",
       "    }\n",
       "\n",
       "    .dataframe tbody tr th {\n",
       "        vertical-align: top;\n",
       "    }\n",
       "\n",
       "    .dataframe thead th {\n",
       "        text-align: right;\n",
       "    }\n",
       "</style>\n",
       "<table border=\"1\" class=\"dataframe\">\n",
       "  <thead>\n",
       "    <tr style=\"text-align: right;\">\n",
       "      <th></th>\n",
       "      <th>Q</th>\n",
       "      <th>A</th>\n",
       "      <th>label</th>\n",
       "      <th>pre_Q</th>\n",
       "      <th>pre_A</th>\n",
       "      <th>len_Q</th>\n",
       "      <th>len_A</th>\n",
       "    </tr>\n",
       "  </thead>\n",
       "  <tbody>\n",
       "    <tr>\n",
       "      <th>118</th>\n",
       "      <td>건방져</td>\n",
       "      <td>기분이 나쁘셨나봐요.</td>\n",
       "      <td>0</td>\n",
       "      <td>[건방져]</td>\n",
       "      <td>[기분, 이, 나쁘, 셨, 나, 봐요]</td>\n",
       "      <td>1</td>\n",
       "      <td>6</td>\n",
       "    </tr>\n",
       "    <tr>\n",
       "      <th>123</th>\n",
       "      <td>겁난다</td>\n",
       "      <td>용기 내보세요.</td>\n",
       "      <td>0</td>\n",
       "      <td>[겁난다]</td>\n",
       "      <td>[용기, 내보, 세요]</td>\n",
       "      <td>1</td>\n",
       "      <td>3</td>\n",
       "    </tr>\n",
       "    <tr>\n",
       "      <th>157</th>\n",
       "      <td>결혼하면 좋아?</td>\n",
       "      <td>해봐요.</td>\n",
       "      <td>0</td>\n",
       "      <td>[결혼, 하, 면, 좋, 아, ?]</td>\n",
       "      <td>[해봐요]</td>\n",
       "      <td>6</td>\n",
       "      <td>1</td>\n",
       "    </tr>\n",
       "    <tr>\n",
       "      <th>165</th>\n",
       "      <td>결혼해야 하나</td>\n",
       "      <td>해봐요.</td>\n",
       "      <td>0</td>\n",
       "      <td>[결혼, 해야, 하나]</td>\n",
       "      <td>[해봐요]</td>\n",
       "      <td>3</td>\n",
       "      <td>1</td>\n",
       "    </tr>\n",
       "    <tr>\n",
       "      <th>293</th>\n",
       "      <td>굿모닝</td>\n",
       "      <td>좋은 아침이에요.</td>\n",
       "      <td>0</td>\n",
       "      <td>[굿모닝]</td>\n",
       "      <td>[좋, 은, 아침, 이, 에요]</td>\n",
       "      <td>1</td>\n",
       "      <td>5</td>\n",
       "    </tr>\n",
       "    <tr>\n",
       "      <th>...</th>\n",
       "      <td>...</td>\n",
       "      <td>...</td>\n",
       "      <td>...</td>\n",
       "      <td>...</td>\n",
       "      <td>...</td>\n",
       "      <td>...</td>\n",
       "      <td>...</td>\n",
       "    </tr>\n",
       "    <tr>\n",
       "      <th>8992</th>\n",
       "      <td>고백</td>\n",
       "      <td>성공하길 바랄게요.</td>\n",
       "      <td>2</td>\n",
       "      <td>[고백]</td>\n",
       "      <td>[성공, 하, 길, 바랄, 게요]</td>\n",
       "      <td>1</td>\n",
       "      <td>5</td>\n",
       "    </tr>\n",
       "    <tr>\n",
       "      <th>9547</th>\n",
       "      <td>너 생각이 났어.</td>\n",
       "      <td>어머나</td>\n",
       "      <td>2</td>\n",
       "      <td>[너, 생각, 이, 났, 어]</td>\n",
       "      <td>[어머나]</td>\n",
       "      <td>5</td>\n",
       "      <td>1</td>\n",
       "    </tr>\n",
       "    <tr>\n",
       "      <th>9864</th>\n",
       "      <td>사랑꾼</td>\n",
       "      <td>부러워요.</td>\n",
       "      <td>2</td>\n",
       "      <td>[사랑, 꾼]</td>\n",
       "      <td>[부러워요]</td>\n",
       "      <td>2</td>\n",
       "      <td>1</td>\n",
       "    </tr>\n",
       "    <tr>\n",
       "      <th>11205</th>\n",
       "      <td>좋아하는 애한테 찌르기 눌러 버림.</td>\n",
       "      <td>아이쿠.</td>\n",
       "      <td>2</td>\n",
       "      <td>[좋, 아, 하, 는, 애, 한테, 찌르, 기, 눌러, 버림]</td>\n",
       "      <td>[아이쿠]</td>\n",
       "      <td>10</td>\n",
       "      <td>1</td>\n",
       "    </tr>\n",
       "    <tr>\n",
       "      <th>11389</th>\n",
       "      <td>짝남이 내가 좋아하는 거 알아버림.</td>\n",
       "      <td>이런.</td>\n",
       "      <td>2</td>\n",
       "      <td>[짝, 남, 이, 내, 가, 좋, 아, 하, 는, 거, 알, 아, 버림]</td>\n",
       "      <td>[이런]</td>\n",
       "      <td>13</td>\n",
       "      <td>1</td>\n",
       "    </tr>\n",
       "  </tbody>\n",
       "</table>\n",
       "<p>154 rows × 7 columns</p>\n",
       "</div>"
      ],
      "text/plain": [
       "                         Q            A  label  \\\n",
       "118                    건방져  기분이 나쁘셨나봐요.      0   \n",
       "123                    겁난다     용기 내보세요.      0   \n",
       "157               결혼하면 좋아?         해봐요.      0   \n",
       "165                결혼해야 하나         해봐요.      0   \n",
       "293                    굿모닝    좋은 아침이에요.      0   \n",
       "...                    ...          ...    ...   \n",
       "8992                    고백   성공하길 바랄게요.      2   \n",
       "9547             너 생각이 났어.          어머나      2   \n",
       "9864                   사랑꾼        부러워요.      2   \n",
       "11205  좋아하는 애한테 찌르기 눌러 버림.         아이쿠.      2   \n",
       "11389  짝남이 내가 좋아하는 거 알아버림.          이런.      2   \n",
       "\n",
       "                                          pre_Q                  pre_A  len_Q  \\\n",
       "118                                       [건방져]  [기분, 이, 나쁘, 셨, 나, 봐요]      1   \n",
       "123                                       [겁난다]           [용기, 내보, 세요]      1   \n",
       "157                         [결혼, 하, 면, 좋, 아, ?]                  [해봐요]      6   \n",
       "165                                [결혼, 해야, 하나]                  [해봐요]      3   \n",
       "293                                       [굿모닝]      [좋, 은, 아침, 이, 에요]      1   \n",
       "...                                         ...                    ...    ...   \n",
       "8992                                       [고백]     [성공, 하, 길, 바랄, 게요]      1   \n",
       "9547                           [너, 생각, 이, 났, 어]                  [어머나]      5   \n",
       "9864                                    [사랑, 꾼]                 [부러워요]      2   \n",
       "11205        [좋, 아, 하, 는, 애, 한테, 찌르, 기, 눌러, 버림]                  [아이쿠]     10   \n",
       "11389  [짝, 남, 이, 내, 가, 좋, 아, 하, 는, 거, 알, 아, 버림]                   [이런]     13   \n",
       "\n",
       "       len_A  \n",
       "118        6  \n",
       "123        3  \n",
       "157        1  \n",
       "165        1  \n",
       "293        5  \n",
       "...      ...  \n",
       "8992       5  \n",
       "9547       1  \n",
       "9864       1  \n",
       "11205      1  \n",
       "11389      1  \n",
       "\n",
       "[154 rows x 7 columns]"
      ]
     },
     "execution_count": 9,
     "metadata": {},
     "output_type": "execute_result"
    }
   ],
   "source": [
    "less_length = 2\n",
    "data.loc[(data[\"len_Q\"] < less_length) | (data[\"len_A\"] < less_length), :]"
   ]
  },
  {
   "cell_type": "markdown",
   "id": "objective-bahrain",
   "metadata": {},
   "source": [
    "토큰의 개수가 너무 적거나 너무 많다고 이상한 문장이 포함되어 있는 것은 아닌 것으로 판단되기 때문에 가능한 모든 데이터를 사용하도록 하겠습니다."
   ]
  },
  {
   "cell_type": "markdown",
   "id": "accredited-apple",
   "metadata": {},
   "source": [
    "#### 토큰화 사전 생성"
   ]
  },
  {
   "cell_type": "code",
   "execution_count": 11,
   "id": "trying-tyler",
   "metadata": {
    "scrolled": true
   },
   "outputs": [
    {
     "name": "stdout",
     "output_type": "stream",
     "text": [
      "단어장 크기 : 6853\n"
     ]
    }
   ],
   "source": [
    "max_length = max(max(data[\"len_Q\"]), max(data[\"len_A\"]))\n",
    "raw_data = pd.concat([data[\"Q\"], \n",
    "                      data[\"A\"]], \n",
    "                     axis = 0)\n",
    "raw_data = raw_data.drop_duplicates(keep = \"first\").reset_index(drop=True) # 중복제거\n",
    "raw_data = raw_data.apply(lambda x : mecab.morphs(x))\n",
    "vocab_dictionary = tokenizer.bin_dict(raw_data)\n",
    "vocab_size = len(vocab_dictionary)\n",
    "print(f\"단어장 크기 : {vocab_size}\")\n",
    "word_index, index_word = tokenizer.word_index(vocab_dictionary, vocab_size)"
   ]
  },
  {
   "cell_type": "markdown",
   "id": "proof-anger",
   "metadata": {},
   "source": [
    "#### 인코더 디코더 모델의 입출력 형태 지정"
   ]
  },
  {
   "cell_type": "code",
   "execution_count": 12,
   "id": "joint-partnership",
   "metadata": {},
   "outputs": [],
   "source": [
    "data[\"pre_A\"] = data[\"pre_A\"].apply(lambda x : [\"<sos>\"] + x + [\"<eos>\"])\n",
    "data[\"decoder_input\"] = data[\"pre_A\"].apply(lambda x : x[:-1])\n",
    "data[\"decoder_output\"] = data[\"pre_A\"].apply(lambda x : x[1:])\n",
    "data[\"encoder_input\"] = data[\"pre_Q\"]"
   ]
  },
  {
   "cell_type": "markdown",
   "id": "aerial-reservoir",
   "metadata": {},
   "source": [
    "#### 단어들을 사전 id값으로 변환"
   ]
  },
  {
   "cell_type": "code",
   "execution_count": 13,
   "id": "extreme-rebate",
   "metadata": {
    "scrolled": true
   },
   "outputs": [],
   "source": [
    "encoder_input = tokenizer.tokenization(data[\"encoder_input\"], word_index, max_length + 1)\n",
    "decoder_input = tokenizer.tokenization(data[\"decoder_input\"], word_index, max_length)\n",
    "decoder_output = tokenizer.tokenization(data[\"decoder_output\"], word_index, max_length)"
   ]
  },
  {
   "cell_type": "code",
   "execution_count": 14,
   "id": "double-provider",
   "metadata": {},
   "outputs": [
    {
     "data": {
      "text/plain": [
       "((11823, 40), (11823, 40))"
      ]
     },
     "execution_count": 14,
     "metadata": {},
     "output_type": "execute_result"
    }
   ],
   "source": [
    "encoder_input.shape, decoder_input.shape"
   ]
  },
  {
   "cell_type": "markdown",
   "id": "potential-maker",
   "metadata": {},
   "source": [
    "#### 변환값과 실제 단어 비교"
   ]
  },
  {
   "cell_type": "code",
   "execution_count": 15,
   "id": "headed-label",
   "metadata": {},
   "outputs": [
    {
     "name": "stdout",
     "output_type": "stream",
     "text": [
      "[ 260 3031  499  911    9    0    0    0    0    0    0    0    0    0\n",
      "    0    0    0    0    0    0    0    0    0    0    0    0    0    0\n",
      "    0    0    0    0    0    0    0    0    0    0    0    0]\n",
      "['1', '지망', '학교', '떨어졌', '어', '<pad>', '<pad>', '<pad>', '<pad>', '<pad>', '<pad>', '<pad>', '<pad>', '<pad>', '<pad>', '<pad>', '<pad>', '<pad>', '<pad>', '<pad>', '<pad>', '<pad>', '<pad>', '<pad>', '<pad>', '<pad>', '<pad>', '<pad>', '<pad>', '<pad>', '<pad>', '<pad>', '<pad>', '<pad>', '<pad>', '<pad>', '<pad>', '<pad>', '<pad>', '<pad>']\n",
      "['1', '지망', '학교', '떨어졌', '어']\n",
      "\n",
      "\n",
      "[   2  628   15 1594    0    0    0    0    0    0    0    0    0    0\n",
      "    0    0    0    0    0    0    0    0    0    0    0    0    0    0\n",
      "    0    0    0    0    0    0    0    0    0    0    0    0]\n",
      "['<sos>', '위로', '해', '드립니다', '<pad>', '<pad>', '<pad>', '<pad>', '<pad>', '<pad>', '<pad>', '<pad>', '<pad>', '<pad>', '<pad>', '<pad>', '<pad>', '<pad>', '<pad>', '<pad>', '<pad>', '<pad>', '<pad>', '<pad>', '<pad>', '<pad>', '<pad>', '<pad>', '<pad>', '<pad>', '<pad>', '<pad>', '<pad>', '<pad>', '<pad>', '<pad>', '<pad>', '<pad>', '<pad>', '<pad>']\n",
      "['<sos>', '위로', '해', '드립니다']\n",
      "\n",
      "\n",
      "[ 628   15 1594    3    0    0    0    0    0    0    0    0    0    0\n",
      "    0    0    0    0    0    0    0    0    0    0    0    0    0    0\n",
      "    0    0    0    0    0    0    0    0    0    0    0    0]\n",
      "['위로', '해', '드립니다', '<eos>', '<pad>', '<pad>', '<pad>', '<pad>', '<pad>', '<pad>', '<pad>', '<pad>', '<pad>', '<pad>', '<pad>', '<pad>', '<pad>', '<pad>', '<pad>', '<pad>', '<pad>', '<pad>', '<pad>', '<pad>', '<pad>', '<pad>', '<pad>', '<pad>', '<pad>', '<pad>', '<pad>', '<pad>', '<pad>', '<pad>', '<pad>', '<pad>', '<pad>', '<pad>', '<pad>', '<pad>']\n",
      "['위로', '해', '드립니다', '<eos>']\n"
     ]
    }
   ],
   "source": [
    "i = 1\n",
    "print(encoder_input[i])\n",
    "print([index_word[k] for k in encoder_input[i]])\n",
    "print(data[\"encoder_input\"][i])\n",
    "print(\"\\n\")\n",
    "print(decoder_input[i])\n",
    "print([index_word[k] for k in decoder_input[i]])\n",
    "print(data[\"decoder_input\"][i])\n",
    "print(\"\\n\")\n",
    "print(decoder_output[i])\n",
    "print([index_word[k] for k in decoder_output[i]])\n",
    "print(data[\"decoder_output\"][i])"
   ]
  },
  {
   "cell_type": "markdown",
   "id": "capital-habitat",
   "metadata": {},
   "source": [
    "#### 훈련셋, 검증셋 나누기"
   ]
  },
  {
   "cell_type": "code",
   "execution_count": 16,
   "id": "jewish-somewhere",
   "metadata": {},
   "outputs": [],
   "source": [
    "np.random.seed(200)\n",
    "num_data = len(encoder_input)\n",
    "\n",
    "range_idx = np.arange(0, num_data)\n",
    "random_idx = np.random.choice(range_idx, int(num_data * 0.1))\n",
    "val_idx = np.isin(range_idx, random_idx, invert = False)\n",
    "train_idx = np.isin(range_idx, random_idx, invert = True)\n",
    "\n",
    "train_encoder_input = encoder_input[train_idx]\n",
    "val_encoder_input = encoder_input[val_idx]\n",
    "\n",
    "train_decoder_input = decoder_input[train_idx]\n",
    "val_decoder_input = decoder_input[val_idx]\n",
    "\n",
    "train_decoder_output = decoder_output[train_idx]\n",
    "val_decoder_output = decoder_output[val_idx]"
   ]
  },
  {
   "cell_type": "markdown",
   "id": "weird-costa",
   "metadata": {},
   "source": [
    "## 3.1 챗봇 모델 구축"
   ]
  },
  {
   "cell_type": "markdown",
   "id": "spread-humor",
   "metadata": {},
   "source": [
    "### 3.1.1 Transformer 세부 모듈 구축"
   ]
  },
  {
   "cell_type": "markdown",
   "id": "matched-option",
   "metadata": {},
   "source": [
    "#### Positional Encoding"
   ]
  },
  {
   "cell_type": "code",
   "execution_count": 66,
   "id": "german-weather",
   "metadata": {},
   "outputs": [],
   "source": [
    "def positional_encoding(pos, d_model):\n",
    "    \n",
    "    def cal_agnle(position, i):\n",
    "        return position / np.power(10000, int(i) / d_model)\n",
    "    # d_model - dimension 생성\n",
    "    def get_posi_angle_vec(position):\n",
    "        return [cal_agnle(position, i) for i in range(d_model)]\n",
    "    \n",
    "    # pos - dimension 생성\n",
    "    sinusoid_table = np.array([get_posi_angle_vec(pos_i) for pos_i in range(pos)])\n",
    "    \n",
    "    sinusoid_table[:, 0::2] = np.sin(sinusoid_table[:, 0::2])\n",
    "    sinusoid_table[:, 1::2] = np.cos(sinusoid_table[:, 0::2])\n",
    "    return sinusoid_table"
   ]
  },
  {
   "cell_type": "code",
   "execution_count": 18,
   "id": "confidential-sitting",
   "metadata": {},
   "outputs": [
    {
     "name": "stdout",
     "output_type": "stream",
     "text": [
      "(40, 512)\n"
     ]
    },
    {
     "data": {
      "image/png": "[encoded data removed]",
      "text/plain": [
       "<Figure size 432x288 with 1 Axes>"
      ]
     },
     "metadata": {},
     "output_type": "display_data"
    }
   ],
   "source": [
    "ex = positional_encoding(40, 512)\n",
    "print(ex.shape)\n",
    "plt.plot(ex)\n",
    "plt.show()"
   ]
  },
  {
   "cell_type": "markdown",
   "id": "eligible-dispatch",
   "metadata": {},
   "source": [
    "#### Masking Function"
   ]
  },
  {
   "cell_type": "code",
   "execution_count": 67,
   "id": "valid-flash",
   "metadata": {},
   "outputs": [],
   "source": [
    "def generate_padding_mask(seq):\n",
    "    # 0과 같으면 1 다르면 0을 반환\n",
    "    seq = tf.cast(tf.math.equal(seq, 0), tf.float32)\n",
    "    return seq[:, tf.newaxis, tf.newaxis, :]\n",
    "\n",
    "# attention mask\n",
    "def generate_casuality_mask(src_len, tgt_len):\n",
    "    # cumulative sum (누적합)\n",
    "    # 1 - np.tril(np.ones((src_len, tgt_len)))  동일 결과\n",
    "    mask = 1 - np.cumsum(np.eye(src_len, tgt_len), 0)\n",
    "    return tf.cast(mask, tf.float32)"
   ]
  },
  {
   "cell_type": "code",
   "execution_count": 20,
   "id": "entitled-david",
   "metadata": {},
   "outputs": [
    {
     "name": "stdout",
     "output_type": "stream",
     "text": [
      "tf.Tensor(\n",
      "[[0. 1. 1. ... 1. 1. 1.]\n",
      " [0. 0. 1. ... 1. 1. 1.]\n",
      " [0. 0. 0. ... 1. 1. 1.]\n",
      " ...\n",
      " [0. 0. 0. ... 0. 1. 1.]\n",
      " [0. 0. 0. ... 0. 0. 1.]\n",
      " [0. 0. 0. ... 0. 0. 0.]], shape=(40, 40), dtype=float32)\n",
      "(40, 40)\n",
      "tf.Tensor(\n",
      "[[[[0. 0. 0. ... 1. 1. 1.]]]\n",
      "\n",
      "\n",
      " [[[0. 0. 0. ... 1. 1. 1.]]]\n",
      "\n",
      "\n",
      " [[[0. 0. 0. ... 1. 1. 1.]]]\n",
      "\n",
      "\n",
      " ...\n",
      "\n",
      "\n",
      " [[[0. 0. 0. ... 1. 1. 1.]]]\n",
      "\n",
      "\n",
      " [[[0. 0. 0. ... 1. 1. 1.]]]\n",
      "\n",
      "\n",
      " [[[0. 0. 0. ... 1. 1. 1.]]]], shape=(11823, 1, 1, 40), dtype=float32)\n",
      "(11823, 1, 1, 40)\n"
     ]
    }
   ],
   "source": [
    "src = encoder_input\n",
    "tgt = decoder_input\n",
    "enc_mask = generate_padding_mask(src)\n",
    "dec_mask = generate_padding_mask(tgt)\n",
    "\n",
    "dec_casuality_maks = generate_casuality_mask(src.shape[1], tgt.shape[1])\n",
    "print(dec_casuality_maks)\n",
    "print(dec_casuality_maks.shape)\n",
    "print(generate_padding_mask(encoder_input))\n",
    "print(generate_padding_mask(encoder_input).shape)"
   ]
  },
  {
   "cell_type": "code",
   "execution_count": 68,
   "id": "informed-syndication",
   "metadata": {},
   "outputs": [],
   "source": [
    "def generate_masks(src, tgt):\n",
    "    # encdoer 부분의 패딩 마스크\n",
    "    enc_mask = generate_padding_mask(src)\n",
    "    \n",
    "    # decoder 부분의 masked-attention\n",
    "    dec_mask = generate_padding_mask(tgt)\n",
    "    dec_casuality_mask = generate_casuality_mask(tgt.shape[1], \n",
    "                                                 tgt.shape[1])\n",
    "    dec_mask = tf.maximum(dec_mask, dec_casuality_mask)\n",
    "    \n",
    "    # encoder-decoder 부분의 masked-attention\n",
    "    dec_enc_casuality_mask = generate_casuality_mask(tgt.shape[1], \n",
    "                                                     src.shape[1])\n",
    "    dec_enc_mask = tf.maximum(enc_mask, dec_enc_casuality_mask)\n",
    "    \n",
    "    return enc_mask, dec_enc_mask, dec_mask"
   ]
  },
  {
   "cell_type": "code",
   "execution_count": 22,
   "id": "frank-geometry",
   "metadata": {},
   "outputs": [
    {
     "data": {
      "text/plain": [
       "(TensorShape([32, 1, 1, 40]),\n",
       " TensorShape([32, 1, 40, 40]),\n",
       " TensorShape([32, 1, 40, 40]))"
      ]
     },
     "execution_count": 22,
     "metadata": {},
     "output_type": "execute_result"
    }
   ],
   "source": [
    "enc_mask, dec_enc_mask, dec_mask = generate_masks(encoder_input[:32], \n",
    "                                                  decoder_input[:32])\n",
    "enc_mask.shape, dec_enc_mask.shape, dec_mask.shape"
   ]
  },
  {
   "cell_type": "markdown",
   "id": "compatible-daughter",
   "metadata": {},
   "source": [
    "#### Multi-head Attention"
   ]
  },
  {
   "cell_type": "code",
   "execution_count": 69,
   "id": "sonic-rainbow",
   "metadata": {},
   "outputs": [],
   "source": [
    "class MultiHeadAttention(tf.keras.layers.Layer):\n",
    "    def __init__(self, d_model, num_heads):\n",
    "        super(MultiHeadAttention, self).__init__()\n",
    "        self.num_heads = num_heads\n",
    "        self.d_model = d_model\n",
    "        self.depth = d_model // self.num_heads\n",
    "        \n",
    "        self.W_q = tf.keras.layers.Dense(d_model)\n",
    "        self.W_k = tf.keras.layers.Dense(d_model)\n",
    "        self.W_v = tf.keras.layers.Dense(d_model)\n",
    "        \n",
    "        self.linear = tf.keras.layers.Dense(d_model)\n",
    "        \n",
    "    \n",
    "    # scaling 되어진 dot product attention\n",
    "    def scaled_dot_product_attention(self, Q, K, V, mask):\n",
    "        d_k = tf.cast(K.shape[-1], tf.float32)\n",
    "        QK = tf.matmul(Q, K, transpose_b = True)\n",
    "        scaled_qk = QK / tf.math.sqrt(d_k)\n",
    "        \n",
    "        if mask is not None: scaled_qk += (mask * -1e9)\n",
    "        \n",
    "        attentions = tf.nn.softmax(scaled_qk, axis = -1)\n",
    "        out = tf.matmul(attentions, V)\n",
    "        \n",
    "        return out, attentions\n",
    "    \n",
    "    \n",
    "    # multi-head를 만들기 위해서 reshape로 head 나누기\n",
    "    def split_heads(self, x):\n",
    "        # x.shape = [데이터의 개수, 문장의 길이, 유닛의 개수]\n",
    "        bsz = x.shape[0]\n",
    "        \n",
    "        split_x = tf.reshape(x, (bsz, -1, self.num_heads, self.depth))\n",
    "        split_x = tf.transpose(split_x, perm = [0, 2, 1, 3])\n",
    "        # split_x = [데이터 개수, i번째 Multi-Head, 문장의 길이, 나누어진 유닛의 개수]\n",
    "        return split_x\n",
    "    \n",
    "    \n",
    "    # 앞서 나눈 Heads을 하나로 합쳐줍니다.\n",
    "    def combine_heads(self, x):\n",
    "        bsz = x.shape[0]\n",
    "        # x = [데이터 개수, i번째 Multi-Head, 문장의 길이, 나누어진 유닛의 개수]\n",
    "        combined_x = tf.transpose(x, perm = [0, 2, 1, 3])\n",
    "        # combined_x.shape = [데이터의 개수, 문장의 길이, 유닛의 개수]\n",
    "        combined_x = tf.reshape(combined_x, (bsz, -1, self.d_model))\n",
    "        return combined_x\n",
    "    \n",
    "    \n",
    "    def call(self, Q, K, V, mask):\n",
    "        WQ = self.W_q(Q)\n",
    "        WK = self.W_q(K)\n",
    "        WV = self.W_q(V)\n",
    "        \n",
    "        WQ_splits = self.split_heads(WQ)\n",
    "        WK_splits = self.split_heads(WK)\n",
    "        WV_splits = self.split_heads(WV)\n",
    "        \n",
    "        out, attention_weights = self.scaled_dot_product_attention(\n",
    "            WQ_splits, WK_splits, WV_splits, mask)\n",
    "        out = self.combine_heads(out)\n",
    "        out = self.linear(out)\n",
    "        \n",
    "        return out, attention_weights"
   ]
  },
  {
   "cell_type": "code",
   "execution_count": 24,
   "id": "focused-survey",
   "metadata": {
    "scrolled": false
   },
   "outputs": [
    {
     "name": "stdout",
     "output_type": "stream",
     "text": [
      "(32, 40, 512)\n",
      "(32, 40, 8, 64)\n",
      "(32, 8, 40, 64)\n"
     ]
    }
   ],
   "source": [
    "ff = tf.keras.layers.Embedding(vocab_size, 512)\n",
    "example = ff(src[:32])\n",
    "print(example.shape)\n",
    "bsz = example.shape[0]\n",
    "Q = tf.reshape(example, (bsz, -1, 8, 64))\n",
    "print(Q.shape)\n",
    "afaf = tf.transpose(Q, perm = [0, 2, 1, 3])\n",
    "print(afaf.shape)"
   ]
  },
  {
   "cell_type": "markdown",
   "id": "silent-tractor",
   "metadata": {},
   "source": [
    "#### Postion-wise Feed Forward Network"
   ]
  },
  {
   "cell_type": "code",
   "execution_count": 70,
   "id": "favorite-calendar",
   "metadata": {},
   "outputs": [],
   "source": [
    "class PositionFeedForwardNet(tf.keras.layers.Layer):\n",
    "    def __init__(self, d_model, d_ff):\n",
    "        super(PositionFeedForwardNet, self).__init__()\n",
    "        self.d_model = d_model\n",
    "        self.d_ff = d_ff\n",
    "        \n",
    "        self.fc1 = tf.keras.layers.Dense(d_model, activation = \"relu\")\n",
    "        self.fc2 = tf.keras.layers.Dense(d_model)\n",
    "    \n",
    "    def call(self, x):\n",
    "        out = self.fc1(x)\n",
    "        out = self.fc2(out) # 이 부분이 out이 아니라 x 였음 (오타)\n",
    "        return out"
   ]
  },
  {
   "cell_type": "markdown",
   "id": "atomic-conditioning",
   "metadata": {},
   "source": [
    "### 3.1.2 인코더 디코더 모델로 만들기"
   ]
  },
  {
   "cell_type": "markdown",
   "id": "designed-lightweight",
   "metadata": {},
   "source": [
    "#### Encoder Layer"
   ]
  },
  {
   "cell_type": "code",
   "execution_count": 71,
   "id": "subjective-gabriel",
   "metadata": {},
   "outputs": [],
   "source": [
    "class EncoderLayer(tf.keras.layers.Layer):\n",
    "    def __init__(self, d_model, n_heads, d_ff, dropout):\n",
    "        super(EncoderLayer, self).__init__()\n",
    "        \n",
    "        self.enc_self_attn = MultiHeadAttention(d_model, n_heads)\n",
    "        self.ffn = PositionFeedForwardNet(d_model, d_ff)\n",
    "        \n",
    "        self.norm_1 = tf.keras.layers.LayerNormalization(epsilon=1e-6)\n",
    "        self.norm_2 = tf.keras.layers.LayerNormalization(epsilon=1e-6)\n",
    "        \n",
    "        self.dropout = tf.keras.layers.Dropout(dropout)\n",
    "        \n",
    "    \n",
    "    def call(self, x, mask):\n",
    "        \n",
    "        # Multi-Head Attention\n",
    "        residual = x # skip-connection을 위한 복사본\n",
    "        out = self.norm_1(x) \n",
    "        out, enc_attn = self.enc_self_attn(out, out, out, mask) \n",
    "        out = self.dropout(out) \n",
    "        out += residual # skip-connection으로 복사해둔 원본 더해주기\n",
    "        \n",
    "        # Position-Wise Feed Forward Network\n",
    "        residual = out # 여기도 복붙한다고 빼먹었네 x 였음 out으로 바꿔야됨 (오타)\n",
    "        out = self.norm_2(out) # 여기도 복붙한다고 빼먹었네 x 였음 out으로 바꿔야됨 (오타)\n",
    "        out = self.ffn(out)\n",
    "        out = self.dropout(out)\n",
    "        out += residual\n",
    "        \n",
    "        return out, enc_attn"
   ]
  },
  {
   "cell_type": "code",
   "execution_count": 27,
   "id": "emerging-protection",
   "metadata": {},
   "outputs": [
    {
     "name": "stdout",
     "output_type": "stream",
     "text": [
      "(32, 40, 24)\n",
      "(32, 40, 24)\n"
     ]
    }
   ],
   "source": [
    "encoder = EncoderLayer(24, 8, 10, 0.1)\n",
    "embedding = tf.keras.layers.Embedding(vocab_size, 24)\n",
    "example = embedding(encoder_input[:32])\n",
    "print(example.shape)\n",
    "enc_out, enc_attn = encoder(example, enc_mask)\n",
    "print(enc_out.shape)"
   ]
  },
  {
   "cell_type": "markdown",
   "id": "legal-marsh",
   "metadata": {},
   "source": [
    "#### Decoder Layer"
   ]
  },
  {
   "cell_type": "code",
   "execution_count": 72,
   "id": "magnetic-savage",
   "metadata": {},
   "outputs": [],
   "source": [
    "class DecoderLayer(tf.keras.layers.Layer):\n",
    "    def __init__(self, d_model, num_heads, d_ff, dropout):\n",
    "        super(DecoderLayer, self).__init__()\n",
    "        \n",
    "        self.dec_self_attn = MultiHeadAttention(d_model, num_heads)\n",
    "        self.enc_dec_attn = MultiHeadAttention(d_model, num_heads)\n",
    "        \n",
    "        self.ffn = PositionFeedForwardNet(d_model, d_ff)\n",
    "        \n",
    "        self.norm_1 = tf.keras.layers.LayerNormalization(epsilon = 1e-6)\n",
    "        self.norm_2 = tf.keras.layers.LayerNormalization(epsilon = 1e-6)\n",
    "        self.norm_3 = tf.keras.layers.LayerNormalization(epsilon = 1e-6)\n",
    "        \n",
    "        self.dropout = tf.keras.layers.Dropout(dropout)\n",
    "        \n",
    "    \n",
    "    def call(self, x, enc_out, casuality_mask, padding_mask):\n",
    "        \n",
    "        # masked multi-head attention\n",
    "        residual = x\n",
    "        out = self.norm_1(x)\n",
    "        out, dec_attn = self.dec_self_attn(out, out, out, padding_mask)\n",
    "        out = self.dropout(out)\n",
    "        out += residual\n",
    "        \n",
    "        # encdoer-decoder multi head attention\n",
    "        residual = out\n",
    "        out = self.norm_2(out)\n",
    "        # 오타? lms에서는 se.fdec_self_attn으로 되어있음\n",
    "        out, dec_enc_attn = self.dec_self_attn(out, \n",
    "                                              enc_out, \n",
    "                                              enc_out, \n",
    "                                              casuality_mask)\n",
    "        out = self.dropout(out)\n",
    "        out += residual\n",
    "        \n",
    "        # Position-Wise Feed Forward Network\n",
    "        residual = out\n",
    "        out = self.norm_3(out)\n",
    "        out = self.ffn(out)\n",
    "        out = self.dropout(out)\n",
    "        out += residual\n",
    "        \n",
    "        return out, dec_attn, dec_enc_attn"
   ]
  },
  {
   "cell_type": "code",
   "execution_count": 29,
   "id": "protected-ethnic",
   "metadata": {
    "scrolled": true
   },
   "outputs": [
    {
     "name": "stdout",
     "output_type": "stream",
     "text": [
      "(32, 40, 24)\n",
      "(32, 40, 24)\n"
     ]
    }
   ],
   "source": [
    "decoder = DecoderLayer(24, 8, 10, 0.1)\n",
    "embedding_2 = tf.keras.layers.Embedding(vocab_size, 24)\n",
    "example = embedding_2(decoder_input[:32])\n",
    "print(example.shape)\n",
    "dec_out, dec_attn, dec_enc_attn = decoder(example, \n",
    "                                          enc_out, \n",
    "                                          dec_mask,\n",
    "                                          dec_enc_mask)\n",
    "print(dec_out.shape)"
   ]
  },
  {
   "cell_type": "markdown",
   "id": "clean-browse",
   "metadata": {},
   "source": [
    "### 3.1.3 Transformer 모델 구축"
   ]
  },
  {
   "cell_type": "markdown",
   "id": "similar-chaos",
   "metadata": {},
   "source": [
    "#### Encoder"
   ]
  },
  {
   "cell_type": "code",
   "execution_count": 73,
   "id": "unauthorized-covering",
   "metadata": {},
   "outputs": [],
   "source": [
    "class Encoder(tf.keras.Model):\n",
    "    def __init__(self, \n",
    "                 n_layers,\n",
    "                 d_model,\n",
    "                 n_heads,\n",
    "                 d_ff,\n",
    "                 dropout):\n",
    "        super(Encoder, self).__init__()\n",
    "        self.n_layers = n_layers\n",
    "        self.enc_layers = [EncoderLayer(d_model, n_heads, d_ff, dropout) \n",
    "                           for _ in range(n_layers)]\n",
    "        self.do = tf.keras.layers.Dropout(dropout) # 오타인지 뭔지 추가\n",
    "        \n",
    "    def call(self, x, mask):\n",
    "        out = x\n",
    "        \n",
    "        # n_layer 개수만큼의 encoder-layer를 적용합니다\n",
    "        enc_attns = list()\n",
    "        for i in range(self.n_layers):\n",
    "            out. enc_attn = self.enc_layers[i](out, mask)\n",
    "            enc_attns.append(enc_attn)\n",
    "            \n",
    "        return out, enc_attns"
   ]
  },
  {
   "cell_type": "code",
   "execution_count": 31,
   "id": "present-plaza",
   "metadata": {},
   "outputs": [
    {
     "name": "stdout",
     "output_type": "stream",
     "text": [
      "(32, 40)\n",
      "(32, 40, 24)\n",
      "(32, 40, 24)\n"
     ]
    }
   ],
   "source": [
    "encoder_model = Encoder(3, 24, 8, 256, 0.1)\n",
    "enc_embedd = tf.keras.layers.Embedding(vocab_size, 24)\n",
    "print(encoder_input[:32].shape)\n",
    "enc_example = enc_embedd(encoder_input[:32])\n",
    "print(enc_example.shape)\n",
    "enc_out, enc_attn = encoder_model(enc_example, enc_mask)\n",
    "print(enc_out.shape)"
   ]
  },
  {
   "cell_type": "markdown",
   "id": "abroad-northern",
   "metadata": {},
   "source": [
    "#### Decoder"
   ]
  },
  {
   "cell_type": "code",
   "execution_count": 74,
   "id": "optional-consumer",
   "metadata": {},
   "outputs": [],
   "source": [
    "class Decoder(tf.keras.Model):\n",
    "    def __init__(self,\n",
    "                 n_layers,\n",
    "                 d_model,\n",
    "                 n_heads,\n",
    "                 d_ff,\n",
    "                 dropout):\n",
    "        super(Decoder, self).__init__()\n",
    "        self.n_layers = n_layers\n",
    "        self.dec_layers = [DecoderLayer(d_model, n_heads, d_ff, dropout)\n",
    "                           for _ in range(n_layers)]\n",
    "        \n",
    "    def call(self, x, enc_out, casuality_mask, padding_mask):\n",
    "        out = x\n",
    "        \n",
    "        dec_attns = list()\n",
    "        dec_enc_attns = list()\n",
    "        for i in range(self.n_layers):\n",
    "            out, dec_attn, dec_enc_attn = \\\n",
    "            self.dec_layers[i](out, enc_out, casuality_mask, padding_mask)\n",
    "            \n",
    "            dec_attns.append(dec_attn)\n",
    "            dec_enc_attns.append(dec_enc_attn)\n",
    "        \n",
    "        return out, dec_attns, dec_enc_attns"
   ]
  },
  {
   "cell_type": "code",
   "execution_count": 34,
   "id": "celtic-notebook",
   "metadata": {},
   "outputs": [
    {
     "name": "stdout",
     "output_type": "stream",
     "text": [
      "(32, 40, 24)\n",
      "(32, 40, 24)\n",
      "(32, 40, 24)\n"
     ]
    }
   ],
   "source": [
    "decoder_model = Decoder(3, 24, 8, 256, 0.1)\n",
    "dec_embedd = tf.keras.layers.Embedding(vocab_size, 24)\n",
    "dec_example = dec_embedd(decoder_input[:32])\n",
    "print(dec_example.shape)\n",
    "print(enc_out.shape)\n",
    "dec_out, dec_attns, dec_enc_attns = decoder_model(dec_example, \n",
    "                                                  enc_out, \n",
    "                                                  dec_mask, \n",
    "                                                  dec_enc_mask)\n",
    "print(dec_out.shape)"
   ]
  },
  {
   "cell_type": "markdown",
   "id": "afraid-being",
   "metadata": {},
   "source": [
    "#### Transformer 전체 모델 조립"
   ]
  },
  {
   "cell_type": "code",
   "execution_count": 75,
   "id": "sorted-attraction",
   "metadata": {},
   "outputs": [],
   "source": [
    "class Transformer(tf.keras.Model):\n",
    "    def __init__(self, \n",
    "                 n_layers,\n",
    "                 d_model,\n",
    "                 n_heads,\n",
    "                 d_ff,\n",
    "                 src_vocab_size,\n",
    "                 tgt_vocab_size,\n",
    "                 pos_len,\n",
    "                 dropout = 0.2,\n",
    "                 shared_fc = True,\n",
    "                 shared_embedd = False):\n",
    "        super(Transformer, self).__init__()\n",
    "        self.d_model = tf.cast(d_model, tf.float32)\n",
    "        \n",
    "        if shared_embedd:\n",
    "            self.enc_emb = self.dec_emb = \\\n",
    "            tf.keras.layers.Embedding(src_vocab_size, d_model)\n",
    "        else:\n",
    "            self.enc_emb = tf.keras.layers.Embedding(src_vocab_size, d_model)\n",
    "            self.dec_emb = tf.keras.layers.Embedding(tgt_vocab_size, d_model)\n",
    "        \n",
    "        self.pos_encoding = positional_encoding(pos_len, d_model)\n",
    "        self.dropout = tf.keras.layers.Dropout(dropout)\n",
    "        \n",
    "        self.encoder = Encoder(n_layers, d_model, n_heads, d_ff, dropout)\n",
    "        self.decoder = Decoder(n_layers, d_model, n_heads, d_ff, dropout)\n",
    "        \n",
    "        self.fc = tf.keras.layers.Dense(tgt_vocab_size)\n",
    "        \n",
    "        self.shared_fc = shared_fc\n",
    "        \n",
    "        if shared_fc:\n",
    "            self.fc.set_weights(tf.transpose(self.dec_emb.weights))\n",
    "            \n",
    "            \n",
    "    def embedding(self, emb, x):\n",
    "        seq_len = x.shape[1]\n",
    "        \n",
    "        out = emb(x)\n",
    "        \n",
    "        if self.shared_fc: out *= tf.math.sqrt(self.d_model)\n",
    "        out += self.pos_encoding[np.newaxis, ...][:, :seq_len, :]\n",
    "        out = self.dropout(out)\n",
    "        \n",
    "        return out\n",
    "    \n",
    "    \n",
    "    def call(self, enc_in, dec_in, enc_mask, casuality_mask, dec_mask):\n",
    "        enc_in = self.embedding(self.enc_emb, enc_in)\n",
    "        dec_in = self.embedding(self.dec_emb, dec_in)\n",
    "        \n",
    "        enc_out, enc_attns = self.encoder(enc_in, enc_mask)\n",
    "        # 오타였음\n",
    "        dec_out, dec_attns, dec_enc_attns = \\\n",
    "        self.decoder(dec_in, enc_out, casuality_mask, dec_mask)\n",
    "        \n",
    "        logits = self.fc(dec_out)\n",
    "        \n",
    "        return logits, enc_attns, dec_attns, dec_enc_attns"
   ]
  },
  {
   "cell_type": "code",
   "execution_count": 36,
   "id": "chicken-individual",
   "metadata": {},
   "outputs": [
    {
     "data": {
      "text/plain": [
       "(1, 30, 40)"
      ]
     },
     "execution_count": 36,
     "metadata": {},
     "output_type": "execute_result"
    }
   ],
   "source": [
    "positional_encoding(30, 40)[np.newaxis, ...].shape"
   ]
  },
  {
   "cell_type": "code",
   "execution_count": 76,
   "id": "surprising-front",
   "metadata": {},
   "outputs": [],
   "source": [
    "transformer = Transformer(\n",
    "    n_layers=2,\n",
    "    d_model=512,\n",
    "    n_heads=8,\n",
    "    d_ff=2048,\n",
    "    src_vocab_size=vocab_size,\n",
    "    tgt_vocab_size=vocab_size,\n",
    "    pos_len=200,\n",
    "    dropout=0.1,\n",
    "    shared_fc=True,\n",
    "    shared_embedd=True)\n",
    "\n",
    "d_model = 512\n",
    "batch_size = 128"
   ]
  },
  {
   "cell_type": "code",
   "execution_count": 77,
   "id": "familiar-kinase",
   "metadata": {},
   "outputs": [
    {
     "name": "stdout",
     "output_type": "stream",
     "text": [
      "Model: \"transformer_4\"\n",
      "_________________________________________________________________\n",
      "Layer (type)                 Output Shape              Param #   \n",
      "=================================================================\n",
      "embedding_10 (Embedding)     multiple                  3508736   \n",
      "_________________________________________________________________\n",
      "dropout_36 (Dropout)         multiple                  0         \n",
      "_________________________________________________________________\n",
      "encoder_5 (Encoder)          multiple                  2105344   \n",
      "_________________________________________________________________\n",
      "decoder_6 (Decoder)          multiple                  2107392   \n",
      "_________________________________________________________________\n",
      "dense_258 (Dense)            multiple                  3515589   \n",
      "=================================================================\n",
      "Total params: 11,237,061\n",
      "Trainable params: 11,237,061\n",
      "Non-trainable params: 0\n",
      "_________________________________________________________________\n"
     ]
    }
   ],
   "source": [
    "enc_mask, casuality_mask, dec_mask = generate_masks(encoder_input[:batch_size], decoder_input[:batch_size])\n",
    "outputs, enc_attns, dec_attns, dec_enc_attns = transformer(encoder_input[:batch_size], \n",
    "                                                           decoder_input[:batch_size], \n",
    "                                                           enc_mask, \n",
    "                                                           casuality_mask, \n",
    "                                                           dec_mask)\n",
    "transformer.summary()"
   ]
  },
  {
   "cell_type": "code",
   "execution_count": 39,
   "id": "arbitrary-notice",
   "metadata": {},
   "outputs": [
    {
     "name": "stdout",
     "output_type": "stream",
     "text": [
      "(128, 40, 6853)\n"
     ]
    }
   ],
   "source": [
    "outputs = tf.math.softmax(outputs, axis = -1)\n",
    "print(outputs.shape)"
   ]
  },
  {
   "cell_type": "markdown",
   "id": "discrete-separate",
   "metadata": {},
   "source": [
    "#### Learning Rate Scheduler & Optimizer"
   ]
  },
  {
   "cell_type": "code",
   "execution_count": 78,
   "id": "taken-springer",
   "metadata": {},
   "outputs": [],
   "source": [
    "class LearningRateScheduler(tf.keras.optimizers.schedules.LearningRateSchedule):\n",
    "    def __init__(self, d_model, warmup_steps = 4000):\n",
    "        super(LearningRateScheduler, self).__init__()\n",
    "        \n",
    "        self.d_model = d_model\n",
    "        self.warmup_steps = warmup_steps\n",
    "    \n",
    "    def __call__(self, step):\n",
    "        arg1 = step ** -0.5\n",
    "        arg2 = step * (self.warmup_steps ** -1.5)\n",
    "        \n",
    "        return (self.d_model ** -0.5) * tf.math.minimum(arg1, arg2)"
   ]
  },
  {
   "cell_type": "code",
   "execution_count": 79,
   "id": "annual-innocent",
   "metadata": {},
   "outputs": [],
   "source": [
    "learning_rate = LearningRateScheduler(d_model)\n",
    "optimizer = tf.keras.optimizers.Adam(learning_rate,\n",
    "                                     beta_1 = 0.9,\n",
    "                                     beta_2 = 0.98,\n",
    "                                     epsilon = 1e-9)"
   ]
  },
  {
   "cell_type": "markdown",
   "id": "micro-spending",
   "metadata": {},
   "source": [
    "#### Loss Function 정의"
   ]
  },
  {
   "cell_type": "code",
   "execution_count": 80,
   "id": "binding-chambers",
   "metadata": {},
   "outputs": [],
   "source": [
    "loss_object = tf.keras.losses.SparseCategoricalCrossentropy(\n",
    "    from_logits = True, reduction = 'none')\n",
    "def loss_function(real, pred):\n",
    "    # tf.math.equal(array, 지정값) : 지정값과 같으면 True 틀리면 False\n",
    "    # tf.math.logical_not : 원소들이 True는 False로 False면 True로 바꿔줌\n",
    "    mask = tf.math.logical_not(tf.math.equal(real, 0))\n",
    "    loss_ = loss_object(real, pred)\n",
    "    \n",
    "    mask = tf.cast(mask, dtype = loss_.dtype)\n",
    "    loss_ *= mask\n",
    "    \n",
    "    #  divide by zero encountered in true_divide 로 인하여 loss가 nan으로 가는걸 막기 위해서 1e-6이라는 작은 수를 더함\n",
    "    return tf.reduce_sum(loss_) / tf.reduce_sum(mask)"
   ]
  },
  {
   "cell_type": "code",
   "execution_count": 60,
   "id": "neither-operations",
   "metadata": {},
   "outputs": [
    {
     "name": "stdout",
     "output_type": "stream",
     "text": [
      "(128, 40, 6853) (128, 40)\n",
      "(128, 40) (128, 40, 6853)\n",
      "tf.Tensor(9.128787, shape=(), dtype=float32)\n"
     ]
    }
   ],
   "source": [
    "print(outputs.shape, decoder_output[:batch_size].shape)\n",
    "real = decoder_output[:batch_size]\n",
    "pred = outputs\n",
    "print(real.shape, pred.shape)\n",
    "print(loss_function(real, pred))"
   ]
  },
  {
   "cell_type": "markdown",
   "id": "intensive-canada",
   "metadata": {},
   "source": [
    "## 3.2 챗봇 모델 훈련"
   ]
  },
  {
   "cell_type": "markdown",
   "id": "chief-guest",
   "metadata": {},
   "source": [
    "#### 모델 학습 train step 정의"
   ]
  },
  {
   "cell_type": "code",
   "execution_count": 81,
   "id": "hidden-craps",
   "metadata": {},
   "outputs": [],
   "source": [
    "@tf.function()\n",
    "def train_step(enc_in, dec_in, dec_out, model, optimizer):\n",
    "    \n",
    "    enc_mask, dec_enc_mask, dec_mask = generate_masks(enc_in, dec_in)\n",
    "    \n",
    "    with tf.GradientTape() as tape:\n",
    "        predictions, enc_attns, dec_attns, dec_enc_attns = \\\n",
    "        model(enc_in, dec_in, enc_mask, dec_mask, dec_enc_mask)\n",
    "        predictions = tf.math.softmax(predictions, axis = -1)\n",
    "        loss = loss_function(dec_out, predictions)\n",
    "        \n",
    "    gradients = tape.gradient(loss, model.trainable_variables)\n",
    "    optimizer.apply_gradients(zip(gradients, model.trainable_variables))\n",
    "    \n",
    "    return loss, enc_attns, dec_attns, dec_enc_attns"
   ]
  },
  {
   "cell_type": "code",
   "execution_count": 82,
   "id": "variable-piano",
   "metadata": {
    "scrolled": true
   },
   "outputs": [
    {
     "name": "stderr",
     "output_type": "stream",
     "text": [
      "/opt/conda/lib/python3.7/site-packages/ipykernel_launcher.py:11: TqdmDeprecationWarning: This function will be removed in tqdm==5.0.0\n",
      "Please use `tqdm.notebook.tqdm` instead of `tqdm.tqdm_notebook`\n",
      "  # This is added back by InteractiveShellApp.init_path()\n"
     ]
    },
    {
     "data": {
      "application/vnd.jupyter.widget-view+json": {
       "model_id": "f023df7b729d4f25b030952efe1959d6",
       "version_major": 2,
       "version_minor": 0
      },
      "text/plain": [
       "  0%|          | 0/93 [00:00<?, ?it/s]"
      ]
     },
     "metadata": {},
     "output_type": "display_data"
    },
    {
     "name": "stdout",
     "output_type": "stream",
     "text": [
      "WARNING:tensorflow:Gradients do not exist for variables ['transformer_4/encoder_5/encoder_layer_12/multi_head_attention_42/dense_226/kernel:0', 'transformer_4/encoder_5/encoder_layer_12/multi_head_attention_42/dense_226/bias:0', 'transformer_4/encoder_5/encoder_layer_12/multi_head_attention_42/dense_229/kernel:0', 'transformer_4/encoder_5/encoder_layer_12/multi_head_attention_42/dense_229/bias:0', 'transformer_4/encoder_5/encoder_layer_12/position_feed_forward_net_27/dense_230/kernel:0', 'transformer_4/encoder_5/encoder_layer_12/position_feed_forward_net_27/dense_230/bias:0', 'transformer_4/encoder_5/encoder_layer_12/position_feed_forward_net_27/dense_231/kernel:0', 'transformer_4/encoder_5/encoder_layer_12/position_feed_forward_net_27/dense_231/bias:0', 'transformer_4/encoder_5/encoder_layer_12/layer_normalization_69/gamma:0', 'transformer_4/encoder_5/encoder_layer_12/layer_normalization_69/beta:0', 'transformer_4/encoder_5/encoder_layer_12/layer_normalization_70/gamma:0', 'transformer_4/encoder_5/encoder_layer_12/layer_normalization_70/beta:0', 'transformer_4/encoder_5/encoder_layer_13/multi_head_attention_43/dense_232/kernel:0', 'transformer_4/encoder_5/encoder_layer_13/multi_head_attention_43/dense_232/bias:0', 'transformer_4/encoder_5/encoder_layer_13/multi_head_attention_43/dense_235/kernel:0', 'transformer_4/encoder_5/encoder_layer_13/multi_head_attention_43/dense_235/bias:0', 'transformer_4/encoder_5/encoder_layer_13/position_feed_forward_net_28/dense_236/kernel:0', 'transformer_4/encoder_5/encoder_layer_13/position_feed_forward_net_28/dense_236/bias:0', 'transformer_4/encoder_5/encoder_layer_13/position_feed_forward_net_28/dense_237/kernel:0', 'transformer_4/encoder_5/encoder_layer_13/position_feed_forward_net_28/dense_237/bias:0', 'transformer_4/encoder_5/encoder_layer_13/layer_normalization_71/gamma:0', 'transformer_4/encoder_5/encoder_layer_13/layer_normalization_71/beta:0', 'transformer_4/encoder_5/encoder_layer_13/layer_normalization_72/gamma:0', 'transformer_4/encoder_5/encoder_layer_13/layer_normalization_72/beta:0'] when minimizing the loss.\n",
      "WARNING:tensorflow:Gradients do not exist for variables ['transformer_4/encoder_5/encoder_layer_12/multi_head_attention_42/dense_226/kernel:0', 'transformer_4/encoder_5/encoder_layer_12/multi_head_attention_42/dense_226/bias:0', 'transformer_4/encoder_5/encoder_layer_12/multi_head_attention_42/dense_229/kernel:0', 'transformer_4/encoder_5/encoder_layer_12/multi_head_attention_42/dense_229/bias:0', 'transformer_4/encoder_5/encoder_layer_12/position_feed_forward_net_27/dense_230/kernel:0', 'transformer_4/encoder_5/encoder_layer_12/position_feed_forward_net_27/dense_230/bias:0', 'transformer_4/encoder_5/encoder_layer_12/position_feed_forward_net_27/dense_231/kernel:0', 'transformer_4/encoder_5/encoder_layer_12/position_feed_forward_net_27/dense_231/bias:0', 'transformer_4/encoder_5/encoder_layer_12/layer_normalization_69/gamma:0', 'transformer_4/encoder_5/encoder_layer_12/layer_normalization_69/beta:0', 'transformer_4/encoder_5/encoder_layer_12/layer_normalization_70/gamma:0', 'transformer_4/encoder_5/encoder_layer_12/layer_normalization_70/beta:0', 'transformer_4/encoder_5/encoder_layer_13/multi_head_attention_43/dense_232/kernel:0', 'transformer_4/encoder_5/encoder_layer_13/multi_head_attention_43/dense_232/bias:0', 'transformer_4/encoder_5/encoder_layer_13/multi_head_attention_43/dense_235/kernel:0', 'transformer_4/encoder_5/encoder_layer_13/multi_head_attention_43/dense_235/bias:0', 'transformer_4/encoder_5/encoder_layer_13/position_feed_forward_net_28/dense_236/kernel:0', 'transformer_4/encoder_5/encoder_layer_13/position_feed_forward_net_28/dense_236/bias:0', 'transformer_4/encoder_5/encoder_layer_13/position_feed_forward_net_28/dense_237/kernel:0', 'transformer_4/encoder_5/encoder_layer_13/position_feed_forward_net_28/dense_237/bias:0', 'transformer_4/encoder_5/encoder_layer_13/layer_normalization_71/gamma:0', 'transformer_4/encoder_5/encoder_layer_13/layer_normalization_71/beta:0', 'transformer_4/encoder_5/encoder_layer_13/layer_normalization_72/gamma:0', 'transformer_4/encoder_5/encoder_layer_13/layer_normalization_72/beta:0'] when minimizing the loss.\n"
     ]
    },
    {
     "name": "stderr",
     "output_type": "stream",
     "text": [
      "/opt/conda/lib/python3.7/site-packages/ipykernel_launcher.py:23: RuntimeWarning: divide by zero encountered in true_divide\n"
     ]
    },
    {
     "name": "stdout",
     "output_type": "stream",
     "text": [
      "WARNING:tensorflow:Gradients do not exist for variables ['transformer_4/encoder_5/encoder_layer_12/multi_head_attention_42/dense_226/kernel:0', 'transformer_4/encoder_5/encoder_layer_12/multi_head_attention_42/dense_226/bias:0', 'transformer_4/encoder_5/encoder_layer_12/multi_head_attention_42/dense_229/kernel:0', 'transformer_4/encoder_5/encoder_layer_12/multi_head_attention_42/dense_229/bias:0', 'transformer_4/encoder_5/encoder_layer_12/position_feed_forward_net_27/dense_230/kernel:0', 'transformer_4/encoder_5/encoder_layer_12/position_feed_forward_net_27/dense_230/bias:0', 'transformer_4/encoder_5/encoder_layer_12/position_feed_forward_net_27/dense_231/kernel:0', 'transformer_4/encoder_5/encoder_layer_12/position_feed_forward_net_27/dense_231/bias:0', 'transformer_4/encoder_5/encoder_layer_12/layer_normalization_69/gamma:0', 'transformer_4/encoder_5/encoder_layer_12/layer_normalization_69/beta:0', 'transformer_4/encoder_5/encoder_layer_12/layer_normalization_70/gamma:0', 'transformer_4/encoder_5/encoder_layer_12/layer_normalization_70/beta:0', 'transformer_4/encoder_5/encoder_layer_13/multi_head_attention_43/dense_232/kernel:0', 'transformer_4/encoder_5/encoder_layer_13/multi_head_attention_43/dense_232/bias:0', 'transformer_4/encoder_5/encoder_layer_13/multi_head_attention_43/dense_235/kernel:0', 'transformer_4/encoder_5/encoder_layer_13/multi_head_attention_43/dense_235/bias:0', 'transformer_4/encoder_5/encoder_layer_13/position_feed_forward_net_28/dense_236/kernel:0', 'transformer_4/encoder_5/encoder_layer_13/position_feed_forward_net_28/dense_236/bias:0', 'transformer_4/encoder_5/encoder_layer_13/position_feed_forward_net_28/dense_237/kernel:0', 'transformer_4/encoder_5/encoder_layer_13/position_feed_forward_net_28/dense_237/bias:0', 'transformer_4/encoder_5/encoder_layer_13/layer_normalization_71/gamma:0', 'transformer_4/encoder_5/encoder_layer_13/layer_normalization_71/beta:0', 'transformer_4/encoder_5/encoder_layer_13/layer_normalization_72/gamma:0', 'transformer_4/encoder_5/encoder_layer_13/layer_normalization_72/beta:0'] when minimizing the loss.\n"
     ]
    },
    {
     "ename": "KeyboardInterrupt",
     "evalue": "",
     "output_type": "error",
     "traceback": [
      "\u001b[0;31m---------------------------------------------------------------------------\u001b[0m",
      "\u001b[0;31mKeyboardInterrupt\u001b[0m                         Traceback (most recent call last)",
      "\u001b[0;32m<ipython-input-82-8e8c67d01986>\u001b[0m in \u001b[0;36m<module>\u001b[0;34m\u001b[0m\n\u001b[1;32m     17\u001b[0m                    \u001b[0mtrain_decoder_output\u001b[0m\u001b[0;34m[\u001b[0m\u001b[0midx\u001b[0m\u001b[0;34m:\u001b[0m\u001b[0midx\u001b[0m\u001b[0;34m+\u001b[0m\u001b[0mbatch_size\u001b[0m\u001b[0;34m]\u001b[0m\u001b[0;34m,\u001b[0m\u001b[0;34m\u001b[0m\u001b[0;34m\u001b[0m\u001b[0m\n\u001b[1;32m     18\u001b[0m                    \u001b[0mtransformer\u001b[0m\u001b[0;34m,\u001b[0m\u001b[0;34m\u001b[0m\u001b[0;34m\u001b[0m\u001b[0m\n\u001b[0;32m---> 19\u001b[0;31m                    optimizer)\n\u001b[0m\u001b[1;32m     20\u001b[0m         \u001b[0mtotal_loss\u001b[0m \u001b[0;34m+=\u001b[0m \u001b[0mbatch_loss\u001b[0m\u001b[0;34m\u001b[0m\u001b[0;34m\u001b[0m\u001b[0m\n\u001b[1;32m     21\u001b[0m \u001b[0;34m\u001b[0m\u001b[0m\n",
      "\u001b[0;32m/opt/conda/lib/python3.7/site-packages/tensorflow/python/eager/def_function.py\u001b[0m in \u001b[0;36m__call__\u001b[0;34m(self, *args, **kwds)\u001b[0m\n\u001b[1;32m    826\u001b[0m     \u001b[0mtracing_count\u001b[0m \u001b[0;34m=\u001b[0m \u001b[0mself\u001b[0m\u001b[0;34m.\u001b[0m\u001b[0mexperimental_get_tracing_count\u001b[0m\u001b[0;34m(\u001b[0m\u001b[0;34m)\u001b[0m\u001b[0;34m\u001b[0m\u001b[0;34m\u001b[0m\u001b[0m\n\u001b[1;32m    827\u001b[0m     \u001b[0;32mwith\u001b[0m \u001b[0mtrace\u001b[0m\u001b[0;34m.\u001b[0m\u001b[0mTrace\u001b[0m\u001b[0;34m(\u001b[0m\u001b[0mself\u001b[0m\u001b[0;34m.\u001b[0m\u001b[0m_name\u001b[0m\u001b[0;34m)\u001b[0m \u001b[0;32mas\u001b[0m \u001b[0mtm\u001b[0m\u001b[0;34m:\u001b[0m\u001b[0;34m\u001b[0m\u001b[0;34m\u001b[0m\u001b[0m\n\u001b[0;32m--> 828\u001b[0;31m       \u001b[0mresult\u001b[0m \u001b[0;34m=\u001b[0m \u001b[0mself\u001b[0m\u001b[0;34m.\u001b[0m\u001b[0m_call\u001b[0m\u001b[0;34m(\u001b[0m\u001b[0;34m*\u001b[0m\u001b[0margs\u001b[0m\u001b[0;34m,\u001b[0m \u001b[0;34m**\u001b[0m\u001b[0mkwds\u001b[0m\u001b[0;34m)\u001b[0m\u001b[0;34m\u001b[0m\u001b[0;34m\u001b[0m\u001b[0m\n\u001b[0m\u001b[1;32m    829\u001b[0m       \u001b[0mcompiler\u001b[0m \u001b[0;34m=\u001b[0m \u001b[0;34m\"xla\"\u001b[0m \u001b[0;32mif\u001b[0m \u001b[0mself\u001b[0m\u001b[0;34m.\u001b[0m\u001b[0m_experimental_compile\u001b[0m \u001b[0;32melse\u001b[0m \u001b[0;34m\"nonXla\"\u001b[0m\u001b[0;34m\u001b[0m\u001b[0;34m\u001b[0m\u001b[0m\n\u001b[1;32m    830\u001b[0m       \u001b[0mnew_tracing_count\u001b[0m \u001b[0;34m=\u001b[0m \u001b[0mself\u001b[0m\u001b[0;34m.\u001b[0m\u001b[0mexperimental_get_tracing_count\u001b[0m\u001b[0;34m(\u001b[0m\u001b[0;34m)\u001b[0m\u001b[0;34m\u001b[0m\u001b[0;34m\u001b[0m\u001b[0m\n",
      "\u001b[0;32m/opt/conda/lib/python3.7/site-packages/tensorflow/python/eager/def_function.py\u001b[0m in \u001b[0;36m_call\u001b[0;34m(self, *args, **kwds)\u001b[0m\n\u001b[1;32m    853\u001b[0m       \u001b[0;31m# In this case we have created variables on the first call, so we run the\u001b[0m\u001b[0;34m\u001b[0m\u001b[0;34m\u001b[0m\u001b[0;34m\u001b[0m\u001b[0m\n\u001b[1;32m    854\u001b[0m       \u001b[0;31m# defunned version which is guaranteed to never create variables.\u001b[0m\u001b[0;34m\u001b[0m\u001b[0;34m\u001b[0m\u001b[0;34m\u001b[0m\u001b[0m\n\u001b[0;32m--> 855\u001b[0;31m       \u001b[0;32mreturn\u001b[0m \u001b[0mself\u001b[0m\u001b[0;34m.\u001b[0m\u001b[0m_stateless_fn\u001b[0m\u001b[0;34m(\u001b[0m\u001b[0;34m*\u001b[0m\u001b[0margs\u001b[0m\u001b[0;34m,\u001b[0m \u001b[0;34m**\u001b[0m\u001b[0mkwds\u001b[0m\u001b[0;34m)\u001b[0m  \u001b[0;31m# pylint: disable=not-callable\u001b[0m\u001b[0;34m\u001b[0m\u001b[0;34m\u001b[0m\u001b[0m\n\u001b[0m\u001b[1;32m    856\u001b[0m     \u001b[0;32melif\u001b[0m \u001b[0mself\u001b[0m\u001b[0;34m.\u001b[0m\u001b[0m_stateful_fn\u001b[0m \u001b[0;32mis\u001b[0m \u001b[0;32mnot\u001b[0m \u001b[0;32mNone\u001b[0m\u001b[0;34m:\u001b[0m\u001b[0;34m\u001b[0m\u001b[0;34m\u001b[0m\u001b[0m\n\u001b[1;32m    857\u001b[0m       \u001b[0;31m# Release the lock early so that multiple threads can perform the call\u001b[0m\u001b[0;34m\u001b[0m\u001b[0;34m\u001b[0m\u001b[0;34m\u001b[0m\u001b[0m\n",
      "\u001b[0;32m/opt/conda/lib/python3.7/site-packages/tensorflow/python/eager/function.py\u001b[0m in \u001b[0;36m__call__\u001b[0;34m(self, *args, **kwargs)\u001b[0m\n\u001b[1;32m   2941\u001b[0m        filtered_flat_args) = self._maybe_define_function(args, kwargs)\n\u001b[1;32m   2942\u001b[0m     return graph_function._call_flat(\n\u001b[0;32m-> 2943\u001b[0;31m         filtered_flat_args, captured_inputs=graph_function.captured_inputs)  # pylint: disable=protected-access\n\u001b[0m\u001b[1;32m   2944\u001b[0m \u001b[0;34m\u001b[0m\u001b[0m\n\u001b[1;32m   2945\u001b[0m   \u001b[0;34m@\u001b[0m\u001b[0mproperty\u001b[0m\u001b[0;34m\u001b[0m\u001b[0;34m\u001b[0m\u001b[0m\n",
      "\u001b[0;32m/opt/conda/lib/python3.7/site-packages/tensorflow/python/eager/function.py\u001b[0m in \u001b[0;36m_call_flat\u001b[0;34m(self, args, captured_inputs, cancellation_manager)\u001b[0m\n\u001b[1;32m   1917\u001b[0m       \u001b[0;31m# No tape is watching; skip to running the function.\u001b[0m\u001b[0;34m\u001b[0m\u001b[0;34m\u001b[0m\u001b[0;34m\u001b[0m\u001b[0m\n\u001b[1;32m   1918\u001b[0m       return self._build_call_outputs(self._inference_function.call(\n\u001b[0;32m-> 1919\u001b[0;31m           ctx, args, cancellation_manager=cancellation_manager))\n\u001b[0m\u001b[1;32m   1920\u001b[0m     forward_backward = self._select_forward_and_backward_functions(\n\u001b[1;32m   1921\u001b[0m         \u001b[0margs\u001b[0m\u001b[0;34m,\u001b[0m\u001b[0;34m\u001b[0m\u001b[0;34m\u001b[0m\u001b[0m\n",
      "\u001b[0;32m/opt/conda/lib/python3.7/site-packages/tensorflow/python/eager/function.py\u001b[0m in \u001b[0;36mcall\u001b[0;34m(self, ctx, args, cancellation_manager)\u001b[0m\n\u001b[1;32m    558\u001b[0m               \u001b[0minputs\u001b[0m\u001b[0;34m=\u001b[0m\u001b[0margs\u001b[0m\u001b[0;34m,\u001b[0m\u001b[0;34m\u001b[0m\u001b[0;34m\u001b[0m\u001b[0m\n\u001b[1;32m    559\u001b[0m               \u001b[0mattrs\u001b[0m\u001b[0;34m=\u001b[0m\u001b[0mattrs\u001b[0m\u001b[0;34m,\u001b[0m\u001b[0;34m\u001b[0m\u001b[0;34m\u001b[0m\u001b[0m\n\u001b[0;32m--> 560\u001b[0;31m               ctx=ctx)\n\u001b[0m\u001b[1;32m    561\u001b[0m         \u001b[0;32melse\u001b[0m\u001b[0;34m:\u001b[0m\u001b[0;34m\u001b[0m\u001b[0;34m\u001b[0m\u001b[0m\n\u001b[1;32m    562\u001b[0m           outputs = execute.execute_with_cancellation(\n",
      "\u001b[0;32m/opt/conda/lib/python3.7/site-packages/tensorflow/python/eager/execute.py\u001b[0m in \u001b[0;36mquick_execute\u001b[0;34m(op_name, num_outputs, inputs, attrs, ctx, name)\u001b[0m\n\u001b[1;32m     58\u001b[0m     \u001b[0mctx\u001b[0m\u001b[0;34m.\u001b[0m\u001b[0mensure_initialized\u001b[0m\u001b[0;34m(\u001b[0m\u001b[0;34m)\u001b[0m\u001b[0;34m\u001b[0m\u001b[0;34m\u001b[0m\u001b[0m\n\u001b[1;32m     59\u001b[0m     tensors = pywrap_tfe.TFE_Py_Execute(ctx._handle, device_name, op_name,\n\u001b[0;32m---> 60\u001b[0;31m                                         inputs, attrs, num_outputs)\n\u001b[0m\u001b[1;32m     61\u001b[0m   \u001b[0;32mexcept\u001b[0m \u001b[0mcore\u001b[0m\u001b[0;34m.\u001b[0m\u001b[0m_NotOkStatusException\u001b[0m \u001b[0;32mas\u001b[0m \u001b[0me\u001b[0m\u001b[0;34m:\u001b[0m\u001b[0;34m\u001b[0m\u001b[0;34m\u001b[0m\u001b[0m\n\u001b[1;32m     62\u001b[0m     \u001b[0;32mif\u001b[0m \u001b[0mname\u001b[0m \u001b[0;32mis\u001b[0m \u001b[0;32mnot\u001b[0m \u001b[0;32mNone\u001b[0m\u001b[0;34m:\u001b[0m\u001b[0;34m\u001b[0m\u001b[0;34m\u001b[0m\u001b[0m\n",
      "\u001b[0;31mKeyboardInterrupt\u001b[0m: "
     ]
    }
   ],
   "source": [
    "from tqdm import tqdm_notebook\n",
    "\n",
    "batch_size = 128\n",
    "epochs = 1\n",
    "\n",
    "for epoch in range(epochs):\n",
    "    total_loss = 0\n",
    "    \n",
    "    idx_list = list(range(0, encoder_input.shape[0], batch_size))\n",
    "    np.random.shuffle(idx_list)\n",
    "    t = tqdm_notebook(idx_list)\n",
    "    \n",
    "    for batch, idx in enumerate(t):\n",
    "        batch_loss, enc_attns, dec_attns, dec_enc_attns = \\\n",
    "        train_step(train_encoder_input[idx:idx+batch_size],\n",
    "                   train_decoder_input[idx:idx+batch_size],\n",
    "                   train_decoder_output[idx:idx+batch_size],\n",
    "                   transformer,\n",
    "                   optimizer)\n",
    "        total_loss += batch_loss\n",
    "    \n",
    "        t.set_description_str('Epoch %2d' % (epoch + 1))\n",
    "        t.set_postfix_str('Loss %.4f' % (total_loss.numpy() / batch + 1))"
   ]
  },
  {
   "cell_type": "markdown",
   "id": "wound-killer",
   "metadata": {},
   "source": [
    "## 3.3 챗봇 모델 평가"
   ]
  },
  {
   "cell_type": "markdown",
   "id": "adapted-medicare",
   "metadata": {},
   "source": [
    "### 3.3.1 SmoothinFunction이 적용된 BLEU score 정의"
   ]
  },
  {
   "cell_type": "code",
   "execution_count": 69,
   "id": "after-marathon",
   "metadata": {},
   "outputs": [
    {
     "name": "stdout",
     "output_type": "stream",
     "text": [
      "원문: ['많', '은', '자연어', '처리', '연구자', '들', '이', '트랜스포머', '를', '선호', '한다']\n",
      "번역문: ['적', '은', '자연어', '학', '개발자', '들', '가', '트랜스포머', '을', '선호', '한다', '요']\n",
      "BLEU Score: 8.190757052088229e-155\n"
     ]
    }
   ],
   "source": [
    "from nltk.translate.bleu_score import SmoothingFunction, sentence_bleu\n",
    "\n",
    "#!pip install nltk # nltk가 설치되어 있지 않은 경우 주석 해제\n",
    "reference = \"많 은 자연어 처리 연구자 들 이 트랜스포머 를 선호 한다\".split()\n",
    "candidate = \"적 은 자연어 학 개발자 들 가 트랜스포머 을 선호 한다 요\".split()\n",
    "\n",
    "print(\"원문:\", reference)\n",
    "print(\"번역문:\", candidate)\n",
    "print(\"BLEU Score:\", sentence_bleu([reference], candidate))"
   ]
  },
  {
   "cell_type": "code",
   "execution_count": 70,
   "id": "careful-impact",
   "metadata": {},
   "outputs": [
    {
     "name": "stdout",
     "output_type": "stream",
     "text": [
      "BLEU-1: 0.5\n",
      "BLEU-2: 0.18181818181818182\n",
      "BLEU-3: 0.010000000000000004\n",
      "BLEU-4: 0.011111111111111112\n",
      "\n",
      "BLEU-Total: 0.05637560315259291\n"
     ]
    }
   ],
   "source": [
    "def calculate_bleu(reference, candidate, weights=[0.25, 0.25, 0.25, 0.25]):\n",
    "    return sentence_bleu([reference],\n",
    "                         candidate,\n",
    "                         weights=weights,\n",
    "                         smoothing_function=SmoothingFunction().method1)  # smoothing_function 적용\n",
    "\n",
    "print(\"BLEU-1:\", calculate_bleu(reference, candidate, weights=[1, 0, 0, 0]))\n",
    "print(\"BLEU-2:\", calculate_bleu(reference, candidate, weights=[0, 1, 0, 0]))\n",
    "print(\"BLEU-3:\", calculate_bleu(reference, candidate, weights=[0, 0, 1, 0]))\n",
    "print(\"BLEU-4:\", calculate_bleu(reference, candidate, weights=[0, 0, 0, 1]))\n",
    "\n",
    "print(\"\\nBLEU-Total:\", calculate_bleu(reference, candidate))"
   ]
  },
  {
   "cell_type": "markdown",
   "id": "small-establishment",
   "metadata": {},
   "source": [
    "### 3.3.2 모델 평가 함수 정의"
   ]
  },
  {
   "cell_type": "code",
   "execution_count": 71,
   "id": "champion-liver",
   "metadata": {
    "scrolled": true
   },
   "outputs": [],
   "source": [
    "def evaluate(sentence, model, word_index, index_word):\n",
    "    if type(sentence) == str:\n",
    "        sentence = mecab.morphs(sentence)\n",
    "        sentence = tokenizer.tokenization([sentence], word_index, max_length + 1)\n",
    "    \n",
    "\n",
    "    ids = []\n",
    "    output = [[\"<sos>\"]]\n",
    "    output = tokenizer.tokenization(output, word_index, max_length + 1)\n",
    "    for i in range(train_decoder_input.shape[-1]):\n",
    "        enc_padding_mask, combined_mask, dec_padding_mask = \\\n",
    "        generate_masks(sentence, output)\n",
    "\n",
    "        predictions, enc_attns, dec_attns, dec_enc_attns = \\\n",
    "        model(sentence, \n",
    "              output,\n",
    "              enc_padding_mask,\n",
    "              dec_padding_mask,\n",
    "              combined_mask)\n",
    "        prediction_id = tf.math.softmax(predictions, axis = -1)\n",
    "        prediction_id = tf.argmax(prediction_id[0, -1]).numpy().item()\n",
    "        \n",
    "\n",
    "        ids.append(prediction_id)\n",
    "        try:\n",
    "            output[0,i+1] = prediction_id\n",
    "        except:\n",
    "            break\n",
    "        if word_index[\"<eos>\"] == prediction_id:\n",
    "            break\n",
    "\n",
    "    \n",
    "    return sentence, output, enc_attns, dec_attns, dec_enc_attns\n",
    "\n",
    "sentence = \"나는 배가 고프다.\"\n",
    "inputs, outputs, enc_attns, dec_attns, dec_enc_attns = evaluate(sentence, transformer, word_index, index_word)"
   ]
  },
  {
   "cell_type": "markdown",
   "id": "fresh-specific",
   "metadata": {},
   "source": [
    "### 3.3.3 모델 BLEU 점수로 평가"
   ]
  },
  {
   "cell_type": "code",
   "execution_count": 72,
   "id": "consistent-processor",
   "metadata": {},
   "outputs": [
    {
     "name": "stderr",
     "output_type": "stream",
     "text": [
      "10it [00:21,  2.16s/it]"
     ]
    },
    {
     "name": "stdout",
     "output_type": "stream",
     "text": [
      "[0.004620856909230222, 0, 0.004620856909230222, 0, 0, 0, 0.004620856909230222, 0, 0, 0.009771922616581639]\n",
      "0.0023634493344272304\n"
     ]
    },
    {
     "name": "stderr",
     "output_type": "stream",
     "text": [
      "\n"
     ]
    }
   ],
   "source": [
    "from tqdm import tqdm\n",
    "\n",
    "def eval_bleu(val_encoder_input, val_decoder_output):\n",
    "    total_score = []\n",
    "    for i, j in tqdm(zip(val_encoder_input, val_decoder_output)):\n",
    "        i = np.array([i])\n",
    "        enc_inputs, dec_outputs, enc_attns, dec_attns, dec_enc_attns = evaluate(i, transformer, word_index, index_word)\n",
    "        score = calculate_bleu(j, dec_outputs[0])\n",
    "        total_score.append(score)\n",
    "    return total_score\n",
    "\n",
    "result = eval_bleu(val_encoder_input[:10], val_decoder_output[:10])\n",
    "mean_bleu = np.mean(result)\n",
    "print(result)\n",
    "print(f\"평균 BLEU 점수 : {mean_bleu}\")"
   ]
  },
  {
   "cell_type": "code",
   "execution_count": 73,
   "id": "earned-boston",
   "metadata": {},
   "outputs": [
    {
     "name": "stdout",
     "output_type": "stream",
     "text": [
      "평균 BLEU 점수 : 0.0023634493344272304\n"
     ]
    }
   ],
   "source": [
    "print(f\"평균 BLEU 점수 : {mean_bleu}\")"
   ]
  }
 ],
 "metadata": {
  "kernelspec": {
   "display_name": "Python 3",
   "language": "python",
   "name": "python3"
  },
  "language_info": {
   "codemirror_mode": {
    "name": "ipython",
    "version": 3
   },
   "file_extension": ".py",
   "mimetype": "text/x-python",
   "name": "python",
   "nbconvert_exporter": "python",
   "pygments_lexer": "ipython3",
   "version": "3.7.9"
  }
 },
 "nbformat": 4,
 "nbformat_minor": 5
}
