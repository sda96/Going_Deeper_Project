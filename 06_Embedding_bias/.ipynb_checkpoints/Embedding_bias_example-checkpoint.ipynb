{
 "cells": [
  {
   "cell_type": "markdown",
   "id": "stuck-kitchen",
   "metadata": {},
   "source": [
    "## 데이터의 편향성"
   ]
  },
  {
   "cell_type": "markdown",
   "id": "banned-benefit",
   "metadata": {},
   "source": [
    "데이터들이 어떠한 특성에 쏠려있으면 그 데이터는 편향성을 띄고 있다고 부르며, 편향된 데이터를 학습한 모델 또한 그 특성에 집중하게 되면서 편향성을 가지는 모델이 만들어지게 됩니다.\n",
    "\n",
    "데이터 편향성이 문제가 되는 사례로는 여러가지가 있지만 그 중에서 대표적인 사례로 마이크로소프트의 '테이'와 스케터랩의 '이루다'라는 특정 페르소나를 가진 오픈 도메인 형식의 인공지능 챗봇이 일부 사용자들의 혐오 발언을 새로운 학습 데이터로 학습을 하며 다른 사용자에게 불쾌감을 주는 문제가 발생하였고 결국에는 서비스 종료를 하게 되었습니다.\n",
    "\n",
    "사례를 통하여 데이터의 편향성을 파악하는 것이 중요하다는 것을 알 수가 있었는데 해당 노트북에서 진행될 내용은 텍스트의 임베딩에 숨어있는 편향성을 측정하는 방법으로 Word Embedding Association Test(WEAT)을 소개하겠습니다."
   ]
  },
  {
   "cell_type": "markdown",
   "id": "damaged-allocation",
   "metadata": {},
   "source": [
    "## 편향의 정량적 정의"
   ]
  },
  {
   "cell_type": "markdown",
   "id": "rotary-northwest",
   "metadata": {},
   "source": [
    "예를 들어서, 남자가 과학에, 여자가 예술에 가깝다는 편향을 임베딩 벡터상에서 정의를 해보겠습니다.\n",
    "\n",
    "과학와 예술이 모두 젠더 중립적이라면 임베딩 벡터상에서 과학과 예술이 각각 남자와 여자간의 거리가 동일해야 합니다. \n",
    "\n",
    "하지만 만약 과학이 남자와 여자라는 두 단어와의 거리가 동일하지 않고 남자와의 거리가 더 가깝다면 과학이라는 단어는 남자라는 단어에 편향되어 있다고 할 수 있습니다.\n",
    "\n",
    "여기에 추가적으로 과학이라는 단어가 편향되었다고 좀 더 객관적인 의견을 얻기 위해서 과학이라는 단어를 잘 대표하는 단어들을 여러개 골라서 단어 셋을 만들고 단어 셋에 속한 모든 단어들의 편향성을 계산한 평균을 수치화해주겠습니다.\n",
    "\n",
    "여기서 과학은 target이되고 과학을 대표하는 단어들을 attribute가 됩니다."
   ]
  }
 ],
 "metadata": {
  "kernelspec": {
   "display_name": "Python 3",
   "language": "python",
   "name": "python3"
  },
  "language_info": {
   "codemirror_mode": {
    "name": "ipython",
    "version": 3
   },
   "file_extension": ".py",
   "mimetype": "text/x-python",
   "name": "python",
   "nbconvert_exporter": "python",
   "pygments_lexer": "ipython3",
   "version": "3.7.9"
  }
 },
 "nbformat": 4,
 "nbformat_minor": 5
}
