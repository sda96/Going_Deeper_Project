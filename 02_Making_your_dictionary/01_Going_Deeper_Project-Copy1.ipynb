{
 "cells": [
  {
   "cell_type": "code",
   "execution_count": 1,
   "id": "corporate-helicopter",
   "metadata": {},
   "outputs": [],
   "source": [
    "import os\n",
    "from tqdm import tqdm\n",
    "import pandas as pd\n",
    "from collections import defaultdict\n",
    "import matplotlib.pyplot as plt\n",
    "import numpy as np\n",
    "\n",
    "import re\n",
    "import gensim\n",
    "from konlpy.tag import Mecab\n",
    "import sentencepiece as spm\n",
    "\n",
    "import tensorflow as tf\n",
    "from sklearn.model_selection import train_test_split\n",
    "from tensorflow.keras.preprocessing.sequence import pad_sequences\n",
    "from tensorflow.keras.initializers import Constant\n",
    "\n",
    "from sklearn.metrics import confusion_matrix\n",
    "import seaborn as sns\n",
    "%matplotlib inline"
   ]
  },
  {
   "cell_type": "markdown",
   "id": "sublime-nutrition",
   "metadata": {},
   "source": [
    "#### utils 함수"
   ]
  },
  {
   "cell_type": "code",
   "execution_count": 10,
   "id": "charming-administration",
   "metadata": {},
   "outputs": [],
   "source": [
    "# 텍스트 전처리 함수\n",
    "def text_prep(x):\n",
    "    x = re.sub(\"[^ㄱ-ㅎ가-힣?!,.]+\",\" \", x)\n",
    "    x = re.sub(\"[ ]+\",\" \", x)\n",
    "    x = x.strip()\n",
    "    return x    \n",
    "\n",
    "\n",
    "# Mecab의 단어 빈도 사전 구축\n",
    "def bin_dict(tokens):\n",
    "    dic = defaultdict()\n",
    "    for data in tokens:\n",
    "        for word in data:\n",
    "            if word in dic:\n",
    "                dic[word] += 1\n",
    "            else:\n",
    "                dic[word] = 0\n",
    "\n",
    "    dic = sorted(dic.items(), key = lambda x: x[1], reverse = True)\n",
    "    dic = dict(dic)\n",
    "    return dic\n",
    "\n",
    "\n",
    "# Mecab의 단어-인덱스, 인덱스-단어 사전 구축\n",
    "def word_index(dic, vocab_size):\n",
    "    word_to_index = defaultdict()\n",
    "    index_to_word = defaultdict()\n",
    "    \n",
    "    \n",
    "    dic = list(dic.items())[:(vocab_size - 2)]\n",
    "    dic = dict(dic)\n",
    "    for ind, word in enumerate(dic):\n",
    "        word_to_index[word] = ind + 2\n",
    "        index_to_word[ind + 2] = word\n",
    "    \n",
    "    word_to_index[\"<pad>\"] = 0\n",
    "    index_to_word[0] = \"<pad>\"\n",
    "    word_to_index[\"<unk>\"] = 1\n",
    "    index_to_word[1] = \"<unk>\"\n",
    "\n",
    "    word_to_index = dict(word_to_index)\n",
    "    index_to_word = dict(index_to_word)\n",
    "    return word_to_index, index_to_word\n",
    "\n",
    "\n",
    "#  Mecab 토큰화 적용\n",
    "def tokenization(corpus, dictionary):\n",
    "    tokens = []\n",
    "    for setence in tqdm(corpus):\n",
    "        tmp = [dictionary[word] if word in dictionary else 1 for word in setence]\n",
    "        tokens += [tmp]\n",
    "    return tokens\n",
    "\n",
    "\n",
    "# 일반 판다스 데이터프레임을 텐서플로우 데이터셋으로 변환\n",
    "def tensorflow_dataset(input_x, input_y, buffer_size, batch_size):\n",
    "    tf_data = tf.data.Dataset.from_tensor_slices((input_x, input_y))\n",
    "    tf_data = tf_data.shuffle(buffer_size)\n",
    "    tf_data = tf_data.repeat()\n",
    "    tf_data = tf_data.batch(batch_size)\n",
    "    tf_data = tf_data.prefetch(buffer_size = -1)\n",
    "    return tf_data \n",
    "\n",
    "\n",
    "# spm 모델 생성 및 단어장 생성\n",
    "def SentencePiece(model_type, data, vocab_size, add, train_test, temp_file = None):\n",
    "    if not temp_file:\n",
    "        temp_file = f\"./model/02_SentencePiece/{model_type}_{vocab_size}_pre{add}_{train_test}.tmp\"\n",
    "    \n",
    "    with open(temp_file, 'w') as f:\n",
    "        for row in data[\"document\"]:\n",
    "            f.write(str(row) + '\\n')\n",
    "    spm_input = f\"\"\"\n",
    "    --input={temp_file} \n",
    "    --model_prefix={model_type}_{vocab_size}_spm \n",
    "    --vocab_size={vocab_size} \n",
    "    --model_type={model_type}\n",
    "    \"\"\"\n",
    "    spm_input = re.sub(\"\\n\", \"\", spm_input)\n",
    "    spm.SentencePieceTrainer.Train(spm_input)\n",
    "\n",
    "    s = spm.SentencePieceProcessor()\n",
    "    s.Load(f'{model_type}_{vocab_size}_spm.model')\n",
    "    return s\n",
    "\n",
    "\n",
    "# 학습과정 히스토리 시각화\n",
    "def show_performance(history, title):\n",
    "    loss, acc, val_loss, val_acc, lr = history.history.values()\n",
    "    plt.plot(loss, label = \"loss\")\n",
    "    plt.plot(acc, label = \"acc\")\n",
    "    plt.plot(val_loss, label = \"val_loss\")\n",
    "    plt.plot(val_acc, label = \"val_acc\")\n",
    "    plt.title(title)\n",
    "    plt.xlabel(\"epochs\")\n",
    "    plt.legend()\n",
    "    plt.show()\n",
    "\n",
    "\n",
    "# 사전학습된 임베딩 행렬 불러오기\n",
    "def load_embedding_matrix(path, vocab_size, embedding_size, idx_word):\n",
    "    word2vec = gensim.models.Word2Vec.load(path)\n",
    "    embedding_matrix = np.random.rand(vocab_size, embedding_size)\n",
    "    count = 0\n",
    "    # embedding_matrix에 Word2Vec 워드 벡터를 단어 하나씩마다 차례차례 카피한다.\n",
    "    for i in range(2,vocab_size):\n",
    "        if idx_word[i] in word2vec:\n",
    "            embedding_matrix[i] = word2vec[idx_word[i]]\n",
    "            count += 1\n",
    "    print(f\"사전 학습에 사용 가능했던 단어 벡터 갯수 : {count}\")\n",
    "    return embedding_matrix"
   ]
  },
  {
   "cell_type": "markdown",
   "id": "suitable-technique",
   "metadata": {},
   "source": [
    "## 1. 데이터 파이프라인"
   ]
  },
  {
   "cell_type": "markdown",
   "id": "indoor-surgeon",
   "metadata": {},
   "source": [
    "데이터 로드  \n",
    "\n",
    "데이터 전처리\n",
    " - 기본 전처리\n",
    "    - 중복되는 데이터 제거\n",
    "    - 결측치 데이터 제거  \n",
    "    \n",
    "    \n",
    "  - 추가 전처리\n",
    "    - 텍스트 특수문자 전처리\n",
    "    - 이상치 데이터 제거\n",
    "    - 결측치 데이터 제거\n",
    "    \n",
    "데이터 벡터화\n",
    "\n",
    "    0. 형태소 분석기 (Mecab)  \n",
    "    1. SentencePiece (Uni-gram)  \n",
    "    2. SentencePiece (Byte-pair-encoding)\n",
    "    \n",
    "텐서플로우 데이터셋 변환    "
   ]
  },
  {
   "cell_type": "code",
   "execution_count": 25,
   "id": "trained-traveler",
   "metadata": {},
   "outputs": [],
   "source": [
    "class DataPipeline():\n",
    "\n",
    "    \n",
    "    def __init__(self, path_to_file, train_test):\n",
    "        self.path_to_file = path_to_file\n",
    "        self.train_test = train_test\n",
    "        # 데이터 불러오기\n",
    "        self.data = pd.read_csv(path_to_file, sep = \"\\t\")\n",
    "        \n",
    "        \n",
    "    # 데이터 전처리 적용\n",
    "    def preprocessing(self, add = False):\n",
    "        cp_data = self.data.copy()\n",
    "        self.add = add\n",
    "        # 중복 데이터 제거\n",
    "        cp_data = cp_data.drop_duplicates(\"document\")\n",
    "        cp_data = cp_data.reset_index()\n",
    "        \n",
    "        # 결측 데이터 제거\n",
    "        cp_data = cp_data.replace([\"\",'', \" \", ' '], np.nan)\n",
    "        cp_data = cp_data.dropna()\n",
    "        cp_data[\"len\"] = cp_data[\"document\"].apply(lambda x : len(x))\n",
    "        if add:\n",
    "            # 텍스트 전처리 함수 적용\n",
    "            cp_data[\"document\"] = cp_data[\"document\"].apply(lambda x: text_prep(x))\n",
    "            \n",
    "            # IQR 기준 이상치 제거 훈련 데이터셋 적용\n",
    "            data_Q3 = cp_data.describe().loc[\"75%\", \"len\"]\n",
    "            data_Q1 = cp_data.describe().loc[\"25%\", \"len\"]\n",
    "            data_IQR = data_Q3 - data_Q1\n",
    "            data_upper = data_Q3 + data_IQR\n",
    "            data_lower = data_IQR - data_Q1\n",
    "            cp_data = cp_data.loc[(cp_data[\"len\"] >= data_lower) & \n",
    "                                    (cp_data[\"len\"] <= data_upper), :]            \n",
    "\n",
    "            # 결측 데이터 제거\n",
    "            cp_data = cp_data.replace([\"\",'', \" \", ' '], np.nan)\n",
    "            cp_data = cp_data.dropna()\n",
    "            \n",
    "            self.cp_data = cp_data\n",
    "            return cp_data\n",
    "        else:\n",
    "            self.cp_data = cp_data\n",
    "            return cp_data\n",
    "        \n",
    "    \n",
    "    # 데이터 벡터화 적용 : Mecab, SentencePiece(BPE, Uni-gram)\n",
    "    def vectorization(self, vec_model, vocab_size):\n",
    "        \n",
    "        # Mecab 형태소 분석\n",
    "        if vec_model == 0: \n",
    "            # Mecab으로 형태소 단위로 분절\n",
    "            mecab = Mecab()\n",
    "            tqdm.pandas()\n",
    "            tokens = self.cp_data[\"document\"].progress_apply(lambda x: mecab.morphs(x))\n",
    "            # 빈도 기반 단어 사전 구축\n",
    "            num_dict = bin_dict(tokens)\n",
    "            word_to_index_dict, index_to_word_dict = word_index(num_dict, vocab_size)\n",
    "            tokens = tokenization(tokens, word_to_index_dict)\n",
    "            # 패딩\n",
    "            max_length = max(self.cp_data[\"len\"])\n",
    "            self.padd_token = pad_sequences(tokens, padding='post', maxlen = max_length, value = 0)\n",
    "            return self.padd_token, index_to_word_dict, word_to_index_dict\n",
    "\n",
    "        # SPM uni-gram\n",
    "        elif vec_model == 1:\n",
    "            model_type = \"unigram\"\n",
    "            s = SentencePiece(model_type, self.cp_data, vocab_size, self.add, self.train_test)\n",
    "            max_len = max(self.cp_data[\"len\"])\n",
    "            id_document = self.cp_data[\"document\"].apply(lambda x : s.EncodeAsIds(str(x)))\n",
    "            self.padd_token = pad_sequences(id_document, maxlen = max_len, padding = \"post\", value = 0)\n",
    "            return self.padd_token, s\n",
    "\n",
    "        # SPM bpe\n",
    "        elif vec_model == 2:\n",
    "            model_type = \"bpe\"\n",
    "            s = SentencePiece(model_type, self.cp_data, vocab_size, self.add, self.train_test)\n",
    "            max_len = max(self.cp_data[\"len\"])\n",
    "            id_document = self.cp_data[\"document\"].apply(lambda x : s.EncodeAsIds(str(x)))\n",
    "            self.padd_token = pad_sequences(id_document, maxlen = max_len, padding = \"post\", value = 0)\n",
    "            return self.padd_token, s\n",
    "    \n",
    "    \n",
    "    # 벡터화 적용된 데이터셋을 텐서플로우 데이터셋으로 변환\n",
    "    def tensorflow_dataset(self, batch_size, split = None):\n",
    "        x_data = self.padd_token\n",
    "        y_data = self.cp_data[\"label\"].to_numpy().reshape(-1, 1)\n",
    "        # 훈련 데이터셋은 다시 검증 데이터셋으로 분할\n",
    "        if split:\n",
    "            x_train, x_val, y_train, y_val = train_test_split(x_data, y_data, \n",
    "                                                              test_size = 0.2,\n",
    "                                                              random_state = 44)\n",
    "            tr_buffer = len(x_train)\n",
    "            tr_tf_data = tensorflow_dataset(x_train, y_train, tr_buffer, batch_size)\n",
    "            val_buffer = len(x_val)\n",
    "            val_tf_data = tensorflow_dataset(x_val, y_val, val_buffer, batch_size)\n",
    "            return tr_tf_data, val_tf_data\n",
    "        else:\n",
    "            da_buffer = len(x_data)\n",
    "            tf_data = tensorflow_dataset(x_data, y_data, da_buffer, batch_size)\n",
    "            return tf_data"
   ]
  },
  {
   "cell_type": "markdown",
   "id": "pacific-denmark",
   "metadata": {},
   "source": [
    "## 2. 모델 구축 파이프라인"
   ]
  },
  {
   "cell_type": "markdown",
   "id": "least-mainstream",
   "metadata": {},
   "source": [
    "### 2.1 BiLSTM 모델 기반 감성 분류 모델"
   ]
  },
  {
   "cell_type": "code",
   "execution_count": 31,
   "id": "narrative-balloon",
   "metadata": {},
   "outputs": [],
   "source": [
    "class NSMC_model(tf.keras.Model):\n",
    "    \n",
    "    def __init__(self, vocab_size, embedd_size, hidden_size, embedding_matrix = None):\n",
    "        super(NSMC_model, self).__init__()\n",
    "        # 사전학습 임베딩 벡터 존재시 사용\n",
    "        if type(embedding_matrix) == type(None):\n",
    "            self.embedding = tf.keras.layers.Embedding(input_dim = vocab_size,\n",
    "                                                       output_dim = embedd_size)\n",
    "        else:\n",
    "            self.embedding = tf.keras.layers.Embedding(input_dim = vocab_size,\n",
    "                                                       output_dim = embedd_size,\n",
    "                                                       trainable=True,\n",
    "                                                       embeddings_initializer = Constant(embedding_matrix))        \n",
    "\n",
    "        self.BiLSTM = tf.keras.layers.Bidirectional(tf.keras.layers.LSTM(units = hidden_size, return_sequences = True))\n",
    "        self.BN = tf.keras.layers.BatchNormalization()\n",
    "        self.dense = tf.keras.layers.Dense(16, activation = \"relu\")\n",
    "        self.out = tf.keras.layers.Dense(1, activation = \"sigmoid\")\n",
    "        \n",
    "    def call(self, x):\n",
    "        x = self.embedding(x)\n",
    "        x = self.BiLSTM(x)\n",
    "        x = self.BN(x)\n",
    "        x = self.dense(x)\n",
    "        x = self.out(x)\n",
    "        return x"
   ]
  },
  {
   "cell_type": "markdown",
   "id": "large-factor",
   "metadata": {},
   "source": [
    "## 3. 프로젝트 파이프라인"
   ]
  },
  {
   "cell_type": "code",
   "execution_count": 32,
   "id": "above-royal",
   "metadata": {},
   "outputs": [],
   "source": [
    "def ProjectPipelines(add, vectorization_type, word2vec, tr_path_to_file, te_path_to_file):\n",
    "    \n",
    "    # 형태소 분석기 (Mecab)\n",
    "    if vectorization_type == 0:\n",
    "        print(\"훈련 데이터 파이프라인 시작\")\n",
    "        # 훈련셋에 데이터 파이프라인 적용\n",
    "        train = DataPipeline(tr_path_to_file, \"train\")\n",
    "        pre_train = train.preprocessing(add = add)\n",
    "        vector_train, idx_word_train, word_idx_train = train.vectorization(vectorization_type, vocab_size)\n",
    "        tf_train, tf_val = train.tensorflow_dataset(batch_size, split = True)\n",
    "        print(\"훈련 데이터 파이프라인 종료\\n\")\n",
    "        \n",
    "        # 테스트셋 불러오기\n",
    "        print(\"테스트 데이터 파이프라인 시작\")\n",
    "        test = DataPipeline(te_path_to_file, \"test\")\n",
    "        pre_test = test.preprocessing(add = add)\n",
    "\n",
    "        # 훈련셋에서 만들어진 인덱스를 테스트셋에 적용\n",
    "        tqdm.pandas()\n",
    "        token_corpus_test = pre_test[\"document\"].progress_apply(lambda x: mecab.morphs(x))\n",
    "        idx_corpus_test = tokenization(token_corpus_test, word_idx_train)\n",
    "\n",
    "        # 패딩\n",
    "        max_length_test = max(pre_train[\"len\"])\n",
    "        padd_tokens_test = pad_sequences(idx_corpus_test, padding='post', maxlen = max_length_test, value = 0)\n",
    "\n",
    "        # 테스트셋을 텐서플로우 데이터셋으로 변환\n",
    "        x_test = padd_tokens_test\n",
    "        y_test = pre_test[\"label\"].to_numpy().reshape(-1,1)\n",
    "        buffer_size_test = len(pre_test)\n",
    "        tf_test = tensorflow_dataset(x_test, y_test, buffer_size_test, batch_size)\n",
    "        print(\"테스트 데이터 파이프라인 종료\")\n",
    "        \n",
    "    # SentencePiece (Uni-gram, BPE)\n",
    "    elif vectorization_type == 1 or vectorization_type == 2:\n",
    "        print(\"훈련 데이터 파이프라인 시작\")\n",
    "        # 훈련셋에 데이터 파이프라인 적용\n",
    "        train = DataPipeline(tr_path_to_file, \"train\")\n",
    "        pre_train = train.preprocessing(add = add)\n",
    "        vector_train, spm = train.vectorization(vectorization_type, vocab_size)\n",
    "        tf_train, tf_val = train.tensorflow_dataset(batch_size, split = True)\n",
    "        print(\"훈련 데이터 파이프라인 종료\\n\")\n",
    "        \n",
    "        print(\"테스트 데이터 파이프라인 시작\")\n",
    "        # 테스트셋 불러오기\n",
    "        test = DataPipeline(te_path_to_file, \"test\")\n",
    "        pre_test = test.preprocessing(add = add)\n",
    "        # 훈련셋에서 만들어진 인덱스를 테스트셋에 적용\n",
    "        tqdm.pandas()\n",
    "        token_corpus_test = pre_test[\"document\"].progress_apply(lambda x : spm.EncodeAsIds(str(x)))\n",
    "        max_length_test = max(pre_train[\"len\"])\n",
    "        padd_tokens_test = pad_sequences(token_corpus_test, maxlen = max_length_test, \n",
    "                                           padding = \"post\", value = 0)\n",
    "\n",
    "        # 테스트셋을 텐서플로우 데이터셋으로 변환\n",
    "        x_test = padd_tokens_test\n",
    "        y_test = pre_test[\"label\"].to_numpy().reshape(-1,1)\n",
    "        buffer_size_test = len(pre_test)\n",
    "        tf_test = tensorflow_dataset(x_test, y_test, buffer_size_test, batch_size)\n",
    "        print(\"테스트 데이터 파이프라인 종료\")\n",
    "\n",
    "    # Mecab + SentencePiece (3이면 uni-gram, 4이면 bpe)\n",
    "    elif vectorization_type == 3 or vectorization_type == 4:\n",
    "        \n",
    "        print(\"훈련 데이터 파이프라인 시작\")\n",
    "        # 훈련 데이터를 불러와서 전처리를 진행\n",
    "        train = DataPipeline(tr_path_to_file, \"train\")\n",
    "        pre_train = train.preprocessing(add = add)\n",
    "        # Mecab으로 형태소 단위로 나눈 뒤 다시 str으로 합쳐줌\n",
    "        tqdm.pandas()\n",
    "        pre_train[\"document\"] = pre_train[\"document\"].progress_apply(lambda x: \" \".join(mecab.morphs(x)))\n",
    "\n",
    "        # 3이면 uni-gram, 4이면 bpe 모델 선택\n",
    "        if vectorization_type == 3:\n",
    "            model_type = \"unigram\"\n",
    "        elif vectorization_type == 4:\n",
    "            model_type = \"bpe\"\n",
    "        spm = SentencePiece(model_type, pre_train, \n",
    "                              vocab_size, add,\n",
    "                              temp_file = f\"./model/02_SentencePiece/{model_type}_{vocab_size}_pre{add}_mecab_train.tmp\",\n",
    "                              train_test = \"train\")\n",
    "\n",
    "        # 추가 전처리까지 된 코퍼스 unigram 타입으로 벡터화\n",
    "        max_len = max(pre_train[\"len\"])\n",
    "        id_document = pre_train[\"document\"].apply(lambda x : spm.EncodeAsIds(str(x)))\n",
    "        padd_token = pad_sequences(id_document, maxlen = max_len, padding = \"post\")\n",
    "\n",
    "        # 텐서플로우 데이터셋으로 변환\n",
    "        x_data = padd_token\n",
    "        y_data = pre_train[\"label\"].to_numpy().reshape(-1, 1)\n",
    "        x_train, x_val, y_train, y_val = train_test_split(x_data, y_data, \n",
    "                                                                  test_size = 0.2,\n",
    "                                                                  random_state = 44)\n",
    "        tr_buffer = len(x_train)\n",
    "        tf_train = tensorflow_dataset(x_train, y_train, tr_buffer, batch_size)\n",
    "        val_buffer = len(x_val)\n",
    "        tf_val = tensorflow_dataset(x_val, y_val, val_buffer, batch_size)\n",
    "        print(\"훈련 데이터 파이프라인 종료\\n\")\n",
    "        \n",
    "        print(\"테스트 데이터 파이프라인 시작\")\n",
    "        # 테스트셋 불러오기\n",
    "        test = DataPipeline(te_path_to_file, \"test\")\n",
    "        pre_test = test.preprocessing(add = add)\n",
    "\n",
    "        # 훈련셋에서 만들어진 인덱스를 테스트셋에 적용\n",
    "        tqdm.pandas()\n",
    "        token_corpus_test = pre_test[\"document\"].progress_apply(lambda x : spm.EncodeAsIds(str(x)))\n",
    "        max_length_test = max(pre_train[\"len\"])\n",
    "        padd_tokens_test = pad_sequences(token_corpus_test, maxlen = max_length_test, \n",
    "                                           padding = \"post\", value = 0)\n",
    "\n",
    "        # 테스트셋을 텐서플로우 데이터셋으로 변환\n",
    "        x_test = padd_tokens_test\n",
    "        y_test = pre_test[\"label\"].to_numpy().reshape(-1,1)\n",
    "        buffer_size_test = len(pre_test)\n",
    "        tf_test = tensorflow_dataset(x_test, y_test, buffer_size_test, batch_size)    \n",
    "        print(\"테스트 데이터 파이프라인 종료\\n\")\n",
    "    \n",
    "    es = tf.keras.callbacks.EarlyStopping(monitor=\"val_loss\", patience = 2)\n",
    "    lr_reduce = tf.keras.callbacks.ReduceLROnPlateau(patience = 2)\n",
    "    # word2vec True면 사전학습된 임베딩 벡터로 전이학습\n",
    "    if word2vec:\n",
    "        # 사전학습된 임베딩 행렬을 불러옴\n",
    "        path = './model/ko.bin'\n",
    "        embedding_matrix = load_embedding_matrix(path, vocab_size, embedding_size, idx_word_train)\n",
    "        \n",
    "        # 서브클래스 모델 선언\n",
    "        model = NSMC_model(vocab_size, embedding_size, hidden_size, embedding_matrix)\n",
    "\n",
    "        # 모델 컴파일\n",
    "        model.compile(optimizer=\"adam\",\n",
    "                      loss = \"binary_crossentropy\",\n",
    "                      metrics = [\"accuracy\"])\n",
    "\n",
    "        # 모델 학습 시작\n",
    "        train_buffer_size = int(len(pre_train) * 0.8)\n",
    "        val_buffer_size = int(len(pre_train) * 0.2)\n",
    "        history = model.fit(tf_train, \n",
    "                            steps_per_epoch = train_buffer_size // batch_size,\n",
    "                            validation_data = tf_val,\n",
    "                            validation_steps = val_buffer_size // batch_size,\n",
    "                            epochs = epochs,\n",
    "                            callbacks = [es, lr_reduce])\n",
    "    # word2vec False이면 일반 BiLSTM 모델 학습\n",
    "    else:\n",
    "        # 서브클래스 모델 선언\n",
    "        model = NSMC_model(vocab_size, embedding_size, hidden_size)\n",
    "\n",
    "        # 모델 컴파일\n",
    "        model.compile(optimizer=\"adam\",\n",
    "                      loss = \"binary_crossentropy\",\n",
    "                      metrics = [\"accuracy\"])\n",
    "\n",
    "        # 모델 학습 시작\n",
    "        train_buffer_size = int(len(pre_train) * 0.8)\n",
    "        val_buffer_size = int(len(pre_train) * 0.2)\n",
    "        history = model.fit(tf_train, \n",
    "                            steps_per_epoch = train_buffer_size // batch_size,\n",
    "                            validation_data = tf_val,\n",
    "                            validation_steps = val_buffer_size // batch_size,\n",
    "                            epochs = epochs,\n",
    "                            callbacks = [es, lr_reduce])\n",
    "        \n",
    "        \n",
    "\n",
    "    # 모델 학습 추이 시각화\n",
    "    if vectorization_type == 0:\n",
    "        title = f\"Mecab / preprocessing {add} / word2vec {word2vec}\"\n",
    "    elif vectorization_type == 1:\n",
    "        title = f\"Unigram / preprocessing {add}\"\n",
    "    elif vectorization_type == 2:\n",
    "        title = f\"BPE / preprocessing {add}\"\n",
    "    elif vectorization_type == 3:\n",
    "        title = f\"Mecab + Uni-gram preprocessing / {add} model\"\n",
    "    elif vectorization_type == 4:\n",
    "        title = f\"Mecab + BPE preprocessing / {add} model\"\n",
    "    show_performance(history, title)\n",
    "\n",
    "    # 테스트셋으로 모델 검증\n",
    "    test_loss, test_acc = model.evaluate(tf_test, steps = buffer_size_test // batch_size)\n",
    "    print(f\"테스트셋 accuracy : {round(test_acc, 4) * 100}%\")\n",
    "    print(f\"테스트셋 loss : {test_loss}\")"
   ]
  },
  {
   "cell_type": "markdown",
   "id": "ordinary-printing",
   "metadata": {},
   "source": [
    "## 3. 성능 비교용"
   ]
  },
  {
   "cell_type": "markdown",
   "id": "delayed-ready",
   "metadata": {},
   "source": [
    "- 전처리 전 형태소 분석기 (Mecab)\n",
    "- 전처리 후 형태소 분석기 (Mecab)\n",
    "- 전처리 후 형태소 분석기 + 사전 학습된 임베딩 벡터 (전이학습)\n",
    "- 전처리 전 SentencePiece (uni-gram)\n",
    "- 전처리 전 SentencePiece (byte-pair-enocding)\n",
    "- 전처리 후 SentencePiece (uni-gram)\n",
    "- 전처리 후 SentencePiece (byte-pair-enocding)\n",
    "- 형태소 분석기 (Mecab) + SetencePiece (uni-gram)\n",
    "- 형태소 분석기 (Mecab) + SetencePiece (byte-pair-enocding)"
   ]
  },
  {
   "cell_type": "markdown",
   "id": "natural-reynolds",
   "metadata": {},
   "source": [
    "### 3.1 프로젝트 파이프라인 초기설정"
   ]
  },
  {
   "cell_type": "markdown",
   "id": "complete-insulin",
   "metadata": {},
   "source": [
    "벡터화 기법 선택 번호  \n",
    "    0. 형태소 분석기 (Mecab)  \n",
    "    1. SentencePiece (Uni-gram)  \n",
    "    2. SentencePiece (Byte-Pair-Encoding)  \n",
    "    3. Mecab + Uni-gram  \n",
    "    4. Mecab + Byte-Pair-Encoding"
   ]
  },
  {
   "cell_type": "code",
   "execution_count": 33,
   "id": "smooth-eating",
   "metadata": {},
   "outputs": [],
   "source": [
    "batch_size = 128\n",
    "epochs = 5\n",
    "vocab_size = 5000\n",
    "embedding_size = 200\n",
    "hidden_size = 32\n",
    "mecab = Mecab()\n",
    "\n",
    "tr_path_to_file = \"./nsmc_data/ratings_train.txt\" # 훈련 데이터 디렉토리\n",
    "te_path_to_file = \"./nsmc_data/ratings_test.txt\" # 테스트 데이터 디렉토리"
   ]
  },
  {
   "cell_type": "code",
   "execution_count": 34,
   "id": "another-injury",
   "metadata": {},
   "outputs": [
    {
     "name": "stdout",
     "output_type": "stream",
     "text": [
      "훈련 데이터 파이프라인 시작\n"
     ]
    },
    {
     "name": "stderr",
     "output_type": "stream",
     "text": [
      "100%|██████████| 146182/146182 [00:15<00:00, 9183.37it/s]\n",
      "100%|██████████| 146182/146182 [00:01<00:00, 131402.54it/s]\n",
      "  0%|          | 0/49157 [00:00<?, ?it/s]"
     ]
    },
    {
     "name": "stdout",
     "output_type": "stream",
     "text": [
      "훈련 데이터 파이프라인 종료\n",
      "\n",
      "테스트 데이터 파이프라인 시작\n"
     ]
    },
    {
     "name": "stderr",
     "output_type": "stream",
     "text": [
      "100%|██████████| 49157/49157 [00:05<00:00, 9088.88it/s]\n",
      "100%|██████████| 49157/49157 [00:00<00:00, 197186.14it/s]\n"
     ]
    },
    {
     "name": "stdout",
     "output_type": "stream",
     "text": [
      "테스트 데이터 파이프라인 종료\n"
     ]
    },
    {
     "name": "stderr",
     "output_type": "stream",
     "text": [
      "/opt/conda/lib/python3.7/site-packages/ipykernel_launcher.py:107: DeprecationWarning: Call to deprecated `__contains__` (Method will be removed in 4.0.0, use self.wv.__contains__() instead).\n",
      "/opt/conda/lib/python3.7/site-packages/ipykernel_launcher.py:108: DeprecationWarning: Call to deprecated `__getitem__` (Method will be removed in 4.0.0, use self.wv.__getitem__() instead).\n"
     ]
    },
    {
     "name": "stdout",
     "output_type": "stream",
     "text": [
      "사전 학습에 사용 가능했던 단어 벡터 갯수 : 3358\n",
      "Epoch 1/5\n",
      "913/913 [==============================] - 61s 62ms/step - loss: 0.5276 - accuracy: 0.7121 - val_loss: 0.3579 - val_accuracy: 0.8409\n",
      "Epoch 2/5\n",
      "913/913 [==============================] - 56s 61ms/step - loss: 0.3289 - accuracy: 0.8568 - val_loss: 0.3312 - val_accuracy: 0.8548\n",
      "Epoch 3/5\n",
      "913/913 [==============================] - 56s 61ms/step - loss: 0.2934 - accuracy: 0.8736 - val_loss: 0.3257 - val_accuracy: 0.8589\n",
      "Epoch 4/5\n",
      "913/913 [==============================] - 56s 62ms/step - loss: 0.2703 - accuracy: 0.8843 - val_loss: 0.3298 - val_accuracy: 0.8588\n",
      "Epoch 5/5\n",
      "913/913 [==============================] - 56s 61ms/step - loss: 0.2488 - accuracy: 0.8964 - val_loss: 0.3300 - val_accuracy: 0.8600\n"
     ]
    },
    {
     "data": {
      "image/png": "[encoded data removed]",
      "text/plain": [
       "<Figure size 432x288 with 1 Axes>"
      ]
     },
     "metadata": {
      "needs_background": "light"
     },
     "output_type": "display_data"
    },
    {
     "name": "stdout",
     "output_type": "stream",
     "text": [
      "384/384 [==============================] - 8s 21ms/step - loss: 0.3313 - accuracy: 0.8582\n",
      "테스트셋 accuracy : 85.82%\n",
      "테스트셋 loss : 0.33126357197761536\n"
     ]
    }
   ],
   "source": [
    "add = False # 추가 전처리 여부\n",
    "vectorization_type = 0 # 벡터화 기법 선택\n",
    "word2vec = True # word2vec 전이학습 여부\n",
    "\n",
    "ProjectPipelines(add, vectorization_type, word2vec, tr_path_to_file, te_path_to_file)"
   ]
  },
  {
   "cell_type": "markdown",
   "id": "compound-danger",
   "metadata": {},
   "source": [
    "### 3.1 전처리 전 형태소 분석기 (Mecab)"
   ]
  },
  {
   "cell_type": "code",
   "execution_count": null,
   "id": "intended-routine",
   "metadata": {},
   "outputs": [],
   "source": [
    "add = False # 추가 전처리 여부\n",
    "vectorization_type = 0 # 벡터화 기법 선택\n",
    "word2vec = False # word2vec 전이학습 여부\n",
    "\n",
    "ProjectPipelines(add, vectorization_type, word2vec, tr_path_to_file, te_path_to_file)"
   ]
  },
  {
   "cell_type": "markdown",
   "id": "medium-first",
   "metadata": {},
   "source": [
    "### 3.2 전처리 후 형태소 분석기 (Mecab)"
   ]
  },
  {
   "cell_type": "code",
   "execution_count": 126,
   "id": "behavioral-track",
   "metadata": {
    "scrolled": true
   },
   "outputs": [
    {
     "name": "stderr",
     "output_type": "stream",
     "text": [
      "100%|██████████| 117023/117023 [00:10<00:00, 10722.97it/s]\n",
      "100%|██████████| 117023/117023 [00:01<00:00, 99848.72it/s]\n",
      "100%|██████████| 39109/39109 [00:03<00:00, 10707.34it/s]\n",
      "100%|██████████| 39109/39109 [00:00<00:00, 211532.01it/s]\n"
     ]
    }
   ],
   "source": [
    "# 추가 전처리 여부\n",
    "add = True\n",
    "# 벡터화 기법 선택\n",
    "vectorization_type = 0\n",
    "\n",
    "# 훈련셋에 데이터 파이프라인 적용\n",
    "train02 = DataPipeline(tr_path_to_file, \"train\")\n",
    "non_pre_train02 = train02.preprocessing(add = add)\n",
    "vector_train02, idx_word_train02, word_idx_train02 = train02.vectorization(vectorization_type, vocab_size)\n",
    "tf_train02, tf_val02 = train02.tensorflow_dataset(batch_size, split = True)\n",
    "\n",
    "# 테스트셋 불러오기\n",
    "test02 = DataPipeline(te_path_to_file, \"test\")\n",
    "non_pre_test02 = test02.preprocessing(add = add)\n",
    "\n",
    "# 훈련셋에서 만들어진 인덱스를 테스트셋에 적용\n",
    "tqdm.pandas()\n",
    "token_corpus_test02 = non_pre_test02[\"document\"].progress_apply(lambda x: mecab.morphs(x))\n",
    "idx_corpus_test02 = tokenization(token_corpus_test02, word_idx_train02)\n",
    "\n",
    "# 패딩\n",
    "max_length_test02 = max(non_pre_train02[\"len\"])\n",
    "padd_tokens_test02 = pad_sequences(idx_corpus_test02, padding='post', maxlen = max_length_test02, value = 0)\n",
    "\n",
    "# 테스트셋을 텐서플로우 데이터셋으로 변환\n",
    "x_test02 = padd_tokens_test02\n",
    "y_test02 = non_pre_test02[\"label\"].to_numpy().reshape(-1,1)\n",
    "buffer_size_test02 = len(non_pre_test02)\n",
    "tf_test02 = tensorflow_dataset(x_test02, y_test02, buffer_size_test02, batch_size)"
   ]
  },
  {
   "cell_type": "code",
   "execution_count": 127,
   "id": "improved-monte",
   "metadata": {},
   "outputs": [
    {
     "name": "stdout",
     "output_type": "stream",
     "text": [
      "Epoch 1/5\n",
      "731/731 [==============================] - 31s 37ms/step - loss: 0.4567 - accuracy: 0.7695 - val_loss: 0.3558 - val_accuracy: 0.8414\n",
      "Epoch 2/5\n",
      "731/731 [==============================] - 26s 35ms/step - loss: 0.3292 - accuracy: 0.8536 - val_loss: 0.3426 - val_accuracy: 0.8467\n",
      "Epoch 3/5\n",
      "731/731 [==============================] - 26s 35ms/step - loss: 0.2829 - accuracy: 0.8758 - val_loss: 0.3391 - val_accuracy: 0.8533\n",
      "Epoch 4/5\n",
      "731/731 [==============================] - 26s 35ms/step - loss: 0.2550 - accuracy: 0.8904 - val_loss: 0.3492 - val_accuracy: 0.8505\n"
     ]
    },
    {
     "data": {
      "image/png": "[encoded data removed]",
      "text/plain": [
       "<Figure size 432x288 with 1 Axes>"
      ]
     },
     "metadata": {
      "needs_background": "light"
     },
     "output_type": "display_data"
    },
    {
     "name": "stdout",
     "output_type": "stream",
     "text": [
      "305/305 [==============================] - 4s 11ms/step - loss: 0.3555 - accuracy: 0.8463\n",
      "테스트셋 accuracy : 84.63000000000001%\n",
      "테스트셋 loss : 0.3554813861846924\n"
     ]
    }
   ],
   "source": [
    "# 서브클래스 모델 선언\n",
    "model = NSMC_model(vocab_size, embedding_size, hidden_size)\n",
    "\n",
    "# 모델 컴파일\n",
    "model.compile(optimizer=\"adam\",\n",
    "              loss = \"binary_crossentropy\",\n",
    "              metrics = [\"accuracy\"])\n",
    "\n",
    "# 모델 학습 시작\n",
    "train_buffer_size02 = int(len(vector_train02) * 0.8)\n",
    "val_buffer_size02 = int(len(vector_train02) * 0.2)\n",
    "history = model.fit(tf_train02, \n",
    "                    steps_per_epoch = train_buffer_size02 // batch_size,\n",
    "                    validation_data = tf_val02,\n",
    "                    validation_steps = val_buffer_size02 // batch_size,\n",
    "                    epochs = epochs,\n",
    "                    callbacks = [lr_reduce])\n",
    "\n",
    "# 모델 학습 추이 시각화\n",
    "if vectorization_type == 0:\n",
    "    title = f\"Mecab preprocessing {add} model\"\n",
    "elif vectorization_type == 1:\n",
    "    title = f\"Unigram preprocessing {add} model\"\n",
    "else:\n",
    "    title = f\"BPE preprocessing {add} model\"\n",
    "show_performance(history, title)\n",
    "\n",
    "# 테스트셋으로 모델 검증\n",
    "test_loss02, test_acc02 = model.evaluate(tf_test02, steps = buffer_size_test02 // batch_size)\n",
    "print(f\"테스트셋 accuracy : {round(test_acc02, 4) * 100}%\")\n",
    "print(f\"테스트셋 loss : {test_loss02}\")"
   ]
  },
  {
   "cell_type": "markdown",
   "id": "south-logging",
   "metadata": {},
   "source": [
    "### 3.3 전처리 후 형태소 분석기 + 사전 학습된 임베딩 벡터 (전이학습)"
   ]
  },
  {
   "cell_type": "code",
   "execution_count": 128,
   "id": "periodic-rehabilitation",
   "metadata": {},
   "outputs": [
    {
     "name": "stderr",
     "output_type": "stream",
     "text": [
      "100%|██████████| 117023/117023 [00:11<00:00, 9769.10it/s] \n",
      "100%|██████████| 117023/117023 [00:00<00:00, 259430.90it/s]\n",
      "100%|██████████| 39109/39109 [00:03<00:00, 10989.13it/s]\n",
      "100%|██████████| 39109/39109 [00:00<00:00, 205701.52it/s]\n"
     ]
    }
   ],
   "source": [
    "# 추가 전처리 여부\n",
    "add = True\n",
    "# 벡터화 기법 선택\n",
    "vectorization_type = 0\n",
    "\n",
    "# 훈련셋에 데이터 파이프라인 적용\n",
    "train03 = DataPipeline(tr_path_to_file, \"train\")\n",
    "non_pre_train03 = train03.preprocessing(add = add)\n",
    "vector_train03, idx_word_train03, word_idx_train03 = train03.vectorization(vectorization_type, vocab_size)\n",
    "tf_train03, tf_val03 = train03.tensorflow_dataset(batch_size, split = True)\n",
    "\n",
    "# 테스트셋 불러오기\n",
    "test03 = DataPipeline(te_path_to_file, \"test\")\n",
    "non_pre_test03 = test03.preprocessing(add = add)\n",
    "\n",
    "# 훈련셋에서 만들어진 인덱스를 테스트셋에 적용\n",
    "tqdm.pandas()\n",
    "token_corpus_test03 = non_pre_test03[\"document\"].progress_apply(lambda x: mecab.morphs(x))\n",
    "idx_corpus_test03 = tokenization(token_corpus_test03, word_idx_train03)\n",
    "\n",
    "# 패딩\n",
    "max_length_test03 = max(non_pre_train03[\"len\"])\n",
    "padd_tokens_test03 = pad_sequences(idx_corpus_test03, padding='post', maxlen = max_length_test03, value = 0)\n",
    "\n",
    "# 테스트셋을 텐서플로우 데이터셋으로 변환\n",
    "x_test03 = padd_tokens_test03\n",
    "y_test03 = non_pre_test03[\"label\"].to_numpy().reshape(-1,1)\n",
    "buffer_size_test03 = len(non_pre_test03)\n",
    "tf_test03 = tensorflow_dataset(x_test03, y_test03, buffer_size_test03, batch_size)"
   ]
  },
  {
   "cell_type": "code",
   "execution_count": 129,
   "id": "honey-carry",
   "metadata": {},
   "outputs": [
    {
     "name": "stdout",
     "output_type": "stream",
     "text": [
      "사전 학습에 사용 가능했던 단어 벡터 갯수 : 3361\n"
     ]
    },
    {
     "name": "stderr",
     "output_type": "stream",
     "text": [
      "/opt/conda/lib/python3.7/site-packages/ipykernel_launcher.py:8: DeprecationWarning: Call to deprecated `__contains__` (Method will be removed in 4.0.0, use self.wv.__contains__() instead).\n",
      "  \n",
      "/opt/conda/lib/python3.7/site-packages/ipykernel_launcher.py:9: DeprecationWarning: Call to deprecated `__getitem__` (Method will be removed in 4.0.0, use self.wv.__getitem__() instead).\n",
      "  if __name__ == '__main__':\n"
     ]
    }
   ],
   "source": [
    "word2vec_path = './model/ko.bin'\n",
    "word2vec = gensim.models.Word2Vec.load(word2vec_path)\n",
    "\n",
    "embedding_matrix = np.random.rand(vocab_size, embedding_size)\n",
    "count = 0\n",
    "# embedding_matrix에 Word2Vec 워드 벡터를 단어 하나씩마다 차례차례 카피한다.\n",
    "for i in range(2,vocab_size):\n",
    "    if idx_word_test03[i] in word2vec:\n",
    "        embedding_matrix[i] = word2vec[idx_word_test03[i]]\n",
    "        count += 1\n",
    "print(f\"사전 학습에 사용 가능했던 단어 벡터 갯수 : {count}\")"
   ]
  },
  {
   "cell_type": "code",
   "execution_count": 130,
   "id": "cutting-correction",
   "metadata": {},
   "outputs": [
    {
     "name": "stdout",
     "output_type": "stream",
     "text": [
      "Epoch 1/5\n",
      "731/731 [==============================] - 31s 37ms/step - loss: 0.5529 - accuracy: 0.6900 - val_loss: 0.3819 - val_accuracy: 0.8236\n",
      "Epoch 2/5\n",
      "731/731 [==============================] - 26s 36ms/step - loss: 0.3541 - accuracy: 0.8418 - val_loss: 0.3560 - val_accuracy: 0.8414\n",
      "Epoch 3/5\n",
      "731/731 [==============================] - 27s 37ms/step - loss: 0.3116 - accuracy: 0.8648 - val_loss: 0.3534 - val_accuracy: 0.8427\n",
      "Epoch 4/5\n",
      "731/731 [==============================] - 26s 36ms/step - loss: 0.2889 - accuracy: 0.8748 - val_loss: 0.3497 - val_accuracy: 0.8476\n",
      "Epoch 5/5\n",
      "731/731 [==============================] - 26s 35ms/step - loss: 0.2666 - accuracy: 0.8865 - val_loss: 0.3549 - val_accuracy: 0.8468\n"
     ]
    },
    {
     "data": {
      "image/png": "[encoded data removed]",
      "text/plain": [
       "<Figure size 432x288 with 1 Axes>"
      ]
     },
     "metadata": {
      "needs_background": "light"
     },
     "output_type": "display_data"
    },
    {
     "name": "stdout",
     "output_type": "stream",
     "text": [
      "305/305 [==============================] - 4s 11ms/step - loss: 0.3607 - accuracy: 0.8461\n",
      "테스트셋 accuracy : 84.61%\n",
      "테스트셋 loss : 0.3607354462146759\n"
     ]
    }
   ],
   "source": [
    "# 서브클래스 모델 선언\n",
    "model = NSMC_word2vec_model(vocab_size, embedding_size, hidden_size, embedding_matrix)\n",
    "\n",
    "# 모델 컴파일\n",
    "model.compile(optimizer=\"adam\",\n",
    "              loss = \"binary_crossentropy\",\n",
    "              metrics = [\"accuracy\"])\n",
    "\n",
    "# 모델 학습 시작\n",
    "train_buffer_size03 = int(len(vector_train03) * 0.8)\n",
    "val_buffer_size03 = int(len(vector_train03) * 0.2)\n",
    "history = model.fit(tf_train03, \n",
    "                    steps_per_epoch = train_buffer_size03 // batch_size,\n",
    "                    validation_data = tf_val03,\n",
    "                    validation_steps = val_buffer_size03 // batch_size,\n",
    "                    epochs = epochs,\n",
    "                    callbacks = [lr_reduce])\n",
    "\n",
    "# 모델 학습 추이 시각화\n",
    "if vectorization_type == 0:\n",
    "    title = f\"Mecab preprocessing {add} model word2vec transfer\"\n",
    "elif vectorization_type == 1:\n",
    "    title = f\"Unigram preprocessing {add} model\"\n",
    "else:\n",
    "    title = f\"BPE preprocessing {add} model\"\n",
    "show_performance(history, title)\n",
    "\n",
    "# 테스트셋으로 모델 검증\n",
    "test_loss03, test_acc03 = model.evaluate(tf_test03, steps = buffer_size_test03 // batch_size)\n",
    "print(f\"테스트셋 accuracy : {round(test_acc03, 4) * 100}%\")\n",
    "print(f\"테스트셋 loss : {test_loss03}\")"
   ]
  },
  {
   "cell_type": "markdown",
   "id": "acknowledged-account",
   "metadata": {},
   "source": [
    "### 3.4 전처리 전 SentencePiece (uni-gram)"
   ]
  },
  {
   "cell_type": "code",
   "execution_count": 141,
   "id": "desirable-february",
   "metadata": {},
   "outputs": [
    {
     "name": "stderr",
     "output_type": "stream",
     "text": [
      "100%|██████████| 49157/49157 [00:01<00:00, 43149.15it/s]\n"
     ]
    }
   ],
   "source": [
    "# 추가 전처리 여부\n",
    "add = False\n",
    "# 벡터화 기법 선택\n",
    "vectorization_type = 1\n",
    "\n",
    "# 훈련셋에 데이터 파이프라인 적용\n",
    "train04 = DataPipeline(tr_path_to_file, \"train\")\n",
    "non_pre_train04 = train04.preprocessing(add = add)\n",
    "vector_train04, spm04 = train04.vectorization(vectorization_type, vocab_size)\n",
    "tf_train04, tf_val04 = train04.tensorflow_dataset(batch_size, split = True)\n",
    "\n",
    "# 테스트셋 불러오기\n",
    "test04 = DataPipeline(te_path_to_file, \"test\")\n",
    "non_pre_test04 = test04.preprocessing(add = add)\n",
    "\n",
    "# 훈련셋에서 만들어진 인덱스를 테스트셋에 적용\n",
    "tqdm.pandas()\n",
    "token_corpus_test04 = non_pre_test04[\"document\"].progress_apply(lambda x : spm04.EncodeAsIds(str(x)))\n",
    "max_length_test04 = max(non_pre_train04[\"len\"])\n",
    "padd_tokens_test04 = pad_sequences(token_corpus_test04, maxlen = max_length_test04, \n",
    "                                   padding = \"post\", value = 0)\n",
    "\n",
    "# 테스트셋을 텐서플로우 데이터셋으로 변환\n",
    "x_test04 = padd_tokens_test04\n",
    "y_test04 = non_pre_test04[\"label\"].to_numpy().reshape(-1,1)\n",
    "buffer_size_test04 = len(non_pre_test04)\n",
    "tf_test04 = tensorflow_dataset(x_test04, y_test04, buffer_size_test04, batch_size)"
   ]
  },
  {
   "cell_type": "code",
   "execution_count": 142,
   "id": "wooden-technique",
   "metadata": {},
   "outputs": [
    {
     "name": "stdout",
     "output_type": "stream",
     "text": [
      "Epoch 1/5\n",
      "913/913 [==============================] - 63s 65ms/step - loss: 0.4701 - accuracy: 0.7529 - val_loss: 0.3701 - val_accuracy: 0.8361\n",
      "Epoch 2/5\n",
      "913/913 [==============================] - 58s 64ms/step - loss: 0.3274 - accuracy: 0.8556 - val_loss: 0.3746 - val_accuracy: 0.8420\n"
     ]
    },
    {
     "data": {
      "image/png": "[encoded data removed]",
      "text/plain": [
       "<Figure size 432x288 with 1 Axes>"
      ]
     },
     "metadata": {
      "needs_background": "light"
     },
     "output_type": "display_data"
    },
    {
     "name": "stdout",
     "output_type": "stream",
     "text": [
      "384/384 [==============================] - 8s 21ms/step - loss: 0.3823 - accuracy: 0.8381\n",
      "테스트셋 accuracy : 83.81%\n",
      "테스트셋 loss : 0.38232171535491943\n"
     ]
    }
   ],
   "source": [
    "# 서브클래스 모델 선언\n",
    "model = NSMC_model(vocab_size, embedding_size, hidden_size)\n",
    "\n",
    "# 모델 컴파일\n",
    "model.compile(optimizer=\"adam\",\n",
    "              loss = \"binary_crossentropy\",\n",
    "              metrics = [\"accuracy\"])\n",
    "\n",
    "# 모델 학습 시작\n",
    "train_buffer_size04 = int(len(vector_train04) * 0.8)\n",
    "val_buffer_size04 = int(len(vector_train04) * 0.2)\n",
    "history = model.fit(tf_train04, \n",
    "                    steps_per_epoch = train_buffer_size04 // batch_size,\n",
    "                    validation_data = tf_val04,\n",
    "                    validation_steps = val_buffer_size04 // batch_size,\n",
    "                    epochs = epochs,\n",
    "                    callbacks = [lr_reduce])\n",
    "\n",
    "# 모델 학습 추이 시각화\n",
    "if vectorization_type == 0:\n",
    "    title = f\"Mecab preprocessing {add} model word2vec transfer\"\n",
    "elif vectorization_type == 1:\n",
    "    title = f\"Unigram preprocessing {add} model\"\n",
    "else:\n",
    "    title = f\"BPE preprocessing {add} model\"\n",
    "show_performance(history, title)\n",
    "\n",
    "# 테스트셋으로 모델 검증\n",
    "test_loss04, test_acc04 = model.evaluate(tf_test04, steps = buffer_size_test04 // batch_size)\n",
    "print(f\"테스트셋 accuracy : {round(test_acc04, 4) * 100}%\")\n",
    "print(f\"테스트셋 loss : {test_loss04}\")"
   ]
  },
  {
   "cell_type": "markdown",
   "id": "egyptian-marijuana",
   "metadata": {},
   "source": [
    "### 3.5 전처리 전 SentencePiece (byte-pair-enocding)"
   ]
  },
  {
   "cell_type": "code",
   "execution_count": 138,
   "id": "collaborative-blood",
   "metadata": {},
   "outputs": [
    {
     "name": "stderr",
     "output_type": "stream",
     "text": [
      "100%|██████████| 49157/49157 [00:01<00:00, 28463.64it/s]\n"
     ]
    }
   ],
   "source": [
    "# 추가 전처리 여부\n",
    "add = False\n",
    "# 벡터화 기법 선택\n",
    "vectorization_type = 2\n",
    "\n",
    "# 훈련셋에 데이터 파이프라인 적용\n",
    "train05 = DataPipeline(tr_path_to_file, \"train\")\n",
    "non_pre_train05 = train05.preprocessing(add = add)\n",
    "vector_train05, spm05 = train05.vectorization(vectorization_type, vocab_size)\n",
    "tf_train05, tf_val05 = train05.tensorflow_dataset(batch_size, split = True)\n",
    "\n",
    "# 테스트셋 불러오기\n",
    "test05 = DataPipeline(te_path_to_file, \"test\")\n",
    "non_pre_test05 = test05.preprocessing(add = add)\n",
    "\n",
    "# 훈련셋에서 만들어진 인덱스를 테스트셋에 적용\n",
    "tqdm.pandas()\n",
    "token_corpus_test05 = non_pre_test05[\"document\"].progress_apply(lambda x : spm05.EncodeAsIds(str(x)))\n",
    "max_length_test05 = max(non_pre_train05[\"len\"])\n",
    "padd_tokens_test05 = pad_sequences(token_corpus_test05, maxlen = max_length_test05, \n",
    "                                   padding = \"post\", value = 0)\n",
    "\n",
    "# 테스트셋을 텐서플로우 데이터셋으로 변환\n",
    "x_test05 = padd_tokens_test05\n",
    "y_test05 = non_pre_test05[\"label\"].to_numpy().reshape(-1,1)\n",
    "buffer_size_test05 = len(non_pre_test05)\n",
    "tf_test05 = tensorflow_dataset(x_test05, y_test05, buffer_size_test05, batch_size)"
   ]
  },
  {
   "cell_type": "code",
   "execution_count": 139,
   "id": "extreme-harvest",
   "metadata": {},
   "outputs": [
    {
     "name": "stdout",
     "output_type": "stream",
     "text": [
      "Epoch 1/5\n",
      "913/913 [==============================] - 62s 64ms/step - loss: 0.5871 - accuracy: 0.6452 - val_loss: 0.4162 - val_accuracy: 0.8108\n",
      "Epoch 2/5\n",
      "913/913 [==============================] - 58s 63ms/step - loss: 0.3482 - accuracy: 0.8465 - val_loss: 0.4007 - val_accuracy: 0.8199\n",
      "Epoch 3/5\n",
      "913/913 [==============================] - 58s 63ms/step - loss: 0.3091 - accuracy: 0.8666 - val_loss: 0.3583 - val_accuracy: 0.8450\n",
      "Epoch 4/5\n",
      "913/913 [==============================] - 58s 63ms/step - loss: 0.2840 - accuracy: 0.8784 - val_loss: 0.3649 - val_accuracy: 0.8417\n"
     ]
    },
    {
     "data": {
      "image/png": "[encoded data removed]",
      "text/plain": [
       "<Figure size 432x288 with 1 Axes>"
      ]
     },
     "metadata": {
      "needs_background": "light"
     },
     "output_type": "display_data"
    },
    {
     "name": "stdout",
     "output_type": "stream",
     "text": [
      "384/384 [==============================] - 8s 21ms/step - loss: 0.3687 - accuracy: 0.8401\n",
      "테스트셋 accuracy : 84.00999999999999%\n",
      "테스트셋 loss : 0.3686870038509369\n"
     ]
    }
   ],
   "source": [
    "# 서브클래스 모델 선언\n",
    "model = NSMC_model(vocab_size, embedding_size, hidden_size)\n",
    "\n",
    "# 모델 컴파일\n",
    "model.compile(optimizer=\"adam\",\n",
    "              loss = \"binary_crossentropy\",\n",
    "              metrics = [\"accuracy\"])\n",
    "\n",
    "# 모델 학습 시작\n",
    "train_buffer_size05 = int(len(vector_train05) * 0.8)\n",
    "val_buffer_size05 = int(len(vector_train05) * 0.2)\n",
    "history = model.fit(tf_train05, \n",
    "                    steps_per_epoch = train_buffer_size05 // batch_size,\n",
    "                    validation_data = tf_val05,\n",
    "                    validation_steps = val_buffer_size05 // batch_size,\n",
    "                    epochs = epochs,\n",
    "                    callbacks = [lr_reduce])\n",
    "\n",
    "# 모델 학습 추이 시각화\n",
    "if vectorization_type == 0:\n",
    "    title = f\"Mecab preprocessing {add} model word2vec transfer\"\n",
    "elif vectorization_type == 1:\n",
    "    title = f\"Unigram preprocessing {add} model\"\n",
    "else:\n",
    "    title = f\"BPE preprocessing {add} model\"\n",
    "show_performance(history, title)\n",
    "\n",
    "# 테스트셋으로 모델 검증\n",
    "test_loss05, test_acc05 = model.evaluate(tf_test05, steps = buffer_size_test05 // batch_size)\n",
    "print(f\"테스트셋 accuracy : {round(test_acc05, 4) * 100}%\")\n",
    "print(f\"테스트셋 loss : {test_loss05}\")"
   ]
  },
  {
   "cell_type": "markdown",
   "id": "vertical-nickel",
   "metadata": {},
   "source": [
    "### 3.6 전처리 후 SentencePiece (uni-gram)"
   ]
  },
  {
   "cell_type": "code",
   "execution_count": 140,
   "id": "piano-chapel",
   "metadata": {},
   "outputs": [
    {
     "name": "stderr",
     "output_type": "stream",
     "text": [
      "100%|██████████| 39109/39109 [00:00<00:00, 51728.90it/s]\n"
     ]
    }
   ],
   "source": [
    "# 추가 전처리 여부\n",
    "add = True\n",
    "# 벡터화 기법 선택\n",
    "vectorization_type = 1\n",
    "\n",
    "# 훈련셋에 데이터 파이프라인 적용\n",
    "train06 = DataPipeline(tr_path_to_file, \"train\")\n",
    "non_pre_train06 = train06.preprocessing(add = add)\n",
    "vector_train06, spm06 = train06.vectorization(vectorization_type, vocab_size)\n",
    "tf_train06, tf_val06 = train06.tensorflow_dataset(batch_size, split = True)\n",
    "\n",
    "# 테스트셋 불러오기\n",
    "test06 = DataPipeline(te_path_to_file, \"test\")\n",
    "non_pre_test06 = test06.preprocessing(add = add)\n",
    "\n",
    "# 훈련셋에서 만들어진 인덱스를 테스트셋에 적용\n",
    "tqdm.pandas()\n",
    "token_corpus_test06 = non_pre_test06[\"document\"].progress_apply(lambda x : spm06.EncodeAsIds(str(x)))\n",
    "max_length_test06 = max(non_pre_train06[\"len\"])\n",
    "padd_tokens_test06 = pad_sequences(token_corpus_test06, maxlen = max_length_test06, \n",
    "                                   padding = \"post\", value = 0)\n",
    "\n",
    "# 테스트셋을 텐서플로우 데이터셋으로 변환\n",
    "x_test06 = padd_tokens_test06\n",
    "y_test06 = non_pre_test06[\"label\"].to_numpy().reshape(-1,1)\n",
    "buffer_size_test06 = len(non_pre_test06)\n",
    "tf_test06 = tensorflow_dataset(x_test06, y_test06, buffer_size_test06, batch_size)"
   ]
  },
  {
   "cell_type": "code",
   "execution_count": null,
   "id": "blank-enough",
   "metadata": {},
   "outputs": [],
   "source": [
    "# 서브클래스 모델 선언\n",
    "model = NSMC_model(vocab_size, embedding_size, hidden_size)\n",
    "\n",
    "# 모델 컴파일\n",
    "model.compile(optimizer=\"adam\",\n",
    "              loss = \"binary_crossentropy\",\n",
    "              metrics = [\"accuracy\"])\n",
    "\n",
    "# 모델 학습 시작\n",
    "train_buffer_size06 = int(len(vector_train06) * 0.8)\n",
    "val_buffer_size06 = int(len(vector_train06) * 0.2)\n",
    "history = model.fit(tf_train06, \n",
    "                    steps_per_epoch = train_buffer_size06 // batch_size,\n",
    "                    validation_data = tf_val06,\n",
    "                    validation_steps = val_buffer_size06 // batch_size,\n",
    "                    epochs = epochs,\n",
    "                    callbacks = [lr_reduce])\n",
    "\n",
    "# 모델 학습 추이 시각화\n",
    "if vectorization_type == 0:\n",
    "    title = f\"Mecab preprocessing {add} model\"\n",
    "elif vectorization_type == 1:\n",
    "    title = f\"Unigram preprocessing {add} model\"\n",
    "else:\n",
    "    title = f\"BPE preprocessing {add} model\"\n",
    "show_performance(history, title)\n",
    "\n",
    "# 테스트셋으로 모델 검증\n",
    "test_loss06, test_acc06 = model.evaluate(tf_test06, steps = buffer_size_test06 // batch_size)\n",
    "print(f\"테스트셋 accuracy : {round(test_acc06, 4) * 100}%\")\n",
    "print(f\"테스트셋 loss : {test_loss06}\")"
   ]
  },
  {
   "cell_type": "markdown",
   "id": "presidential-austria",
   "metadata": {},
   "source": [
    "### 3.7 전처리 후 SentencePiece (byte-pair-enocding)"
   ]
  },
  {
   "cell_type": "code",
   "execution_count": 49,
   "id": "english-printing",
   "metadata": {},
   "outputs": [],
   "source": [
    "# 추가 전처리 여부\n",
    "add = True\n",
    "# 벡터화 기법 선택\n",
    "vectorization_type = 2\n",
    "\n",
    "# 훈련셋에 데이터 파이프라인 적용\n",
    "train07 = DataPipeline(tr_path_to_file, \"train\")\n",
    "non_pre_train07 = train07.preprocessing(add = add)\n",
    "vector_train07, spm07 = train07.vectorization(vectorization_type, vocab_size)\n",
    "tf_train07, tf_val07 = train07.tensorflow_dataset(batch_size, split = True)\n",
    "\n",
    "# 테스트셋 불러오기\n",
    "test07 = DataPipeline(te_path_to_file, \"test\")\n",
    "non_pre_test07 = test07.preprocessing(add = add)\n",
    "\n",
    "# 훈련셋에서 만들어진 인덱스를 테스트셋에 적용\n",
    "tqdm.pandas()\n",
    "token_corpus_test07 = non_pre_test07[\"document\"].progress_apply(lambda x : spm07.EncodeAsIds(str(x)))\n",
    "max_length_test07 = max(non_pre_train07[\"len\"])\n",
    "padd_tokens_test07 = pad_sequences(token_corpus_test07, maxlen = max_length_test07, \n",
    "                                   padding = \"post\", value = 0)\n",
    "\n",
    "# 테스트셋을 텐서플로우 데이터셋으로 변환\n",
    "x_test07 = padd_tokens_test07\n",
    "y_test07 = non_pre_test07[\"label\"].to_numpy().reshape(-1,1)\n",
    "buffer_size_test07 = len(non_pre_test07)\n",
    "tf_test07 = tensorflow_dataset(x_test07, y_test07, buffer_size_test07, batch_size)"
   ]
  },
  {
   "cell_type": "code",
   "execution_count": null,
   "id": "resident-plymouth",
   "metadata": {},
   "outputs": [],
   "source": [
    "# 서브클래스 모델 선언\n",
    "model = NSMC_model(vocab_size, embedding_size, hidden_size)\n",
    "\n",
    "# 모델 컴파일\n",
    "model.compile(optimizer=\"adam\",\n",
    "              loss = \"binary_crossentropy\",\n",
    "              metrics = [\"accuracy\"])\n",
    "\n",
    "# 모델 학습 시작\n",
    "train_buffer_size07 = int(len(vector_train07) * 0.8)\n",
    "val_buffer_size07 = int(len(vector_train07) * 0.2)\n",
    "history = model.fit(tf_train07, \n",
    "                    steps_per_epoch = train_buffer_size07 // batch_size,\n",
    "                    validation_data = tf_val07,\n",
    "                    validation_steps = val_buffer_size07 // batch_size,\n",
    "                    epochs = epochs,\n",
    "                    callbacks = [lr_reduce])\n",
    "\n",
    "# 모델 학습 추이 시각화\n",
    "if vectorization_type == 0:\n",
    "    title = f\"Mecab preprocessing {add} model\"\n",
    "elif vectorization_type == 1:\n",
    "    title = f\"Unigram preprocessing {add} model\"\n",
    "else:\n",
    "    title = f\"BPE preprocessing {add} model\"\n",
    "show_performance(history, title)\n",
    "\n",
    "# 테스트셋으로 모델 검증\n",
    "test_loss07, test_acc07 = model.evaluate(tf_test07, steps = buffer_size_test07 // batch_size)\n",
    "print(f\"테스트셋 accuracy : {round(test_acc07, 4) * 100}%\")\n",
    "print(f\"테스트셋 loss : {test_loss07}\")"
   ]
  },
  {
   "cell_type": "markdown",
   "id": "artificial-junior",
   "metadata": {},
   "source": [
    "### 3.8 전처리 후 형태소 분석기 (Mecab) + SetencePiece (uni-gram)"
   ]
  },
  {
   "cell_type": "code",
   "execution_count": 151,
   "id": "novel-scoop",
   "metadata": {},
   "outputs": [
    {
     "name": "stderr",
     "output_type": "stream",
     "text": [
      "100%|██████████| 117023/117023 [00:10<00:00, 11239.94it/s]\n",
      "100%|██████████| 39109/39109 [00:00<00:00, 47344.23it/s]\n"
     ]
    }
   ],
   "source": [
    "# 데이터 블러오고 추가 전처리까지 진행\n",
    "add = True\n",
    "train08 = DataPipeline(tr_path_to_file, \"train\")\n",
    "pre_train08 = train08.preprocessing(add = add)\n",
    "# Mecab으로 형태소 단위로 나눈 뒤 다시 str으로 합쳐줌\n",
    "tqdm.pandas()\n",
    "pre_train08[\"document\"] = pre_train08[\"document\"].progress_apply(lambda x: \" \".join(mecab.morphs(x)))\n",
    "\n",
    "# spm 모델 unigram으로 생성\n",
    "model_type = \"unigram\"\n",
    "spm08 = SentencePiece(model_type, pre_train08, \n",
    "                      vocab_size, add,\n",
    "                      temp_file = f\"./model/02_SentencePiece/{model_type}_{vocab_size}_pre{add}_mecab_train.tmp\",\n",
    "                      train_test = \"train\")\n",
    "\n",
    "# 추가 전처리까지 된 코퍼스 unigram 타입으로 벡터화\n",
    "max_len08 = max(pre_train08[\"len\"])\n",
    "id_document08 = pre_train08[\"document\"].apply(lambda x : spm08.EncodeAsIds(str(x)))\n",
    "padd_token08 = pad_sequences(id_document08, maxlen = max_len, padding = \"post\")\n",
    "\n",
    "# 텐서플로우 데이터셋으로 변환\n",
    "x_data08 = padd_token08\n",
    "y_data08 = pre_train08[\"label\"].to_numpy().reshape(-1, 1)\n",
    "x_train08, x_val08, y_train08, y_val08 = train_test_split(x_data08, y_data08, \n",
    "                                                          test_size = 0.2,\n",
    "                                                          random_state = 44)\n",
    "tr_buffer08 = len(x_train08)\n",
    "tf_train08 = tensorflow_dataset(x_train08, y_train08, tr_buffer08, batch_size)\n",
    "val_buffer08 = len(x_val08)\n",
    "tf_val08 = tensorflow_dataset(x_val08, y_val08, val_buffer08, batch_size)\n",
    "\n",
    "# 테스트셋 불러오기\n",
    "test08 = DataPipeline(te_path_to_file, \"test\")\n",
    "pre_test08 = test08.preprocessing(add = add)\n",
    "\n",
    "# 훈련셋에서 만들어진 인덱스를 테스트셋에 적용\n",
    "tqdm.pandas()\n",
    "token_corpus_test08 = pre_test08[\"document\"].progress_apply(lambda x : spm08.EncodeAsIds(str(x)))\n",
    "max_length_test08 = max(pre_train08[\"len\"])\n",
    "padd_tokens_test08 = pad_sequences(token_corpus_test08, maxlen = max_length_test08, \n",
    "                                   padding = \"post\", value = 0)\n",
    "\n",
    "# 테스트셋을 텐서플로우 데이터셋으로 변환\n",
    "x_test08 = padd_tokens_test08\n",
    "y_test08 = pre_test08[\"label\"].to_numpy().reshape(-1,1)\n",
    "buffer_size_test08 = len(pre_test08)\n",
    "tf_test08 = tensorflow_dataset(x_test08, y_test08, buffer_size_test08, batch_size)"
   ]
  },
  {
   "cell_type": "code",
   "execution_count": 152,
   "id": "demonstrated-classics",
   "metadata": {},
   "outputs": [
    {
     "name": "stdout",
     "output_type": "stream",
     "text": [
      "Epoch 1/5\n",
      "731/731 [==============================] - 30s 36ms/step - loss: 0.4793 - accuracy: 0.7478 - val_loss: 0.3675 - val_accuracy: 0.8368\n",
      "Epoch 2/5\n",
      "731/731 [==============================] - 26s 35ms/step - loss: 0.3308 - accuracy: 0.8535 - val_loss: 0.3460 - val_accuracy: 0.8447\n",
      "Epoch 3/5\n",
      "731/731 [==============================] - 26s 35ms/step - loss: 0.2934 - accuracy: 0.8726 - val_loss: 0.3432 - val_accuracy: 0.8487\n",
      "Epoch 4/5\n",
      "731/731 [==============================] - 26s 35ms/step - loss: 0.2599 - accuracy: 0.8881 - val_loss: 0.3877 - val_accuracy: 0.8455\n",
      "Epoch 5/5\n",
      "731/731 [==============================] - 26s 35ms/step - loss: 0.2172 - accuracy: 0.9110 - val_loss: 0.3877 - val_accuracy: 0.8486\n"
     ]
    },
    {
     "data": {
      "image/png": "[encoded data removed]",
      "text/plain": [
       "<Figure size 432x288 with 1 Axes>"
      ]
     },
     "metadata": {
      "needs_background": "light"
     },
     "output_type": "display_data"
    },
    {
     "name": "stdout",
     "output_type": "stream",
     "text": [
      "305/305 [==============================] - 4s 11ms/step - loss: 0.5416 - accuracy: 0.7922\n",
      "테스트셋 accuracy : 79.22%\n",
      "테스트셋 loss : 0.5416272878646851\n"
     ]
    }
   ],
   "source": [
    "# 서브클래스 모델 선언\n",
    "model = NSMC_model(vocab_size, embedding_size, hidden_size)\n",
    "\n",
    "# 모델 컴파일\n",
    "model.compile(optimizer=\"adam\",\n",
    "              loss = \"binary_crossentropy\",\n",
    "              metrics = [\"accuracy\"])\n",
    "\n",
    "# 모델 학습 시작\n",
    "train_buffer_size08 = int(len(pre_train08) * 0.8)\n",
    "val_buffer_size08 = int(len(pre_train08) * 0.2)\n",
    "history = model.fit(tf_train08, \n",
    "                    steps_per_epoch = train_buffer_size08 // batch_size,\n",
    "                    validation_data = tf_val08,\n",
    "                    validation_steps = val_buffer_size08 // batch_size,\n",
    "                    epochs = epochs,\n",
    "                    callbacks = [lr_reduce])\n",
    "\n",
    "# 모델 학습 추이 시각화\n",
    "if vectorization_type == 0:\n",
    "    title = f\"Mecab preprocessing {add} model word2vec transfer\"\n",
    "elif vectorization_type == 1:\n",
    "    title = f\"Unigram preprocessing {add} model\"\n",
    "else:\n",
    "    title = f\"BPE preprocessing {add} model\"\n",
    "show_performance(history, title)\n",
    "\n",
    "# 테스트셋으로 모델 검증\n",
    "test_loss08, test_acc08 = model.evaluate(tf_test08, steps = buffer_size_test08 // batch_size)\n",
    "print(f\"테스트셋 accuracy : {round(test_acc08, 4) * 100}%\")\n",
    "print(f\"테스트셋 loss : {test_loss08}\")"
   ]
  },
  {
   "cell_type": "markdown",
   "id": "round-manual",
   "metadata": {},
   "source": [
    "### 3.9 전처리 후 형태소 분석기 (Mecab) + SetencePiece (byte-pair-enocding)"
   ]
  },
  {
   "cell_type": "code",
   "execution_count": 153,
   "id": "atomic-silicon",
   "metadata": {},
   "outputs": [
    {
     "name": "stderr",
     "output_type": "stream",
     "text": [
      "100%|██████████| 117023/117023 [00:10<00:00, 11445.43it/s]\n",
      "100%|██████████| 39109/39109 [00:00<00:00, 39585.56it/s]\n"
     ]
    }
   ],
   "source": [
    "# 데이터 블러오고 추가 전처리까지 진행\n",
    "add = True\n",
    "train09 = DataPipeline(tr_path_to_file, \"train\")\n",
    "pre_train09 = train09.preprocessing(add = add)\n",
    "# Mecab으로 형태소 단위로 나눈 뒤 다시 str으로 합쳐줌\n",
    "mecab = Mecab()\n",
    "tqdm.pandas()\n",
    "pre_train09[\"document\"] = pre_train09[\"document\"].progress_apply(lambda x: \" \".join(mecab.morphs(x)))\n",
    "\n",
    "# spm 모델 unigram으로 생성\n",
    "model_type = \"bpe\"\n",
    "spm09 = SentencePiece(model_type, pre_train09, \n",
    "                      vocab_size, add,\n",
    "                      temp_file = f\"./model/02_SentencePiece/{model_type}_{vocab_size}_pre{add}_mecab_train.tmp\",\n",
    "                      train_test = \"train\")\n",
    "\n",
    "# 추가 전처리까지 된 코퍼스 unigram 타입으로 벡터화\n",
    "max_len09 = max(pre_train09[\"len\"])\n",
    "id_document09 = pre_train09[\"document\"].apply(lambda x : spm09.EncodeAsIds(str(x)))\n",
    "padd_token09 = pad_sequences(id_document09, maxlen = max_len, padding = \"post\")\n",
    "\n",
    "# 텐서플로우 데이터셋으로 변환\n",
    "x_data09 = padd_token09\n",
    "y_data09 = pre_train09[\"label\"].to_numpy().reshape(-1, 1)\n",
    "x_train09, x_val09, y_train09, y_val09 = train_test_split(x_data09, y_data09, \n",
    "                                                          test_size = 0.2,\n",
    "                                                          random_state = 44)\n",
    "tr_buffer09 = len(x_train09)\n",
    "tf_train09 = tensorflow_dataset(x_train09, y_train09, tr_buffer09, batch_size)\n",
    "val_buffer09 = len(x_val09)\n",
    "tf_val09 = tensorflow_dataset(x_val09, y_val09, val_buffer09, batch_size)\n",
    "\n",
    "# 테스트셋 불러오기\n",
    "test09 = DataPipeline(te_path_to_file, \"test\")\n",
    "pre_test09 = test09.preprocessing(add = add)\n",
    "\n",
    "# 훈련셋에서 만들어진 인덱스를 테스트셋에 적용\n",
    "tqdm.pandas()\n",
    "token_corpus_test09 = pre_test09[\"document\"].progress_apply(lambda x : spm09.EncodeAsIds(str(x)))\n",
    "max_length_test09 = max(pre_train09[\"len\"])\n",
    "padd_tokens_test09 = pad_sequences(token_corpus_test09, maxlen = max_length_test09, \n",
    "                                   padding = \"post\", value = 0)\n",
    "\n",
    "# 테스트셋을 텐서플로우 데이터셋으로 변환\n",
    "x_test09 = padd_tokens_test09\n",
    "y_test09 = pre_test09[\"label\"].to_numpy().reshape(-1,1)\n",
    "buffer_size_test09 = len(pre_test09)\n",
    "tf_test09 = tensorflow_dataset(x_test09, y_test09, buffer_size_test09, batch_size)"
   ]
  },
  {
   "cell_type": "code",
   "execution_count": 154,
   "id": "bored-kitty",
   "metadata": {},
   "outputs": [
    {
     "name": "stdout",
     "output_type": "stream",
     "text": [
      "Epoch 1/5\n",
      "731/731 [==============================] - 30s 36ms/step - loss: 0.4697 - accuracy: 0.7614 - val_loss: 0.3749 - val_accuracy: 0.8325\n",
      "Epoch 2/5\n",
      "731/731 [==============================] - 26s 35ms/step - loss: 0.3349 - accuracy: 0.8505 - val_loss: 0.3446 - val_accuracy: 0.8469\n",
      "Epoch 3/5\n",
      "731/731 [==============================] - 27s 37ms/step - loss: 0.2920 - accuracy: 0.8722 - val_loss: 0.3465 - val_accuracy: 0.8518\n",
      "Epoch 4/5\n",
      "731/731 [==============================] - 28s 38ms/step - loss: 0.2429 - accuracy: 0.8981 - val_loss: 0.3600 - val_accuracy: 0.8535\n",
      "Epoch 5/5\n",
      "731/731 [==============================] - 28s 38ms/step - loss: 0.2269 - accuracy: 0.9052 - val_loss: 0.3583 - val_accuracy: 0.8535\n"
     ]
    },
    {
     "data": {
      "image/png": "[encoded data removed]",
      "text/plain": [
       "<Figure size 432x288 with 1 Axes>"
      ]
     },
     "metadata": {
      "needs_background": "light"
     },
     "output_type": "display_data"
    },
    {
     "name": "stdout",
     "output_type": "stream",
     "text": [
      "305/305 [==============================] - 4s 12ms/step - loss: 0.4813 - accuracy: 0.7947\n",
      "테스트셋 accuracy : 79.47%\n",
      "테스트셋 loss : 0.4813026189804077\n"
     ]
    }
   ],
   "source": [
    "# 서브클래스 모델 선언\n",
    "model = NSMC_model(vocab_size, embedding_size, hidden_size)\n",
    "\n",
    "# 모델 컴파일\n",
    "model.compile(optimizer=\"adam\",\n",
    "              loss = \"binary_crossentropy\",\n",
    "              metrics = [\"accuracy\"])\n",
    "\n",
    "# 모델 학습 시작\n",
    "train_buffer_size09 = int(len(pre_train09) * 0.8)\n",
    "val_buffer_size09 = int(len(pre_train09) * 0.2)\n",
    "history = model.fit(tf_train09, \n",
    "                    steps_per_epoch = train_buffer_size09 // batch_size,\n",
    "                    validation_data = tf_val09,\n",
    "                    validation_steps = val_buffer_size09 // batch_size,\n",
    "                    epochs = epochs,\n",
    "                    callbacks = [lr_reduce])\n",
    "\n",
    "# 모델 학습 추이 시각화\n",
    "if vectorization_type == 0:\n",
    "    title = f\"Mecab preprocessing {add} model word2vec transfer\"\n",
    "elif vectorization_type == 1:\n",
    "    title = f\"Unigram preprocessing {add} model\"\n",
    "else:\n",
    "    title = f\"BPE preprocessing {add} model\"\n",
    "show_performance(history, title)\n",
    "\n",
    "# 테스트셋으로 모델 검증\n",
    "test_loss09, test_acc09 = model.evaluate(tf_test09, steps = buffer_size_test09 // batch_size)\n",
    "print(f\"테스트셋 accuracy : {round(test_acc09, 4) * 100}%\")\n",
    "print(f\"테스트셋 loss : {test_loss09}\")"
   ]
  },
  {
   "cell_type": "markdown",
   "id": "ahead-shipping",
   "metadata": {},
   "source": [
    "### 3.10 전처리 전 형태소 분석기 (Mecab) + SetencePiece (uni-gram)"
   ]
  },
  {
   "cell_type": "code",
   "execution_count": 155,
   "id": "aware-kansas",
   "metadata": {},
   "outputs": [
    {
     "name": "stderr",
     "output_type": "stream",
     "text": [
      "100%|██████████| 146182/146182 [00:15<00:00, 9265.28it/s]\n",
      "100%|██████████| 49157/49157 [00:01<00:00, 34497.44it/s]\n"
     ]
    }
   ],
   "source": [
    "# 데이터 블러오고 추가 전처리까지 진행\n",
    "add = False\n",
    "train10 = DataPipeline(tr_path_to_file, \"train\")\n",
    "pre_train10 = train10.preprocessing(add = add)\n",
    "# Mecab으로 형태소 단위로 나눈 뒤 다시 str으로 합쳐줌\n",
    "mecab = Mecab()\n",
    "tqdm.pandas()\n",
    "pre_train10[\"document\"] = pre_train10[\"document\"].progress_apply(lambda x: \" \".join(mecab.morphs(x)))\n",
    "\n",
    "# spm 모델 unigram으로 생성\n",
    "model_type = \"unigram\"\n",
    "spm10 = SentencePiece(model_type, pre_train10, \n",
    "                      vocab_size, add,\n",
    "                      temp_file = f\"./model/02_SentencePiece/{model_type}_{vocab_size}_pre{add}_mecab_train.tmp\",\n",
    "                      train_test = \"train\")\n",
    "\n",
    "# 추가 전처리까지 된 코퍼스 unigram 타입으로 벡터화\n",
    "max_len10 = max(pre_train10[\"len\"])\n",
    "id_document10 = pre_train10[\"document\"].apply(lambda x : spm10.EncodeAsIds(str(x)))\n",
    "padd_token10 = pad_sequences(id_document10, maxlen = max_len, padding = \"post\")\n",
    "\n",
    "# 텐서플로우 데이터셋으로 변환\n",
    "x_data10 = padd_token10\n",
    "y_data10 = pre_train10[\"label\"].to_numpy().reshape(-1, 1)\n",
    "x_train10, x_val10, y_train10, y_val10 = train_test_split(x_data10, y_data10, \n",
    "                                                          test_size = 0.2,\n",
    "                                                          random_state = 44)\n",
    "tr_buffer10 = len(x_train10)\n",
    "tf_train10 = tensorflow_dataset(x_train10, y_train10, tr_buffer10, batch_size)\n",
    "val_buffer10 = len(x_val10)\n",
    "tf_val10 = tensorflow_dataset(x_val10, y_val10, val_buffer10, batch_size)\n",
    "\n",
    "# 테스트셋 불러오기\n",
    "test10 = DataPipeline(te_path_to_file, \"test\")\n",
    "pre_test10 = test10.preprocessing(add = add)\n",
    "\n",
    "# 훈련셋에서 만들어진 인덱스를 테스트셋에 적용\n",
    "tqdm.pandas()\n",
    "token_corpus_test10 = pre_test10[\"document\"].progress_apply(lambda x : spm10.EncodeAsIds(str(x)))\n",
    "max_length_test10 = max(pre_train10[\"len\"])\n",
    "padd_tokens_test10 = pad_sequences(token_corpus_test10, maxlen = max_length_test10, \n",
    "                                   padding = \"post\", value = 0)\n",
    "\n",
    "# 테스트셋을 텐서플로우 데이터셋으로 변환\n",
    "x_test10 = padd_tokens_test10\n",
    "y_test10 = pre_test10[\"label\"].to_numpy().reshape(-1,1)\n",
    "buffer_size_test10 = len(pre_test10)\n",
    "tf_test10 = tensorflow_dataset(x_test10, y_test10, buffer_size_test10, batch_size)"
   ]
  },
  {
   "cell_type": "code",
   "execution_count": 156,
   "id": "careful-authority",
   "metadata": {
    "scrolled": false
   },
   "outputs": [
    {
     "name": "stdout",
     "output_type": "stream",
     "text": [
      "Epoch 1/5\n",
      "913/913 [==============================] - 39s 37ms/step - loss: 0.4495 - accuracy: 0.7743 - val_loss: 0.3565 - val_accuracy: 0.8446\n",
      "Epoch 2/5\n",
      "913/913 [==============================] - 32s 35ms/step - loss: 0.3203 - accuracy: 0.8605 - val_loss: 0.3217 - val_accuracy: 0.8588\n",
      "Epoch 3/5\n",
      "913/913 [==============================] - 32s 36ms/step - loss: 0.2711 - accuracy: 0.8845 - val_loss: 0.3301 - val_accuracy: 0.8604\n",
      "Epoch 4/5\n",
      "913/913 [==============================] - 32s 35ms/step - loss: 0.2298 - accuracy: 0.9034 - val_loss: 0.3310 - val_accuracy: 0.8607\n",
      "Epoch 5/5\n",
      "913/913 [==============================] - 32s 35ms/step - loss: 0.2156 - accuracy: 0.9112 - val_loss: 0.3378 - val_accuracy: 0.8607\n"
     ]
    },
    {
     "data": {
      "image/png": "[encoded data removed]",
      "text/plain": [
       "<Figure size 432x288 with 1 Axes>"
      ]
     },
     "metadata": {
      "needs_background": "light"
     },
     "output_type": "display_data"
    },
    {
     "name": "stdout",
     "output_type": "stream",
     "text": [
      "384/384 [==============================] - 9s 21ms/step - loss: 0.4894 - accuracy: 0.8133\n",
      "테스트셋 accuracy : 81.33%\n",
      "테스트셋 loss : 0.4893680512905121\n"
     ]
    }
   ],
   "source": [
    "# 서브클래스 모델 선언\n",
    "model = NSMC_model(vocab_size, embedding_size, hidden_size)\n",
    "\n",
    "# 모델 컴파일\n",
    "model.compile(optimizer=\"adam\",\n",
    "              loss = \"binary_crossentropy\",\n",
    "              metrics = [\"accuracy\"])\n",
    "\n",
    "# 모델 학습 시작\n",
    "train_buffer_size10 = int(len(pre_train10) * 0.8)\n",
    "val_buffer_size10 = int(len(pre_train10) * 0.2)\n",
    "history = model.fit(tf_train10, \n",
    "                    steps_per_epoch = train_buffer_size10 // batch_size,\n",
    "                    validation_data = tf_val10,\n",
    "                    validation_steps = val_buffer_size10 // batch_size,\n",
    "                    epochs = epochs,\n",
    "                    callbacks = [lr_reduce])\n",
    "\n",
    "# 모델 학습 추이 시각화\n",
    "if vectorization_type == 0:\n",
    "    title = f\"Mecab preprocessing {add} model word2vec transfer\"\n",
    "elif vectorization_type == 1:\n",
    "    title = f\"Unigram preprocessing {add} model\"\n",
    "else:\n",
    "    title = f\"BPE preprocessing {add} model\"\n",
    "show_performance(history, title)\n",
    "\n",
    "# 테스트셋으로 모델 검증\n",
    "test_loss10, test_acc10 = model.evaluate(tf_test10, steps = buffer_size_test10 // batch_size)\n",
    "print(f\"테스트셋 accuracy : {round(test_acc10, 4) * 100}%\")\n",
    "print(f\"테스트셋 loss : {test_loss10}\")"
   ]
  },
  {
   "cell_type": "markdown",
   "id": "pharmaceutical-fifth",
   "metadata": {},
   "source": [
    "### 3.11 전처리 전 형태소 분석기 (Mecab) + SetencePiece (byte-pair-enocding)"
   ]
  },
  {
   "cell_type": "code",
   "execution_count": 155,
   "id": "foster-paraguay",
   "metadata": {},
   "outputs": [
    {
     "name": "stderr",
     "output_type": "stream",
     "text": [
      "100%|██████████| 146182/146182 [00:15<00:00, 9265.28it/s]\n",
      "100%|██████████| 49157/49157 [00:01<00:00, 34497.44it/s]\n"
     ]
    }
   ],
   "source": [
    "# 데이터 블러오고 추가 전처리까지 진행\n",
    "add = False\n",
    "train10 = DataPipeline(tr_path_to_file, \"train\")\n",
    "pre_train10 = train10.preprocessing(add = add)\n",
    "# Mecab으로 형태소 단위로 나눈 뒤 다시 str으로 합쳐줌\n",
    "mecab = Mecab()\n",
    "tqdm.pandas()\n",
    "pre_train10[\"document\"] = pre_train10[\"document\"].progress_apply(lambda x: \" \".join(mecab.morphs(x)))\n",
    "\n",
    "# spm 모델 unigram으로 생성\n",
    "model_type = \"bpe\"\n",
    "spm10 = SentencePiece(model_type, pre_train10, \n",
    "                      vocab_size, add,\n",
    "                      temp_file = f\"./model/02_SentencePiece/{model_type}_{vocab_size}_pre{add}_mecab_train.tmp\",\n",
    "                      train_test = \"train\")\n",
    "\n",
    "# 추가 전처리까지 된 코퍼스 unigram 타입으로 벡터화\n",
    "max_len10 = max(pre_train10[\"len\"])\n",
    "id_document10 = pre_train10[\"document\"].apply(lambda x : spm10.EncodeAsIds(str(x)))\n",
    "padd_token10 = pad_sequences(id_document10, maxlen = max_len, padding = \"post\")\n",
    "\n",
    "# 텐서플로우 데이터셋으로 변환\n",
    "x_data10 = padd_token10\n",
    "y_data10 = pre_train10[\"label\"].to_numpy().reshape(-1, 1)\n",
    "x_train10, x_val10, y_train10, y_val10 = train_test_split(x_data10, y_data10, \n",
    "                                                          test_size = 0.2,\n",
    "                                                          random_state = 44)\n",
    "tr_buffer10 = len(x_train10)\n",
    "tf_train10 = tensorflow_dataset(x_train10, y_train10, tr_buffer10, batch_size)\n",
    "val_buffer10 = len(x_val10)\n",
    "tf_val10 = tensorflow_dataset(x_val10, y_val10, val_buffer10, batch_size)\n",
    "\n",
    "# 테스트셋 불러오기\n",
    "test10 = DataPipeline(te_path_to_file, \"test\")\n",
    "pre_test10 = test10.preprocessing(add = add)\n",
    "\n",
    "# 훈련셋에서 만들어진 인덱스를 테스트셋에 적용\n",
    "tqdm.pandas()\n",
    "token_corpus_test10 = pre_test10[\"document\"].progress_apply(lambda x : spm10.EncodeAsIds(str(x)))\n",
    "max_length_test10 = max(pre_train10[\"len\"])\n",
    "padd_tokens_test10 = pad_sequences(token_corpus_test10, maxlen = max_length_test10, \n",
    "                                   padding = \"post\", value = 0)\n",
    "\n",
    "# 테스트셋을 텐서플로우 데이터셋으로 변환\n",
    "x_test10 = padd_tokens_test10\n",
    "y_test10 = pre_test10[\"label\"].to_numpy().reshape(-1,1)\n",
    "buffer_size_test10 = len(pre_test10)\n",
    "tf_test10 = tensorflow_dataset(x_test10, y_test10, buffer_size_test10, batch_size)"
   ]
  },
  {
   "cell_type": "code",
   "execution_count": 156,
   "id": "african-administrator",
   "metadata": {},
   "outputs": [
    {
     "name": "stdout",
     "output_type": "stream",
     "text": [
      "Epoch 1/5\n",
      "913/913 [==============================] - 39s 37ms/step - loss: 0.4495 - accuracy: 0.7743 - val_loss: 0.3565 - val_accuracy: 0.8446\n",
      "Epoch 2/5\n",
      "913/913 [==============================] - 32s 35ms/step - loss: 0.3203 - accuracy: 0.8605 - val_loss: 0.3217 - val_accuracy: 0.8588\n",
      "Epoch 3/5\n",
      "913/913 [==============================] - 32s 36ms/step - loss: 0.2711 - accuracy: 0.8845 - val_loss: 0.3301 - val_accuracy: 0.8604\n",
      "Epoch 4/5\n",
      "913/913 [==============================] - 32s 35ms/step - loss: 0.2298 - accuracy: 0.9034 - val_loss: 0.3310 - val_accuracy: 0.8607\n",
      "Epoch 5/5\n",
      "913/913 [==============================] - 32s 35ms/step - loss: 0.2156 - accuracy: 0.9112 - val_loss: 0.3378 - val_accuracy: 0.8607\n"
     ]
    },
    {
     "data": {
      "image/png": "[encoded data removed]",
      "text/plain": [
       "<Figure size 432x288 with 1 Axes>"
      ]
     },
     "metadata": {
      "needs_background": "light"
     },
     "output_type": "display_data"
    },
    {
     "name": "stdout",
     "output_type": "stream",
     "text": [
      "384/384 [==============================] - 9s 21ms/step - loss: 0.4894 - accuracy: 0.8133\n",
      "테스트셋 accuracy : 81.33%\n",
      "테스트셋 loss : 0.4893680512905121\n"
     ]
    }
   ],
   "source": [
    "# 서브클래스 모델 선언\n",
    "model = NSMC_model(vocab_size, embedding_size, hidden_size)\n",
    "\n",
    "# 모델 컴파일\n",
    "model.compile(optimizer=\"adam\",\n",
    "              loss = \"binary_crossentropy\",\n",
    "              metrics = [\"accuracy\"])\n",
    "\n",
    "# 모델 학습 시작\n",
    "train_buffer_size10 = int(len(pre_train10) * 0.8)\n",
    "val_buffer_size10 = int(len(pre_train10) * 0.2)\n",
    "history = model.fit(tf_train10, \n",
    "                    steps_per_epoch = train_buffer_size10 // batch_size,\n",
    "                    validation_data = tf_val10,\n",
    "                    validation_steps = val_buffer_size10 // batch_size,\n",
    "                    epochs = epochs,\n",
    "                    callbacks = [lr_reduce])\n",
    "\n",
    "# 모델 학습 추이 시각화\n",
    "if vectorization_type == 0:\n",
    "    title = f\"Mecab preprocessing {add} model word2vec transfer\"\n",
    "elif vectorization_type == 1:\n",
    "    title = f\"Unigram preprocessing {add} model\"\n",
    "else:\n",
    "    title = f\"BPE preprocessing {add} model\"\n",
    "show_performance(history, title)\n",
    "\n",
    "# 테스트셋으로 모델 검증\n",
    "test_loss10, test_acc10 = model.evaluate(tf_test10, steps = buffer_size_test10 // batch_size)\n",
    "print(f\"테스트셋 accuracy : {round(test_acc10, 4) * 100}%\")\n",
    "print(f\"테스트셋 loss : {test_loss10}\")"
   ]
  },
  {
   "cell_type": "code",
   "execution_count": null,
   "id": "perfect-throat",
   "metadata": {},
   "outputs": [],
   "source": []
  }
 ],
 "metadata": {
  "kernelspec": {
   "display_name": "Python 3",
   "language": "python",
   "name": "python3"
  },
  "language_info": {
   "codemirror_mode": {
    "name": "ipython",
    "version": 3
   },
   "file_extension": ".py",
   "mimetype": "text/x-python",
   "name": "python",
   "nbconvert_exporter": "python",
   "pygments_lexer": "ipython3",
   "version": "3.7.9"
  }
 },
 "nbformat": 4,
 "nbformat_minor": 5
}
