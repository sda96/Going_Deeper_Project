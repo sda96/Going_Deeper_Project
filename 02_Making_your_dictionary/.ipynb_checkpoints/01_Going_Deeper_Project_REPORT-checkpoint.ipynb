{
 "cells": [
  {
   "cell_type": "markdown",
   "id": "confidential-israeli",
   "metadata": {},
   "source": [
    "## 1. 서론"
   ]
  },
  {
   "cell_type": "markdown",
   "id": "affecting-bridges",
   "metadata": {},
   "source": [
    "네이버 영화 댓글 감성 분석 데이터셋인 nsmc를 활용하여 어떠한 벡터화 기법이 가장 정확도(accuracy)가 좋은지 실험해보겠습니다."
   ]
  },
  {
   "cell_type": "markdown",
   "id": "centered-transsexual",
   "metadata": {},
   "source": [
    "성능 비교용 벡터화 기법\n",
    "- 형태소 분석기 (Mecab)\n",
    "- 형태소 분석기 + 사전 학습된 임베딩 벡터 (전이학습)\n",
    "- SentencePiece (byte-pair-enocding)\n",
    "- 형태소 분석기 (Mecab) + SetencePiece (byte-pair-enocding)"
   ]
  },
  {
   "cell_type": "markdown",
   "id": "affected-machine",
   "metadata": {},
   "source": [
    "위의 성능 비교용에서 사용될 모델의 arguments 는 다음과 같습니다\n",
    "- batch_size = 32\n",
    "- epochs = 5\n",
    "- vocab_size = 8000\n",
    "- embedding_size = 200\n",
    "- model = BiLSTM (양방향 LSTM 모델)\n",
    "- hidden_size = 64"
   ]
  },
  {
   "cell_type": "markdown",
   "id": "fitting-marine",
   "metadata": {},
   "source": [
    "추가적으로 BERT모델을 사용하여 이진 분류 문제를 해결해보고 싶어서 한국어 뉴스 데이터로 사전학습이 완료된 KcELECTRA 모델을 사용하여 Fine-tuning을 거쳐서 nsmc 감성 분류 문제를 시도해보겠습니다."
   ]
  },
  {
   "cell_type": "markdown",
   "id": "olive-armenia",
   "metadata": {},
   "source": [
    "- WordPiece + KcELECTRA"
   ]
  }
 ],
 "metadata": {
  "kernelspec": {
   "display_name": "Python 3",
   "language": "python",
   "name": "python3"
  },
  "language_info": {
   "codemirror_mode": {
    "name": "ipython",
    "version": 3
   },
   "file_extension": ".py",
   "mimetype": "text/x-python",
   "name": "python",
   "nbconvert_exporter": "python",
   "pygments_lexer": "ipython3",
   "version": "3.7.9"
  }
 },
 "nbformat": 4,
 "nbformat_minor": 5
}
