{
 "cells": [
  {
   "cell_type": "code",
   "execution_count": 1,
   "id": "light-virgin",
   "metadata": {},
   "outputs": [],
   "source": [
    "from tensorflow.keras.datasets import reuters\n",
    "import matplotlib.pyplot as plt\n",
    "import seaborn as sns\n",
    "import numpy as np\n",
    "import pandas as pd\n",
    "\n",
    "# 벡터화 함수\n",
    "from sklearn.preprocessing import OneHotEncoder\n",
    "from sklearn.feature_extraction.text import CountVectorizer\n",
    "from sklearn.feature_extraction.text import TfidfTransformer\n",
    "\n",
    "# 머신러닝 모델들\n",
    "from sklearn.naive_bayes import MultinomialNB #다항분포 나이브 베이즈 모델\n",
    "from sklearn.linear_model import LogisticRegression, SGDClassifier\n",
    "from sklearn.naive_bayes import ComplementNB\n",
    "from sklearn.tree import DecisionTreeClassifier\n",
    "from sklearn.ensemble import RandomForestClassifier\n",
    "from sklearn.ensemble import GradientBoostingClassifier\n",
    "from sklearn.ensemble import VotingClassifier\n",
    "from sklearn.svm import LinearSVC\n",
    "\n",
    "# 모델 검증\n",
    "from sklearn.metrics import accuracy_score #정확도 계산\n",
    "from sklearn.metrics import classification_report\n",
    "from sklearn.metrics import confusion_matrix\n",
    "import tensorflow as tf"
   ]
  },
  {
   "cell_type": "markdown",
   "id": "generous-cancer",
   "metadata": {},
   "source": [
    "## 2. 데이터 불러오기"
   ]
  },
  {
   "cell_type": "code",
   "execution_count": 2,
   "id": "virgin-jurisdiction",
   "metadata": {
    "scrolled": true
   },
   "outputs": [
    {
     "name": "stdout",
     "output_type": "stream",
     "text": [
      "훈련 샘플의 수: 8982\n",
      "테스트 샘플의 수: 2246\n"
     ]
    },
    {
     "name": "stderr",
     "output_type": "stream",
     "text": [
      "/opt/conda/lib/python3.7/site-packages/tensorflow/python/keras/datasets/reuters.py:148: VisibleDeprecationWarning: Creating an ndarray from ragged nested sequences (which is a list-or-tuple of lists-or-tuples-or ndarrays with different lengths or shapes) is deprecated. If you meant to do this, you must specify 'dtype=object' when creating the ndarray\n",
      "  x_train, y_train = np.array(xs[:idx]), np.array(labels[:idx])\n",
      "/opt/conda/lib/python3.7/site-packages/tensorflow/python/keras/datasets/reuters.py:149: VisibleDeprecationWarning: Creating an ndarray from ragged nested sequences (which is a list-or-tuple of lists-or-tuples-or ndarrays with different lengths or shapes) is deprecated. If you meant to do this, you must specify 'dtype=object' when creating the ndarray\n",
      "  x_test, y_test = np.array(xs[idx:]), np.array(labels[idx:])\n"
     ]
    }
   ],
   "source": [
    "num_words = None\n",
    "(x_train, y_train), (x_test, y_test) = reuters.load_data(num_words=num_words, test_split=0.2)\n",
    "print('훈련 샘플의 수: {}'.format(len(x_train)))\n",
    "print('테스트 샘플의 수: {}'.format(len(x_test)))"
   ]
  },
  {
   "cell_type": "markdown",
   "id": "quantitative-calcium",
   "metadata": {},
   "source": [
    "## 3. 데이터 살펴보기"
   ]
  },
  {
   "cell_type": "code",
   "execution_count": 3,
   "id": "reverse-complement",
   "metadata": {},
   "outputs": [
    {
     "name": "stdout",
     "output_type": "stream",
     "text": [
      "[1, 27595, 28842, 8, 43, 10, 447, 5, 25, 207, 270, 5, 3095, 111, 16, 369, 186, 90, 67, 7, 89, 5, 19, 102, 6, 19, 124, 15, 90, 67, 84, 22, 482, 26, 7, 48, 4, 49, 8, 864, 39, 209, 154, 6, 151, 6, 83, 11, 15, 22, 155, 11, 15, 7, 48, 9, 4579, 1005, 504, 6, 258, 6, 272, 11, 15, 22, 134, 44, 11, 15, 16, 8, 197, 1245, 90, 67, 52, 29, 209, 30, 32, 132, 6, 109, 15, 17, 12]\n",
      "3\n",
      "(8982,) (8982,)\n",
      "\n",
      "\n",
      "[1, 4, 1378, 2025, 9, 697, 4622, 111, 8, 25, 109, 29, 3650, 11, 150, 244, 364, 33, 30, 30, 1398, 333, 6, 18292, 159, 9, 1084, 363, 13, 19231, 71, 9, 16273, 71, 117, 4, 225, 78, 206, 10, 9, 1214, 8, 4, 270, 5, 16273, 7, 748, 48, 9, 19231, 7, 207, 1451, 966, 1864, 793, 97, 133, 336, 7, 4, 493, 98, 273, 104, 284, 25, 39, 338, 22, 905, 220, 3465, 644, 59, 20, 6, 119, 61, 11, 15, 58, 579, 26, 10, 67, 7, 4, 738, 98, 43, 88, 333, 722, 12, 20, 6, 19, 746, 35, 15, 10, 9, 1214, 855, 129, 783, 21, 4, 2280, 244, 364, 51, 16, 299, 452, 16, 515, 4, 99, 29, 5, 4, 364, 281, 48, 10, 9, 1214, 23, 644, 47, 20, 324, 27, 56, 23406, 28185, 5, 192, 510, 17, 12]\n",
      "3\n",
      "(2246,) (2246,)\n"
     ]
    }
   ],
   "source": [
    "print(x_train[0])\n",
    "print(y_train[0])\n",
    "print(x_train.shape, y_train.shape)\n",
    "print(\"\\n\")\n",
    "print(x_test[0])\n",
    "print(y_test[0])\n",
    "print(x_test.shape, y_test.shape)"
   ]
  },
  {
   "cell_type": "code",
   "execution_count": 4,
   "id": "fifty-vision",
   "metadata": {
    "scrolled": true
   },
   "outputs": [
    {
     "name": "stdout",
     "output_type": "stream",
     "text": [
      "클래스의 수 : 46\n"
     ]
    }
   ],
   "source": [
    "num_classes = max(y_train) + 1\n",
    "print('클래스의 수 : {}'.format(num_classes))"
   ]
  },
  {
   "cell_type": "code",
   "execution_count": 5,
   "id": "rental-judges",
   "metadata": {},
   "outputs": [
    {
     "name": "stdout",
     "output_type": "stream",
     "text": [
      "훈련용 뉴스의 최대 길이 :2376\n",
      "훈련용 뉴스의 평균 길이 :145.5398574927633\n"
     ]
    },
    {
     "data": {
      "image/png": "[encoded data removed]",
      "text/plain": [
       "<Figure size 432x288 with 1 Axes>"
      ]
     },
     "metadata": {
      "needs_background": "light"
     },
     "output_type": "display_data"
    }
   ],
   "source": [
    "print('훈련용 뉴스의 최대 길이 :{}'.format(max(len(l) for l in x_train)))\n",
    "print('훈련용 뉴스의 평균 길이 :{}'.format(sum(map(len, x_train))/len(x_train)))\n",
    "\n",
    "plt.hist([len(s) for s in x_train], bins=50)\n",
    "plt.xlabel('length of samples')\n",
    "plt.ylabel('number of samples')\n",
    "plt.show()"
   ]
  },
  {
   "cell_type": "code",
   "execution_count": 6,
   "id": "floating-compilation",
   "metadata": {},
   "outputs": [
    {
     "data": {
      "image/png": "[encoded data removed]",
      "text/plain": [
       "<Figure size 792x360 with 1 Axes>"
      ]
     },
     "metadata": {
      "needs_background": "light"
     },
     "output_type": "display_data"
    }
   ],
   "source": [
    "fig, axe = plt.subplots(ncols=1)\n",
    "fig.set_size_inches(11,5)\n",
    "sns.countplot(x=y_train)\n",
    "plt.show()"
   ]
  },
  {
   "cell_type": "code",
   "execution_count": 7,
   "id": "wicked-james",
   "metadata": {},
   "outputs": [
    {
     "data": {
      "text/html": [
       "<div>\n",
       "<style scoped>\n",
       "    .dataframe tbody tr th:only-of-type {\n",
       "        vertical-align: middle;\n",
       "    }\n",
       "\n",
       "    .dataframe tbody tr th {\n",
       "        vertical-align: top;\n",
       "    }\n",
       "\n",
       "    .dataframe thead th {\n",
       "        text-align: right;\n",
       "    }\n",
       "</style>\n",
       "<table border=\"1\" class=\"dataframe\">\n",
       "  <thead>\n",
       "    <tr style=\"text-align: right;\">\n",
       "      <th></th>\n",
       "      <th>features</th>\n",
       "      <th>label</th>\n",
       "      <th>len</th>\n",
       "    </tr>\n",
       "  </thead>\n",
       "  <tbody>\n",
       "    <tr>\n",
       "      <th>0</th>\n",
       "      <td>[1, 27595, 28842, 8, 43, 10, 447, 5, 25, 207, ...</td>\n",
       "      <td>3</td>\n",
       "      <td>87</td>\n",
       "    </tr>\n",
       "    <tr>\n",
       "      <th>1</th>\n",
       "      <td>[1, 3267, 699, 3434, 2295, 56, 16784, 7511, 9,...</td>\n",
       "      <td>4</td>\n",
       "      <td>56</td>\n",
       "    </tr>\n",
       "    <tr>\n",
       "      <th>2</th>\n",
       "      <td>[1, 53, 12, 284, 15, 14, 272, 26, 53, 959, 32,...</td>\n",
       "      <td>3</td>\n",
       "      <td>139</td>\n",
       "    </tr>\n",
       "    <tr>\n",
       "      <th>3</th>\n",
       "      <td>[1, 4, 686, 867, 558, 4, 37, 38, 309, 2276, 46...</td>\n",
       "      <td>4</td>\n",
       "      <td>224</td>\n",
       "    </tr>\n",
       "    <tr>\n",
       "      <th>4</th>\n",
       "      <td>[1, 8295, 111, 8, 25, 166, 40, 638, 10, 436, 2...</td>\n",
       "      <td>4</td>\n",
       "      <td>101</td>\n",
       "    </tr>\n",
       "    <tr>\n",
       "      <th>...</th>\n",
       "      <td>...</td>\n",
       "      <td>...</td>\n",
       "      <td>...</td>\n",
       "    </tr>\n",
       "    <tr>\n",
       "      <th>8977</th>\n",
       "      <td>[1, 313, 262, 2529, 1426, 8, 130, 40, 129, 363...</td>\n",
       "      <td>19</td>\n",
       "      <td>197</td>\n",
       "    </tr>\n",
       "    <tr>\n",
       "      <th>8978</th>\n",
       "      <td>[1, 4, 96, 5, 340, 3976, 23, 328, 6, 154, 7, 4...</td>\n",
       "      <td>19</td>\n",
       "      <td>214</td>\n",
       "    </tr>\n",
       "    <tr>\n",
       "      <th>8979</th>\n",
       "      <td>[1, 141, 3890, 387, 81, 8, 16, 1629, 10, 340, ...</td>\n",
       "      <td>25</td>\n",
       "      <td>77</td>\n",
       "    </tr>\n",
       "    <tr>\n",
       "      <th>8980</th>\n",
       "      <td>[1, 53, 46, 957, 26, 14, 74, 132, 26, 39, 46, ...</td>\n",
       "      <td>3</td>\n",
       "      <td>119</td>\n",
       "    </tr>\n",
       "    <tr>\n",
       "      <th>8981</th>\n",
       "      <td>[1, 227, 2406, 91, 21969, 125, 2855, 21, 4, 39...</td>\n",
       "      <td>25</td>\n",
       "      <td>105</td>\n",
       "    </tr>\n",
       "  </tbody>\n",
       "</table>\n",
       "<p>8982 rows × 3 columns</p>\n",
       "</div>"
      ],
      "text/plain": [
       "                                               features  label  len\n",
       "0     [1, 27595, 28842, 8, 43, 10, 447, 5, 25, 207, ...      3   87\n",
       "1     [1, 3267, 699, 3434, 2295, 56, 16784, 7511, 9,...      4   56\n",
       "2     [1, 53, 12, 284, 15, 14, 272, 26, 53, 959, 32,...      3  139\n",
       "3     [1, 4, 686, 867, 558, 4, 37, 38, 309, 2276, 46...      4  224\n",
       "4     [1, 8295, 111, 8, 25, 166, 40, 638, 10, 436, 2...      4  101\n",
       "...                                                 ...    ...  ...\n",
       "8977  [1, 313, 262, 2529, 1426, 8, 130, 40, 129, 363...     19  197\n",
       "8978  [1, 4, 96, 5, 340, 3976, 23, 328, 6, 154, 7, 4...     19  214\n",
       "8979  [1, 141, 3890, 387, 81, 8, 16, 1629, 10, 340, ...     25   77\n",
       "8980  [1, 53, 46, 957, 26, 14, 74, 132, 26, 39, 46, ...      3  119\n",
       "8981  [1, 227, 2406, 91, 21969, 125, 2855, 21, 4, 39...     25  105\n",
       "\n",
       "[8982 rows x 3 columns]"
      ]
     },
     "execution_count": 7,
     "metadata": {},
     "output_type": "execute_result"
    }
   ],
   "source": [
    "train_data = pd.DataFrame({\"features\": x_train, \"label\":y_train})\n",
    "train_data[\"len\"] = train_data[\"features\"].apply(lambda x: len(x))\n",
    "train_data"
   ]
  },
  {
   "cell_type": "code",
   "execution_count": 8,
   "id": "generic-chart",
   "metadata": {},
   "outputs": [
    {
     "data": {
      "image/png": "[encoded data removed]",
      "text/plain": [
       "<Figure size 432x288 with 1 Axes>"
      ]
     },
     "metadata": {
      "needs_background": "light"
     },
     "output_type": "display_data"
    }
   ],
   "source": [
    "# label별 평균 문장의 길이\n",
    "train_data.groupby(\"label\").mean().plot(kind = \"bar\")\n",
    "plt.ylabel(\"Average of length\")\n",
    "plt.show()"
   ]
  },
  {
   "cell_type": "markdown",
   "id": "pacific-bahamas",
   "metadata": {},
   "source": [
    "## 3. 새롭게 벡터화시키기"
   ]
  },
  {
   "cell_type": "code",
   "execution_count": 9,
   "id": "upper-surrey",
   "metadata": {
    "scrolled": true
   },
   "outputs": [],
   "source": [
    "word_index = reuters.get_word_index(path=\"reuters_word_index.json\")\n",
    "index_to_word = { index+3 : word for word, index in word_index.items() }\n",
    "# index_to_word에 숫자 0은 <pad>, 숫자 1은 <sos>, 숫자 2는 <unk>를 넣어줍니다.\n",
    "for index, token in enumerate((\"<pad>\", \"<sos>\", \"<unk>\")):\n",
    "    index_to_word[index]=token\n",
    "\n",
    "x_train_word = []\n",
    "for sentence in x_train:\n",
    "    x_train_word += [' '.join([index_to_word[index] for index in sentence])]\n",
    "    \n",
    "x_test_word = []\n",
    "for sentence in x_test:\n",
    "    x_test_word += [' '.join([index_to_word[index] for index in sentence])]    "
   ]
  },
  {
   "cell_type": "markdown",
   "id": "suspected-sleeve",
   "metadata": {},
   "source": [
    "### 3.1 DTM -> TF-IDF"
   ]
  },
  {
   "cell_type": "code",
   "execution_count": 10,
   "id": "governing-tuner",
   "metadata": {},
   "outputs": [],
   "source": [
    "# 훈련 데이터셋 DTM\n",
    "dtmvector = CountVectorizer()\n",
    "x_train_dtm = dtmvector.fit_transform(x_train_word)\n",
    "# 훈련 데이터셋 TF-IDF\n",
    "tfidf_transformer = TfidfTransformer()\n",
    "tfidfv_train = tfidf_transformer.fit_transform(x_train_dtm)\n",
    "# 테스트 데이터셋 DTM\n",
    "x_test_dtm = dtmvector.transform(x_test_word)\n",
    "# 테스트 데이터셋 TF-IDF\n",
    "tfidfv_test = tfidf_transformer.transform(x_test_dtm)"
   ]
  },
  {
   "cell_type": "markdown",
   "id": "bacterial-completion",
   "metadata": {},
   "source": [
    "## 4. 머신러닝 모델들 성능 비교하기"
   ]
  },
  {
   "cell_type": "markdown",
   "id": "surgical-silver",
   "metadata": {},
   "source": [
    "### 4.1 [MultinomialNB 모델](https://www.youtube.com/watch?v=3JWLIV3NaoQ)"
   ]
  },
  {
   "cell_type": "markdown",
   "id": "impressed-replica",
   "metadata": {},
   "source": [
    "[집합의 연산중 결합법칙을 발견한 사이트](https://deep-learning-study.tistory.com/419)  \n",
    "[나이브 베이즈 위키 백과](https://ko.wikipedia.org/wiki/%EB%82%98%EC%9D%B4%EB%B8%8C_%EB%B2%A0%EC%9D%B4%EC%A6%88_%EB%B6%84%EB%A5%98)\n",
    "\n",
    "- 교집합 : $P(A \\cap B) = P(A , B) = P(A \\lvert B) \\cdot P(B)$  \n",
    "    - 두 사건 $A, B$가 서로 독립인 경우 $P(A \\cap B) = P(A)\\cdot P(B)$ \n",
    "    - 두 사건 $A, B$가 서로 종속인 경우 $P(A \\cap B) = P(A \\lvert B) \\cdot P(B)$\n",
    "\n",
    "- 조건부 확률\n",
    "    - $P(A \\lvert B) = \\frac{P(A \\cap B)}{P(B)}$  \n",
    "- 베이즈 정리\n",
    "    - $P(A), P(B), P(B \\lvert A)$를 알고 있을 때, $P(A \\lvert B)$를 구할 수 있습니다.\n",
    "    - $P(A \\lvert B) = \\frac{P(B \\lvert A) \\cdot P(A)}{P(B)}$\n",
    "    - 예를 들어 스팸 메일을 분리하면서 \"free\"라는 단어가 자주 보여 해당 단어가 포함된 메일은 스팸으로 분리하려고 합니다.  \n",
    "    이때, \"free\"라는 단어가 포함하였는데 스팸메일로 분류되는 확률을 구하겠습니다.\n",
    "        - 사건 $A$가 전체 메일 중에서 \"free\" 라는 단어가 포함되어 있는 경우\n",
    "        - 사건 $B$가 전체 메일 중에서 스팸메일인 경우  \n",
    "        - $P(B|A) = \\frac{P(B) \\cdot P(A \\lvert B)}{P(A)}$\n",
    "        - $posterior = \\frac{prior \\times likelihood}{evidence}$\n",
    "        - 베이즈 정리는 사전 확률과 사후 확률의 관계를 나타내는 정리를 말합니다.\n",
    "\n",
    "해당 모델을 현재의 데이터셋에 적용한 경우 label의 클래스들을 $B_i$, featrues에 있는 단어들을 각각 $A_1, A_2 ... A_n$라고 하겠습니다.\n",
    "\n",
    "이때의 식은 $P(B_i \\lvert A_1, A_2 .... A_n)$로 정리가 가능하며 계산한 결과 가장 확률이 높게 나온 i번째 클래스로 분류를 합니다."
   ]
  },
  {
   "cell_type": "markdown",
   "id": "absolute-hanging",
   "metadata": {},
   "source": [
    "#### 4.1.1 모델 학습"
   ]
  },
  {
   "cell_type": "code",
   "execution_count": 11,
   "id": "corrected-clinic",
   "metadata": {},
   "outputs": [
    {
     "name": "stdout",
     "output_type": "stream",
     "text": [
      "              precision    recall  f1-score   support\n",
      "\n",
      "           0       0.00      0.00      0.00        12\n",
      "           1       0.79      0.21      0.33       105\n",
      "           2       0.00      0.00      0.00        20\n",
      "           3       0.72      0.92      0.81       813\n",
      "           4       0.45      0.96      0.61       474\n",
      "           5       0.00      0.00      0.00         5\n",
      "           6       0.00      0.00      0.00        14\n",
      "           7       0.00      0.00      0.00         3\n",
      "           8       0.00      0.00      0.00        38\n",
      "           9       0.00      0.00      0.00        25\n",
      "          10       0.00      0.00      0.00        30\n",
      "          11       0.80      0.29      0.42        83\n",
      "          12       0.00      0.00      0.00        13\n",
      "          13       0.00      0.00      0.00        37\n",
      "          14       0.00      0.00      0.00         2\n",
      "          15       0.00      0.00      0.00         9\n",
      "          16       0.75      0.18      0.29        99\n",
      "          17       0.00      0.00      0.00        12\n",
      "          18       0.00      0.00      0.00        20\n",
      "          19       0.73      0.58      0.64       133\n",
      "          20       0.00      0.00      0.00        70\n",
      "          21       0.00      0.00      0.00        27\n",
      "          22       0.00      0.00      0.00         7\n",
      "          23       0.00      0.00      0.00        12\n",
      "          24       0.00      0.00      0.00        19\n",
      "          25       0.00      0.00      0.00        31\n",
      "          26       0.00      0.00      0.00         8\n",
      "          27       0.00      0.00      0.00         4\n",
      "          28       0.00      0.00      0.00        10\n",
      "          29       0.00      0.00      0.00         4\n",
      "          30       0.00      0.00      0.00        12\n",
      "          31       0.00      0.00      0.00        13\n",
      "          32       0.00      0.00      0.00        10\n",
      "          33       0.00      0.00      0.00         5\n",
      "          34       0.00      0.00      0.00         7\n",
      "          35       0.00      0.00      0.00         6\n",
      "          36       0.00      0.00      0.00        11\n",
      "          37       0.00      0.00      0.00         2\n",
      "          38       0.00      0.00      0.00         3\n",
      "          39       0.00      0.00      0.00         5\n",
      "          40       0.00      0.00      0.00        10\n",
      "          41       0.00      0.00      0.00         8\n",
      "          42       0.00      0.00      0.00         3\n",
      "          43       0.00      0.00      0.00         6\n",
      "          44       0.00      0.00      0.00         5\n",
      "          45       0.00      0.00      0.00         1\n",
      "\n",
      "    accuracy                           0.60      2246\n",
      "   macro avg       0.09      0.07      0.07      2246\n",
      "weighted avg       0.50      0.60      0.50      2246\n",
      "\n"
     ]
    },
    {
     "name": "stderr",
     "output_type": "stream",
     "text": [
      "/opt/conda/lib/python3.7/site-packages/sklearn/metrics/_classification.py:1221: UndefinedMetricWarning: Precision and F-score are ill-defined and being set to 0.0 in labels with no predicted samples. Use `zero_division` parameter to control this behavior.\n",
      "  _warn_prf(average, modifier, msg_start, len(result))\n"
     ]
    }
   ],
   "source": [
    "model = MultinomialNB()\n",
    "model.fit(tfidfv_train, y_train)\n",
    "\n",
    "predicted = model.predict(tfidfv_test) #테스트 데이터에 대한 예측\n",
    "print(classification_report(y_test, predicted)) #예측값과 실제값 비교"
   ]
  },
  {
   "cell_type": "markdown",
   "id": "hawaiian-christian",
   "metadata": {},
   "source": [
    "### 4.2 ComplementNB 모델"
   ]
  },
  {
   "cell_type": "markdown",
   "id": "judicial-theory",
   "metadata": {},
   "source": [
    "ComplementNB 모델은 기존의 NB 모델에서 데이터의 label 불균형 문제를 개선시킨 모델로 각 label마다 가중치를 부여하여 불균형 문제를 개선한 모델입니다."
   ]
  },
  {
   "cell_type": "code",
   "execution_count": 12,
   "id": "tamil-communications",
   "metadata": {},
   "outputs": [
    {
     "name": "stdout",
     "output_type": "stream",
     "text": [
      "              precision    recall  f1-score   support\n",
      "\n",
      "           0       0.86      0.50      0.63        12\n",
      "           1       0.63      0.88      0.73       105\n",
      "           2       0.91      0.50      0.65        20\n",
      "           3       0.87      0.91      0.89       813\n",
      "           4       0.75      0.93      0.83       474\n",
      "           5       0.00      0.00      0.00         5\n",
      "           6       0.92      0.86      0.89        14\n",
      "           7       1.00      0.67      0.80         3\n",
      "           8       0.43      0.08      0.13        38\n",
      "           9       0.81      0.88      0.85        25\n",
      "          10       0.96      0.73      0.83        30\n",
      "          11       0.55      0.67      0.61        83\n",
      "          12       0.00      0.00      0.00        13\n",
      "          13       0.62      0.54      0.58        37\n",
      "          14       0.00      0.00      0.00         2\n",
      "          15       0.50      0.11      0.18         9\n",
      "          16       0.67      0.77      0.71        99\n",
      "          17       0.00      0.00      0.00        12\n",
      "          18       0.65      0.55      0.59        20\n",
      "          19       0.55      0.80      0.65       133\n",
      "          20       0.89      0.23      0.36        70\n",
      "          21       0.84      0.59      0.70        27\n",
      "          22       0.00      0.00      0.00         7\n",
      "          23       0.71      0.42      0.53        12\n",
      "          24       0.50      0.11      0.17        19\n",
      "          25       0.83      0.61      0.70        31\n",
      "          26       1.00      0.88      0.93         8\n",
      "          27       0.00      0.00      0.00         4\n",
      "          28       0.33      0.10      0.15        10\n",
      "          29       0.00      0.00      0.00         4\n",
      "          30       0.00      0.00      0.00        12\n",
      "          31       1.00      0.31      0.47        13\n",
      "          32       1.00      0.80      0.89        10\n",
      "          33       1.00      0.80      0.89         5\n",
      "          34       1.00      0.71      0.83         7\n",
      "          35       1.00      0.17      0.29         6\n",
      "          36       0.00      0.00      0.00        11\n",
      "          37       0.00      0.00      0.00         2\n",
      "          38       1.00      0.33      0.50         3\n",
      "          39       1.00      0.20      0.33         5\n",
      "          40       0.00      0.00      0.00        10\n",
      "          41       0.67      0.25      0.36         8\n",
      "          42       1.00      0.33      0.50         3\n",
      "          43       1.00      0.17      0.29         6\n",
      "          44       1.00      0.80      0.89         5\n",
      "          45       1.00      1.00      1.00         1\n",
      "\n",
      "    accuracy                           0.76      2246\n",
      "   macro avg       0.62      0.42      0.46      2246\n",
      "weighted avg       0.75      0.76      0.73      2246\n",
      "\n"
     ]
    },
    {
     "name": "stderr",
     "output_type": "stream",
     "text": [
      "/opt/conda/lib/python3.7/site-packages/sklearn/metrics/_classification.py:1221: UndefinedMetricWarning: Precision and F-score are ill-defined and being set to 0.0 in labels with no predicted samples. Use `zero_division` parameter to control this behavior.\n",
      "  _warn_prf(average, modifier, msg_start, len(result))\n"
     ]
    }
   ],
   "source": [
    "cb = ComplementNB()\n",
    "cb.fit(tfidfv_train, y_train)\n",
    "\n",
    "predicted = cb.predict(tfidfv_test) #테스트 데이터에 대한 예측\n",
    "print(classification_report(y_test, predicted)) #예측값과 실제값 비교"
   ]
  },
  {
   "cell_type": "markdown",
   "id": "regional-burns",
   "metadata": {},
   "source": [
    "### 4.3 Logistic Regression 모델"
   ]
  },
  {
   "cell_type": "markdown",
   "id": "responsible-estonia",
   "metadata": {},
   "source": [
    "로지스틱 회귀모델에 대한 정리는 해당 [링크](https://sda96.github.io/2021-10/classification_problem)에 정리하였습니다. 하지만 일반적인 로지스틱 회귀 모델은 이진 분류 모델이라고 알고 있는데 어떻게 다중 분류 문제를 해결할 수 있는지 알아보았습니다.\n",
    "\n",
    "sklearn 패키지의 로지스틱 회귀 모델은 다중 분류 문제가 들어오는 경우 OvR(One-vs-rest) 알고리즘을 사용합니다.\n",
    "- [sklearn LogisticRegression](https://scikit-learn.org/stable/modules/generated/sklearn.linear_model.LogisticRegression.html)  \n",
    "- [다중 분류 알고리즘 OvR](https://brunch.co.kr/@linecard/482)\n",
    "\n",
    "OvR 알고리즘은 만약 파랑, 검정, 빨강이라는 클래스에서 파랑을 분류하는 경우 파랑 클래스의 데이터를 제외하고는 모두 똑같은 클래스라고 판단하여 결국 '파랑 클래스냐, 파랑 클래스가 아니냐.' 라는 이진 분류 문제로 바꾸어서 생각하며 이 방법을 파랑, 검정, 빨강에 모두 적용하여 결국에는 다중 분류 문제를 해결할 수 있게 됩니다."
   ]
  },
  {
   "cell_type": "code",
   "execution_count": 13,
   "id": "sufficient-peace",
   "metadata": {},
   "outputs": [
    {
     "name": "stdout",
     "output_type": "stream",
     "text": [
      "              precision    recall  f1-score   support\n",
      "\n",
      "           0       0.89      0.67      0.76        12\n",
      "           1       0.75      0.80      0.77       105\n",
      "           2       0.70      0.70      0.70        20\n",
      "           3       0.93      0.93      0.93       813\n",
      "           4       0.81      0.87      0.84       474\n",
      "           5       1.00      0.20      0.33         5\n",
      "           6       0.93      1.00      0.97        14\n",
      "           7       1.00      0.67      0.80         3\n",
      "           8       0.68      0.71      0.69        38\n",
      "           9       0.81      0.88      0.85        25\n",
      "          10       0.93      0.87      0.90        30\n",
      "          11       0.66      0.73      0.70        83\n",
      "          12       0.57      0.31      0.40        13\n",
      "          13       0.61      0.62      0.61        37\n",
      "          14       0.67      1.00      0.80         2\n",
      "          15       0.71      0.56      0.63         9\n",
      "          16       0.71      0.77      0.74        99\n",
      "          17       0.67      0.50      0.57        12\n",
      "          18       0.76      0.65      0.70        20\n",
      "          19       0.69      0.70      0.69       133\n",
      "          20       0.60      0.49      0.54        70\n",
      "          21       0.63      0.81      0.71        27\n",
      "          22       0.00      0.00      0.00         7\n",
      "          23       0.69      0.75      0.72        12\n",
      "          24       0.62      0.53      0.57        19\n",
      "          25       0.92      0.74      0.82        31\n",
      "          26       1.00      0.88      0.93         8\n",
      "          27       1.00      0.25      0.40         4\n",
      "          28       0.75      0.30      0.43        10\n",
      "          29       0.57      1.00      0.73         4\n",
      "          30       0.89      0.67      0.76        12\n",
      "          31       0.75      0.46      0.57        13\n",
      "          32       1.00      0.80      0.89        10\n",
      "          33       0.80      0.80      0.80         5\n",
      "          34       1.00      0.29      0.44         7\n",
      "          35       1.00      0.33      0.50         6\n",
      "          36       0.42      0.45      0.43        11\n",
      "          37       0.50      0.50      0.50         2\n",
      "          38       0.50      0.33      0.40         3\n",
      "          39       0.50      0.40      0.44         5\n",
      "          40       1.00      0.30      0.46        10\n",
      "          41       0.83      0.62      0.71         8\n",
      "          42       1.00      1.00      1.00         3\n",
      "          43       0.86      1.00      0.92         6\n",
      "          44       0.67      0.80      0.73         5\n",
      "          45       1.00      1.00      1.00         1\n",
      "\n",
      "    accuracy                           0.81      2246\n",
      "   macro avg       0.76      0.64      0.67      2246\n",
      "weighted avg       0.81      0.81      0.81      2246\n",
      "\n"
     ]
    },
    {
     "name": "stderr",
     "output_type": "stream",
     "text": [
      "/opt/conda/lib/python3.7/site-packages/sklearn/linear_model/_logistic.py:762: ConvergenceWarning: lbfgs failed to converge (status=1):\n",
      "STOP: TOTAL NO. of ITERATIONS REACHED LIMIT.\n",
      "\n",
      "Increase the number of iterations (max_iter) or scale the data as shown in:\n",
      "    https://scikit-learn.org/stable/modules/preprocessing.html\n",
      "Please also refer to the documentation for alternative solver options:\n",
      "    https://scikit-learn.org/stable/modules/linear_model.html#logistic-regression\n",
      "  extra_warning_msg=_LOGISTIC_SOLVER_CONVERGENCE_MSG)\n",
      "/opt/conda/lib/python3.7/site-packages/sklearn/metrics/_classification.py:1221: UndefinedMetricWarning: Precision and F-score are ill-defined and being set to 0.0 in labels with no predicted samples. Use `zero_division` parameter to control this behavior.\n",
      "  _warn_prf(average, modifier, msg_start, len(result))\n"
     ]
    }
   ],
   "source": [
    "lr = LogisticRegression(C=10000, penalty='l2')\n",
    "lr.fit(tfidfv_train, y_train)\n",
    "\n",
    "predicted = lr.predict(tfidfv_test) #테스트 데이터에 대한 예측\n",
    "print(classification_report(y_test, predicted)) #예측값과 실제값 비교"
   ]
  },
  {
   "cell_type": "markdown",
   "id": "weird-eclipse",
   "metadata": {},
   "source": [
    "### 4.4 선형 서포트 벡터 머신"
   ]
  },
  {
   "cell_type": "markdown",
   "id": "protected-indication",
   "metadata": {},
   "source": [
    "[![image](https://user-images.githubusercontent.com/51338268/146365205-69972aa6-98d5-45f3-95d4-a00cbe313ab4.png)](https://m.blog.naver.com/PostView.naver?isHttpsRedirect=true&blogId=gdpresent&logNo=221717231990)\n"
   ]
  },
  {
   "cell_type": "markdown",
   "id": "liberal-victim",
   "metadata": {},
   "source": [
    "선형 서포트 벡터 분류기은 그림과 같이 데이터들을 2개의 클래스로 분류하는 결정경계를 찾으며 **단, Margin이 최대가 되는 결정경계를 찾아서 이진 분류를 시키는 알고리즘**입니다.\n",
    "\n",
    "결정경계는 두 클래스를 분류하는 선이 되며, Support Vectors는 각 클래스 별로 Margin에 가장 가까운 데이터를 의미합니다. 서포트 벡터 머신이 학습하는 과정에서 사용되는 데이터가 2개 뿐이기에 계산량이 상당히 적게 소모한다는 것을 알 수가 있습니다.\n",
    "\n",
    "하지만 종종 선형 구분이 되지 않는 문제가 발생하며 이 문제를 해결하기 위해서 더 높은 차원으로 매핑하여 분리하는 방법이 제안되었으며 해당 과정에서 늘어나는 계산량을 막기 위해서 커널함수를 정의한 SVM(Support Vector Machine) 구조를 설계하였습니다.\n",
    "- [SVM 위키 백과 설명](https://ko.wikipedia.org/wiki/%EC%84%9C%ED%8F%AC%ED%8A%B8_%EB%B2%A1%ED%84%B0_%EB%A8%B8%EC%8B%A0)\n",
    "- [SVM 설명](https://blog.naver.com/tjdudwo93/221051481147)\n",
    "\n",
    "SVM의 파라미터로 cost와 gamma가 존재합니다\n",
    "- cost : 결정경계의 margin의 간격을 결정하며 cost가 작으면 margin은 넓어지고 cost가 크면 margin은 좁아집니다.\n",
    "- gamma : train 데이터 하나당 영향을 끼치는 범위를 의미합니다."
   ]
  },
  {
   "cell_type": "code",
   "execution_count": 14,
   "id": "employed-audit",
   "metadata": {},
   "outputs": [
    {
     "name": "stdout",
     "output_type": "stream",
     "text": [
      "              precision    recall  f1-score   support\n",
      "\n",
      "           0       0.67      0.67      0.67        12\n",
      "           1       0.66      0.70      0.68       105\n",
      "           2       0.75      0.75      0.75        20\n",
      "           3       0.92      0.90      0.91       813\n",
      "           4       0.81      0.86      0.84       474\n",
      "           5       0.00      0.00      0.00         5\n",
      "           6       0.75      0.86      0.80        14\n",
      "           7       0.50      0.33      0.40         3\n",
      "           8       0.68      0.71      0.69        38\n",
      "           9       0.81      0.88      0.85        25\n",
      "          10       0.83      0.83      0.83        30\n",
      "          11       0.61      0.72      0.66        83\n",
      "          12       0.33      0.31      0.32        13\n",
      "          13       0.55      0.49      0.51        37\n",
      "          14       0.25      0.50      0.33         2\n",
      "          15       0.50      0.44      0.47         9\n",
      "          16       0.60      0.71      0.65        99\n",
      "          17       1.00      0.33      0.50        12\n",
      "          18       0.72      0.65      0.68        20\n",
      "          19       0.60      0.64      0.62       133\n",
      "          20       0.52      0.46      0.48        70\n",
      "          21       0.67      0.81      0.73        27\n",
      "          22       0.00      0.00      0.00         7\n",
      "          23       0.55      0.50      0.52        12\n",
      "          24       0.64      0.37      0.47        19\n",
      "          25       0.85      0.55      0.67        31\n",
      "          26       0.88      0.88      0.88         8\n",
      "          27       1.00      0.50      0.67         4\n",
      "          28       0.80      0.40      0.53        10\n",
      "          29       0.38      0.75      0.50         4\n",
      "          30       0.75      0.50      0.60        12\n",
      "          31       0.78      0.54      0.64        13\n",
      "          32       1.00      0.80      0.89        10\n",
      "          33       0.80      0.80      0.80         5\n",
      "          34       1.00      0.57      0.73         7\n",
      "          35       1.00      0.50      0.67         6\n",
      "          36       0.42      0.45      0.43        11\n",
      "          37       0.40      1.00      0.57         2\n",
      "          38       0.50      0.33      0.40         3\n",
      "          39       1.00      0.40      0.57         5\n",
      "          40       0.60      0.30      0.40        10\n",
      "          41       0.60      0.38      0.46         8\n",
      "          42       0.67      0.67      0.67         3\n",
      "          43       0.67      1.00      0.80         6\n",
      "          44       1.00      0.80      0.89         5\n",
      "          45       0.33      1.00      0.50         1\n",
      "\n",
      "    accuracy                           0.78      2246\n",
      "   macro avg       0.66      0.60      0.60      2246\n",
      "weighted avg       0.78      0.78      0.77      2246\n",
      "\n"
     ]
    },
    {
     "name": "stderr",
     "output_type": "stream",
     "text": [
      "/opt/conda/lib/python3.7/site-packages/sklearn/svm/_base.py:975: ConvergenceWarning: Liblinear failed to converge, increase the number of iterations.\n",
      "  \"the number of iterations.\", ConvergenceWarning)\n"
     ]
    }
   ],
   "source": [
    "lsvc = LinearSVC(C=1000, penalty='l1', max_iter=500, dual=False)\n",
    "lsvc.fit(tfidfv_train, y_train)\n",
    "\n",
    "predicted = lsvc.predict(tfidfv_test) #테스트 데이터에 대한 예측\n",
    "print(classification_report(y_test, predicted)) #예측값과 실제값 비교"
   ]
  },
  {
   "cell_type": "markdown",
   "id": "plastic-municipality",
   "metadata": {},
   "source": [
    "### 4.5 의사결정나무"
   ]
  },
  {
   "cell_type": "markdown",
   "id": "hungarian-violin",
   "metadata": {},
   "source": [
    "![image](https://user-images.githubusercontent.com/51338268/146504553-907c454d-ff00-404d-83c8-e6a5cf8439fd.png)\n",
    "\n",
    "\n",
    "의사결정나무는 특성, 변수마다 이진분류를 진행하여 마지막 끝노드에 있는 비율이 높은 클래스로 분류하는 방식의 분류 모델이기도 하고, 끝노드의 데이터들의 평균이나 중앙값을 사용한 예측 모델이기도 합니다.\n",
    "\n",
    "의사결정나무의 가장 기본적인 알고리즘인 ID3 알고리즘은 2가지 개념을 토대로 분류를 진행합니다.\n",
    "- Entropy가 작아지는 방향으로 알고리즘이 진행됨\n",
    "    - Entropy는 정보량의 기대값을 의미합니다.\n",
    "    - $H[Y] = -\\sum^{n}_{i=1} p_i \\log p_i$\n",
    "- Information gain이 가장 높은 특성부터 분류를 진행함\n",
    "    - information gain은 X라는 조건에 의해 확률 변수 Y의 엔트로피가 얼마나 감소하였는지를 나태나는 값입니다.\n",
    "    - $IG[Y, x] = H[Y] - H[Y \\lvert X]$\n",
    "\n",
    "분류는 정해진 Entropy의 수치나 나누어지는 속성을 모두 사용하거나 정해진 속성의 개수만큼 사용하면 멈추게 됩니다.\n",
    "\n",
    "참고사이트\n",
    "- [의사결정나무](https://datascienceschool.net/03%20machine%20learning/12.01%20%EC%9D%98%EC%82%AC%EA%B2%B0%EC%A0%95%EB%82%98%EB%AC%B4.html)"
   ]
  },
  {
   "cell_type": "code",
   "execution_count": 15,
   "id": "configured-pound",
   "metadata": {},
   "outputs": [
    {
     "name": "stdout",
     "output_type": "stream",
     "text": [
      "              precision    recall  f1-score   support\n",
      "\n",
      "           0       0.00      0.00      0.00        12\n",
      "           1       0.69      0.43      0.53       105\n",
      "           2       0.75      0.45      0.56        20\n",
      "           3       0.94      0.85      0.89       813\n",
      "           4       0.40      0.89      0.55       474\n",
      "           5       0.00      0.00      0.00         5\n",
      "           6       0.00      0.00      0.00        14\n",
      "           7       0.00      0.00      0.00         3\n",
      "           8       0.00      0.00      0.00        38\n",
      "           9       1.00      0.16      0.28        25\n",
      "          10       0.89      0.80      0.84        30\n",
      "          11       0.58      0.60      0.59        83\n",
      "          12       0.00      0.00      0.00        13\n",
      "          13       0.00      0.00      0.00        37\n",
      "          14       0.00      0.00      0.00         2\n",
      "          15       0.00      0.00      0.00         9\n",
      "          16       0.61      0.83      0.70        99\n",
      "          17       0.00      0.00      0.00        12\n",
      "          18       0.00      0.00      0.00        20\n",
      "          19       0.67      0.41      0.50       133\n",
      "          20       0.83      0.07      0.13        70\n",
      "          21       0.00      0.00      0.00        27\n",
      "          22       0.00      0.00      0.00         7\n",
      "          23       0.00      0.00      0.00        12\n",
      "          24       0.67      0.11      0.18        19\n",
      "          25       0.60      0.19      0.29        31\n",
      "          26       0.00      0.00      0.00         8\n",
      "          27       0.00      0.00      0.00         4\n",
      "          28       0.50      0.10      0.17        10\n",
      "          29       0.00      0.00      0.00         4\n",
      "          30       0.00      0.00      0.00        12\n",
      "          31       0.00      0.00      0.00        13\n",
      "          32       0.00      0.00      0.00        10\n",
      "          33       1.00      0.80      0.89         5\n",
      "          34       0.00      0.00      0.00         7\n",
      "          35       0.00      0.00      0.00         6\n",
      "          36       0.00      0.00      0.00        11\n",
      "          37       0.00      0.00      0.00         2\n",
      "          38       0.00      0.00      0.00         3\n",
      "          39       0.00      0.00      0.00         5\n",
      "          40       0.00      0.00      0.00        10\n",
      "          41       0.00      0.00      0.00         8\n",
      "          42       0.00      0.00      0.00         3\n",
      "          43       0.00      0.00      0.00         6\n",
      "          44       0.00      0.00      0.00         5\n",
      "          45       0.00      0.00      0.00         1\n",
      "\n",
      "    accuracy                           0.62      2246\n",
      "   macro avg       0.22      0.15      0.15      2246\n",
      "weighted avg       0.62      0.62      0.58      2246\n",
      "\n"
     ]
    },
    {
     "name": "stderr",
     "output_type": "stream",
     "text": [
      "/opt/conda/lib/python3.7/site-packages/sklearn/metrics/_classification.py:1221: UndefinedMetricWarning: Precision and F-score are ill-defined and being set to 0.0 in labels with no predicted samples. Use `zero_division` parameter to control this behavior.\n",
      "  _warn_prf(average, modifier, msg_start, len(result))\n"
     ]
    }
   ],
   "source": [
    "tree = DecisionTreeClassifier(max_depth=10, random_state=0)\n",
    "tree.fit(tfidfv_train, y_train)\n",
    "\n",
    "predicted = tree.predict(tfidfv_test) #테스트 데이터에 대한 예측\n",
    "print(classification_report(y_test, predicted)) #예측값과 실제값 비교"
   ]
  },
  {
   "cell_type": "markdown",
   "id": "compatible-calcium",
   "metadata": {},
   "source": [
    "### 4.6 랜덤포레스트"
   ]
  },
  {
   "cell_type": "markdown",
   "id": "numerical-semiconductor",
   "metadata": {},
   "source": [
    "[![image](https://user-images.githubusercontent.com/51338268/146507957-8be96281-3b09-4f0e-9563-2ec66261948f.png)](https://www.tibco.com/reference-center/what-is-a-random-forest)\n",
    "랜덤포레스트는 기존의 의사결정나무를 기반으로 만들어진 알고리즘으로 다수의 의사결정나무 모델을 사용하여 해당 모델들의 결과를 투표하는 방식으로 데이터를 분류합니다.\n",
    "\n",
    "랜덤포레스트의 특성은 다음과 같습니다.\n",
    "- boosting\n",
    "    - boosting은 각각의 의사결정 나무 모델에 일부러 반복추출된 데이터를 넣어서 해당 데이터에 과대적합되어 편향된 모델들을 만듭니다.\n",
    "    - 특정 데이터에 편향됨으로써 그 데이터에 편향된 모델을 그 데이터에 대한 성능이 더 좋게 나올거라 기대합니다.\n",
    "- random selection\n",
    "    - 기존의 의사결정나무는 가장 좋은, information gain이 가장 높은 속성부터 분류를 하였습니다.\n",
    "    - 하지만 랜덤포레스트는 무작위 속성을 선택하여 분류합니다.\n",
    "- aggregating\n",
    "    - 다수의 의사결정나무 모델로부터 다양한 결과가 나왔을 텐데 그 결과들을 토대로 투표를 진행하여 가장 많이 나온 클래스로 분류합니다.\n",
    "    \n",
    "흔히 boosting과 aggregating을 더한 기법은 bagging이라고 부릅니다.\n",
    "\n",
    "랜덤포레스트는 각 변수들이 얼마만큼 종속변수에 영향을 주는가에 대한 측정이 가능하며 계산하는 방법은 다음 [링크](https://velog.io/@vvakki_/%EB%9E%9C%EB%8D%A4-%ED%8F%AC%EB%A0%88%EC%8A%A4%ED%8A%B8%EC%97%90%EC%84%9C%EC%9D%98-%EB%B3%80%EC%88%98-%EC%A4%91%EC%9A%94%EB%8F%84Variable-Importance-3%EA%B0%80%EC%A7%80)에 있습니다.\n",
    "\n"
   ]
  },
  {
   "cell_type": "code",
   "execution_count": 16,
   "id": "collected-recipient",
   "metadata": {},
   "outputs": [
    {
     "name": "stdout",
     "output_type": "stream",
     "text": [
      "              precision    recall  f1-score   support\n",
      "\n",
      "           0       0.25      0.58      0.35        12\n",
      "           1       0.35      0.60      0.44       105\n",
      "           2       0.32      0.40      0.36        20\n",
      "           3       0.82      0.89      0.85       813\n",
      "           4       0.62      0.84      0.71       474\n",
      "           5       0.00      0.00      0.00         5\n",
      "           6       0.67      0.43      0.52        14\n",
      "           7       0.50      0.33      0.40         3\n",
      "           8       0.51      0.47      0.49        38\n",
      "           9       1.00      0.28      0.44        25\n",
      "          10       0.46      0.20      0.28        30\n",
      "          11       0.56      0.64      0.60        83\n",
      "          12       0.40      0.15      0.22        13\n",
      "          13       0.33      0.16      0.22        37\n",
      "          14       0.00      0.00      0.00         2\n",
      "          15       0.00      0.00      0.00         9\n",
      "          16       0.59      0.46      0.52        99\n",
      "          17       0.00      0.00      0.00        12\n",
      "          18       0.44      0.20      0.28        20\n",
      "          19       0.61      0.50      0.55       133\n",
      "          20       0.51      0.33      0.40        70\n",
      "          21       0.55      0.22      0.32        27\n",
      "          22       0.00      0.00      0.00         7\n",
      "          23       0.33      0.08      0.13        12\n",
      "          24       0.33      0.05      0.09        19\n",
      "          25       1.00      0.23      0.37        31\n",
      "          26       0.00      0.00      0.00         8\n",
      "          27       0.00      0.00      0.00         4\n",
      "          28       0.00      0.00      0.00        10\n",
      "          29       0.00      0.00      0.00         4\n",
      "          30       0.00      0.00      0.00        12\n",
      "          31       0.00      0.00      0.00        13\n",
      "          32       1.00      0.10      0.18        10\n",
      "          33       1.00      0.40      0.57         5\n",
      "          34       0.00      0.00      0.00         7\n",
      "          35       1.00      0.17      0.29         6\n",
      "          36       0.43      0.27      0.33        11\n",
      "          37       0.00      0.00      0.00         2\n",
      "          38       0.00      0.00      0.00         3\n",
      "          39       0.00      0.00      0.00         5\n",
      "          40       1.00      0.30      0.46        10\n",
      "          41       0.00      0.00      0.00         8\n",
      "          42       0.00      0.00      0.00         3\n",
      "          43       0.75      0.50      0.60         6\n",
      "          44       1.00      0.80      0.89         5\n",
      "          45       1.00      1.00      1.00         1\n",
      "\n",
      "    accuracy                           0.65      2246\n",
      "   macro avg       0.40      0.25      0.28      2246\n",
      "weighted avg       0.63      0.65      0.62      2246\n",
      "\n"
     ]
    },
    {
     "name": "stderr",
     "output_type": "stream",
     "text": [
      "/opt/conda/lib/python3.7/site-packages/sklearn/metrics/_classification.py:1221: UndefinedMetricWarning: Precision and F-score are ill-defined and being set to 0.0 in labels with no predicted samples. Use `zero_division` parameter to control this behavior.\n",
      "  _warn_prf(average, modifier, msg_start, len(result))\n"
     ]
    }
   ],
   "source": [
    "forest = RandomForestClassifier(n_estimators=5, random_state=0)\n",
    "forest.fit(tfidfv_train, y_train)\n",
    "\n",
    "predicted = forest.predict(tfidfv_test) #테스트 데이터에 대한 예측\n",
    "print(classification_report(y_test, predicted)) #예측값과 실제값 비교"
   ]
  },
  {
   "cell_type": "markdown",
   "id": "furnished-length",
   "metadata": {},
   "source": [
    "### 4.7 그래디언트 부스팅"
   ]
  },
  {
   "cell_type": "markdown",
   "id": "alternative-threshold",
   "metadata": {},
   "source": [
    "- 부스팅은 약한 분류기, 모델을 결합하는데 일반적으로 의사결정나무를 사용하며 하나의 강한 분류기를 만드는 과정을 말합니다.\n",
    "\n",
    "- 그래디언트는 해당 앙상블 모델의 예측값과 실제값의 차이인 잔차, 손실함수를 줄여나가는 방향으로 학습을 진행합니다.\n",
    "\n",
    "- 예측 모델의 경우 손실함수로 RMSE를 사용할 수 있지만 분류 모델에서는 이진 교차 엔트로피나 교차 엔트로피를 사용할 수 있습니다.\n",
    "\n",
    "[참고사이트](https://bkshin.tistory.com/entry/%EB%A8%B8%EC%8B%A0%EB%9F%AC%EB%8B%9D-15-Gradient-Boost)"
   ]
  },
  {
   "cell_type": "code",
   "execution_count": 17,
   "id": "respective-moment",
   "metadata": {
    "scrolled": false
   },
   "outputs": [
    {
     "name": "stdout",
     "output_type": "stream",
     "text": [
      "              precision    recall  f1-score   support\n",
      "\n",
      "           0       0.60      0.50      0.55        12\n",
      "           1       0.81      0.71      0.76       105\n",
      "           2       0.58      0.70      0.64        20\n",
      "           3       0.87      0.91      0.89       813\n",
      "           4       0.78      0.86      0.82       474\n",
      "           5       1.00      0.20      0.33         5\n",
      "           6       0.77      0.71      0.74        14\n",
      "           7       1.00      0.33      0.50         3\n",
      "           8       0.60      0.63      0.62        38\n",
      "           9       0.91      0.80      0.85        25\n",
      "          10       0.79      0.77      0.78        30\n",
      "          11       0.61      0.65      0.63        83\n",
      "          12       0.50      0.46      0.48        13\n",
      "          13       0.48      0.32      0.39        37\n",
      "          14       0.00      0.00      0.00         2\n",
      "          15       0.25      0.11      0.15         9\n",
      "          16       0.72      0.71      0.71        99\n",
      "          17       0.83      0.42      0.56        12\n",
      "          18       0.59      0.50      0.54        20\n",
      "          19       0.71      0.64      0.67       133\n",
      "          20       0.64      0.41      0.50        70\n",
      "          21       0.61      0.63      0.62        27\n",
      "          22       0.33      0.14      0.20         7\n",
      "          23       0.62      0.67      0.64        12\n",
      "          24       0.69      0.47      0.56        19\n",
      "          25       0.83      0.65      0.73        31\n",
      "          26       1.00      1.00      1.00         8\n",
      "          27       0.33      0.50      0.40         4\n",
      "          28       0.25      0.20      0.22        10\n",
      "          29       0.43      0.75      0.55         4\n",
      "          30       0.36      0.42      0.38        12\n",
      "          31       0.50      0.54      0.52        13\n",
      "          32       1.00      1.00      1.00        10\n",
      "          33       0.83      1.00      0.91         5\n",
      "          34       0.60      0.43      0.50         7\n",
      "          35       0.33      0.17      0.22         6\n",
      "          36       0.50      0.64      0.56        11\n",
      "          37       0.50      1.00      0.67         2\n",
      "          38       0.33      0.33      0.33         3\n",
      "          39       0.33      0.20      0.25         5\n",
      "          40       0.83      0.50      0.62        10\n",
      "          41       0.62      0.62      0.62         8\n",
      "          42       1.00      0.67      0.80         3\n",
      "          43       0.43      0.50      0.46         6\n",
      "          44       0.80      0.80      0.80         5\n",
      "          45       0.50      1.00      0.67         1\n",
      "\n",
      "    accuracy                           0.77      2246\n",
      "   macro avg       0.62      0.57      0.57      2246\n",
      "weighted avg       0.77      0.77      0.76      2246\n",
      "\n"
     ]
    }
   ],
   "source": [
    "grbt = GradientBoostingClassifier(random_state=0, verbose=0) # \n",
    "grbt.fit(tfidfv_train, y_train)\n",
    "\n",
    "predicted = grbt.predict(tfidfv_test) #테스트 데이터에 대한 예측\n",
    "print(classification_report(y_test, predicted)) #예측값과 실제값 비교"
   ]
  },
  {
   "cell_type": "markdown",
   "id": "dutch-spending",
   "metadata": {},
   "source": [
    "### 4.8 보팅"
   ]
  },
  {
   "cell_type": "markdown",
   "id": "printable-terrain",
   "metadata": {},
   "source": [
    "앙상블 기법이란 여러개의 모델들의 결과들을 혼합하여 더 개선된 결과를 만드는 모델을 만드는 방법을 말합니다.\n",
    "\n",
    "보팅은 앙상블 기법중에 하나로 Soft Voting과 Hard Voting이 존재합니다.\n",
    "- Hard Voting은 일반적인 다수결의 원칙을 따르며 각 모델이 예측한 결과중에서 가장 빈도가 높은 클래스를 결과로 반환하는 방식입니다.\n",
    "[![image](https://user-images.githubusercontent.com/51338268/146578648-c30faa62-2ef8-435e-9492-80e70421651d.png)](https://stats.stackexchange.com/questions/349540/hard-voting-soft-voting-in-ensemble-based-methods)\n",
    "- Soft Voting은 각 모델마다 클래스별 확률값을 가지는 즉, 클래스에 따른 확률분포를 가지는데 모델마다 가지는 클래스별 확률값들을 평균을 내서 가장 높은 클래스를 결과로 반환하는 방식입니다.\n",
    "[![image](https://user-images.githubusercontent.com/51338268/146578469-cb4c34f0-3022-4c94-a1d0-beef43c6856f.png)](https://medium.com/wids-mysore/ensemble-learning-techniques-votingclassifier-c4b38ee62129)"
   ]
  },
  {
   "cell_type": "code",
   "execution_count": 18,
   "id": "collaborative-money",
   "metadata": {},
   "outputs": [
    {
     "name": "stdout",
     "output_type": "stream",
     "text": [
      "              precision    recall  f1-score   support\n",
      "\n",
      "           0       0.75      0.75      0.75        12\n",
      "           1       0.80      0.77      0.79       105\n",
      "           2       0.67      0.80      0.73        20\n",
      "           3       0.93      0.94      0.93       813\n",
      "           4       0.82      0.88      0.85       474\n",
      "           5       1.00      0.20      0.33         5\n",
      "           6       0.87      0.93      0.90        14\n",
      "           7       1.00      0.33      0.50         3\n",
      "           8       0.69      0.71      0.70        38\n",
      "           9       0.80      0.80      0.80        25\n",
      "          10       0.90      0.90      0.90        30\n",
      "          11       0.67      0.71      0.69        83\n",
      "          12       0.60      0.46      0.52        13\n",
      "          13       0.69      0.65      0.67        37\n",
      "          14       0.29      1.00      0.44         2\n",
      "          15       0.40      0.22      0.29         9\n",
      "          16       0.73      0.76      0.74        99\n",
      "          17       0.75      0.50      0.60        12\n",
      "          18       0.73      0.55      0.63        20\n",
      "          19       0.71      0.71      0.71       133\n",
      "          20       0.66      0.50      0.57        70\n",
      "          21       0.63      0.81      0.71        27\n",
      "          22       1.00      0.14      0.25         7\n",
      "          23       0.62      0.67      0.64        12\n",
      "          24       0.73      0.58      0.65        19\n",
      "          25       0.92      0.77      0.84        31\n",
      "          26       1.00      1.00      1.00         8\n",
      "          27       0.67      0.50      0.57         4\n",
      "          28       0.33      0.30      0.32        10\n",
      "          29       0.50      1.00      0.67         4\n",
      "          30       0.54      0.58      0.56        12\n",
      "          31       0.82      0.69      0.75        13\n",
      "          32       1.00      1.00      1.00        10\n",
      "          33       0.83      1.00      0.91         5\n",
      "          34       0.80      0.57      0.67         7\n",
      "          35       1.00      0.33      0.50         6\n",
      "          36       0.54      0.64      0.58        11\n",
      "          37       0.50      0.50      0.50         2\n",
      "          38       0.50      0.33      0.40         3\n",
      "          39       0.25      0.20      0.22         5\n",
      "          40       1.00      0.40      0.57        10\n",
      "          41       0.80      0.50      0.62         8\n",
      "          42       1.00      1.00      1.00         3\n",
      "          43       0.83      0.83      0.83         6\n",
      "          44       0.80      0.80      0.80         5\n",
      "          45       0.50      1.00      0.67         1\n",
      "\n",
      "    accuracy                           0.82      2246\n",
      "   macro avg       0.73      0.66      0.66      2246\n",
      "weighted avg       0.82      0.82      0.81      2246\n",
      "\n"
     ]
    }
   ],
   "source": [
    "voting_classifier = VotingClassifier(estimators=[\n",
    "         ('lr', LogisticRegression(C=10000, penalty='l2')),\n",
    "        ('cb', ComplementNB()),\n",
    "        ('grbt', GradientBoostingClassifier(random_state=0))\n",
    "], voting='soft', n_jobs=-1)\n",
    "voting_classifier.fit(tfidfv_train, y_train)\n",
    "\n",
    "predicted = voting_classifier.predict(tfidfv_test) #테스트 데이터에 대한 예측\n",
    "print(classification_report(y_test, predicted)) #예측값과 실제값 비교"
   ]
  },
  {
   "cell_type": "markdown",
   "id": "entire-occupation",
   "metadata": {},
   "source": [
    "## 5. 딥러닝 모델들 성능 비교하기"
   ]
  },
  {
   "cell_type": "code",
   "execution_count": 26,
   "id": "asian-mother",
   "metadata": {},
   "outputs": [],
   "source": [
    "# 일반 판다스 데이터프레임을 텐서플로우 데이터셋으로 변환\n",
    "def tensorflow_dataset(input_x, input_y, buffer_size, batch_size):\n",
    "    tf_data = tf.data.Dataset.from_tensor_slices((input_x, input_y))\n",
    "    tf_data = tf_data.shuffle(buffer_size)\n",
    "    tf_data = tf_data.repeat()\n",
    "    tf_data = tf_data.batch(batch_size)\n",
    "    tf_data = tf_data.prefetch(buffer_size = -1)\n",
    "    return tf_data "
   ]
  },
  {
   "cell_type": "code",
   "execution_count": 27,
   "id": "british-pacific",
   "metadata": {},
   "outputs": [
    {
     "name": "stdout",
     "output_type": "stream",
     "text": [
      "문장의 최대 길이 : 2376\n"
     ]
    }
   ],
   "source": [
    "max_len = np.max(list(map(lambda x: len(x), x_train)))\n",
    "print(f\"문장의 최대 길이 : {max_len}\")\n",
    "\n",
    "\n",
    "batch_size = 32\n",
    "embedd_size = 100\n",
    "num_words = np.max(pad_x_train) + 1\n",
    "# 훈련셋\n",
    "pad_x_train = tf.keras.preprocessing.sequence.pad_sequences(x_train, maxlen = max_len)\n",
    "y_tmp = y_train.reshape(-1,1)\n",
    "buffer = len(y_tmp)\n",
    "tf_data = tensorflow_dataset(pad_x_train, y_tmp, buffer, batch_size)"
   ]
  },
  {
   "cell_type": "code",
   "execution_count": 28,
   "id": "presidential-sleeping",
   "metadata": {},
   "outputs": [],
   "source": [
    "# 테스트셋\n",
    "total_num_test = len(x_test)\n",
    "pad_x_test = tf.keras.preprocessing.sequence.pad_sequences(x_test, maxlen = max_len)\n",
    "y_tmp_test = y_test.reshape(-1,1)\n",
    "tf_test = tensorflow_dataset(pad_x_test, y_tmp_test, buffer, batch_size)"
   ]
  },
  {
   "cell_type": "code",
   "execution_count": 29,
   "id": "unlikely-student",
   "metadata": {},
   "outputs": [],
   "source": [
    "class Conv1D(tf.keras.Model):\n",
    "    \n",
    "    def __init__(self, vocab_size, embedd_size):\n",
    "        super(Conv1D, self).__init__()\n",
    "        self.embedd = tf.keras.layers.Embedding(input_dim = vocab_size,\n",
    "                                                output_dim = embedd_size)\n",
    "        self.cnn = tf.keras.layers.Conv1D(64, kernel_size = 3)\n",
    "        self.flatten = tf.keras.layers.Flatten()\n",
    "        self.dense = tf.keras.layers.Dense(64, activation = \"relu\")\n",
    "        self.outputs = tf.keras.layers.Dense(num_classes, activation = \"softmax\")\n",
    "        \n",
    "    def call(self, x):\n",
    "        x = self.embedd(x)\n",
    "        x = self.cnn(x)\n",
    "        x = self.flatten(x)\n",
    "        x = self.dense(x)\n",
    "        x = self.outputs(x)\n",
    "        return x"
   ]
  },
  {
   "cell_type": "code",
   "execution_count": 30,
   "id": "subtle-honor",
   "metadata": {
    "scrolled": false
   },
   "outputs": [
    {
     "name": "stdout",
     "output_type": "stream",
     "text": [
      "Epoch 1/5\n",
      "280/280 [==============================] - 15s 45ms/step - loss: 2.3595 - accuracy: 0.4533\n",
      "Epoch 2/5\n",
      "280/280 [==============================] - 12s 44ms/step - loss: 1.0834 - accuracy: 0.7331\n",
      "Epoch 3/5\n",
      "280/280 [==============================] - 13s 45ms/step - loss: 0.5966 - accuracy: 0.8607\n",
      "Epoch 4/5\n",
      "280/280 [==============================] - 12s 44ms/step - loss: 0.3164 - accuracy: 0.9322\n",
      "Epoch 5/5\n",
      "280/280 [==============================] - 12s 44ms/step - loss: 0.2051 - accuracy: 0.9527\n",
      "70/70 [==============================] - 1s 11ms/step - loss: 1.3466 - accuracy: 0.7205\n",
      "test loss : 1.346612572669983\n",
      "test acc : 0.7205356955528259\n"
     ]
    }
   ],
   "source": [
    "model = Conv1D(num_words, embedd_size)\n",
    "model.compile(loss = \"sparse_categorical_crossentropy\",\n",
    "                  optimizer = \"adam\",\n",
    "                  metrics = [\"accuracy\"])\n",
    "model.fit(tf_data,\n",
    "              steps_per_epoch = buffer // batch_size,\n",
    "              epochs = 5)\n",
    "\n",
    "test_loss, test_acc = model.evaluate(tf_test, steps = total_num_test // batch_size)\n",
    "print(f\"test loss : {test_loss}\")\n",
    "print(f\"test acc : {test_acc}\")"
   ]
  },
  {
   "cell_type": "code",
   "execution_count": 31,
   "id": "certified-edward",
   "metadata": {},
   "outputs": [
    {
     "name": "stdout",
     "output_type": "stream",
     "text": [
      "              precision    recall  f1-score   support\n",
      "\n",
      "           0       0.50      0.25      0.33        12\n",
      "           1       0.50      0.78      0.61       105\n",
      "           2       0.47      0.40      0.43        20\n",
      "           3       0.88      0.92      0.90       813\n",
      "           4       0.80      0.84      0.82       474\n",
      "           5       0.00      0.00      0.00         5\n",
      "           6       0.80      0.57      0.67        14\n",
      "           7       1.00      0.33      0.50         3\n",
      "           8       0.56      0.71      0.63        38\n",
      "           9       0.83      0.60      0.70        25\n",
      "          10       0.58      0.70      0.64        30\n",
      "          11       0.66      0.58      0.62        83\n",
      "          12       0.40      0.15      0.22        13\n",
      "          13       0.53      0.43      0.48        37\n",
      "          14       0.00      0.00      0.00         2\n",
      "          15       0.00      0.00      0.00         9\n",
      "          16       0.47      0.75      0.58        99\n",
      "          17       0.00      0.00      0.00        12\n",
      "          18       0.50      0.30      0.37        20\n",
      "          19       0.60      0.68      0.64       133\n",
      "          20       0.58      0.40      0.47        70\n",
      "          21       0.47      0.33      0.39        27\n",
      "          22       0.00      0.00      0.00         7\n",
      "          23       0.00      0.00      0.00        12\n",
      "          24       0.40      0.11      0.17        19\n",
      "          25       0.73      0.35      0.48        31\n",
      "          26       0.00      0.00      0.00         8\n",
      "          27       1.00      0.25      0.40         4\n",
      "          28       0.06      0.10      0.07        10\n",
      "          29       0.33      0.25      0.29         4\n",
      "          30       0.33      0.08      0.13        12\n",
      "          31       0.00      0.00      0.00        13\n",
      "          32       0.67      0.20      0.31        10\n",
      "          33       0.80      0.80      0.80         5\n",
      "          34       0.67      0.29      0.40         7\n",
      "          35       0.50      0.17      0.25         6\n",
      "          36       0.00      0.00      0.00        11\n",
      "          37       0.00      0.00      0.00         2\n",
      "          38       0.33      0.33      0.33         3\n",
      "          39       0.00      0.00      0.00         5\n",
      "          40       0.67      0.20      0.31        10\n",
      "          41       0.00      0.00      0.00         8\n",
      "          42       0.00      0.00      0.00         3\n",
      "          43       0.18      0.67      0.29         6\n",
      "          44       1.00      0.80      0.89         5\n",
      "          45       0.50      1.00      0.67         1\n",
      "\n",
      "    accuracy                           0.72      2246\n",
      "   macro avg       0.42      0.33      0.34      2246\n",
      "weighted avg       0.71      0.72      0.70      2246\n",
      "\n"
     ]
    },
    {
     "name": "stderr",
     "output_type": "stream",
     "text": [
      "/opt/conda/lib/python3.7/site-packages/sklearn/metrics/_classification.py:1221: UndefinedMetricWarning: Precision and F-score are ill-defined and being set to 0.0 in labels with no predicted samples. Use `zero_division` parameter to control this behavior.\n",
      "  _warn_prf(average, modifier, msg_start, len(result))\n"
     ]
    }
   ],
   "source": [
    "y_pred = model.predict(pad_x_test)\n",
    "y_pred = np.argmax(y_pred, axis = 1)\n",
    "print(classification_report(y_test, y_pred))"
   ]
  }
 ],
 "metadata": {
  "kernelspec": {
   "display_name": "Python 3",
   "language": "python",
   "name": "python3"
  },
  "language_info": {
   "codemirror_mode": {
    "name": "ipython",
    "version": 3
   },
   "file_extension": ".py",
   "mimetype": "text/x-python",
   "name": "python",
   "nbconvert_exporter": "python",
   "pygments_lexer": "ipython3",
   "version": "3.7.9"
  }
 },
 "nbformat": 4,
 "nbformat_minor": 5
}
