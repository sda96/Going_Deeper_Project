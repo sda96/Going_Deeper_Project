{
 "cells": [
  {
   "cell_type": "markdown",
   "id": "fundamental-abortion",
   "metadata": {},
   "source": [
    "# 서론"
   ]
  },
  {
   "cell_type": "markdown",
   "id": "engaged-garbage",
   "metadata": {},
   "source": [
    "해당 노트북의 내용은 한국인 고등학생 대상 한국어 영어 번역 데이터셋을 사용하여 한국어를 영어로 번역하는 모델을 구축하는 것이 목표로 모델의 구조는 Attention is all you need 라는 논문에서 소개된 Transformer 모델을 논문을 보면서 구현하도록 하겠습니다."
   ]
  },
  {
   "cell_type": "markdown",
   "id": "settled-mandate",
   "metadata": {},
   "source": [
    "# 본론"
   ]
  },
  {
   "cell_type": "markdown",
   "id": "daily-death",
   "metadata": {},
   "source": [
    "목차  \n",
    "1. 초기 환경 설정\n",
    "2. 필요한 데이터 불러오기"
   ]
  },
  {
   "cell_type": "markdown",
   "id": "prescription-winning",
   "metadata": {},
   "source": [
    "## 1. 초기 환경 설정"
   ]
  },
  {
   "cell_type": "markdown",
   "id": "exceptional-fields",
   "metadata": {},
   "source": [
    "### 1.1 한국어 형태소 분석기 Ubuntu 버전 Mecab 설치"
   ]
  },
  {
   "cell_type": "markdown",
   "id": "still-drove",
   "metadata": {
    "scrolled": true
   },
   "source": [
    "!sudo apt-get install curl git  \n",
    "\n",
    "!bash <(curl -s https://raw.githubusercontent.com/konlpy/konlpy/master/scripts/mecab.sh)"
   ]
  },
  {
   "cell_type": "markdown",
   "id": "incorporate-migration",
   "metadata": {},
   "source": [
    "### 1.2 필요한 패키지들 불러오기"
   ]
  },
  {
   "cell_type": "markdown",
   "id": "terminal-spray",
   "metadata": {},
   "source": [
    "packages라는 이름의 패키지는 현재 작업디렉토리에 존재하는 package라는 폴더로 해당 폴더안에 존재하는 utils라는 python script에 존재하는 모듈들을 불러오기 위해서 사용된 패키지 입니다."
   ]
  },
  {
   "cell_type": "code",
   "execution_count": 25,
   "id": "trying-telephone",
   "metadata": {},
   "outputs": [],
   "source": [
    "import re\n",
    "from konlpy.tag import Mecab\n",
    "from packages import utils # package 폴더에 utils라는 script에 있는 모듈을 불러옵니다.\n",
    "from tqdm import tqdm\n",
    "\n",
    "from glob import  glob\n",
    "import pandas as pd\n",
    "import numpy as np\n",
    "import matplotlib.pyplot as plt\n",
    "import matplotlib.ticker as ticker\n",
    "import seaborn as sns\n",
    "\n",
    "import tensorflow as tf\n",
    "from tensorflow.keras.preprocessing.sequence import pad_sequences"
   ]
  },
  {
   "cell_type": "markdown",
   "id": "partial-plaza",
   "metadata": {},
   "source": [
    "### 1.3 matplotlib 한글 깨짐 해결"
   ]
  },
  {
   "cell_type": "code",
   "execution_count": 26,
   "id": "hairy-nevada",
   "metadata": {},
   "outputs": [],
   "source": [
    "import numpy as np; \n",
    "import seaborn as sns; \n",
    "\n",
    "np.random.seed(0)\n",
    "\n",
    "# 한글 지원 폰트\n",
    "sns.set(font='NanumGothic')\n",
    "\n",
    "# 마이너스 부호 \n",
    "\n",
    "plt.rcParams['axes.unicode_minus'] = False"
   ]
  },
  {
   "cell_type": "markdown",
   "id": "seeing-dispute",
   "metadata": {},
   "source": [
    "## 2. 필요한 데이터 불러오기"
   ]
  },
  {
   "cell_type": "markdown",
   "id": "covered-football",
   "metadata": {},
   "source": [
    "로드하는 데이터 관련 사이트 : [링크](https://sites.google.com/site/koreanparalleldata/)"
   ]
  },
  {
   "cell_type": "markdown",
   "id": "french-piano",
   "metadata": {},
   "source": [
    "해당 데이터는 한국인 고등학생 대상 영어 번역 데이터로 다양한 종류의 주제를 가지고 만들어졌으며 모델의 입력 데이터로는 한국어 문장이 들어가고 출력 데이터로는 영어 문장이 사용되어집니다.\n",
    "\n",
    "주제 \n",
    "- 뉴스 기사\n",
    "- 짧은 스토리\n",
    "- 편지\n",
    "- 광고"
   ]
  },
  {
   "cell_type": "code",
   "execution_count": 27,
   "id": "vital-animal",
   "metadata": {},
   "outputs": [
    {
     "name": "stdout",
     "output_type": "stream",
     "text": [
      "훈련 데이터 개수 : 94123\n",
      "검증 데이터 개수 : 1000\n",
      "테스트 데이터 개수 : 2000\n"
     ]
    },
    {
     "data": {
      "text/html": [
       "<div>\n",
       "<style scoped>\n",
       "    .dataframe tbody tr th:only-of-type {\n",
       "        vertical-align: middle;\n",
       "    }\n",
       "\n",
       "    .dataframe tbody tr th {\n",
       "        vertical-align: top;\n",
       "    }\n",
       "\n",
       "    .dataframe thead th {\n",
       "        text-align: right;\n",
       "    }\n",
       "</style>\n",
       "<table border=\"1\" class=\"dataframe\">\n",
       "  <thead>\n",
       "    <tr style=\"text-align: right;\">\n",
       "      <th></th>\n",
       "      <th>en</th>\n",
       "      <th>ko</th>\n",
       "    </tr>\n",
       "  </thead>\n",
       "  <tbody>\n",
       "    <tr>\n",
       "      <th>0</th>\n",
       "      <td>Much of personal computing is about \"can you t...</td>\n",
       "      <td>개인용 컴퓨터 사용의 상당 부분은 \"이것보다 뛰어날 수 있느냐?\"\\n</td>\n",
       "    </tr>\n",
       "    <tr>\n",
       "      <th>1</th>\n",
       "      <td>so a mention a few weeks ago about a rechargea...</td>\n",
       "      <td>모든 광마우스와 마찬가지 로 이 광마우스도 책상 위에 놓는 마우스 패드를 필요로 하...</td>\n",
       "    </tr>\n",
       "    <tr>\n",
       "      <th>2</th>\n",
       "      <td>Like all optical mice, But it also doesn't nee...</td>\n",
       "      <td>그러나 이것은 또한 책상도 필요로 하지 않는다.\\n</td>\n",
       "    </tr>\n",
       "    <tr>\n",
       "      <th>3</th>\n",
       "      <td>uses gyroscopic sensors to control the cursor ...</td>\n",
       "      <td>79.95달러하는 이 최첨단 무선 광마우스는 허공에서 팔목, 팔, 그외에 어떤 부분...</td>\n",
       "    </tr>\n",
       "    <tr>\n",
       "      <th>4</th>\n",
       "      <td>Intelligence officials have revealed a spate o...</td>\n",
       "      <td>정보 관리들은 동남 아시아에서의 선박들에 대한 많은 (테러) 계획들이 실패로 돌아갔...</td>\n",
       "    </tr>\n",
       "  </tbody>\n",
       "</table>\n",
       "</div>"
      ],
      "text/plain": [
       "                                                  en  \\\n",
       "0  Much of personal computing is about \"can you t...   \n",
       "1  so a mention a few weeks ago about a rechargea...   \n",
       "2  Like all optical mice, But it also doesn't nee...   \n",
       "3  uses gyroscopic sensors to control the cursor ...   \n",
       "4  Intelligence officials have revealed a spate o...   \n",
       "\n",
       "                                                  ko  \n",
       "0             개인용 컴퓨터 사용의 상당 부분은 \"이것보다 뛰어날 수 있느냐?\"\\n  \n",
       "1  모든 광마우스와 마찬가지 로 이 광마우스도 책상 위에 놓는 마우스 패드를 필요로 하...  \n",
       "2                       그러나 이것은 또한 책상도 필요로 하지 않는다.\\n  \n",
       "3  79.95달러하는 이 최첨단 무선 광마우스는 허공에서 팔목, 팔, 그외에 어떤 부분...  \n",
       "4  정보 관리들은 동남 아시아에서의 선박들에 대한 많은 (테러) 계획들이 실패로 돌아갔...  "
      ]
     },
     "execution_count": 27,
     "metadata": {},
     "output_type": "execute_result"
    }
   ],
   "source": [
    "train_data_path = glob(\"./data/train/*\")\n",
    "test_data_path = glob(\"./data/test/*\")\n",
    "dev_data_path = glob(\"./data/dev/*\")\n",
    "\n",
    "def data_load(data_path):\n",
    "    result = []\n",
    "    for setences in data_path:\n",
    "        with open(setences) as f:\n",
    "            result += [f.readlines()]\n",
    "    en, ko = result        \n",
    "    data = pd.DataFrame({\"en\":en, \"ko\":ko})\n",
    "    return data\n",
    "\n",
    "train = data_load(train_data_path)\n",
    "test = data_load(test_data_path)\n",
    "dev = data_load(dev_data_path)\n",
    "\n",
    "cp_train = train.copy()\n",
    "cp_test = test.copy()\n",
    "cp_dev = dev.copy()\n",
    "\n",
    "print(f\"훈련 데이터 개수 : {cp_train.shape[0]}\")\n",
    "print(f\"검증 데이터 개수 : {cp_dev.shape[0]}\")\n",
    "print(f\"테스트 데이터 개수 : {cp_test.shape[0]}\")\n",
    "cp_train.head()"
   ]
  },
  {
   "cell_type": "markdown",
   "id": "furnished-sample",
   "metadata": {},
   "source": [
    "한국어 영어로된 한 쌍의 문장 데이터로 구성되어"
   ]
  },
  {
   "cell_type": "markdown",
   "id": "accepted-relative",
   "metadata": {},
   "source": [
    "## 3. 데이터 전처리"
   ]
  },
  {
   "cell_type": "markdown",
   "id": "durable-wagner",
   "metadata": {},
   "source": [
    "입출력 데이터를 모델의 학습에 적합한 상태로 만들기 위해서 데이터 전처리 과정을 거쳐야 합니다.  \n",
    "텍스트 데이터의 경우 거쳐야 하는 기본적인 전처리 과정과 데이터셋의 특성에 따른 추가적인 전처리를 해야하는 경우가 있습니다.  \n",
    "\n",
    "기본 전처리\n",
    "- 중복 데이터 제거\n",
    "- 영어, 한국어에 불필요한 특수문자, 공백 제거\n",
    "- 결측 데이터 제거\n",
    "\n",
    "추가 전처리\n",
    "- 영어, 한국어 텍스트 전처리"
   ]
  },
  {
   "cell_type": "markdown",
   "id": "incomplete-indian",
   "metadata": {},
   "source": [
    "### 3.1 중복 데이터 제거"
   ]
  },
  {
   "cell_type": "code",
   "execution_count": 28,
   "id": "asian-insight",
   "metadata": {},
   "outputs": [],
   "source": [
    "cp_train = cp_train.drop_duplicates(\"en\", keep = \"first\")\n",
    "cp_train = cp_train.drop_duplicates(\"ko\", keep = \"first\").reset_index()\n",
    "\n",
    "cp_test = cp_test.drop_duplicates(\"en\", keep = \"first\")\n",
    "cp_test = cp_test.drop_duplicates(\"ko\", keep = \"first\").reset_index()\n",
    "\n",
    "cp_dev = cp_dev.drop_duplicates(\"en\", keep = \"first\")\n",
    "cp_dev = cp_dev.drop_duplicates(\"ko\", keep = \"first\").reset_index()"
   ]
  },
  {
   "cell_type": "markdown",
   "id": "given-florence",
   "metadata": {},
   "source": [
    "### 3.2 영어, 한국어에 불필요한 특수문자, 공백 제거"
   ]
  },
  {
   "cell_type": "code",
   "execution_count": 29,
   "id": "european-housing",
   "metadata": {},
   "outputs": [],
   "source": [
    "cp_train[\"ko\"] = cp_train[\"ko\"].apply(lambda x : utils.text_preprocessing(x))\n",
    "cp_train[\"en\"] = cp_train[\"en\"].apply(lambda x : utils.text_preprocessing(x))\n",
    "\n",
    "cp_test[\"ko\"] = cp_test[\"ko\"].apply(lambda x : utils.text_preprocessing(x))\n",
    "cp_test[\"en\"] = cp_test[\"en\"].apply(lambda x : utils.text_preprocessing(x))\n",
    "\n",
    "cp_dev[\"ko\"] = cp_dev[\"ko\"].apply(lambda x : utils.text_preprocessing(x))\n",
    "cp_dev[\"en\"] = cp_dev[\"en\"].apply(lambda x : utils.text_preprocessing(x))"
   ]
  },
  {
   "cell_type": "markdown",
   "id": "collectible-translator",
   "metadata": {},
   "source": [
    "### 3.3 영어, 한국어 텍스트 전처리"
   ]
  },
  {
   "cell_type": "code",
   "execution_count": 30,
   "id": "subject-candidate",
   "metadata": {},
   "outputs": [],
   "source": [
    "def ko_pre(sentence):\n",
    "    sentence = re.sub(\"\\n\", \"\", sentence)\n",
    "    sentence = re.sub(\"[0-9A-Za-z]+\", \" \", sentence)\n",
    "    sentence = re.sub(\"원문기사보기|이수지|원문기사\", \"\", sentence)\n",
    "    sentence = re.sub(\"[ ]+\", \" \", sentence)\n",
    "    sentence = sentence.strip()\n",
    "    return sentence\n",
    "\n",
    "def en_pre(sentence):\n",
    "    sentence = \"<bos> \" + sentence.lower() + \" <eos>\"\n",
    "    sentence = re.sub(\"[0-9ㄱ-ㅎ가-힣]+\", \" \", sentence)\n",
    "    sentence = re.sub(\"[ ]+\", \" \", sentence)\n",
    "    sentence = sentence.strip()\n",
    "    return sentence\n",
    "\n",
    "cp_train[\"en\"] = cp_train[\"en\"].apply(lambda x: en_pre(x))\n",
    "cp_dev[\"en\"] = cp_dev[\"en\"].apply(lambda x: en_pre(x))\n",
    "\n",
    "cp_train[\"ko\"] = cp_train[\"ko\"].apply(lambda x: ko_pre(x))\n",
    "cp_dev[\"ko\"] = cp_dev[\"ko\"].apply(lambda x: ko_pre(x))"
   ]
  },
  {
   "cell_type": "markdown",
   "id": "conservative-price",
   "metadata": {},
   "source": [
    "### 3.4 결측 데이터 제거"
   ]
  },
  {
   "cell_type": "code",
   "execution_count": 31,
   "id": "touched-edwards",
   "metadata": {},
   "outputs": [],
   "source": [
    "cp_train = utils.remove_nan(cp_train)\n",
    "cp_test = utils.remove_nan(cp_test)\n",
    "cp_dev = utils.remove_nan(cp_dev)"
   ]
  },
  {
   "cell_type": "markdown",
   "id": "simplified-watson",
   "metadata": {},
   "source": [
    "## 4. SentencePiece BPE 방법으로 토큰화"
   ]
  },
  {
   "cell_type": "markdown",
   "id": "fuzzy-keyboard",
   "metadata": {},
   "source": [
    "SentencePiece는 서브워드 단위로 분절하는 토큰화 기법으로 Uni-gram 방식과 Byte-Pair-Encoding(BPE) 방식이 존재하는데 해당 노트북에서는 좀 더 성능이 좋다고 알려진 BPE 방식을 채택하겠습니다.\n",
    "\n",
    "그리고 한 문장에 존재하는 단어의 개수가 50개 이하의 문장을 사용하기 위해서 임시로 모든 문장을 사용한 임시 모델을 만든 뒤 토큰화시켜서 문장별 단어의 개수를 구하고, 다음으로 50개 이하의 단어를 사용한 문장만 뽑아서 다시 본 모델을 만들겠습니다.\n",
    "\n",
    "SentencePiece 모델을 임시 모델과 본 모델을 나눈 이유는\n",
    "- 임시 모델에서 사용되지 않는 서브워드가 존재하면 단어장 메모리의 낭비라고 생각했습니다.\n",
    "- 임시 모델에서 생성된 서브워드보다 본 모델로 생성된 서브워드가 더 가치가 있다고 판단했기 때문입니다.\n",
    "\n",
    "SentencePiece 모델을 구축하기 위해서 사용될 하이퍼파라미터는 다음과 같습니다.\n",
    "- model_type = \"bpe\"\n",
    "- vocab_size = 20,000"
   ]
  },
  {
   "cell_type": "markdown",
   "id": "green-semiconductor",
   "metadata": {},
   "source": [
    "### 4.1 서브단어의 개수를 보기 위한 임시 모델 구축 "
   ]
  },
  {
   "cell_type": "markdown",
   "id": "preceding-variety",
   "metadata": {},
   "source": [
    "#### 한국어 임시 SentencePiece model, vocab 구축"
   ]
  },
  {
   "cell_type": "code",
   "execution_count": 32,
   "id": "fossil-intellectual",
   "metadata": {
    "scrolled": true
   },
   "outputs": [],
   "source": [
    "model_type = \"bpe\"\n",
    "data = cp_train[\"ko\"]\n",
    "SRC_VOCAB_SIZE = 20000\n",
    "\n",
    "add = False # 함수에서 요구하는 파라미터\n",
    "train_test = \"train_ko\" # 함수에서 요구하는 파라미터\n",
    "temp_file = \"./spm_ko_train_tmp.tmp\" # tmp 파일명\n",
    "\n",
    "ko_spm_tmp = utils.SentencePiece(model_type, \n",
    "                                 data, \n",
    "                                 SRC_VOCAB_SIZE, \n",
    "                                 add, \n",
    "                                 train_test, \n",
    "                                 temp_file)"
   ]
  },
  {
   "cell_type": "markdown",
   "id": "competent-brooklyn",
   "metadata": {},
   "source": [
    "#### 영어 임시 SentencePiece model, vocab 구축"
   ]
  },
  {
   "cell_type": "code",
   "execution_count": 33,
   "id": "stretch-pantyhose",
   "metadata": {},
   "outputs": [],
   "source": [
    "model_type = \"bpe\"\n",
    "data = cp_train[\"en\"]\n",
    "TGT_VOCAB_SIZE = 20000\n",
    "add = False\n",
    "train_test = \"train_en\"\n",
    "temp_file = \"./spm_en_train_tmp.tmp\"\n",
    "\n",
    "en_spm_tmp = utils.SentencePiece(model_type, \n",
    "                                 data, \n",
    "                                 TGT_VOCAB_SIZE, \n",
    "                                 add, \n",
    "                                 train_test, \n",
    "                                 temp_file)"
   ]
  },
  {
   "cell_type": "markdown",
   "id": "proved-westminster",
   "metadata": {},
   "source": [
    "#### 구축된 SPM모델로 토큰화"
   ]
  },
  {
   "cell_type": "code",
   "execution_count": 34,
   "id": "honey-direction",
   "metadata": {},
   "outputs": [],
   "source": [
    "# spm에 있는 토큰을 인코딩하면 (\"\", <bos>)이런식으로 나오기에 \"\"부분 제거\n",
    "token_blank_tmp = en_spm_tmp.EncodeAsIds(\"<bos>\")[0]\n",
    "cp_train[\"pre_ko\"] = cp_train[\"ko\"].apply(lambda x: ko_spm_tmp.encode_as_ids(x))\n",
    "cp_train[\"pre_ko\"] = cp_train[\"pre_ko\"].apply(lambda x: list(filter((token_blank_tmp).__ne__,x)))\n",
    "\n",
    "cp_train[\"pre_en\"] = cp_train[\"en\"].apply(lambda x: en_spm_tmp.encode_as_ids(x))\n",
    "cp_train[\"pre_en\"] = cp_train[\"pre_en\"].apply(lambda x: list(filter((token_blank_tmp).__ne__,x)))"
   ]
  },
  {
   "cell_type": "markdown",
   "id": "printable-satin",
   "metadata": {},
   "source": [
    "### 4.2 너무 길고 짧은 문장 제거"
   ]
  },
  {
   "cell_type": "markdown",
   "id": "informal-whale",
   "metadata": {},
   "source": [
    "- 토큰화 시킨 뒤 문장의 길이, 즉 토큰의 개수가 50개 이하, 5개 이상인 데이터는 제거합니다.\n",
    "- 토큰의 개수를 50개 이하로 한 이유는 해당 프로젝트에서 정한 기준이기 때문입니다.\n",
    "- 토큰의 개수가 5개로 한 이유는 한국어, 영어 데이터를 전처리 후 결과를 보니 짧은 데이터중에서 쓸모 없는 데이터가 많이 발견되었으며 토큰의 개수가 5개이상 부터는 그럴 듯한 문장이 나오기 때문입니다."
   ]
  },
  {
   "cell_type": "code",
   "execution_count": 35,
   "id": "polar-plastic",
   "metadata": {},
   "outputs": [
    {
     "name": "stdout",
     "output_type": "stream",
     "text": [
      "짧거나 긴 문장 제거 전 데이터 개수 : 74760\n"
     ]
    },
    {
     "data": {
      "image/png": "[encoded data removed]",
      "text/plain": [
       "<Figure size 432x288 with 1 Axes>"
      ]
     },
     "metadata": {},
     "output_type": "display_data"
    }
   ],
   "source": [
    "cp_train[\"pre_ko_len\"] = cp_train[\"pre_ko\"].apply(lambda x: len(x))\n",
    "cp_train[\"pre_en_len\"] = cp_train[\"pre_en\"].apply(lambda x: len(x))\n",
    "print(f\"짧거나 긴 문장 제거 전 데이터 개수 : {cp_train.shape[0]}\")\n",
    "\n",
    "cp_train.groupby(\"pre_ko_len\").count().iloc[:,0].plot()\n",
    "cp_train.groupby(\"pre_en_len\").count().iloc[:,0].plot()\n",
    "plt.xlabel(\"문장 길이\")\n",
    "plt.ylabel(\"문장 개수\")\n",
    "plt.show()"
   ]
  },
  {
   "cell_type": "code",
   "execution_count": 36,
   "id": "subsequent-mitchell",
   "metadata": {
    "scrolled": true
   },
   "outputs": [
    {
     "name": "stdout",
     "output_type": "stream",
     "text": [
      "짧거나 긴 문장 제거 후 데이터 개수 : 70974\n"
     ]
    },
    {
     "data": {
      "image/png": "[encoded data removed]",
      "text/plain": [
       "<Figure size 432x288 with 1 Axes>"
      ]
     },
     "metadata": {},
     "output_type": "display_data"
    }
   ],
   "source": [
    "cp_train = cp_train[(cp_train[\"pre_ko_len\"] <= 50) & (cp_train[\"pre_ko_len\"] >= 5)].reset_index(drop=True)\n",
    "cp_train = cp_train[(cp_train[\"pre_en_len\"] <= 50) & (cp_train[\"pre_en_len\"] >= 5)].reset_index(drop=True)\n",
    "print(f\"짧거나 긴 문장 제거 후 데이터 개수 : {cp_train.shape[0]}\")\n",
    "\n",
    "cp_train.groupby(\"pre_ko_len\").count().iloc[:,0].plot()\n",
    "cp_train.groupby(\"pre_en_len\").count().iloc[:,0].plot()\n",
    "plt.xlabel(\"문장 길이\")\n",
    "plt.ylabel(\"문장 개수\")\n",
    "plt.show()"
   ]
  },
  {
   "cell_type": "markdown",
   "id": "straight-emergency",
   "metadata": {},
   "source": [
    "### 4.3 SentencePiece 본 모델 구축"
   ]
  },
  {
   "cell_type": "markdown",
   "id": "buried-egyptian",
   "metadata": {},
   "source": [
    "#### 영어와 한국어 SentencePiece model, vocab 구축"
   ]
  },
  {
   "cell_type": "code",
   "execution_count": 37,
   "id": "alternate-serum",
   "metadata": {
    "scrolled": true
   },
   "outputs": [],
   "source": [
    "model_type = \"bpe\"\n",
    "data = cp_train[\"ko\"]\n",
    "SRC_VOCAB_SIZE = 20000\n",
    "\n",
    "add = False\n",
    "train_test = \"train_ko\"\n",
    "temp_file = \"./spm_ko_train.tmp\"\n",
    "\n",
    "ko_spm = utils.SentencePiece(model_type, \n",
    "                             data, \n",
    "                             SRC_VOCAB_SIZE, \n",
    "                             add, \n",
    "                             train_test, \n",
    "                             temp_file)"
   ]
  },
  {
   "cell_type": "code",
   "execution_count": 38,
   "id": "empty-dayton",
   "metadata": {},
   "outputs": [],
   "source": [
    "model_type = \"bpe\"\n",
    "data = cp_train[\"en\"]\n",
    "TGT_VOCAB_SIZE = 20000\n",
    "add = False\n",
    "train_test = \"train_en\"\n",
    "temp_file = \"./spm_en_train.tmp\"\n",
    "\n",
    "en_spm = utils.SentencePiece(model_type, \n",
    "                             data, \n",
    "                             TGT_VOCAB_SIZE, \n",
    "                             add, \n",
    "                             train_test, \n",
    "                             temp_file)"
   ]
  },
  {
   "cell_type": "markdown",
   "id": "favorite-beast",
   "metadata": {},
   "source": [
    "#### 구축된 SPM모델로 토큰화"
   ]
  },
  {
   "cell_type": "code",
   "execution_count": 39,
   "id": "given-hollywood",
   "metadata": {},
   "outputs": [],
   "source": [
    "# spm에 있는 토큰을 인코딩하면 (\"\", <bos>)이런식으로 나오기에 \"\"부분 제거\n",
    "token_blank = en_spm.EncodeAsIds(\"<bos>\")[0]\n",
    "cp_train[\"pre_ko\"] = cp_train[\"ko\"].apply(lambda x: ko_spm.encode_as_ids(x))\n",
    "cp_train[\"pre_ko\"] = cp_train[\"pre_ko\"].apply(lambda x: list(filter((token_blank).__ne__,x)))\n",
    "\n",
    "cp_train[\"pre_en\"] = cp_train[\"en\"].apply(lambda x: en_spm.encode_as_ids(x))\n",
    "cp_train[\"pre_en\"] = cp_train[\"pre_en\"].apply(lambda x: list(filter((token_blank).__ne__,x)))"
   ]
  },
  {
   "cell_type": "markdown",
   "id": "american-granny",
   "metadata": {},
   "source": [
    "### 4.4 모든 데이터를 길이 50인 문장으로 패딩"
   ]
  },
  {
   "cell_type": "markdown",
   "id": "preliminary-encounter",
   "metadata": {},
   "source": [
    "- 패딩 토큰 \\<pad>의 id : 1\n",
    "- 시작 토큰 \\<bos>의 id : 4\n",
    "- 끝 토큰 \\<eos>의 id : 5\n",
    "- 알려지지 않은 서브워드 토큰(unk토큰) \" ?? \" : 0"
   ]
  },
  {
   "cell_type": "code",
   "execution_count": 40,
   "id": "flexible-canon",
   "metadata": {},
   "outputs": [
    {
     "data": {
      "text/plain": [
       "(array([[ 1409, 18947,  1005, ...,     1,     1,     1],\n",
       "        [  445,   613, 18887, ...,     1,     1,     1],\n",
       "        [  186,  2651,   365, ...,     1,     1,     1],\n",
       "        ...,\n",
       "        [  186,   127, 19211, ...,     1,     1,     1],\n",
       "        [  600, 18899,  2118, ...,     1,     1,     1],\n",
       "        [  492,   600, 18899, ...,     1,     1,     1]], dtype=int32),\n",
       " array([[   4, 1113,   37, ...,    1,    1,    1],\n",
       "        [   4,  384,    7, ...,    1,    1,    1],\n",
       "        [   4,  589,  306, ...,    1,    1,    1],\n",
       "        ...,\n",
       "        [   4,  183,   11, ...,    1,    1,    1],\n",
       "        [   4, 1072,   45, ...,    1,    1,    1],\n",
       "        [   4,  345,  152, ...,    1,    1,    1]], dtype=int32),\n",
       " (70974, 50),\n",
       " (70974, 50))"
      ]
     },
     "execution_count": 40,
     "metadata": {},
     "output_type": "execute_result"
    }
   ],
   "source": [
    "x_train = pad_sequences(cp_train[\"pre_ko\"], \n",
    "                        maxlen = 50,\n",
    "                        value = 1,\n",
    "                        padding = \"post\")\n",
    "y_train = pad_sequences(cp_train[\"pre_en\"], \n",
    "                        maxlen = 50, \n",
    "                        value = 1,\n",
    "                        padding = \"post\")\n",
    "\n",
    "x_train, y_train, x_train.shape, y_train.shape"
   ]
  },
  {
   "cell_type": "markdown",
   "id": "breathing-police",
   "metadata": {},
   "source": [
    "### 4.5 검증 데이터에도 훈련 데이터에 적용한 부분 똑같이 적용"
   ]
  },
  {
   "cell_type": "code",
   "execution_count": 48,
   "id": "cooked-formation",
   "metadata": {},
   "outputs": [
    {
     "data": {
      "text/plain": [
       "(array([[  271,   373,   309, ...,     1,     1,     1],\n",
       "        [16270,    60,  6282, ...,     1,     1,     1],\n",
       "        [ 1057,  1333,  1986, ...,     1,     1,     1],\n",
       "        ...,\n",
       "        [  899, 18843, 18863, ...,     1,     1,     1],\n",
       "        [ 2164, 15909,    55, ...,     1,     1,     1],\n",
       "        [ 1567,  1705, 19504, ...,     1,     1,     1]], dtype=int32),\n",
       " array([[    4,   210,  4464, ...,     1,     1,     1],\n",
       "        [    4,   109,    11, ...,     1,     1,     1],\n",
       "        [    4,   798,  1145, ...,     1,     1,     1],\n",
       "        ...,\n",
       "        [    4,   612, 19995, ...,     1,     1,     1],\n",
       "        [    4,   528,   508, ...,     1,     1,     1],\n",
       "        [    4,  2433,  7701, ...,     1,     1,     1]], dtype=int32),\n",
       " (938, 50),\n",
       " (938, 50))"
      ]
     },
     "execution_count": 48,
     "metadata": {},
     "output_type": "execute_result"
    }
   ],
   "source": [
    "cp_dev[\"pre_ko\"] = cp_dev[\"ko\"].apply(lambda x: ko_spm.encode_as_ids(x))\n",
    "cp_dev[\"pre_ko\"] = cp_dev[\"pre_ko\"].apply(lambda x: list(filter((token_blank).__ne__,x)))\n",
    "cp_dev[\"pre_en\"] = cp_dev[\"en\"].apply(lambda x: en_spm.encode_as_ids(x))\n",
    "cp_dev[\"pre_en\"] = cp_dev[\"pre_en\"].apply(lambda x: list(filter((token_blank).__ne__,x)))\n",
    "\n",
    "cp_dev[\"pre_ko_len\"] = cp_dev[\"pre_ko\"].apply(lambda x: len(x))\n",
    "cp_dev[\"pre_en_len\"] = cp_dev[\"pre_en\"].apply(lambda x: len(x))\n",
    "\n",
    "cp_dev = cp_dev[cp_dev[\"pre_ko_len\"] <= 50].reset_index(drop=True)\n",
    "cp_dev = cp_dev[cp_dev[\"pre_en_len\"] <= 50].reset_index(drop=True)\n",
    "\n",
    "x_dev = pad_sequences(cp_dev[\"pre_ko\"], \n",
    "                      maxlen = 50, \n",
    "                      value = 1,\n",
    "                      padding = \"post\")\n",
    "y_dev = pad_sequences(cp_dev[\"pre_en\"], \n",
    "                      maxlen = 50, \n",
    "                      value = 1,\n",
    "                      padding = \"post\")\n",
    "\n",
    "x_dev, y_dev, x_dev.shape, y_dev.shape"
   ]
  },
  {
   "cell_type": "markdown",
   "id": "natural-douglas",
   "metadata": {},
   "source": [
    "## 5. Transformer 모델 설계"
   ]
  },
  {
   "cell_type": "markdown",
   "id": "suburban-edward",
   "metadata": {},
   "source": [
    "Attention is all you need 논문에 있는 내용들을 바탕으로 내부 모듈부터 Encoder, Decoder 설계를 시작하겠습니다."
   ]
  },
  {
   "cell_type": "markdown",
   "id": "described-bouquet",
   "metadata": {},
   "source": [
    "### 5.1 Postional Encoding"
   ]
  },
  {
   "cell_type": "markdown",
   "id": "appointed-davis",
   "metadata": {},
   "source": [
    "![image](https://user-images.githubusercontent.com/51338268/148015775-92c1741a-5975-4eff-b6b7-5417aa408536.png)\n"
   ]
  },
  {
   "cell_type": "markdown",
   "id": "attended-commerce",
   "metadata": {},
   "source": [
    "![image](https://user-images.githubusercontent.com/51338268/148015862-281ba3c2-2dbb-4d4d-a45d-7f11ba00bb8d.png)"
   ]
  },
  {
   "cell_type": "code",
   "execution_count": 49,
   "id": "statutory-detective",
   "metadata": {},
   "outputs": [],
   "source": [
    "def positional_encoding(pos, d_model = 512):\n",
    "    def PE(pos, i, d_model):\n",
    "        if i % 2 == 0:\n",
    "            return np.sin(pos / (1000**((2*i)/d_model)))\n",
    "        else:\n",
    "            return np.cos(pos / (1000**((2*i)/d_model)))\n",
    "    \n",
    "    total_tmp = []\n",
    "    for i in range(pos):\n",
    "        tmp = []\n",
    "        for j in range(d_model):\n",
    "            tmp += [PE(i, j, d_model)]\n",
    "        total_tmp += [tmp]\n",
    "    return np.array(total_tmp)"
   ]
  },
  {
   "cell_type": "code",
   "execution_count": 50,
   "id": "helpful-scanning",
   "metadata": {},
   "outputs": [
    {
     "data": {
      "image/png": "[encoded data removed]",
      "text/plain": [
       "<Figure size 432x288 with 1 Axes>"
      ]
     },
     "metadata": {},
     "output_type": "display_data"
    }
   ],
   "source": [
    "ex = positional_encoding(50, 512)\n",
    "plt.plot(ex)\n",
    "plt.show()"
   ]
  },
  {
   "cell_type": "markdown",
   "id": "breathing-rendering",
   "metadata": {},
   "source": [
    "### 5.2 Scaled Dot-Product Attention"
   ]
  },
  {
   "cell_type": "markdown",
   "id": "gross-option",
   "metadata": {},
   "source": [
    "![image](https://user-images.githubusercontent.com/51338268/148015901-2b54bcef-99dc-4e8e-b05d-a1a68be45573.png)"
   ]
  },
  {
   "cell_type": "markdown",
   "id": "white-philosophy",
   "metadata": {},
   "source": [
    "![image](https://user-images.githubusercontent.com/51338268/148016159-5c338069-ca87-46fc-b824-c27186abc191.png)"
   ]
  },
  {
   "cell_type": "markdown",
   "id": "tutorial-suite",
   "metadata": {},
   "source": [
    "Scaled dot product attention의 기본 구조는 위와 같습니다."
   ]
  },
  {
   "cell_type": "markdown",
   "id": "narrow-carol",
   "metadata": {},
   "source": [
    "masked attention을 적용하기 위한 내용은 다음과 같습니다."
   ]
  },
  {
   "cell_type": "markdown",
   "id": "environmental-weapon",
   "metadata": {},
   "source": [
    "![image](https://user-images.githubusercontent.com/51338268/148017092-84201c0a-524f-4ba9-8aae-e210135e927a.png)"
   ]
  },
  {
   "cell_type": "markdown",
   "id": "earlier-balloon",
   "metadata": {},
   "source": [
    "self-attention에서 masking을 시키는 부분의 위치를 설명하자면 i번째 위치의 단어를 예측하기 위해서 오직 i번째보다 작은 위치의 결과만 사용한다는 의미로 그림으로 설명하면 다음과 같습니다."
   ]
  },
  {
   "cell_type": "markdown",
   "id": "headed-seventh",
   "metadata": {},
   "source": [
    "[![image](https://user-images.githubusercontent.com/51338268/148023579-60365950-79c2-4bb9-a33d-62ee02f9d61e.png)](https://aimb.tistory.com/182)"
   ]
  },
  {
   "cell_type": "markdown",
   "id": "photographic-arena",
   "metadata": {},
   "source": [
    "![image](https://user-images.githubusercontent.com/51338268/148016406-03f6dcbe-e894-467c-a2dd-c1b0aa26b12a.png)"
   ]
  },
  {
   "cell_type": "markdown",
   "id": "subjective-wages",
   "metadata": {},
   "source": [
    "이 내용을 통하여 attention에서 masking되어지는 부분은 $-\\infty$로 적용되어집니다."
   ]
  },
  {
   "cell_type": "code",
   "execution_count": 51,
   "id": "rising-companion",
   "metadata": {},
   "outputs": [],
   "source": [
    "class ScaledDotAttn(tf.keras.layers.Layer):\n",
    "    \n",
    "    def __init__(self, d_model, masked = None):\n",
    "        super(ScaledDotAttn, self).__init__()\n",
    "        self.d_model = d_model\n",
    "        self.masked = masked\n",
    "        self.query = tf.keras.layers.Dense(d_model)\n",
    "        self.key = tf.keras.layers.Dense(d_model)\n",
    "        self.value = tf.keras.layers.Dense(d_model)\n",
    "        self.softmax = tf.keras.layers.Softmax()\n",
    "        \n",
    "    def call(self, x, context_vector = None):\n",
    "        batch_size = x.shape[0]\n",
    "        query = self.query(tf.identity(x))\n",
    "        # encoder-decoder attention\n",
    "        if context_vector is not None:\n",
    "            key = self.key(tf.identity(context_vector))\n",
    "        else:\n",
    "            key = self.key(tf.identity(x))\n",
    "        if context_vector is not None:\n",
    "            value = self.value(tf.identity(context_vector))\n",
    "        else:\n",
    "            value = self.value(tf.identity(x))\n",
    "        \n",
    "        batch_bucket = []\n",
    "        for batch in range(batch_size):\n",
    "            query_key = tf.linalg.matmul(query[batch], tf.transpose(key[batch]))\n",
    "            scaled_query_key = query_key / np.sqrt(self.d_model)\n",
    "            \n",
    "            # masked self-attention\n",
    "            if self.masked is not None:\n",
    "                trill_key_query = np.tril(scaled_query_key, 0)\n",
    "                masked_key_query = np.where(trill_key_query == 0, -1e9, trill_key_query)\n",
    "                softmax = self.softmax(masked_key_query) # softmax를 하면 masking부분이 0이 됩니다.\n",
    "            else:\n",
    "                softmax = self.softmax(scaled_query_key)\n",
    "            out = tf.linalg.matmul(softmax, value[batch])\n",
    "            batch_bucket += [out.numpy()]\n",
    "            \n",
    "        out = tf.constant(batch_bucket)\n",
    "        return out"
   ]
  },
  {
   "cell_type": "code",
   "execution_count": 52,
   "id": "latin-chemistry",
   "metadata": {},
   "outputs": [],
   "source": [
    "x_train_part = x_train[:60]\n",
    "embedd = tf.keras.layers.Embedding(20000, 512)\n",
    "ex = embedd(x_train_part)"
   ]
  },
  {
   "cell_type": "code",
   "execution_count": 53,
   "id": "usual-edwards",
   "metadata": {
    "scrolled": true
   },
   "outputs": [
    {
     "data": {
      "text/plain": [
       "TensorShape([60, 50, 512])"
      ]
     },
     "execution_count": 53,
     "metadata": {},
     "output_type": "execute_result"
    }
   ],
   "source": [
    "attn = ScaledDotAttn(512)\n",
    "ex1 = attn(ex)\n",
    "ex1.shape"
   ]
  },
  {
   "cell_type": "markdown",
   "id": "major-mauritius",
   "metadata": {},
   "source": [
    "### 5.3 Multi-Head Attention"
   ]
  },
  {
   "cell_type": "markdown",
   "id": "fewer-billy",
   "metadata": {},
   "source": [
    "![image](https://user-images.githubusercontent.com/51338268/148016116-32d483db-19e4-4f58-b6db-f00e1beff458.png)"
   ]
  },
  {
   "cell_type": "markdown",
   "id": "damaged-magic",
   "metadata": {},
   "source": [
    "![image](https://user-images.githubusercontent.com/51338268/148016190-7404e52b-5ed8-4b1a-bf34-a31f4f3697f1.png)"
   ]
  },
  {
   "cell_type": "markdown",
   "id": "strong-trinity",
   "metadata": {},
   "source": [
    "Multi head attention에서 입력의 차원이 512개라서 8개의 head로 나누면 각 attention은 64개의 차원을 가지고, scaled-dot product를 적용하기 전에 linear를 사용합니다."
   ]
  },
  {
   "cell_type": "code",
   "execution_count": 54,
   "id": "resistant-southwest",
   "metadata": {},
   "outputs": [],
   "source": [
    "class MultiHeadAttn(tf.keras.layers.Layer):\n",
    "    \n",
    "    def __init__(self, h, d_model, masked = None):\n",
    "        super(MultiHeadAttn, self).__init__()\n",
    "        self.h = h\n",
    "        self.d_model = d_model\n",
    "        self.masked = masked\n",
    "        self.partitions = self.d_model // self.h\n",
    "        self.attn = ScaledDotAttn(self.partitions, self.masked)\n",
    "        self.outputs = tf.keras.layers.Dense(self.d_model)\n",
    "        \n",
    "    def call(self, x, context_vector = None):\n",
    "        bucket_out = []\n",
    "        for i in range(self.h):\n",
    "            part_x = x[:,:,(i*self.partitions):((i+1)*self.partitions)]\n",
    "            part_x = self.attn(part_x, context_vector)\n",
    "            bucket_out += [part_x]\n",
    "        bucket_out = tf.concat(bucket_out, axis = -1)\n",
    "        bucket_out = self.outputs(bucket_out)\n",
    "        return bucket_out"
   ]
  },
  {
   "cell_type": "code",
   "execution_count": 55,
   "id": "higher-moses",
   "metadata": {},
   "outputs": [
    {
     "data": {
      "text/plain": [
       "TensorShape([60, 50, 512])"
      ]
     },
     "execution_count": 55,
     "metadata": {},
     "output_type": "execute_result"
    }
   ],
   "source": [
    "multi = MultiHeadAttn(8, 512)\n",
    "aa = multi(ex)\n",
    "aa.shape"
   ]
  },
  {
   "cell_type": "markdown",
   "id": "close-conclusion",
   "metadata": {},
   "source": [
    "### 5.4 Postion-Wise Feed Forward Network"
   ]
  },
  {
   "cell_type": "markdown",
   "id": "senior-touch",
   "metadata": {},
   "source": [
    "![image](https://user-images.githubusercontent.com/51338268/148016328-bc152787-a3bb-4f72-9227-458ddb457a0f.png)"
   ]
  },
  {
   "cell_type": "markdown",
   "id": "corresponding-danger",
   "metadata": {},
   "source": [
    "![image](https://user-images.githubusercontent.com/51338268/148016356-8816ab24-1515-4804-8c3b-d367d3d7b1c3.png)"
   ]
  },
  {
   "cell_type": "code",
   "execution_count": 56,
   "id": "chinese-investing",
   "metadata": {},
   "outputs": [],
   "source": [
    "class PostionWiseFFN(tf.keras.layers.Layer):\n",
    "    \n",
    "    def __init__(self, d_model):\n",
    "        super(PostionWiseFFN, self).__init__()\n",
    "        self.d_model = d_model\n",
    "        self.linear1 = tf.keras.layers.Dense(self.d_model, activation = \"relu\")\n",
    "        self.linear2 = tf.keras.layers.Dense(self.d_model)\n",
    "        \n",
    "    def call(self, x):\n",
    "        x = self.linear1(x)\n",
    "        x = self.linear2(x)\n",
    "        return x"
   ]
  },
  {
   "cell_type": "code",
   "execution_count": 57,
   "id": "inner-acrobat",
   "metadata": {},
   "outputs": [
    {
     "data": {
      "text/plain": [
       "TensorShape([60, 50, 512])"
      ]
     },
     "execution_count": 57,
     "metadata": {},
     "output_type": "execute_result"
    }
   ],
   "source": [
    "ffn = PostionWiseFFN(512)\n",
    "bb = ffn(aa)\n",
    "bb.shape"
   ]
  },
  {
   "cell_type": "markdown",
   "id": "continued-freeze",
   "metadata": {},
   "source": [
    "### 5.5 Encoder"
   ]
  },
  {
   "cell_type": "markdown",
   "id": "mature-generic",
   "metadata": {},
   "source": [
    "![image](https://user-images.githubusercontent.com/51338268/148025900-4279f42e-5d76-43c4-a7dd-93a36866ede7.png)"
   ]
  },
  {
   "cell_type": "markdown",
   "id": "younger-iceland",
   "metadata": {},
   "source": [
    "![image](https://user-images.githubusercontent.com/51338268/148027441-42214b02-61ad-4844-bd09-5e06c96b2f0f.png)"
   ]
  },
  {
   "cell_type": "markdown",
   "id": "desperate-three",
   "metadata": {},
   "source": [
    "![image](https://user-images.githubusercontent.com/51338268/148028185-9581a303-eb79-47d9-9366-e61b8b344233.png)"
   ]
  },
  {
   "cell_type": "markdown",
   "id": "electoral-friday",
   "metadata": {},
   "source": [
    "![image](https://user-images.githubusercontent.com/51338268/148028026-a0a846e3-8190-45cb-93dd-08a980ef5aa5.png)"
   ]
  },
  {
   "cell_type": "code",
   "execution_count": 58,
   "id": "derived-fraction",
   "metadata": {},
   "outputs": [],
   "source": [
    "class EncoderLayer(tf.keras.layers.Layer):\n",
    "    \n",
    "    def __init__(self, h, vocab_size, length, d_model):\n",
    "        super(EncoderLayer, self).__init__()\n",
    "        self.h = h\n",
    "        self.vocab_size = vocab_size\n",
    "        self.d_model = d_model\n",
    "        self.length = length\n",
    "        self.embedd = tf.keras.layers.Embedding(self.vocab_size,\n",
    "                                                self.d_model)\n",
    "        self.position_encoding = positional_encoding(self.length, self.d_model)\n",
    "        self.multiattn = MultiHeadAttn(self.h, self.d_model)\n",
    "        self.layernorm = tf.keras.layers.LayerNormalization()\n",
    "        self.ffn = PostionWiseFFN(self.d_model)\n",
    "        self.dropout = tf.keras.layers.Dropout(0.1)\n",
    "        \n",
    "        \n",
    "    def call(self, x):\n",
    "        x = tf.expand_dims(x, 1)\n",
    "        x = self.embedd(x)\n",
    "        x = x + self.position_encoding\n",
    "\n",
    "        skip1 = tf.identity(x)\n",
    "        x = self.multiattn(x)\n",
    "        x = self.dropout(x)\n",
    "        x += skip1\n",
    "        x = self.layernorm(x)\n",
    "        \n",
    "        skip2 = tf.identity(x)\n",
    "        x = self.ffn(x)\n",
    "        x = self.dropout(x)\n",
    "        x += skip2\n",
    "        x = self.layernorm(x)\n",
    "        return x"
   ]
  },
  {
   "cell_type": "code",
   "execution_count": 59,
   "id": "fabulous-elevation",
   "metadata": {},
   "outputs": [
    {
     "data": {
      "text/plain": [
       "TensorShape([60, 1, 512])"
      ]
     },
     "execution_count": 59,
     "metadata": {},
     "output_type": "execute_result"
    }
   ],
   "source": [
    "h = 8\n",
    "vocab_size = 20000\n",
    "length = 1\n",
    "d_model = 512\n",
    "encoder = EncoderLayer(h, vocab_size, length, d_model)\n",
    "example = encoder(x_train_part[:,0])\n",
    "example.shape"
   ]
  },
  {
   "cell_type": "markdown",
   "id": "interesting-labor",
   "metadata": {},
   "source": [
    "### 5.6 Decoder"
   ]
  },
  {
   "cell_type": "markdown",
   "id": "medical-contrast",
   "metadata": {},
   "source": [
    "![image](https://user-images.githubusercontent.com/51338268/148028900-1786cebc-76b0-4554-9cdb-49e682d04893.png)"
   ]
  },
  {
   "cell_type": "markdown",
   "id": "compact-sheep",
   "metadata": {},
   "source": [
    "![image](https://user-images.githubusercontent.com/51338268/148028944-899ee115-0f07-4ad8-8302-e0b083a1b988.png)"
   ]
  },
  {
   "cell_type": "markdown",
   "id": "separated-burner",
   "metadata": {},
   "source": [
    "![image](https://user-images.githubusercontent.com/51338268/148037996-83501552-8b81-45b7-807f-1e016ae56eba.png)"
   ]
  },
  {
   "cell_type": "code",
   "execution_count": 60,
   "id": "radio-robertson",
   "metadata": {},
   "outputs": [],
   "source": [
    "class DecoderLayer(tf.keras.layers.Layer):\n",
    "    \n",
    "    def __init__(self, h, vocab_size, length, d_model):\n",
    "        super(DecoderLayer, self).__init__()\n",
    "        self.h = h\n",
    "        self.vocab_size = vocab_size\n",
    "        self.d_model = d_model\n",
    "        self.length = length\n",
    "        \n",
    "        self.embedd = tf.keras.layers.Embedding(self.vocab_size,\n",
    "                                                self.d_model)\n",
    "        self.position_encoding = positional_encoding(self.length, self.d_model)\n",
    "        \n",
    "        self.multiattn = MultiHeadAttn(self.h, self.d_model)\n",
    "        self.masked_multiattn = MultiHeadAttn(self.h, self.d_model, masked = True)\n",
    "        self.cross_multiattn = MultiHeadAttn(self.h, self.d_model)\n",
    "        self.ffn = PostionWiseFFN(self.d_model)\n",
    "        \n",
    "        self.layernorm = tf.keras.layers.LayerNormalization()\n",
    "        self.dropout = tf.keras.layers.Dropout(0.1)\n",
    "\n",
    "        self.linear = tf.keras.layers.Dense(vocab_size)\n",
    "        self.softmax = tf.keras.layers.Softmax(axis = -1)\n",
    "        \n",
    "    def call(self, x, context_vector):\n",
    "        x = tf.expand_dims(x, 1)\n",
    "        # sub-layer 1\n",
    "        x = self.embedd(x)\n",
    "        x = x + self.position_encoding\n",
    "        skip1 = tf.identity(x)\n",
    "        x = self.masked_multiattn(x)\n",
    "        x = self.dropout(x)\n",
    "        x += skip1\n",
    "        x = self.layernorm(x)\n",
    "        # sub-layer 2\n",
    "        skip2 = tf.identity(x)\n",
    "        x = self.cross_multiattn(x, context_vector)\n",
    "        x = self.dropout(x)\n",
    "        x += skip2\n",
    "        x = self.layernorm(x)\n",
    "        # sub-layer 3\n",
    "        skip3 = tf.identity(x)\n",
    "        x = self.ffn(x)\n",
    "        x = self.dropout(x)\n",
    "        x += skip3\n",
    "        x = self.layernorm(x)\n",
    "        \n",
    "        # output-layer\n",
    "        x = self.linear(x)\n",
    "        x = self.softmax(x)\n",
    "        x = x[:,0,:]\n",
    "        return x"
   ]
  },
  {
   "cell_type": "code",
   "execution_count": 61,
   "id": "legislative-alexander",
   "metadata": {},
   "outputs": [
    {
     "data": {
      "text/plain": [
       "TensorShape([60, 20000])"
      ]
     },
     "execution_count": 61,
     "metadata": {},
     "output_type": "execute_result"
    }
   ],
   "source": [
    "y_train_part = y_train[:60]\n",
    "\n",
    "h = 8\n",
    "vocab_size = 20000\n",
    "length = 1\n",
    "d_model = 512\n",
    "decoder = DecoderLayer(h, vocab_size, length, d_model)\n",
    "example2 = decoder(y_train_part[:,0], example)\n",
    "example2.shape"
   ]
  },
  {
   "cell_type": "markdown",
   "id": "adult-wisdom",
   "metadata": {},
   "source": [
    "### 5.7 Loss function and optimizer"
   ]
  },
  {
   "cell_type": "markdown",
   "id": "armed-curve",
   "metadata": {},
   "source": [
    "categoricalcrossentropy 참고 사이트 : https://guru.tistory.com/67"
   ]
  },
  {
   "cell_type": "code",
   "execution_count": 62,
   "id": "looking-trauma",
   "metadata": {},
   "outputs": [],
   "source": [
    "class LearningRateScheduler(tf.keras.optimizers.schedules.LearningRateSchedule):\n",
    "    def __init__(self, d_model, warmup_steps=4000):\n",
    "        super(LearningRateScheduler, self).__init__()\n",
    "        self.d_model = d_model\n",
    "        self.warmup_steps = warmup_steps\n",
    "    \n",
    "    def __call__(self, step):\n",
    "        arg1 = step ** -0.5\n",
    "        arg2 = step * (self.warmup_steps ** -1.5)\n",
    "        \n",
    "        return (self.d_model ** -0.5) * tf.math.minimum(arg1, arg2)\n",
    "\n",
    "learning_rate = LearningRateScheduler(512)\n",
    "optimizer = tf.keras.optimizers.Adam(learning_rate,\n",
    "                                     beta_1=0.9,\n",
    "                                     beta_2=0.98, \n",
    "                                     epsilon=1e-9)\n",
    "loss_object = tf.keras.losses.SparseCategoricalCrossentropy(\n",
    "    from_logits=True, reduction='none')\n",
    "\n",
    "def loss_function(real, pred):\n",
    "    mask = tf.math.logical_not(tf.math.equal(real, 0))\n",
    "    loss = loss_object(real, pred)\n",
    "    \n",
    "    mask = tf.cast(mask, dtype=loss.dtype)\n",
    "    loss *= mask\n",
    "    \n",
    "    return tf.reduce_mean(loss)"
   ]
  },
  {
   "cell_type": "markdown",
   "id": "exact-bandwidth",
   "metadata": {},
   "source": [
    "## 6. Transformer 모델 학습"
   ]
  },
  {
   "cell_type": "markdown",
   "id": "provincial-window",
   "metadata": {},
   "source": [
    "모델 학습에 필요한 파라미터들을 미리 지정해줍니다.\n",
    "- h = Multi Head Attention에서 head의 개수\n",
    "- vocab_size = SentencePiece 모델의 단어장 크기\n",
    "- d_model = 각 서브층에 존재하는 유닛의 개수\n",
    "- batch_size = 한 step마다 모델에 들어가는 데이터의 개수\n",
    "- epoch = 모델 학습 횟수\n",
    "- length = 모델이 학습시 예측할 단어의 개수"
   ]
  },
  {
   "cell_type": "code",
   "execution_count": 72,
   "id": "faced-timing",
   "metadata": {
    "scrolled": true
   },
   "outputs": [
    {
     "name": "stderr",
     "output_type": "stream",
     "text": [
      "\r",
      "  0%|          | 0/2 [00:00<?, ?it/s]"
     ]
    }
   ],
   "source": [
    "h = 8\n",
    "vocab_size = 20000\n",
    "length = 1\n",
    "d_model = 512\n",
    "batch_size = 32\n",
    "epoch = 1\n",
    "encoder_input = x_train\n",
    "decoder_input = y_train[:, :-1]\n",
    "decoder_output = y_train[:, 1:]\n",
    "\n",
    "encoder = EncoderLayer(h, vocab_size, length, d_model)\n",
    "decoder = DecoderLayer(h, vocab_size, length, d_model)\n",
    "decoder_length = decoder_input.shape[1]\n",
    "steps = x_train.shape[0] // batch_size\n",
    "\n",
    "#idx_list = list(range(0, x_train.shape[0], batch_size))\n",
    "idx_list = list(range(0, batch_size*2, batch_size))\n",
    "t = tqdm(idx_list)"
   ]
  },
  {
   "cell_type": "code",
   "execution_count": 73,
   "id": "refined-ottawa",
   "metadata": {},
   "outputs": [
    {
     "name": "stdout",
     "output_type": "stream",
     "text": [
      "WARNING:tensorflow:Gradients do not exist for variables ['encoder_layer_4/embedding_9/embeddings:0', 'encoder_layer_4/multi_head_attn_17/scaled_dot_attn_18/dense_93/kernel:0', 'encoder_layer_4/multi_head_attn_17/scaled_dot_attn_18/dense_93/bias:0', 'encoder_layer_4/multi_head_attn_17/scaled_dot_attn_18/dense_94/kernel:0', 'encoder_layer_4/multi_head_attn_17/scaled_dot_attn_18/dense_94/bias:0', 'encoder_layer_4/multi_head_attn_17/scaled_dot_attn_18/dense_95/kernel:0', 'encoder_layer_4/multi_head_attn_17/scaled_dot_attn_18/dense_95/bias:0', 'encoder_layer_4/multi_head_attn_17/dense_96/kernel:0', 'encoder_layer_4/multi_head_attn_17/dense_96/bias:0', 'encoder_layer_4/layer_normalization_8/gamma:0', 'encoder_layer_4/layer_normalization_8/beta:0', 'encoder_layer_4/postion_wise_ffn_9/dense_97/kernel:0', 'encoder_layer_4/postion_wise_ffn_9/dense_97/bias:0', 'encoder_layer_4/postion_wise_ffn_9/dense_98/kernel:0', 'encoder_layer_4/postion_wise_ffn_9/dense_98/bias:0', 'decoder_layer_4/multi_head_attn_19/scaled_dot_attn_20/dense_103/kernel:0', 'decoder_layer_4/multi_head_attn_19/scaled_dot_attn_20/dense_103/bias:0', 'decoder_layer_4/multi_head_attn_19/scaled_dot_attn_20/dense_104/kernel:0', 'decoder_layer_4/multi_head_attn_19/scaled_dot_attn_20/dense_104/bias:0', 'decoder_layer_4/multi_head_attn_19/scaled_dot_attn_20/dense_105/kernel:0', 'decoder_layer_4/multi_head_attn_19/scaled_dot_attn_20/dense_105/bias:0', 'decoder_layer_4/multi_head_attn_20/scaled_dot_attn_21/dense_107/kernel:0', 'decoder_layer_4/multi_head_attn_20/scaled_dot_attn_21/dense_107/bias:0', 'decoder_layer_4/multi_head_attn_20/scaled_dot_attn_21/dense_108/kernel:0', 'decoder_layer_4/multi_head_attn_20/scaled_dot_attn_21/dense_108/bias:0', 'decoder_layer_4/multi_head_attn_20/scaled_dot_attn_21/dense_109/kernel:0', 'decoder_layer_4/multi_head_attn_20/scaled_dot_attn_21/dense_109/bias:0'] when minimizing the loss.\n"
     ]
    },
    {
     "name": "stderr",
     "output_type": "stream",
     "text": [
      "Epoch  2:  50%|█████     | 1/2 [01:03<01:03, 63.52s/it, Loss 9.8972]"
     ]
    },
    {
     "name": "stdout",
     "output_type": "stream",
     "text": [
      "9.897165103834503\n",
      "WARNING:tensorflow:Gradients do not exist for variables ['encoder_layer_4/embedding_9/embeddings:0', 'encoder_layer_4/multi_head_attn_17/scaled_dot_attn_18/dense_93/kernel:0', 'encoder_layer_4/multi_head_attn_17/scaled_dot_attn_18/dense_93/bias:0', 'encoder_layer_4/multi_head_attn_17/scaled_dot_attn_18/dense_94/kernel:0', 'encoder_layer_4/multi_head_attn_17/scaled_dot_attn_18/dense_94/bias:0', 'encoder_layer_4/multi_head_attn_17/scaled_dot_attn_18/dense_95/kernel:0', 'encoder_layer_4/multi_head_attn_17/scaled_dot_attn_18/dense_95/bias:0', 'encoder_layer_4/multi_head_attn_17/dense_96/kernel:0', 'encoder_layer_4/multi_head_attn_17/dense_96/bias:0', 'encoder_layer_4/layer_normalization_8/gamma:0', 'encoder_layer_4/layer_normalization_8/beta:0', 'encoder_layer_4/postion_wise_ffn_9/dense_97/kernel:0', 'encoder_layer_4/postion_wise_ffn_9/dense_97/bias:0', 'encoder_layer_4/postion_wise_ffn_9/dense_98/kernel:0', 'encoder_layer_4/postion_wise_ffn_9/dense_98/bias:0', 'decoder_layer_4/multi_head_attn_19/scaled_dot_attn_20/dense_103/kernel:0', 'decoder_layer_4/multi_head_attn_19/scaled_dot_attn_20/dense_103/bias:0', 'decoder_layer_4/multi_head_attn_19/scaled_dot_attn_20/dense_104/kernel:0', 'decoder_layer_4/multi_head_attn_19/scaled_dot_attn_20/dense_104/bias:0', 'decoder_layer_4/multi_head_attn_19/scaled_dot_attn_20/dense_105/kernel:0', 'decoder_layer_4/multi_head_attn_19/scaled_dot_attn_20/dense_105/bias:0', 'decoder_layer_4/multi_head_attn_20/scaled_dot_attn_21/dense_107/kernel:0', 'decoder_layer_4/multi_head_attn_20/scaled_dot_attn_21/dense_107/bias:0', 'decoder_layer_4/multi_head_attn_20/scaled_dot_attn_21/dense_108/kernel:0', 'decoder_layer_4/multi_head_attn_20/scaled_dot_attn_21/dense_108/bias:0', 'decoder_layer_4/multi_head_attn_20/scaled_dot_attn_21/dense_109/kernel:0', 'decoder_layer_4/multi_head_attn_20/scaled_dot_attn_21/dense_109/bias:0'] when minimizing the loss.\n"
     ]
    },
    {
     "name": "stderr",
     "output_type": "stream",
     "text": [
      "Epoch  2: 100%|██████████| 2/2 [01:59<00:00, 59.54s/it, Loss 4.9517]"
     ]
    },
    {
     "name": "stdout",
     "output_type": "stream",
     "text": [
      "9.903480374083227\n"
     ]
    },
    {
     "name": "stderr",
     "output_type": "stream",
     "text": [
      "\n"
     ]
    }
   ],
   "source": [
    "for batch, idx in enumerate(t):\n",
    "\n",
    "    batch_encoder_input = x_train[idx:(idx+batch_size)]\n",
    "    batch_decoder_input = y_train[idx:(idx+batch_size), :-1]\n",
    "    batch_decoder_output = y_train[idx:(idx+batch_size), 1:]\n",
    "    loss = 0\n",
    "\n",
    "    with tf.GradientTape() as tape:\n",
    "        for time in range(decoder_length):\n",
    "            context_vector = encoder(batch_encoder_input[:, time])\n",
    "            # loss에 들어가는 preds, reals는 numpy가 아닌 tensor로 바꿔줘야합니다.\n",
    "            preds = decoder(batch_decoder_input[:, time], context_vector) # [batch_size, vocab_size]\n",
    "            reals = tf.constant(batch_decoder_output[:, time].reshape(-1, 1)) # [batch_size, 1]\n",
    "            loss += loss_function(reals, preds) # scalar\n",
    "\n",
    "    batch_loss = loss.numpy() / decoder_length\n",
    "    variables = encoder.trainable_variables + decoder.trainable_variables\n",
    "    gradients = tape.gradient(loss, variables)\n",
    "    optimizer.apply_gradients(zip(gradients, variables))\n",
    "    \n",
    "    t.set_description_str('Epoch %2d' % (epoch + 1))\n",
    "    t.set_postfix_str('Loss %.4f' % (batch_loss / (batch + 1)))"
   ]
  },
  {
   "cell_type": "markdown",
   "id": "ethical-scoop",
   "metadata": {},
   "source": [
    "## 7. 모델 검증"
   ]
  },
  {
   "cell_type": "code",
   "execution_count": 167,
   "id": "worldwide-merchandise",
   "metadata": {},
   "outputs": [
    {
     "name": "stdout",
     "output_type": "stream",
     "text": [
      "입력 문장 : 나는 배가 고프다.\n",
      "출력 문장 : exposed exposed exposed exposed exposed exposed \n"
     ]
    }
   ],
   "source": [
    "inputs = \"나는 배가 고프다.\"\n",
    "token_inputs = ko_spm.EncodeAsIds(inputs)\n",
    "token_length = len(token_inputs)\n",
    "token_inputs = pad_sequences([token_inputs],\n",
    "                             maxlen = 50,\n",
    "                             value = 1,\n",
    "                             padding = \"post\")\n",
    "en_bos_token = en_spm.EncodeAsIds(\"<bos>\")[-1]\n",
    "en_bos_token = np.array([en_bos_token])\n",
    "\n",
    "outputs = \"\"\n",
    "\n",
    "for t in range(token_length):\n",
    "    context = encoder(token_inputs[:,t])\n",
    "    prediction = decoder(en_bos_token, context)\n",
    "    prediction_id = np.argmax(prediction, axis=1)    \n",
    "    prediction_word = en_spm.DecodeIds([int(prediction_id)])\n",
    "    if prediction_word == \"<eos>\":\n",
    "        break\n",
    "    en_bos_token = np.array(prediction_id)\n",
    "\n",
    "    outputs += prediction_word + \" \"\n",
    "\n",
    "print(f\"입력 문장 : {inputs}\")\n",
    "print(f\"출력 문장 : {outputs}\")"
   ]
  },
  {
   "cell_type": "markdown",
   "id": "african-investing",
   "metadata": {},
   "source": [
    "## 8. 회고"
   ]
  },
  {
   "cell_type": "markdown",
   "id": "compliant-tackle",
   "metadata": {},
   "source": [
    "#### 느낀점"
   ]
  },
  {
   "cell_type": "markdown",
   "id": "lesbian-playlist",
   "metadata": {},
   "source": [
    "- 처음으로 논문만 보면서 모델을 구현하고 직접 학습까지 돌려서 결과가 어떻게 나오는지 까지 일련의 과정을 거치면서 생각보다 재미있고 논문을 구현하는데 너무 겁을 먹을 필요는 없다는 생각이 들었습니다.\n",
    "- 모르거나 막히는 경우 조원분들에게 여쭤보거나 퍼실분들께 질문하면서 느낀 점은 논문의 기술들을 구현하는 요소들은 모두 논문안에 있다는 생각이 들었으며 각 기술들은 그림으로만 힌트를 주는게 아닌 글에서도 찾아야 한다는 것을 느꼈습니다.\n",
    "- 해당 논문을 읽은 것은 일주일 전으로 2일 정도 나눠서 모두 읽고 구현하는 부분은 3일 정도 걸린 것으로 보아 논문 하나를 잡고 구현하는데 2주 정도 잡으면 넉넉하겠다는 생각이 들었습니다."
   ]
  },
  {
   "cell_type": "markdown",
   "id": "guilty-highland",
   "metadata": {},
   "source": [
    "#### 아쉬운 점"
   ]
  },
  {
   "cell_type": "markdown",
   "id": "another-shoulder",
   "metadata": {},
   "source": [
    "- Decoder Output부분에서 \\<eos>토큰이 제대로 빠지지 못한 형태이기 때문에 해당 토큰의 영향력이 줄을걸로 예상됩니다.\n",
    "- 아쉬운 점은 Encoder와 Decoder의 Layer부분을 층으로 쌓지 못하는 형태로 구현하였기에 차후에 형태를 수정해야합니다.\n",
    "- 논문을 모두 읽자마자 바로 구현 작업에 들어가야 생각나고 공부되는 부분이 많았을 텐데 시간이 지나고 하니 다시 공부하느라 시간이 상당히 소모되었다고 느꼈습니다."
   ]
  }
 ],
 "metadata": {
  "kernelspec": {
   "display_name": "Python 3",
   "language": "python",
   "name": "python3"
  },
  "language_info": {
   "codemirror_mode": {
    "name": "ipython",
    "version": 3
   },
   "file_extension": ".py",
   "mimetype": "text/x-python",
   "name": "python",
   "nbconvert_exporter": "python",
   "pygments_lexer": "ipython3",
   "version": "3.7.9"
  }
 },
 "nbformat": 4,
 "nbformat_minor": 5
}
