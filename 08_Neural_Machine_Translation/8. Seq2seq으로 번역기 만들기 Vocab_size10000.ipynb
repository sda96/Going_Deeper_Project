{
 "cells": [
  {
   "cell_type": "markdown",
   "id": "fossil-player",
   "metadata": {
    "scrolled": true
   },
   "source": [
    "!sudo apt-get install curl git  \n",
    "\n",
    "!bash <(curl -s https://raw.githubusercontent.com/konlpy/konlpy/master/scripts/mecab.sh)"
   ]
  },
  {
   "cell_type": "code",
   "execution_count": 1,
   "id": "raised-science",
   "metadata": {},
   "outputs": [
    {
     "name": "stderr",
     "output_type": "stream",
     "text": [
      "/opt/conda/lib/python3.7/site-packages/gensim/similarities/__init__.py:15: UserWarning: The gensim.similarities.levenshtein submodule is disabled, because the optional Levenshtein package <https://pypi.org/project/python-Levenshtein/> is unavailable. Install Levenhstein (e.g. `pip install python-Levenshtein`) to suppress this warning.\n",
      "  warnings.warn(msg)\n"
     ]
    }
   ],
   "source": [
    "import re\n",
    "from konlpy.tag import Mecab\n",
    "from packages import utils # package 폴더에 utils라는 script에 있는 모듈을 불러옵니다.\n",
    "\n",
    "\n",
    "from glob import  glob\n",
    "import pandas as pd\n",
    "import numpy as np\n",
    "import matplotlib.pyplot as plt\n",
    "import matplotlib.ticker as ticker\n",
    "import seaborn as sns\n",
    "\n",
    "import tensorflow as tf\n",
    "from tensorflow.keras.preprocessing.sequence import pad_sequences"
   ]
  },
  {
   "cell_type": "code",
   "execution_count": 2,
   "id": "powerful-astrology",
   "metadata": {},
   "outputs": [],
   "source": [
    "np.random.seed(0)\n",
    "\n",
    "# 한글 지원 폰트\n",
    "sns.set(font='NanumGothic')\n",
    "\n",
    "# 마이너스 부호 \n",
    "\n",
    "plt.rcParams['axes.unicode_minus'] = False"
   ]
  },
  {
   "cell_type": "markdown",
   "id": "naughty-genius",
   "metadata": {},
   "source": [
    "## Step 1. 데이터 로드"
   ]
  },
  {
   "cell_type": "markdown",
   "id": "sound-albuquerque",
   "metadata": {},
   "source": [
    "로드하는 데이터 관련 사이트 : [링크](https://sites.google.com/site/koreanparalleldata/)"
   ]
  },
  {
   "cell_type": "markdown",
   "id": "hungry-cherry",
   "metadata": {},
   "source": [
    "해당 데이터는 한국인 고등학생 대상 영어 번역 데이터로 다양한 종류의 주제를 가지고 만들어졌습니다.\n",
    "\n",
    "주제 \n",
    "- 뉴스 기사\n",
    "- 짧은 스토리\n",
    "- 편지\n",
    "- 광고"
   ]
  },
  {
   "cell_type": "code",
   "execution_count": 3,
   "id": "published-sheriff",
   "metadata": {},
   "outputs": [
    {
     "name": "stdout",
     "output_type": "stream",
     "text": [
      "훈련 데이터 개수 : 94123\n",
      "검증 데이터 개수 : 1000\n",
      "테스트 데이터 개수 : 2000\n"
     ]
    }
   ],
   "source": [
    "train_data_path = glob(\"./data/train/*\")\n",
    "test_data_path = glob(\"./data/test/*\")\n",
    "dev_data_path = glob(\"./data/dev/*\")\n",
    "\n",
    "def data_load(data_path):\n",
    "    result = []\n",
    "    for setences in data_path:\n",
    "        with open(setences) as f:\n",
    "            result += [f.readlines()]\n",
    "    en, ko = result        \n",
    "    data = pd.DataFrame({\"en\":en, \"ko\":ko})\n",
    "    return data\n",
    "\n",
    "train = data_load(train_data_path)\n",
    "test = data_load(test_data_path)\n",
    "dev = data_load(dev_data_path)\n",
    "\n",
    "cp_train = train.copy()\n",
    "cp_test = test.copy()\n",
    "cp_dev = dev.copy()\n",
    "\n",
    "print(f\"훈련 데이터 개수 : {cp_train.shape[0]}\")\n",
    "print(f\"검증 데이터 개수 : {cp_dev.shape[0]}\")\n",
    "print(f\"테스트 데이터 개수 : {cp_test.shape[0]}\")"
   ]
  },
  {
   "cell_type": "markdown",
   "id": "checked-moscow",
   "metadata": {},
   "source": [
    "## Step 2. 데이터 정제"
   ]
  },
  {
   "cell_type": "markdown",
   "id": "higher-behavior",
   "metadata": {},
   "source": [
    "### 중복 데이터 제거"
   ]
  },
  {
   "cell_type": "code",
   "execution_count": 4,
   "id": "western-aerospace",
   "metadata": {},
   "outputs": [],
   "source": [
    "cp_train = cp_train.drop_duplicates(\"en\", keep = \"first\")\n",
    "cp_train = cp_train.drop_duplicates(\"ko\", keep = \"first\").reset_index()\n",
    "\n",
    "cp_test = cp_test.drop_duplicates(\"en\", keep = \"first\")\n",
    "cp_test = cp_test.drop_duplicates(\"ko\", keep = \"first\").reset_index()\n",
    "\n",
    "cp_dev = cp_dev.drop_duplicates(\"en\", keep = \"first\")\n",
    "cp_dev = cp_dev.drop_duplicates(\"ko\", keep = \"first\").reset_index()"
   ]
  },
  {
   "cell_type": "markdown",
   "id": "convinced-advice",
   "metadata": {},
   "source": [
    "### 공동 텍스트 전처리"
   ]
  },
  {
   "cell_type": "code",
   "execution_count": 5,
   "id": "powered-mortality",
   "metadata": {},
   "outputs": [],
   "source": [
    "cp_train[\"ko\"] = cp_train[\"ko\"].apply(lambda x : utils.text_preprocessing(x))\n",
    "cp_train[\"en\"] = cp_train[\"en\"].apply(lambda x : utils.text_preprocessing(x))\n",
    "\n",
    "cp_test[\"ko\"] = cp_test[\"ko\"].apply(lambda x : utils.text_preprocessing(x))\n",
    "cp_test[\"en\"] = cp_test[\"en\"].apply(lambda x : utils.text_preprocessing(x))\n",
    "\n",
    "cp_dev[\"ko\"] = cp_dev[\"ko\"].apply(lambda x : utils.text_preprocessing(x))\n",
    "cp_dev[\"en\"] = cp_dev[\"en\"].apply(lambda x : utils.text_preprocessing(x))"
   ]
  },
  {
   "cell_type": "markdown",
   "id": "patent-calcium",
   "metadata": {},
   "source": [
    "### 영어, 한국어 텍스트 전처리"
   ]
  },
  {
   "cell_type": "code",
   "execution_count": 6,
   "id": "bacterial-saudi",
   "metadata": {},
   "outputs": [],
   "source": [
    "def ko_pre(sentence):\n",
    "    sentence = re.sub(\"\\n\", \"\", sentence)\n",
    "    sentence = re.sub(\"[0-9A-Za-z]+\", \" \", sentence)\n",
    "    sentence = re.sub(\"원문기사보기|이수지|원문기사\", \"\", sentence)\n",
    "    sentence = re.sub(\"[ ]+\", \" \", sentence)\n",
    "    sentence = sentence.strip()\n",
    "    return sentence\n",
    "\n",
    "def en_pre(sentence):\n",
    "    sentence = \"<bos> \" + sentence.lower() + \" <eos>\"\n",
    "    sentence = re.sub(\"[0-9ㄱ-ㅎ가-힣]+\", \" \", sentence)\n",
    "    sentence = re.sub(\"[ ]+\", \" \", sentence)\n",
    "    sentence = sentence.strip()\n",
    "    return sentence\n",
    "\n",
    "cp_train[\"en\"] = cp_train[\"en\"].apply(lambda x: en_pre(x))\n",
    "cp_dev[\"en\"] = cp_dev[\"en\"].apply(lambda x: en_pre(x))\n",
    "\n",
    "cp_train[\"ko\"] = cp_train[\"ko\"].apply(lambda x: ko_pre(x))\n",
    "cp_dev[\"ko\"] = cp_dev[\"ko\"].apply(lambda x: ko_pre(x))"
   ]
  },
  {
   "cell_type": "markdown",
   "id": "colored-ranking",
   "metadata": {},
   "source": [
    "### 결측 데이터 제거"
   ]
  },
  {
   "cell_type": "code",
   "execution_count": 7,
   "id": "mediterranean-judges",
   "metadata": {},
   "outputs": [],
   "source": [
    "cp_train = utils.remove_nan(cp_train)\n",
    "cp_test = utils.remove_nan(cp_test)\n",
    "cp_dev = utils.remove_nan(cp_dev)"
   ]
  },
  {
   "cell_type": "markdown",
   "id": "legendary-manner",
   "metadata": {},
   "source": [
    "## Step 3. SentencePiece BPE 방법으로 토큰화"
   ]
  },
  {
   "cell_type": "markdown",
   "id": "addressed-germany",
   "metadata": {},
   "source": [
    "### 3.1 서브단어의 개수를 보기 위한 임시 모델 구축 "
   ]
  },
  {
   "cell_type": "markdown",
   "id": "satisfactory-region",
   "metadata": {},
   "source": [
    "#### 영어와 한국어 SentencePiece model, vocab 구축"
   ]
  },
  {
   "cell_type": "code",
   "execution_count": 8,
   "id": "accepting-research",
   "metadata": {
    "scrolled": true
   },
   "outputs": [],
   "source": [
    "model_type = \"bpe\"\n",
    "data = cp_train[\"ko\"]\n",
    "SRC_VOCAB_SIZE = 10000\n",
    "\n",
    "add = False\n",
    "train_test = \"train_ko\"\n",
    "temp_file = \"./spm_ko_train_tmp.tmp\"\n",
    "\n",
    "ko_spm_tmp = utils.SentencePiece(model_type, \n",
    "                                 data, \n",
    "                                 SRC_VOCAB_SIZE, \n",
    "                                 add, \n",
    "                                 train_test, \n",
    "                                 temp_file)"
   ]
  },
  {
   "cell_type": "code",
   "execution_count": 9,
   "id": "floral-twelve",
   "metadata": {},
   "outputs": [],
   "source": [
    "model_type = \"bpe\"\n",
    "data = cp_train[\"en\"]\n",
    "TGT_VOCAB_SIZE = 10000\n",
    "add = False\n",
    "train_test = \"train_en\"\n",
    "temp_file = \"./spm_en_train_tmp.tmp\"\n",
    "\n",
    "en_spm_tmp = utils.SentencePiece(model_type, \n",
    "                                 data, \n",
    "                                 TGT_VOCAB_SIZE, \n",
    "                                 add, \n",
    "                                 train_test, \n",
    "                                 temp_file)"
   ]
  },
  {
   "cell_type": "markdown",
   "id": "convenient-madagascar",
   "metadata": {},
   "source": [
    "#### 구축된 SPM모델로 토큰화"
   ]
  },
  {
   "cell_type": "code",
   "execution_count": 10,
   "id": "advised-noise",
   "metadata": {},
   "outputs": [],
   "source": [
    "# spm에 있는 토큰을 인코딩하면 (\"\", <bos>)이런식으로 나오기에 \"\"부분 제거\n",
    "token_blank_tmp = en_spm_tmp.EncodeAsIds(\"<bos>\")[0]\n",
    "cp_train[\"pre_ko\"] = cp_train[\"ko\"].apply(lambda x: ko_spm_tmp.encode_as_ids(x))\n",
    "cp_train[\"pre_ko\"] = cp_train[\"pre_ko\"].apply(lambda x: list(filter((token_blank_tmp).__ne__,x)))\n",
    "\n",
    "cp_train[\"pre_en\"] = cp_train[\"en\"].apply(lambda x: en_spm_tmp.encode_as_ids(x))\n",
    "cp_train[\"pre_en\"] = cp_train[\"pre_en\"].apply(lambda x: list(filter((token_blank_tmp).__ne__,x)))"
   ]
  },
  {
   "cell_type": "markdown",
   "id": "terminal-sydney",
   "metadata": {},
   "source": [
    "#### 너무 긴 문장 제거"
   ]
  },
  {
   "cell_type": "markdown",
   "id": "sensitive-arabic",
   "metadata": {},
   "source": [
    "- 토큰화 시킨 뒤 문장의 길이가 40개 이상, 10개 이하인 데이터는 제거합니다."
   ]
  },
  {
   "cell_type": "code",
   "execution_count": 11,
   "id": "basic-joshua",
   "metadata": {},
   "outputs": [
    {
     "name": "stdout",
     "output_type": "stream",
     "text": [
      "짧거나 긴 문장 제거 전 데이터 개수 : 74760\n"
     ]
    },
    {
     "data": {
      "image/png": "[encoded data removed]",
      "text/plain": [
       "<Figure size 432x288 with 1 Axes>"
      ]
     },
     "metadata": {},
     "output_type": "display_data"
    }
   ],
   "source": [
    "cp_train[\"pre_ko_len\"] = cp_train[\"pre_ko\"].apply(lambda x: len(x))\n",
    "cp_train[\"pre_en_len\"] = cp_train[\"pre_en\"].apply(lambda x: len(x))\n",
    "print(f\"짧거나 긴 문장 제거 전 데이터 개수 : {cp_train.shape[0]}\")\n",
    "\n",
    "cp_train.groupby(\"pre_ko_len\").count().iloc[:,0].plot()\n",
    "cp_train.groupby(\"pre_en_len\").count().iloc[:,0].plot()\n",
    "plt.xlabel(\"문장 길이\")\n",
    "plt.ylabel(\"문장 개수\")\n",
    "plt.show()"
   ]
  },
  {
   "cell_type": "code",
   "execution_count": 12,
   "id": "supposed-mozambique",
   "metadata": {},
   "outputs": [
    {
     "name": "stdout",
     "output_type": "stream",
     "text": [
      "짧거나 긴 문장 제거 후 데이터 개수 : 54441\n"
     ]
    },
    {
     "data": {
      "image/png": "[encoded data removed]",
      "text/plain": [
       "<Figure size 432x288 with 1 Axes>"
      ]
     },
     "metadata": {},
     "output_type": "display_data"
    }
   ],
   "source": [
    "cp_train = cp_train[(cp_train[\"pre_ko_len\"] <= 40) & (cp_train[\"pre_ko_len\"] >= 10)].reset_index(drop=True)\n",
    "cp_train = cp_train[(cp_train[\"pre_en_len\"] <= 40) & (cp_train[\"pre_en_len\"] >= 10)].reset_index(drop=True)\n",
    "print(f\"짧거나 긴 문장 제거 후 데이터 개수 : {cp_train.shape[0]}\")\n",
    "\n",
    "cp_train.groupby(\"pre_ko_len\").count().iloc[:,0].plot()\n",
    "cp_train.groupby(\"pre_en_len\").count().iloc[:,0].plot()\n",
    "plt.xlabel(\"문장 길이\")\n",
    "plt.ylabel(\"문장 개수\")\n",
    "plt.show()"
   ]
  },
  {
   "cell_type": "markdown",
   "id": "interracial-employment",
   "metadata": {},
   "source": [
    "### 3.2 SentencePiece 본 모델 구축"
   ]
  },
  {
   "cell_type": "markdown",
   "id": "swiss-harassment",
   "metadata": {},
   "source": [
    "#### 영어와 한국어 SentencePiece model, vocab 구축"
   ]
  },
  {
   "cell_type": "code",
   "execution_count": 13,
   "id": "growing-worcester",
   "metadata": {
    "scrolled": true
   },
   "outputs": [],
   "source": [
    "model_type = \"bpe\"\n",
    "data = cp_train[\"ko\"]\n",
    "SRC_VOCAB_SIZE = 10000\n",
    "\n",
    "add = False\n",
    "train_test = \"train_ko\"\n",
    "temp_file = \"./spm_ko_train.tmp\"\n",
    "\n",
    "ko_spm = utils.SentencePiece(model_type, \n",
    "                             data, \n",
    "                             SRC_VOCAB_SIZE, \n",
    "                             add, \n",
    "                             train_test, \n",
    "                             temp_file)"
   ]
  },
  {
   "cell_type": "code",
   "execution_count": 14,
   "id": "latter-table",
   "metadata": {},
   "outputs": [],
   "source": [
    "model_type = \"bpe\"\n",
    "data = cp_train[\"en\"]\n",
    "TGT_VOCAB_SIZE = 10000\n",
    "add = False\n",
    "train_test = \"train_en\"\n",
    "temp_file = \"./spm_en_train.tmp\"\n",
    "\n",
    "en_spm = utils.SentencePiece(model_type, \n",
    "                             data, \n",
    "                             TGT_VOCAB_SIZE, \n",
    "                             add, \n",
    "                             train_test, \n",
    "                             temp_file)"
   ]
  },
  {
   "cell_type": "markdown",
   "id": "naked-horror",
   "metadata": {},
   "source": [
    "#### 구축된 SPM모델로 토큰화"
   ]
  },
  {
   "cell_type": "code",
   "execution_count": 15,
   "id": "patient-earthquake",
   "metadata": {},
   "outputs": [],
   "source": [
    "# spm에 있는 토큰을 인코딩하면 (\"\", <bos>)이런식으로 나오기에 \"\"부분 제거\n",
    "token_blank = en_spm.EncodeAsIds(\"<bos>\")[0]\n",
    "cp_train[\"pre_ko\"] = cp_train[\"ko\"].apply(lambda x: ko_spm.encode_as_ids(x))\n",
    "cp_train[\"pre_ko\"] = cp_train[\"pre_ko\"].apply(lambda x: list(filter((token_blank).__ne__,x)))\n",
    "\n",
    "cp_train[\"pre_en\"] = cp_train[\"en\"].apply(lambda x: en_spm.encode_as_ids(x))\n",
    "cp_train[\"pre_en\"] = cp_train[\"pre_en\"].apply(lambda x: list(filter((token_blank).__ne__,x)))"
   ]
  },
  {
   "cell_type": "markdown",
   "id": "jewish-classics",
   "metadata": {},
   "source": [
    "### 모든 데이터를 길이 40인 문장으로 패딩"
   ]
  },
  {
   "cell_type": "markdown",
   "id": "coastal-spread",
   "metadata": {},
   "source": [
    "- 패딩 토큰의 id는 1입니다."
   ]
  },
  {
   "cell_type": "code",
   "execution_count": 96,
   "id": "acute-bleeding",
   "metadata": {},
   "outputs": [
    {
     "data": {
      "text/plain": [
       "(array([[1358, 8960,  973, ...,    1,    1,    1],\n",
       "        [ 445,  622, 8899, ...,    1,    1,    1],\n",
       "        [ 249,   44,    6, ..., 6527,   20,    1],\n",
       "        ...,\n",
       "        [ 177,  129, 9222, ...,    1,    1,    1],\n",
       "        [ 647, 8912, 2341, ...,    1,    1,    1],\n",
       "        [ 443,  647, 8912, ...,    1,    1,    1]], dtype=int32),\n",
       " array([[   4, 1083,   38, ...,    1,    1,    1],\n",
       "        [   4,  391,    7, ...,    1,    1,    1],\n",
       "        [   4, 6195, 7308, ...,    1,    1,    1],\n",
       "        ...,\n",
       "        [   4,  174,   11, ...,    1,    1,    1],\n",
       "        [   4, 1127,   47, ...,    1,    1,    1],\n",
       "        [   4,  320,  147, ...,    1,    1,    1]], dtype=int32),\n",
       " (54441, 40),\n",
       " (54441, 40))"
      ]
     },
     "execution_count": 96,
     "metadata": {},
     "output_type": "execute_result"
    }
   ],
   "source": [
    "x_train = pad_sequences(cp_train[\"pre_ko\"], \n",
    "                        maxlen = 40,\n",
    "                        value = 1,\n",
    "                        padding = \"post\")\n",
    "y_train = pad_sequences(cp_train[\"pre_en\"], \n",
    "                        maxlen = 40, \n",
    "                        value = 1,\n",
    "                        padding = \"post\")\n",
    "\n",
    "x_train, y_train, x_train.shape, y_train.shape"
   ]
  },
  {
   "cell_type": "code",
   "execution_count": 97,
   "id": "exceptional-karen",
   "metadata": {},
   "outputs": [],
   "source": [
    "np.random.seed(100)\n",
    "x_train = np.concatenate([x_train, x_train])\n",
    "np.random.shuffle(x_train)\n",
    "np.random.seed(100)\n",
    "y_train = np.concatenate([y_train, y_train])\n",
    "np.random.shuffle(y_train)"
   ]
  },
  {
   "cell_type": "markdown",
   "id": "posted-warrant",
   "metadata": {},
   "source": [
    "### 검증 데이터에도 훈련 데이터에 적용한 부분 똑같이 적용"
   ]
  },
  {
   "cell_type": "code",
   "execution_count": 98,
   "id": "canadian-spelling",
   "metadata": {},
   "outputs": [
    {
     "data": {
      "text/plain": [
       "(array([[1008, 1291, 2453, ...,    1,    1,    1],\n",
       "        [ 152, 2197,    6, ...,    1,    1,    1],\n",
       "        [2695,  253, 9064, ...,    1,    1,    1],\n",
       "        ...,\n",
       "        [ 881, 8855, 8875, ...,    1,    1,    1],\n",
       "        [2053,  706, 3375, ...,    1,    1,    1],\n",
       "        [1577, 1722, 9514, ...,    1,    1,    1]], dtype=int32),\n",
       " array([[   4,  778, 1109, ...,    1,    1,    1],\n",
       "        [   4,   11, 1755, ...,    1,    1,    1],\n",
       "        [   4,   93,  349, ...,    1,    1,    1],\n",
       "        ...,\n",
       "        [   4,  645, 9994, ...,    1,    1,    1],\n",
       "        [   4,  523,  497, ...,    0,    5,    1],\n",
       "        [   4, 2390, 8279, ...,    1,    1,    1]], dtype=int32),\n",
       " (771, 40),\n",
       " (771, 40))"
      ]
     },
     "execution_count": 98,
     "metadata": {},
     "output_type": "execute_result"
    }
   ],
   "source": [
    "cp_dev[\"pre_ko\"] = cp_dev[\"ko\"].apply(lambda x: ko_spm.encode_as_ids(x))\n",
    "cp_dev[\"pre_ko\"] = cp_dev[\"pre_ko\"].apply(lambda x: list(filter((token_blank).__ne__,x)))\n",
    "cp_dev[\"pre_en\"] = cp_dev[\"en\"].apply(lambda x: en_spm.encode_as_ids(x))\n",
    "cp_dev[\"pre_en\"] = cp_dev[\"pre_en\"].apply(lambda x: list(filter((token_blank).__ne__,x)))\n",
    "\n",
    "cp_dev[\"pre_ko_len\"] = cp_dev[\"pre_ko\"].apply(lambda x: len(x))\n",
    "cp_dev[\"pre_en_len\"] = cp_dev[\"pre_en\"].apply(lambda x: len(x))\n",
    "\n",
    "cp_dev = cp_dev[cp_dev[\"pre_ko_len\"] <= 40].reset_index(drop=True)\n",
    "cp_dev = cp_dev[cp_dev[\"pre_en_len\"] <= 40].reset_index(drop=True)\n",
    "\n",
    "x_dev = pad_sequences(cp_dev[\"pre_ko\"], \n",
    "                      maxlen = 40, \n",
    "                      value = 1,\n",
    "                      padding = \"post\")\n",
    "y_dev = pad_sequences(cp_dev[\"pre_en\"], \n",
    "                      maxlen = 40, \n",
    "                      value = 1,\n",
    "                      padding = \"post\")\n",
    "\n",
    "x_dev, y_dev, x_dev.shape, y_dev.shape"
   ]
  },
  {
   "cell_type": "markdown",
   "id": "apart-broadcast",
   "metadata": {},
   "source": [
    "## Step 4. 모델 설계"
   ]
  },
  {
   "cell_type": "code",
   "execution_count": 99,
   "id": "historical-syndicate",
   "metadata": {},
   "outputs": [],
   "source": [
    "class BahdanauAttention(tf.keras.layers.Layer):\n",
    "    def __init__(self, units):\n",
    "        super(BahdanauAttention, self).__init__()\n",
    "        self.w_dec = tf.keras.layers.Dense(units)\n",
    "        self.w_enc = tf.keras.layers.Dense(units)\n",
    "        self.w_com = tf.keras.layers.Dense(1)\n",
    "    \n",
    "    def call(self, h_enc, h_dec):\n",
    "        # h_enc shape: [batch x length x units]\n",
    "        # h_dec shape: [batch x units]\n",
    "\n",
    "        h_enc = self.w_enc(h_enc) \n",
    "        h_dec = tf.expand_dims(h_dec, 1) # [batch, 1, units]\n",
    "        h_dec = self.w_dec(h_dec)\n",
    "        \n",
    "        # score shape : [batch, length, units]\n",
    "        score = self.w_com(tf.nn.tanh(h_dec + h_enc))\n",
    "        \n",
    "        # attn shape : [batch, length, 1]\n",
    "        attn = tf.nn.softmax(score, axis=1)\n",
    "        \n",
    "        # context_vec.shape : [batch, length, units]\n",
    "        context_vec = attn * h_enc\n",
    "        # context_vec.shape : [batch, units]\n",
    "        context_vec = tf.reduce_sum(context_vec, axis=1)\n",
    "\n",
    "        return context_vec, attn"
   ]
  },
  {
   "cell_type": "code",
   "execution_count": 100,
   "id": "double-saskatchewan",
   "metadata": {},
   "outputs": [],
   "source": [
    "class Encoder(tf.keras.Model):\n",
    "    def __init__(self, vocab_size, embedding_dim, enc_units):\n",
    "        super(Encoder, self).__init__()\n",
    "        \n",
    "        self.enc_units = enc_units\n",
    "        self.embedding = tf.keras.layers.Embedding(vocab_size, embedding_dim)\n",
    "        self.gru = tf.keras.layers.GRU(enc_units,\n",
    "                                       return_sequences=True)\n",
    "        \n",
    "    def call(self, x):\n",
    "        # embedding shape : [batch, length, embedding_dim]\n",
    "        out = self.embedding(x) \n",
    "        # gru shape : [batch, length, enc_units]\n",
    "        out = self.gru(out) \n",
    "        \n",
    "        return out"
   ]
  },
  {
   "cell_type": "code",
   "execution_count": 101,
   "id": "extreme-discrimination",
   "metadata": {},
   "outputs": [],
   "source": [
    "class Decoder(tf.keras.Model):\n",
    "    def __init__(self, vocab_size, embedding_dim, dec_units):\n",
    "        super(Decoder, self).__init__()\n",
    "        self.dec_units = dec_units\n",
    "        self.embedding = tf.keras.layers.Embedding(vocab_size, embedding_dim)\n",
    "        self.gru = tf.keras.layers.GRU(dec_units,\n",
    "                                       return_sequences=True,\n",
    "                                       return_state=True)\n",
    "        self.bn = tf.keras.layers.BatchNormalization()\n",
    "        self.fc = tf.keras.layers.Dense(vocab_size)\n",
    "\n",
    "        self.attention = BahdanauAttention(self.dec_units)\n",
    "    # 학습과정에서 문장이 통째로가 아닌 문장에 있는 한 단어씩 들어옴 (batch, 1)\n",
    "    def call(self, x, h_dec, enc_out):\n",
    "        # enc_out.shape = [batch, length, units]\n",
    "        # h_dec shape = [batch, units]\n",
    "        context_vec, attn = self.attention(enc_out, h_dec) # context_vec.shape : [batch, units]\n",
    "        \n",
    "        out = self.embedding(x) # out shape = [batch, 1, embedding_dim]\n",
    "        out = tf.concat([tf.expand_dims(context_vec, 1), out], axis=-1) # out shape = [batch, 1, embedding_dim + units]\n",
    "        out, h_dec = self.gru(out) # out shape = [batch, 1, units]\n",
    "        out = self.bn(out)\n",
    "        out = tf.reshape(out, (-1, out.shape[2])) # out shape = [batch, units]\n",
    "        out = self.fc(out) # out shape = [batch, vocab_size]\n",
    "        return out, h_dec, attn"
   ]
  },
  {
   "cell_type": "code",
   "execution_count": 102,
   "id": "afraid-planning",
   "metadata": {},
   "outputs": [],
   "source": [
    "optimizer = tf.keras.optimizers.Adam()\n",
    "loss_object = tf.keras.losses.SparseCategoricalCrossentropy(\n",
    "    from_logits=True, reduction='none')\n",
    "\n",
    "def loss_function(real, pred):\n",
    "    mask = tf.math.logical_not(tf.math.equal(real, 0))\n",
    "    loss = loss_object(real, pred)\n",
    "    \n",
    "    mask = tf.cast(mask, dtype=loss.dtype)\n",
    "    loss *= mask\n",
    "    \n",
    "    return tf.reduce_mean(loss)"
   ]
  },
  {
   "cell_type": "markdown",
   "id": "informational-morocco",
   "metadata": {},
   "source": [
    "## Step 5. 훈련하기"
   ]
  },
  {
   "cell_type": "code",
   "execution_count": 103,
   "id": "norman-scanner",
   "metadata": {},
   "outputs": [],
   "source": [
    "@tf.function\n",
    "def train_step(src, tgt, encoder, decoder, optimizer, dec_tok):\n",
    "    bsz = src.shape[0]\n",
    "    loss = 0\n",
    "\n",
    "    with tf.GradientTape() as tape:\n",
    "        enc_out = encoder(src)\n",
    "        h_dec = enc_out[:, -1]\n",
    "        # encode_as_ids('<bos>') = (9970, 4)[-1] => 4\n",
    "        dec_src = tf.expand_dims([dec_tok.encode_as_ids('<bos>')[-1]] * bsz, 1)\n",
    "        for t in range(1, tgt.shape[1]):\n",
    "            pred, h_dec, _ = decoder(dec_src, h_dec, enc_out)\n",
    "\n",
    "            loss += loss_function(tgt[:, t], pred)\n",
    "            dec_src = tf.expand_dims(tgt[:, t], 1)\n",
    "        \n",
    "    batch_loss = (loss / int(tgt.shape[1]))\n",
    "\n",
    "    variables = encoder.trainable_variables + decoder.trainable_variables\n",
    "    gradients = tape.gradient(loss, variables)\n",
    "    optimizer.apply_gradients(zip(gradients, variables))\n",
    "    \n",
    "    return batch_loss"
   ]
  },
  {
   "cell_type": "code",
   "execution_count": 104,
   "id": "lined-fraud",
   "metadata": {},
   "outputs": [],
   "source": [
    "@tf.function\n",
    "def eval_step(src, tgt, encoder, decoder, dec_tok):\n",
    "    bsz = src.shape[0]\n",
    "    loss = 0\n",
    "\n",
    "    enc_out = encoder(src)\n",
    "\n",
    "    h_dec = enc_out[:, -1]\n",
    "    \n",
    "    dec_src = tf.expand_dims([dec_tok.encode_as_ids('<bos>')[-1]] * bsz, 1)\n",
    "\n",
    "    for t in range(1, tgt.shape[1]):\n",
    "        pred, h_dec, _ = decoder(dec_src, h_dec, enc_out)\n",
    "\n",
    "        loss += loss_function(tgt[:, t], pred)\n",
    "        dec_src = tf.expand_dims(tgt[:, t], 1)\n",
    "        \n",
    "    batch_loss = (loss / int(tgt.shape[1]))\n",
    "    \n",
    "    return batch_loss"
   ]
  },
  {
   "cell_type": "code",
   "execution_count": 105,
   "id": "secure-bargain",
   "metadata": {},
   "outputs": [],
   "source": [
    "def evaluate(sentence, encoder, decoder, enc_tok, dec_tok):\n",
    "    attention = np.zeros((y_train.shape[-1], x_train.shape[-1]))\n",
    "    \n",
    "    \n",
    "    inputs = [ko_spm.EncodeAsIds(sentence)]\n",
    "    inputs = pad_sequences(inputs, \n",
    "                           maxlen = 40, \n",
    "                           value = 1,\n",
    "                           padding = \"pre\")\n",
    "    result = ''\n",
    "    \n",
    "    # enc_out : [batch, length, units]\n",
    "    enc_out = encoder(inputs)\n",
    "    \n",
    "    # dec_hidden : [batch, units]\n",
    "    dec_hidden = enc_out[:, -1]\n",
    "    # dec_input : [batch, 1]\n",
    "    dec_input = tf.expand_dims([enc_tok.encode_as_ids('<bos>')[-1]], 0)\n",
    "\n",
    "    for t in range(y_train.shape[-1]):\n",
    "        # predictions : [batch, vocab_size]\n",
    "        predictions, dec_hidden, attention_weights = decoder(dec_input,\n",
    "                                                             dec_hidden,\n",
    "                                                             enc_out)\n",
    "\n",
    "        attention_weights = tf.reshape(attention_weights, (-1, ))\n",
    "        attention[t] = attention_weights.numpy()\n",
    "        \n",
    "        # predicted_id : numpy.int64\n",
    "        predicted_id = \\\n",
    "        tf.argmax(tf.math.softmax(predictions, axis=-1)[0]).numpy()\n",
    "        result += dec_tok.DecodeIds([int(predicted_id)]) + ' '\n",
    "\n",
    "        if dec_tok.DecodeIds([int(predicted_id)]) == '<eos>':\n",
    "            return result, sentence, attention\n",
    "\n",
    "        dec_input = tf.expand_dims([predicted_id], 0)\n",
    "\n",
    "    return result, sentence, attention\n",
    "\n",
    "\n",
    "def plot_attention(attention, sentence, predicted_sentence):\n",
    "    fig = plt.figure(figsize=(10,10))\n",
    "    ax = fig.add_subplot(1, 1, 1)\n",
    "    ax.matshow(attention, cmap='viridis')\n",
    "\n",
    "    fontdict = {'fontsize': 14}\n",
    "\n",
    "    ax.set_xticklabels([''] + sentence, fontdict=fontdict, rotation=90)\n",
    "    ax.set_yticklabels([''] + predicted_sentence, fontdict=fontdict)\n",
    "\n",
    "    ax.xaxis.set_major_locator(ticker.MultipleLocator(1))\n",
    "    ax.yaxis.set_major_locator(ticker.MultipleLocator(1))\n",
    "\n",
    "    plt.show()\n",
    "\n",
    "\n",
    "def translate(sentence, encoder, decoder, enc_tok, dec_tok):\n",
    "    result, sentence, attention = evaluate(sentence, encoder, decoder, enc_tok, dec_tok)\n",
    "\n",
    "    print('Input: %s' % (sentence))\n",
    "    print('Predicted translation: {}'.format(result))\n",
    "    \n",
    "#    attention = attention[:len(result.split()), :len(sentence.split())]\n",
    "#    plot_attention(attention, sentence.split(), result.split(' '))\n",
    "# translate(\"나는 배가 고프다\", encoder, decoder, ko_spm, en_spm)"
   ]
  },
  {
   "cell_type": "code",
   "execution_count": 106,
   "id": "crucial-exclusive",
   "metadata": {
    "scrolled": false
   },
   "outputs": [
    {
     "name": "stderr",
     "output_type": "stream",
     "text": [
      "Epoch  1: 100%|██████████| 851/851 [06:14<00:00,  2.27it/s, Loss 5.1151]  \n",
      "Test Epoch  1: 100%|██████████| 7/7 [00:24<00:00,  3.49s/it, Test Loss 4.7933]\n"
     ]
    },
    {
     "name": "stdout",
     "output_type": "stream",
     "text": [
      "Input: 오바마는 대통령이다.\n",
      "Predicted translation: <pad> <pad> <pad> <pad> <pad> <pad> <pad> <pad> <pad> <pad> <pad> <pad> <pad> <pad> <pad> <pad> <pad> <pad> <pad> <pad> <pad> <pad> <pad> <pad> <pad> <pad> <pad> <pad> <pad> <pad> <pad> <pad> <pad> <pad> <pad> <pad> <pad> <pad> <pad> <pad> \n",
      "Input: 시민들은 도시 속에 산다.\n",
      "Predicted translation: <pad> <pad> <pad> <pad> <pad> <pad> <pad> <pad> <pad> <pad> <pad> <pad> <pad> <pad> <pad> <pad> <pad> <pad> <pad> <pad> <pad> <pad> <pad> <pad> <pad> <pad> <pad> <pad> <pad> <pad> <pad> <pad> <pad> <pad> <pad> <pad> <pad> <pad> <pad> <pad> \n",
      "Input: 커피는 필요 없다.\n",
      "Predicted translation: <pad> <pad> <pad> <pad> <pad> <pad> <pad> <pad> <pad> <pad> <pad> <pad> <pad> <pad> <pad> <pad> <pad> <pad> <pad> <pad> <pad> <pad> <pad> <pad> <pad> <pad> <pad> <pad> <pad> <pad> <pad> <pad> <pad> <pad> <pad> <pad> <pad> <pad> <pad> <pad> \n"
     ]
    },
    {
     "name": "stderr",
     "output_type": "stream",
     "text": [
      "\r",
      "  0%|          | 0/851 [00:00<?, ?it/s]"
     ]
    },
    {
     "name": "stdout",
     "output_type": "stream",
     "text": [
      "Input: 일곱 명의 사망자가 발생했다.\n",
      "Predicted translation: <pad> <pad> <pad> <pad> <pad> <pad> <pad> <pad> <pad> <pad> <pad> <pad> <pad> <pad> <pad> <pad> <pad> <pad> <pad> <pad> <pad> <pad> <pad> <pad> <pad> <pad> <pad> <pad> <pad> <pad> <pad> <pad> <pad> <pad> <pad> <pad> <pad> <pad> <pad> <pad> \n"
     ]
    },
    {
     "name": "stderr",
     "output_type": "stream",
     "text": [
      "Epoch  2: 100%|██████████| 851/851 [04:52<00:00,  2.91it/s, Loss 5.0451]\n",
      "Test Epoch  2: 100%|██████████| 7/7 [00:00<00:00, 10.13it/s, Test Loss 4.7821]\n"
     ]
    },
    {
     "name": "stdout",
     "output_type": "stream",
     "text": [
      "Input: 오바마는 대통령이다.\n",
      "Predicted translation: <pad> <pad> <pad> <pad> <pad> <pad> <pad> <pad> <pad> <pad> <pad> <pad> <pad> <pad> <pad> <pad> <pad> <pad> <pad> <pad> <pad> <pad> <pad> <pad> <pad> <pad> <pad> <pad> <pad> <pad> <pad> <pad> <pad> <pad> <pad> <pad> <pad> <pad> <pad> <pad> \n",
      "Input: 시민들은 도시 속에 산다.\n",
      "Predicted translation: <pad> <pad> <pad> <pad> <pad> <pad> <pad> <pad> <pad> <pad> <pad> <pad> <pad> <pad> <pad> <pad> <pad> <pad> <pad> <pad> <pad> <pad> <pad> <pad> <pad> <pad> <pad> <pad> <pad> <pad> <pad> <pad> <pad> <pad> <pad> <pad> <pad> <pad> <pad> <pad> \n",
      "Input: 커피는 필요 없다.\n",
      "Predicted translation: <pad> <pad> <pad> <pad> <pad> <pad> <pad> <pad> <pad> <pad> <pad> <pad> <pad> <pad> <pad> <pad> <pad> <pad> <pad> <pad> <pad> <pad> <pad> <pad> <pad> <pad> <pad> <pad> <pad> <pad> <pad> <pad> <pad> <pad> <pad> <pad> <pad> <pad> <pad> <pad> \n"
     ]
    },
    {
     "name": "stderr",
     "output_type": "stream",
     "text": [
      "\r",
      "  0%|          | 0/851 [00:00<?, ?it/s]"
     ]
    },
    {
     "name": "stdout",
     "output_type": "stream",
     "text": [
      "Input: 일곱 명의 사망자가 발생했다.\n",
      "Predicted translation: <pad> <pad> <pad> <pad> <pad> <pad> <pad> <pad> <pad> <pad> <pad> <pad> <pad> <pad> <pad> <pad> <pad> <pad> <pad> <pad> <pad> <pad> <pad> <pad> <pad> <pad> <pad> <pad> <pad> <pad> <pad> <pad> <pad> <pad> <pad> <pad> <pad> <pad> <pad> <pad> \n"
     ]
    },
    {
     "name": "stderr",
     "output_type": "stream",
     "text": [
      "Epoch  3: 100%|██████████| 851/851 [04:49<00:00,  2.94it/s, Loss 5.0377]\n",
      "Test Epoch  3: 100%|██████████| 7/7 [00:00<00:00, 10.10it/s, Test Loss 4.7722]\n"
     ]
    },
    {
     "name": "stdout",
     "output_type": "stream",
     "text": [
      "Input: 오바마는 대통령이다.\n",
      "Predicted translation: <pad> <pad> <pad> <pad> <pad> <pad> <pad> <pad> <pad> <pad> <pad> <pad> <pad> <pad> <pad> <pad> <pad> <pad> <pad> <pad> <pad> <pad> <pad> <pad> <pad> <pad> <pad> <pad> <pad> <pad> <pad> <pad> <pad> <pad> <pad> <pad> <pad> <pad> <pad> <pad> \n",
      "Input: 시민들은 도시 속에 산다.\n",
      "Predicted translation: <pad> <pad> <pad> <pad> <pad> <pad> <pad> <pad> <pad> <pad> <pad> <pad> <pad> <pad> <pad> <pad> <pad> <pad> <pad> <pad> <pad> <pad> <pad> <pad> <pad> <pad> <pad> <pad> <pad> <pad> <pad> <pad> <pad> <pad> <pad> <pad> <pad> <pad> <pad> <pad> \n",
      "Input: 커피는 필요 없다.\n",
      "Predicted translation: <pad> <pad> <pad> <pad> <pad> <pad> <pad> <pad> <pad> <pad> <pad> <pad> <pad> <pad> <pad> <pad> <pad> <pad> <pad> <pad> <pad> <pad> <pad> <pad> <pad> <pad> <pad> <pad> <pad> <pad> <pad> <pad> <pad> <pad> <pad> <pad> <pad> <pad> <pad> <pad> \n"
     ]
    },
    {
     "name": "stderr",
     "output_type": "stream",
     "text": [
      "\r",
      "  0%|          | 0/851 [00:00<?, ?it/s]"
     ]
    },
    {
     "name": "stdout",
     "output_type": "stream",
     "text": [
      "Input: 일곱 명의 사망자가 발생했다.\n",
      "Predicted translation: <pad> <pad> <pad> <pad> <pad> <pad> <pad> <pad> <pad> <pad> <pad> <pad> <pad> <pad> <pad> <pad> <pad> <pad> <pad> <pad> <pad> <pad> <pad> <pad> <pad> <pad> <pad> <pad> <pad> <pad> <pad> <pad> <pad> <pad> <pad> <pad> <pad> <pad> <pad> <pad> \n"
     ]
    },
    {
     "name": "stderr",
     "output_type": "stream",
     "text": [
      "Epoch  4: 100%|██████████| 851/851 [04:53<00:00,  2.90it/s, Loss 5.0349]\n",
      "Test Epoch  4: 100%|██████████| 7/7 [00:00<00:00, 10.17it/s, Test Loss 4.7783]\n"
     ]
    },
    {
     "name": "stdout",
     "output_type": "stream",
     "text": [
      "Input: 오바마는 대통령이다.\n",
      "Predicted translation: <pad> <pad> <pad> <pad> <pad> <pad> <pad> <pad> <pad> <pad> <pad> <pad> <pad> <pad> <pad> <pad> <pad> <pad> <pad> <pad> <pad> <pad> <pad> <pad> <pad> <pad> <pad> <pad> <pad> <pad> <pad> <pad> <pad> <pad> <pad> <pad> <pad> <pad> <pad> <pad> \n",
      "Input: 시민들은 도시 속에 산다.\n",
      "Predicted translation: <pad> <pad> <pad> <pad> <pad> <pad> <pad> <pad> <pad> <pad> <pad> <pad> <pad> <pad> <pad> <pad> <pad> <pad> <pad> <pad> <pad> <pad> <pad> <pad> <pad> <pad> <pad> <pad> <pad> <pad> <pad> <pad> <pad> <pad> <pad> <pad> <pad> <pad> <pad> <pad> \n",
      "Input: 커피는 필요 없다.\n",
      "Predicted translation: <pad> <pad> <pad> <pad> <pad> <pad> <pad> <pad> <pad> <pad> <pad> <pad> <pad> <pad> <pad> <pad> <pad> <pad> <pad> <pad> <pad> <pad> <pad> <pad> <pad> <pad> <pad> <pad> <pad> <pad> <pad> <pad> <pad> <pad> <pad> <pad> <pad> <pad> <pad> <pad> \n"
     ]
    },
    {
     "name": "stderr",
     "output_type": "stream",
     "text": [
      "\r",
      "  0%|          | 0/851 [00:00<?, ?it/s]"
     ]
    },
    {
     "name": "stdout",
     "output_type": "stream",
     "text": [
      "Input: 일곱 명의 사망자가 발생했다.\n",
      "Predicted translation: <pad> <pad> <pad> <pad> <pad> <pad> <pad> <pad> <pad> <pad> <pad> <pad> <pad> <pad> <pad> <pad> <pad> <pad> <pad> <pad> <pad> <pad> <pad> <pad> <pad> <pad> <pad> <pad> <pad> <pad> <pad> <pad> <pad> <pad> <pad> <pad> <pad> <pad> <pad> <pad> \n"
     ]
    },
    {
     "name": "stderr",
     "output_type": "stream",
     "text": [
      "Epoch  5: 100%|██████████| 851/851 [04:47<00:00,  2.96it/s, Loss 5.0334]\n",
      "Test Epoch  5: 100%|██████████| 7/7 [00:00<00:00, 10.17it/s, Test Loss 4.7763]\n"
     ]
    },
    {
     "name": "stdout",
     "output_type": "stream",
     "text": [
      "Input: 오바마는 대통령이다.\n",
      "Predicted translation: <pad> <pad> <pad> <pad> <pad> <pad> <pad> <pad> <pad> <pad> <pad> <pad> <pad> <pad> <pad> <pad> <pad> <pad> <pad> <pad> <pad> <pad> <pad> <pad> <pad> <pad> <pad> <pad> <pad> <pad> <pad> <pad> <pad> <pad> <pad> <pad> <pad> <pad> <pad> <pad> \n",
      "Input: 시민들은 도시 속에 산다.\n",
      "Predicted translation: <pad> <pad> <pad> <pad> <pad> <pad> <pad> <pad> <pad> <pad> <pad> <pad> <pad> <pad> <pad> <pad> <pad> <pad> <pad> <pad> <pad> <pad> <pad> <pad> <pad> <pad> <pad> <pad> <pad> <pad> <pad> <pad> <pad> <pad> <pad> <pad> <pad> <pad> <pad> <pad> \n",
      "Input: 커피는 필요 없다.\n",
      "Predicted translation: <pad> <pad> <pad> <pad> <pad> <pad> <pad> <pad> <pad> <pad> <pad> <pad> <pad> <pad> <pad> <pad> <pad> <pad> <pad> <pad> <pad> <pad> <pad> <pad> <pad> <pad> <pad> <pad> <pad> <pad> <pad> <pad> <pad> <pad> <pad> <pad> <pad> <pad> <pad> <pad> \n"
     ]
    },
    {
     "name": "stderr",
     "output_type": "stream",
     "text": [
      "\r",
      "  0%|          | 0/851 [00:00<?, ?it/s]"
     ]
    },
    {
     "name": "stdout",
     "output_type": "stream",
     "text": [
      "Input: 일곱 명의 사망자가 발생했다.\n",
      "Predicted translation: <pad> <pad> <pad> <pad> <pad> <pad> <pad> <pad> <pad> <pad> <pad> <pad> <pad> <pad> <pad> <pad> <pad> <pad> <pad> <pad> <pad> <pad> <pad> <pad> <pad> <pad> <pad> <pad> <pad> <pad> <pad> <pad> <pad> <pad> <pad> <pad> <pad> <pad> <pad> <pad> \n"
     ]
    },
    {
     "name": "stderr",
     "output_type": "stream",
     "text": [
      "Epoch  6: 100%|██████████| 851/851 [04:52<00:00,  2.91it/s, Loss 5.0324]\n",
      "Test Epoch  6: 100%|██████████| 7/7 [00:00<00:00, 10.09it/s, Test Loss 4.7759]\n"
     ]
    },
    {
     "name": "stdout",
     "output_type": "stream",
     "text": [
      "Input: 오바마는 대통령이다.\n",
      "Predicted translation: <pad> <pad> <pad> <pad> <pad> <pad> <pad> <pad> <pad> <pad> <pad> <pad> <pad> <pad> <pad> <pad> <pad> <pad> <pad> <pad> <pad> <pad> <pad> <pad> <pad> <pad> <pad> <pad> <pad> <pad> <pad> <pad> <pad> <pad> <pad> <pad> <pad> <pad> <pad> <pad> \n",
      "Input: 시민들은 도시 속에 산다.\n",
      "Predicted translation: <pad> <pad> <pad> <pad> <pad> <pad> <pad> <pad> <pad> <pad> <pad> <pad> <pad> <pad> <pad> <pad> <pad> <pad> <pad> <pad> <pad> <pad> <pad> <pad> <pad> <pad> <pad> <pad> <pad> <pad> <pad> <pad> <pad> <pad> <pad> <pad> <pad> <pad> <pad> <pad> \n",
      "Input: 커피는 필요 없다.\n",
      "Predicted translation: <pad> <pad> <pad> <pad> <pad> <pad> <pad> <pad> <pad> <pad> <pad> <pad> <pad> <pad> <pad> <pad> <pad> <pad> <pad> <pad> <pad> <pad> <pad> <pad> <pad> <pad> <pad> <pad> <pad> <pad> <pad> <pad> <pad> <pad> <pad> <pad> <pad> <pad> <pad> <pad> \n"
     ]
    },
    {
     "name": "stderr",
     "output_type": "stream",
     "text": [
      "\r",
      "  0%|          | 0/851 [00:00<?, ?it/s]"
     ]
    },
    {
     "name": "stdout",
     "output_type": "stream",
     "text": [
      "Input: 일곱 명의 사망자가 발생했다.\n",
      "Predicted translation: <pad> <pad> <pad> <pad> <pad> <pad> <pad> <pad> <pad> <pad> <pad> <pad> <pad> <pad> <pad> <pad> <pad> <pad> <pad> <pad> <pad> <pad> <pad> <pad> <pad> <pad> <pad> <pad> <pad> <pad> <pad> <pad> <pad> <pad> <pad> <pad> <pad> <pad> <pad> <pad> \n"
     ]
    },
    {
     "name": "stderr",
     "output_type": "stream",
     "text": [
      "Epoch  7: 100%|██████████| 851/851 [04:49<00:00,  2.94it/s, Loss 5.0317]\n",
      "Test Epoch  7: 100%|██████████| 7/7 [00:00<00:00, 10.06it/s, Test Loss 4.7745]\n"
     ]
    },
    {
     "name": "stdout",
     "output_type": "stream",
     "text": [
      "Input: 오바마는 대통령이다.\n",
      "Predicted translation: <pad> <pad> <pad> <pad> <pad> <pad> <pad> <pad> <pad> <pad> <pad> <pad> <pad> <pad> <pad> <pad> <pad> <pad> <pad> <pad> <pad> <pad> <pad> <pad> <pad> <pad> <pad> <pad> <pad> <pad> <pad> <pad> <pad> <pad> <pad> <pad> <pad> <pad> <pad> <pad> \n",
      "Input: 시민들은 도시 속에 산다.\n",
      "Predicted translation: <pad> <pad> <pad> <pad> <pad> <pad> <pad> <pad> <pad> <pad> <pad> <pad> <pad> <pad> <pad> <pad> <pad> <pad> <pad> <pad> <pad> <pad> <pad> <pad> <pad> <pad> <pad> <pad> <pad> <pad> <pad> <pad> <pad> <pad> <pad> <pad> <pad> <pad> <pad> <pad> \n",
      "Input: 커피는 필요 없다.\n",
      "Predicted translation: <pad> <pad> <pad> <pad> <pad> <pad> <pad> <pad> <pad> <pad> <pad> <pad> <pad> <pad> <pad> <pad> <pad> <pad> <pad> <pad> <pad> <pad> <pad> <pad> <pad> <pad> <pad> <pad> <pad> <pad> <pad> <pad> <pad> <pad> <pad> <pad> <pad> <pad> <pad> <pad> \n"
     ]
    },
    {
     "name": "stderr",
     "output_type": "stream",
     "text": [
      "\r",
      "  0%|          | 0/851 [00:00<?, ?it/s]"
     ]
    },
    {
     "name": "stdout",
     "output_type": "stream",
     "text": [
      "Input: 일곱 명의 사망자가 발생했다.\n",
      "Predicted translation: <pad> <pad> <pad> <pad> <pad> <pad> <pad> <pad> <pad> <pad> <pad> <pad> <pad> <pad> <pad> <pad> <pad> <pad> <pad> <pad> <pad> <pad> <pad> <pad> <pad> <pad> <pad> <pad> <pad> <pad> <pad> <pad> <pad> <pad> <pad> <pad> <pad> <pad> <pad> <pad> \n"
     ]
    },
    {
     "name": "stderr",
     "output_type": "stream",
     "text": [
      "Epoch  8: 100%|██████████| 851/851 [04:54<00:00,  2.89it/s, Loss 4.9542]\n",
      "Test Epoch  8: 100%|██████████| 7/7 [00:00<00:00, 10.08it/s, Test Loss 4.1322]\n"
     ]
    },
    {
     "name": "stdout",
     "output_type": "stream",
     "text": [
      "Input: 오바마는 대통령이다.\n",
      "Predicted translation: the the the the the the the the the the the the the the the the the the the the the the the the the the the the the the the the the the the the the the the the \n",
      "Input: 시민들은 도시 속에 산다.\n",
      "Predicted translation: the the the the the the the the the the the the the the the the the the the the the the the the the the the the the the the the the the the the the the the the \n",
      "Input: 커피는 필요 없다.\n",
      "Predicted translation: the the the the the the the the the the the the the the the the the the the the the the the the the the the the the the the the the the the the the the the the \n"
     ]
    },
    {
     "name": "stderr",
     "output_type": "stream",
     "text": [
      "\r",
      "  0%|          | 0/851 [00:00<?, ?it/s]"
     ]
    },
    {
     "name": "stdout",
     "output_type": "stream",
     "text": [
      "Input: 일곱 명의 사망자가 발생했다.\n",
      "Predicted translation: the the the the the the the the the the the the the the the the the the the the the the the the the the the the the the the the the the the the the the the the \n"
     ]
    },
    {
     "name": "stderr",
     "output_type": "stream",
     "text": [
      "Epoch  9: 100%|██████████| 851/851 [04:46<00:00,  2.97it/s, Loss 4.2731]\n",
      "Test Epoch  9: 100%|██████████| 7/7 [00:00<00:00, 10.07it/s, Test Loss 3.9479]\n"
     ]
    },
    {
     "name": "stdout",
     "output_type": "stream",
     "text": [
      "Input: 오바마는 대통령이다.\n",
      "Predicted translation: the the the the the the the the the the the the the the the the the the the the the the the the the the the the the the the the the the the the the the the the \n",
      "Input: 시민들은 도시 속에 산다.\n",
      "Predicted translation: the the the the the the the the the the the the the the the the the the the the the the the the the the the the the the the the the the the the the the the the \n",
      "Input: 커피는 필요 없다.\n",
      "Predicted translation: the the the the the the the the the the the the the the the the the the the the the the the the the the the the the the the the the the the the the the the the \n"
     ]
    },
    {
     "name": "stderr",
     "output_type": "stream",
     "text": [
      "\r",
      "  0%|          | 0/851 [00:00<?, ?it/s]"
     ]
    },
    {
     "name": "stdout",
     "output_type": "stream",
     "text": [
      "Input: 일곱 명의 사망자가 발생했다.\n",
      "Predicted translation: the the the the the the the the the the the the the the the the the the the the the the the the the the the the the the the the the the the the the the the the \n"
     ]
    },
    {
     "name": "stderr",
     "output_type": "stream",
     "text": [
      "Epoch 10: 100%|██████████| 851/851 [04:52<00:00,  2.91it/s, Loss 4.1795]\n",
      "Test Epoch 10: 100%|██████████| 7/7 [00:00<00:00, 10.14it/s, Test Loss 3.8956]\n"
     ]
    },
    {
     "name": "stdout",
     "output_type": "stream",
     "text": [
      "Input: 오바마는 대통령이다.\n",
      "Predicted translation: the the the the the the the the the the the the the the the the the the the the the the the the the the the the the the the the the the the the the the the the \n",
      "Input: 시민들은 도시 속에 산다.\n",
      "Predicted translation: the the the the the the the the the the the the the the the the the the the the the the the the the the the the the the the the the the the the the the the the \n",
      "Input: 커피는 필요 없다.\n",
      "Predicted translation: the the the the the the the the the the the the the the the the the the the the the the the the the the the the the the the the the the the the the the the the \n"
     ]
    },
    {
     "name": "stderr",
     "output_type": "stream",
     "text": [
      "\r",
      "  0%|          | 0/851 [00:00<?, ?it/s]"
     ]
    },
    {
     "name": "stdout",
     "output_type": "stream",
     "text": [
      "Input: 일곱 명의 사망자가 발생했다.\n",
      "Predicted translation: the the the the the the the the the the the the the the the the the the the the the the the the the the the the the the the the the the the the the the the the \n"
     ]
    },
    {
     "name": "stderr",
     "output_type": "stream",
     "text": [
      "Epoch 11: 100%|██████████| 851/851 [04:47<00:00,  2.96it/s, Loss 4.0302]\n",
      "Test Epoch 11: 100%|██████████| 7/7 [00:00<00:00, 10.19it/s, Test Loss 3.7133]\n"
     ]
    },
    {
     "name": "stdout",
     "output_type": "stream",
     "text": [
      "Input: 오바마는 대통령이다.\n",
      "Predicted translation: the year of the year of the year of the year of the year of the year of the year of the year of the year of the year of the year of the year of the year of the \n",
      "Input: 시민들은 도시 속에 산다.\n",
      "Predicted translation: the year of the year of the year of the year of the year of the year of the year of the year of the year of the year of the year of the year of the year of the \n",
      "Input: 커피는 필요 없다.\n",
      "Predicted translation: the year of the year of the year of the year of the year of the year of the year of the year of the year of the year of the year of the year of the year of the \n"
     ]
    },
    {
     "name": "stderr",
     "output_type": "stream",
     "text": [
      "\r",
      "  0%|          | 0/851 [00:00<?, ?it/s]"
     ]
    },
    {
     "name": "stdout",
     "output_type": "stream",
     "text": [
      "Input: 일곱 명의 사망자가 발생했다.\n",
      "Predicted translation: the year of the year of the year of the year of the year of the year of the year of the year of the year of the year of the year of the year of the year of the \n"
     ]
    },
    {
     "name": "stderr",
     "output_type": "stream",
     "text": [
      "Epoch 12: 100%|██████████| 851/851 [04:53<00:00,  2.90it/s, Loss 3.9004]\n",
      "Test Epoch 12: 100%|██████████| 7/7 [00:00<00:00, 10.17it/s, Test Loss 3.6244]\n"
     ]
    },
    {
     "name": "stdout",
     "output_type": "stream",
     "text": [
      "Input: 오바마는 대통령이다.\n",
      "Predicted translation: the first of the first of the first of the first of the first of the first of the first of the first of the first of the first of the first of the first of the first of the \n",
      "Input: 시민들은 도시 속에 산다.\n",
      "Predicted translation: the first of the first of the first of the first of the first of the first of the first of the first of the first of the first of the first of the first of the first of the \n",
      "Input: 커피는 필요 없다.\n",
      "Predicted translation: the first of the first of the first of the first of the first of the first of the first of the first of the first of the first of the first of the first of the first of the \n"
     ]
    },
    {
     "name": "stderr",
     "output_type": "stream",
     "text": [
      "\r",
      "  0%|          | 0/851 [00:00<?, ?it/s]"
     ]
    },
    {
     "name": "stdout",
     "output_type": "stream",
     "text": [
      "Input: 일곱 명의 사망자가 발생했다.\n",
      "Predicted translation: the first year of the first year of the first year of the first year of the first year of the first year of the first year of the first year of the first year of the first year of \n"
     ]
    },
    {
     "name": "stderr",
     "output_type": "stream",
     "text": [
      "Epoch 13: 100%|██████████| 851/851 [04:48<00:00,  2.95it/s, Loss 3.7635]\n",
      "Test Epoch 13: 100%|██████████| 7/7 [00:00<00:00, 10.13it/s, Test Loss 3.4941]\n"
     ]
    },
    {
     "name": "stdout",
     "output_type": "stream",
     "text": [
      "Input: 오바마는 대통령이다.\n",
      "Predicted translation: the first time <eos> \n",
      "Input: 시민들은 도시 속에 산다.\n",
      "Predicted translation: the first time <eos> \n"
     ]
    },
    {
     "name": "stderr",
     "output_type": "stream",
     "text": [
      "\r",
      "  0%|          | 0/851 [00:00<?, ?it/s]"
     ]
    },
    {
     "name": "stdout",
     "output_type": "stream",
     "text": [
      "Input: 커피는 필요 없다.\n",
      "Predicted translation: the first time <eos> \n",
      "Input: 일곱 명의 사망자가 발생했다.\n",
      "Predicted translation: the country <eos> \n"
     ]
    },
    {
     "name": "stderr",
     "output_type": "stream",
     "text": [
      "Epoch 14: 100%|██████████| 851/851 [04:52<00:00,  2.91it/s, Loss 3.6086]\n",
      "Test Epoch 14: 100%|██████████| 7/7 [00:00<00:00, 10.16it/s, Test Loss 3.3749]\n"
     ]
    },
    {
     "name": "stdout",
     "output_type": "stream",
     "text": [
      "Input: 오바마는 대통령이다.\n",
      "Predicted translation: the two time <eos> \n",
      "Input: 시민들은 도시 속에 산다.\n",
      "Predicted translation: the two day <eos> \n"
     ]
    },
    {
     "name": "stderr",
     "output_type": "stream",
     "text": [
      "\r",
      "  0%|          | 0/851 [00:00<?, ?it/s]"
     ]
    },
    {
     "name": "stdout",
     "output_type": "stream",
     "text": [
      "Input: 커피는 필요 없다.\n",
      "Predicted translation: the two people were a statement <eos> \n",
      "Input: 일곱 명의 사망자가 발생했다.\n",
      "Predicted translation: the two people were a statement <eos> \n"
     ]
    },
    {
     "name": "stderr",
     "output_type": "stream",
     "text": [
      "Epoch 15: 100%|██████████| 851/851 [04:53<00:00,  2.90it/s, Loss 3.4429]\n",
      "Test Epoch 15: 100%|██████████| 7/7 [00:00<00:00, 10.05it/s, Test Loss 3.2516]\n"
     ]
    },
    {
     "name": "stdout",
     "output_type": "stream",
     "text": [
      "Input: 오바마는 대통령이다.\n",
      "Predicted translation: the government <eos> \n",
      "Input: 시민들은 도시 속에 산다.\n",
      "Predicted translation: the government <eos> \n"
     ]
    },
    {
     "name": "stderr",
     "output_type": "stream",
     "text": [
      "\r",
      "  0%|          | 0/851 [00:00<?, ?it/s]"
     ]
    },
    {
     "name": "stdout",
     "output_type": "stream",
     "text": [
      "Input: 커피는 필요 없다.\n",
      "Predicted translation: the government <eos> \n",
      "Input: 일곱 명의 사망자가 발생했다.\n",
      "Predicted translation: the government <eos> \n"
     ]
    },
    {
     "name": "stderr",
     "output_type": "stream",
     "text": [
      "Epoch 16: 100%|██████████| 851/851 [04:52<00:00,  2.91it/s, Loss 3.2686]\n",
      "Test Epoch 16: 100%|██████████| 7/7 [00:00<00:00,  9.83it/s, Test Loss 3.1253]\n"
     ]
    },
    {
     "name": "stdout",
     "output_type": "stream",
     "text": [
      "Input: 오바마는 대통령이다.\n",
      "Predicted translation: the government <eos> \n",
      "Input: 시민들은 도시 속에 산다.\n",
      "Predicted translation: the government <eos> \n"
     ]
    },
    {
     "name": "stderr",
     "output_type": "stream",
     "text": [
      "\r",
      "  0%|          | 0/851 [00:00<?, ?it/s]"
     ]
    },
    {
     "name": "stdout",
     "output_type": "stream",
     "text": [
      "Input: 커피는 필요 없다.\n",
      "Predicted translation: the government <eos> \n",
      "Input: 일곱 명의 사망자가 발생했다.\n",
      "Predicted translation: the government <eos> \n"
     ]
    },
    {
     "name": "stderr",
     "output_type": "stream",
     "text": [
      "Epoch 17: 100%|██████████| 851/851 [05:00<00:00,  2.83it/s, Loss 3.0922]\n",
      "Test Epoch 17: 100%|██████████| 7/7 [00:00<00:00, 10.07it/s, Test Loss 3.0091]\n"
     ]
    },
    {
     "name": "stdout",
     "output_type": "stream",
     "text": [
      "Input: 오바마는 대통령이다.\n",
      "Predicted translation: the national party is also is also is the national party is also is also is the national party is also is also is the national party is also is also is the national party is also is also is \n",
      "Input: 시민들은 도시 속에 산다.\n",
      "Predicted translation: the national party is also is also is the two years ago ' s office also is also is the two years ago ' s office also is also is the two years ago ' s office also is also \n",
      "Input: 커피는 필요 없다.\n",
      "Predicted translation: the ap ' s office also is also is the national security department is also is the national security department is also is the national security department is also is the national security department is also is the national security \n"
     ]
    },
    {
     "name": "stderr",
     "output_type": "stream",
     "text": [
      "\r",
      "  0%|          | 0/851 [00:00<?, ?it/s]"
     ]
    },
    {
     "name": "stdout",
     "output_type": "stream",
     "text": [
      "Input: 일곱 명의 사망자가 발생했다.\n",
      "Predicted translation: the national party is also has been also have been a new cnn is also has been also have been a new cnn is also has been also have been a new cnn is also has been also have been \n"
     ]
    },
    {
     "name": "stderr",
     "output_type": "stream",
     "text": [
      "Epoch 18: 100%|██████████| 851/851 [04:47<00:00,  2.96it/s, Loss 2.9222]\n",
      "Test Epoch 18: 100%|██████████| 7/7 [00:00<00:00, 10.12it/s, Test Loss 2.9333]\n"
     ]
    },
    {
     "name": "stdout",
     "output_type": "stream",
     "text": [
      "Input: 오바마는 대통령이다.\n",
      "Predicted translation: the government is also is a year ago <eos> \n",
      "Input: 시민들은 도시 속에 산다.\n",
      "Predicted translation: the government is also is a year <eos> \n",
      "Input: 커피는 필요 없다.\n",
      "Predicted translation: the government is also have been a year ago <eos> \n"
     ]
    },
    {
     "name": "stderr",
     "output_type": "stream",
     "text": [
      "\r",
      "  0%|          | 0/851 [00:00<?, ?it/s]"
     ]
    },
    {
     "name": "stdout",
     "output_type": "stream",
     "text": [
      "Input: 일곱 명의 사망자가 발생했다.\n",
      "Predicted translation: the two years ago , the two years ago , the two years ago , the two years ago , the two years ago , the two years ago , the two years ago , the two years ago , \n"
     ]
    },
    {
     "name": "stderr",
     "output_type": "stream",
     "text": [
      "Epoch 19: 100%|██████████| 851/851 [04:50<00:00,  2.93it/s, Loss 2.7759]\n",
      "Test Epoch 19: 100%|██████████| 7/7 [00:00<00:00, 10.05it/s, Test Loss 2.8902]\n"
     ]
    },
    {
     "name": "stdout",
     "output_type": "stream",
     "text": [
      "Input: 오바마는 대통령이다.\n",
      "Predicted translation: the government is also have a year <eos> \n",
      "Input: 시민들은 도시 속에 산다.\n",
      "Predicted translation: the government is also have been a year <eos> \n",
      "Input: 커피는 필요 없다.\n",
      "Predicted translation: the government is also say <eos> \n"
     ]
    },
    {
     "name": "stderr",
     "output_type": "stream",
     "text": [
      "\r",
      "  0%|          | 0/851 [00:00<?, ?it/s]"
     ]
    },
    {
     "name": "stdout",
     "output_type": "stream",
     "text": [
      "Input: 일곱 명의 사망자가 발생했다.\n",
      "Predicted translation: the government is also reported <eos> \n"
     ]
    },
    {
     "name": "stderr",
     "output_type": "stream",
     "text": [
      "Epoch 20: 100%|██████████| 851/851 [04:50<00:00,  2.93it/s, Loss 2.6500]\n",
      "Test Epoch 20: 100%|██████████| 7/7 [00:00<00:00, 10.13it/s, Test Loss 2.8833]\n"
     ]
    },
    {
     "name": "stdout",
     "output_type": "stream",
     "text": [
      "Input: 오바마는 대통령이다.\n",
      "Predicted translation: the associated press <eos> \n",
      "Input: 시민들은 도시 속에 산다.\n",
      "Predicted translation: the ap reported <eos> \n"
     ]
    },
    {
     "name": "stderr",
     "output_type": "stream",
     "text": [
      "\r",
      "  0%|          | 0/851 [00:00<?, ?it/s]"
     ]
    },
    {
     "name": "stdout",
     "output_type": "stream",
     "text": [
      "Input: 커피는 필요 없다.\n",
      "Predicted translation: the associated press <eos> \n",
      "Input: 일곱 명의 사망자가 발생했다.\n",
      "Predicted translation: the associated press <eos> \n"
     ]
    },
    {
     "name": "stderr",
     "output_type": "stream",
     "text": [
      "Epoch 21: 100%|██████████| 851/851 [04:52<00:00,  2.90it/s, Loss 2.5366]\n",
      "Test Epoch 21: 100%|██████████| 7/7 [00:00<00:00, 10.20it/s, Test Loss 2.8950]\n"
     ]
    },
    {
     "name": "stdout",
     "output_type": "stream",
     "text": [
      "Input: 오바마는 대통령이다.\n",
      "Predicted translation: the associated press reported <eos> \n",
      "Input: 시민들은 도시 속에 산다.\n",
      "Predicted translation: the associated press reported <eos> \n"
     ]
    },
    {
     "name": "stderr",
     "output_type": "stream",
     "text": [
      "\r",
      "  0%|          | 0/851 [00:00<?, ?it/s]"
     ]
    },
    {
     "name": "stdout",
     "output_type": "stream",
     "text": [
      "Input: 커피는 필요 없다.\n",
      "Predicted translation: the associated press reported <eos> \n",
      "Input: 일곱 명의 사망자가 발생했다.\n",
      "Predicted translation: the associated press reported <eos> \n"
     ]
    },
    {
     "name": "stderr",
     "output_type": "stream",
     "text": [
      "Epoch 22: 100%|██████████| 851/851 [04:47<00:00,  2.96it/s, Loss 2.4327]\n",
      "Test Epoch 22: 100%|██████████| 7/7 [00:00<00:00, 10.15it/s, Test Loss 2.9077]\n"
     ]
    },
    {
     "name": "stdout",
     "output_type": "stream",
     "text": [
      "Input: 오바마는 대통령이다.\n",
      "Predicted translation: the associated press <eos> \n",
      "Input: 시민들은 도시 속에 산다.\n",
      "Predicted translation: the associated press <eos> \n"
     ]
    },
    {
     "name": "stderr",
     "output_type": "stream",
     "text": [
      "\r",
      "  0%|          | 0/851 [00:00<?, ?it/s]"
     ]
    },
    {
     "name": "stdout",
     "output_type": "stream",
     "text": [
      "Input: 커피는 필요 없다.\n",
      "Predicted translation: the associated press <eos> \n",
      "Input: 일곱 명의 사망자가 발생했다.\n",
      "Predicted translation: the associated press <eos> \n"
     ]
    },
    {
     "name": "stderr",
     "output_type": "stream",
     "text": [
      "Epoch 23: 100%|██████████| 851/851 [04:51<00:00,  2.92it/s, Loss 2.3360]\n",
      "Test Epoch 23: 100%|██████████| 7/7 [00:00<00:00, 10.23it/s, Test Loss 2.9468]\n"
     ]
    },
    {
     "name": "stdout",
     "output_type": "stream",
     "text": [
      "Input: 오바마는 대통령이다.\n",
      "Predicted translation: the is also reported <eos> \n",
      "Input: 시민들은 도시 속에 산다.\n",
      "Predicted translation: the is also reported <eos> \n",
      "Input: 커피는 필요 없다.\n",
      "Predicted translation: the is also reported <eos> \n"
     ]
    },
    {
     "name": "stderr",
     "output_type": "stream",
     "text": [
      "\r",
      "  0%|          | 0/851 [00:00<?, ?it/s]"
     ]
    },
    {
     "name": "stdout",
     "output_type": "stream",
     "text": [
      "Input: 일곱 명의 사망자가 발생했다.\n",
      "Predicted translation: the two leaders have been a iling in the debris <eos> \n"
     ]
    },
    {
     "name": "stderr",
     "output_type": "stream",
     "text": [
      "Epoch 24: 100%|██████████| 851/851 [04:54<00:00,  2.89it/s, Loss 2.2467]\n",
      "Test Epoch 24: 100%|██████████| 7/7 [00:00<00:00, 10.12it/s, Test Loss 2.9794]\n"
     ]
    },
    {
     "name": "stdout",
     "output_type": "stream",
     "text": [
      "Input: 오바마는 대통령이다.\n",
      "Predicted translation: the two leaders have been a iling <eos> \n",
      "Input: 시민들은 도시 속에 산다.\n",
      "Predicted translation: the two leaders have been a iling street <eos> \n",
      "Input: 커피는 필요 없다.\n",
      "Predicted translation: the two leaders have been a iling <eos> \n"
     ]
    },
    {
     "name": "stderr",
     "output_type": "stream",
     "text": [
      "\r",
      "  0%|          | 0/851 [00:00<?, ?it/s]"
     ]
    },
    {
     "name": "stdout",
     "output_type": "stream",
     "text": [
      "Input: 일곱 명의 사망자가 발생했다.\n",
      "Predicted translation: the two leaders have been a iling ing a navy <eos> \n"
     ]
    },
    {
     "name": "stderr",
     "output_type": "stream",
     "text": [
      "Epoch 25: 100%|██████████| 851/851 [04:56<00:00,  2.87it/s, Loss 2.1724]\n",
      "Test Epoch 25: 100%|██████████| 7/7 [00:00<00:00,  9.93it/s, Test Loss 3.0245]\n"
     ]
    },
    {
     "name": "stdout",
     "output_type": "stream",
     "text": [
      "Input: 오바마는 대통령이다.\n",
      "Predicted translation: the two sides also reported <eos> \n",
      "Input: 시민들은 도시 속에 산다.\n",
      "Predicted translation: the two sides also reported <eos> \n",
      "Input: 커피는 필요 없다.\n",
      "Predicted translation: the two sides also reported <eos> \n"
     ]
    },
    {
     "name": "stderr",
     "output_type": "stream",
     "text": [
      "\r",
      "  0%|          | 0/851 [00:00<?, ?it/s]"
     ]
    },
    {
     "name": "stdout",
     "output_type": "stream",
     "text": [
      "Input: 일곱 명의 사망자가 발생했다.\n",
      "Predicted translation: the two sides have been seen in the latest public ized <eos> \n"
     ]
    },
    {
     "name": "stderr",
     "output_type": "stream",
     "text": [
      "Epoch 26: 100%|██████████| 851/851 [04:53<00:00,  2.90it/s, Loss 2.0868]\n",
      "Test Epoch 26: 100%|██████████| 7/7 [00:00<00:00, 10.06it/s, Test Loss 3.0847]\n"
     ]
    },
    {
     "name": "stdout",
     "output_type": "stream",
     "text": [
      "Input: 오바마는 대통령이다.\n",
      "Predicted translation: the two sides have been trying to be seen a iling <eos> \n",
      "Input: 시민들은 도시 속에 산다.\n",
      "Predicted translation: the two sides have been a tent ill ing street <eos> \n",
      "Input: 커피는 필요 없다.\n",
      "Predicted translation: the two sides have been trying to be extrad ite igan <eos> \n"
     ]
    },
    {
     "name": "stderr",
     "output_type": "stream",
     "text": [
      "\r",
      "  0%|          | 0/851 [00:00<?, ?it/s]"
     ]
    },
    {
     "name": "stdout",
     "output_type": "stream",
     "text": [
      "Input: 일곱 명의 사망자가 발생했다.\n",
      "Predicted translation: the two sides have been seen a third farewell to land age <eos> \n"
     ]
    },
    {
     "name": "stderr",
     "output_type": "stream",
     "text": [
      "Epoch 27: 100%|██████████| 851/851 [04:50<00:00,  2.92it/s, Loss 2.0101]\n",
      "Test Epoch 27: 100%|██████████| 7/7 [00:00<00:00, 10.13it/s, Test Loss 3.1664]\n"
     ]
    },
    {
     "name": "stdout",
     "output_type": "stream",
     "text": [
      "Input: 오바마는 대통령이다.\n",
      "Predicted translation: the is also to be seen as a iling <eos> \n",
      "Input: 시민들은 도시 속에 산다.\n",
      "Predicted translation: the is also to be seen a tent ipe for a tent ipe ing ing ing ing ing ing ing ing ing ing ing ing ing ing ing ing ing ing ing ing ing ing ing ing ing ing ing \n",
      "Input: 커피는 필요 없다.\n",
      "Predicted translation: the is also to take place <eos> \n"
     ]
    },
    {
     "name": "stderr",
     "output_type": "stream",
     "text": [
      "\r",
      "  0%|          | 0/851 [00:00<?, ?it/s]"
     ]
    },
    {
     "name": "stdout",
     "output_type": "stream",
     "text": [
      "Input: 일곱 명의 사망자가 발생했다.\n",
      "Predicted translation: the is also to take place <eos> \n"
     ]
    },
    {
     "name": "stderr",
     "output_type": "stream",
     "text": [
      "Epoch 28: 100%|██████████| 851/851 [04:51<00:00,  2.92it/s, Loss 1.9416]\n",
      "Test Epoch 28: 100%|██████████| 7/7 [00:00<00:00, 10.14it/s, Test Loss 3.2192]\n"
     ]
    },
    {
     "name": "stdout",
     "output_type": "stream",
     "text": [
      "Input: 오바마는 대통령이다.\n",
      "Predicted translation: the order is the plan <eos> \n",
      "Input: 시민들은 도시 속에 산다.\n",
      "Predicted translation: the order is the plan <eos> \n",
      "Input: 커피는 필요 없다.\n",
      "Predicted translation: the order is the latest incident <eos> \n"
     ]
    },
    {
     "name": "stderr",
     "output_type": "stream",
     "text": [
      "\r",
      "  0%|          | 0/851 [00:00<?, ?it/s]"
     ]
    },
    {
     "name": "stdout",
     "output_type": "stream",
     "text": [
      "Input: 일곱 명의 사망자가 발생했다.\n",
      "Predicted translation: the order is the latest press break maj its <eos> \n"
     ]
    },
    {
     "name": "stderr",
     "output_type": "stream",
     "text": [
      "Epoch 29: 100%|██████████| 851/851 [04:52<00:00,  2.91it/s, Loss 1.8752]\n",
      "Test Epoch 29: 100%|██████████| 7/7 [00:00<00:00, 10.10it/s, Test Loss 3.2835]\n"
     ]
    },
    {
     "name": "stdout",
     "output_type": "stream",
     "text": [
      "Input: 오바마는 대통령이다.\n",
      "Predicted translation: the two leaders have been taking place <eos> \n",
      "Input: 시민들은 도시 속에 산다.\n",
      "Predicted translation: the two leaders have been in the latest attempt to mark uff le <eos> \n",
      "Input: 커피는 필요 없다.\n",
      "Predicted translation: the two leaders have been trying to be no place in place <eos> \n"
     ]
    },
    {
     "name": "stderr",
     "output_type": "stream",
     "text": [
      "\r",
      "  0%|          | 0/851 [00:00<?, ?it/s]"
     ]
    },
    {
     "name": "stdout",
     "output_type": "stream",
     "text": [
      "Input: 일곱 명의 사망자가 발생했다.\n",
      "Predicted translation: the two leaders have been trying to have gotten a truck ing <eos> \n"
     ]
    },
    {
     "name": "stderr",
     "output_type": "stream",
     "text": [
      "Epoch 30: 100%|██████████| 851/851 [04:50<00:00,  2.93it/s, Loss 1.8144]\n",
      "Test Epoch 30: 100%|██████████| 7/7 [00:00<00:00, 10.27it/s, Test Loss 3.3436]\n"
     ]
    },
    {
     "name": "stdout",
     "output_type": "stream",
     "text": [
      "Input: 오바마는 대통령이다.\n",
      "Predicted translation: the amount of the time is the latest surprise <eos> \n",
      "Input: 시민들은 도시 속에 산다.\n",
      "Predicted translation: the amount of the amount of the time <eos> \n",
      "Input: 커피는 필요 없다.\n",
      "Predicted translation: the amount of the amount of the time <eos> \n",
      "Input: 일곱 명의 사망자가 발생했다.\n",
      "Predicted translation: the amount of the associated press <eos> \n"
     ]
    }
   ],
   "source": [
    "from tqdm import tqdm    # tqdm\n",
    "import random\n",
    "\n",
    "EPOCHS = 30\n",
    "BATCH_SIZE = 128\n",
    "\n",
    "\n",
    "units = 256\n",
    "embedding_dim = 100\n",
    "\n",
    "encoder = Encoder(SRC_VOCAB_SIZE, embedding_dim, units)\n",
    "decoder = Decoder(TGT_VOCAB_SIZE, embedding_dim, units)\n",
    "\n",
    "history_train_loss = []\n",
    "history_test_loss = []\n",
    "for epoch in range(EPOCHS):\n",
    "    total_loss = 0\n",
    "    \n",
    "    idx_list = list(range(0, x_train.shape[0], BATCH_SIZE))\n",
    "    random.shuffle(idx_list)\n",
    "    t = tqdm(idx_list)\n",
    "\n",
    "    for (batch, idx) in enumerate(t):\n",
    "        batch_loss = train_step(x_train[idx:idx+BATCH_SIZE],\n",
    "                                y_train[idx:idx+BATCH_SIZE],\n",
    "                                encoder,\n",
    "                                decoder,\n",
    "                                optimizer,\n",
    "                                en_spm)\n",
    "    \n",
    "        total_loss += batch_loss\n",
    "        \n",
    "        t.set_description_str('Epoch %2d' % (epoch + 1))\n",
    "        t.set_postfix_str('Loss %.4f' % (total_loss.numpy() / (batch + 1)))\n",
    "    \n",
    "    \n",
    "    test_loss = 0\n",
    "    \n",
    "    idx_list = list(range(0, x_dev.shape[0], BATCH_SIZE))\n",
    "    random.shuffle(idx_list)\n",
    "    t = tqdm(idx_list)\n",
    "\n",
    "    for (test_batch, idx) in enumerate(t):\n",
    "        test_batch_loss = eval_step(x_dev[idx:idx+BATCH_SIZE],\n",
    "                                    y_dev[idx:idx+BATCH_SIZE],\n",
    "                                    encoder,\n",
    "                                    decoder,\n",
    "                                    en_spm)\n",
    "    \n",
    "        test_loss += test_batch_loss\n",
    "    \n",
    "        t.set_description_str('Test Epoch %2d' % (epoch + 1))\n",
    "        t.set_postfix_str('Test Loss %.4f' % (test_loss.numpy() / (test_batch + 1)))\n",
    "\n",
    "    history_train_loss += [total_loss.numpy()]\n",
    "    history_test_loss += [test_loss.numpy()]\n",
    "    \n",
    "    sentence = \"오바마는 대통령이다.\"\n",
    "    translate(sentence, encoder, decoder, ko_spm, en_spm)\n",
    "    sentence = \"시민들은 도시 속에 산다.\"\n",
    "    translate(sentence, encoder, decoder, ko_spm, en_spm)\n",
    "    sentence = \"커피는 필요 없다.\"\n",
    "    translate(sentence, encoder, decoder, ko_spm, en_spm)\n",
    "    sentence = \"일곱 명의 사망자가 발생했다.\"\n",
    "    translate(sentence, encoder, decoder, ko_spm, en_spm)    "
   ]
  },
  {
   "cell_type": "code",
   "execution_count": 26,
   "id": "environmental-alfred",
   "metadata": {},
   "outputs": [
    {
     "data": {
      "image/png": "[encoded data removed]",
      "text/plain": [
       "<Figure size 432x288 with 1 Axes>"
      ]
     },
     "metadata": {},
     "output_type": "display_data"
    }
   ],
   "source": [
    "plt.plot(history_train_loss, label = \"train_loss\")\n",
    "plt.plot(history_test_loss, label = \"test_loss\")\n",
    "plt.legend()\n",
    "plt.title(\"Seq2seq based Bahdana attention learning process\")\n",
    "plt.ylabel(\"loss\")\n",
    "plt.xlabel(\"epochs\")\n",
    "plt.show()"
   ]
  }
 ],
 "metadata": {
  "kernelspec": {
   "display_name": "Python 3",
   "language": "python",
   "name": "python3"
  },
  "language_info": {
   "codemirror_mode": {
    "name": "ipython",
    "version": 3
   },
   "file_extension": ".py",
   "mimetype": "text/x-python",
   "name": "python",
   "nbconvert_exporter": "python",
   "pygments_lexer": "ipython3",
   "version": "3.7.9"
  }
 },
 "nbformat": 4,
 "nbformat_minor": 5
}
