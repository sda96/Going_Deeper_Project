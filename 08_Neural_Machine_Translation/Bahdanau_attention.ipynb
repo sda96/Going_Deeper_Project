{
 "cells": [
  {
   "cell_type": "markdown",
   "id": "alert-conflict",
   "metadata": {},
   "source": [
    "### 1. 필요한 패키지 불러오기"
   ]
  },
  {
   "cell_type": "code",
   "execution_count": 327,
   "id": "reasonable-school",
   "metadata": {},
   "outputs": [],
   "source": [
    "from glob import glob\n",
    "import pandas as pd\n",
    "import numpy as np\n",
    "import matplotlib.pyplot as plt\n",
    "\n",
    "\n",
    "import re\n",
    "from konlpy.tag import Mecab\n",
    "from packages.utils import *\n",
    "\n",
    "import tensorflow as tf\n",
    "from tensorflow.keras.preprocessing.text import Tokenizer"
   ]
  },
  {
   "cell_type": "code",
   "execution_count": 328,
   "id": "reflected-database",
   "metadata": {},
   "outputs": [
    {
     "data": {
      "text/plain": [
       "'/usr/share/fonts/truetype/nanum/NanumBarunGothic.ttf'"
      ]
     },
     "execution_count": 328,
     "metadata": {},
     "output_type": "execute_result"
    }
   ],
   "source": [
    "import matplotlib as mpl\n",
    "%config InlineBackend.figure_format = 'retina'\n",
    " \n",
    "import matplotlib.font_manager as fm\n",
    "fontpath = '/usr/share/fonts/truetype/nanum/NanumBarunGothic.ttf'\n",
    "font = fm.FontProperties(fname=fontpath, size=9)\n",
    "plt.rc('font', family='NanumBarunGothic') \n",
    "mpl.font_manager.findfont(font)"
   ]
  },
  {
   "cell_type": "markdown",
   "id": "finished-miracle",
   "metadata": {},
   "source": [
    "### 2. 다운로드 된 데이터 불러오기\n",
    "데이터 출처\n",
    "- https://github.com/jungyeul/korean-parallel-corpora/tree/master/korean-english-news-v1"
   ]
  },
  {
   "cell_type": "code",
   "execution_count": 329,
   "id": "greenhouse-developer",
   "metadata": {},
   "outputs": [],
   "source": [
    "train_path = \"./data/train\" + \"/*\"\n",
    "files_path = glob(train_path)\n",
    "\n",
    "result = []\n",
    "for path in files_path:\n",
    "    with open(path, \"r\") as f:\n",
    "        result += [f.readlines()]\n",
    "\n",
    "english, korean = result\n",
    "\n",
    "train = pd.DataFrame({\"ko\":korean, \"en\":english})"
   ]
  },
  {
   "cell_type": "markdown",
   "id": "equal-lexington",
   "metadata": {},
   "source": [
    "### 3. 전처리 전 데이터 살펴보기"
   ]
  },
  {
   "cell_type": "code",
   "execution_count": 330,
   "id": "beginning-significance",
   "metadata": {},
   "outputs": [
    {
     "data": {
      "text/plain": [
       "('국립 과학 학회가 발표한 새 보고서에따르면, 복잡한 임무를 수행해야 하는 군인들이나 보다 오랜 시간 동안 경계를 늦추지 않고 있기 위해 도움이 필요한 군인들에게 카페인이 반응 시간을 증가시키고 임무 수행 능력을 향상시키는데 도움이 된다고 한다.\\n',\n",
       " 'Caffeine can help increase reaction time and improve performance for military servicemen who must perform complex tasks or who need help staying alert for longer periods of time, according to a new report by the National Academy of Sciences.\\n')"
      ]
     },
     "execution_count": 330,
     "metadata": {},
     "output_type": "execute_result"
    }
   ],
   "source": [
    "i = 6\n",
    "korean[i], english[i]"
   ]
  },
  {
   "cell_type": "code",
   "execution_count": 331,
   "id": "processed-faith",
   "metadata": {},
   "outputs": [
    {
     "name": "stdout",
     "output_type": "stream",
     "text": [
      "훈련 데이터 개수 : 94123\n",
      "\n",
      "\n",
      "en 평균 길이 : 127.10869819279029\n",
      "en 최소 길이 : 2.0\n",
      "en 최대 길이 : 606.0\n",
      "\n",
      "\n",
      "ko 평균 길이 : 61.78048935966767\n",
      "ko 최소 길이 : 2.0\n",
      "ko 최대 길이 : 378.0\n"
     ]
    }
   ],
   "source": [
    "train[\"ko_len\"] = train[\"ko\"].apply(lambda x: len(x))\n",
    "train[\"en_len\"] = train[\"en\"].apply(lambda x: len(x))\n",
    "\n",
    "train.head()\n",
    "\n",
    "ko_mean_len, en_mean_len = train.describe().loc[\"mean\", :]\n",
    "ko_max_len, en_max_len = train.describe().loc[\"max\", :]\n",
    "ko_min_len, en_min_len = train.describe().loc[\"min\", :]\n",
    "\n",
    "print(f\"훈련 데이터 개수 : {train.shape[0]}\")\n",
    "print(\"\\n\")\n",
    "print(f\"en 평균 길이 : {en_mean_len}\")\n",
    "print(f\"en 최소 길이 : {en_min_len}\")\n",
    "print(f\"en 최대 길이 : {en_max_len}\")\n",
    "print(\"\\n\")\n",
    "print(f\"ko 평균 길이 : {ko_mean_len}\")\n",
    "print(f\"ko 최소 길이 : {ko_min_len}\")\n",
    "print(f\"ko 최대 길이 : {ko_max_len}\")"
   ]
  },
  {
   "cell_type": "markdown",
   "id": "velvet-light",
   "metadata": {},
   "source": [
    "### 4. 데이터 전처리"
   ]
  },
  {
   "cell_type": "markdown",
   "id": "pressed-sister",
   "metadata": {},
   "source": [
    "#### 4.1 공동 텍스트 전처리"
   ]
  },
  {
   "cell_type": "code",
   "execution_count": 332,
   "id": "realistic-logistics",
   "metadata": {},
   "outputs": [],
   "source": [
    "train[\"ko\"] = train[\"ko\"].apply(lambda x : text_preprocessing(x))\n",
    "train[\"en\"] = train[\"en\"].apply(lambda x : text_preprocessing(x))"
   ]
  },
  {
   "cell_type": "markdown",
   "id": "contained-treatment",
   "metadata": {},
   "source": [
    "#### 4.2 중복 데이터 제거"
   ]
  },
  {
   "cell_type": "code",
   "execution_count": 333,
   "id": "exposed-cocktail",
   "metadata": {
    "scrolled": false
   },
   "outputs": [
    {
     "name": "stdout",
     "output_type": "stream",
     "text": [
      "(75442, 4)\n",
      "(74581, 4)\n"
     ]
    }
   ],
   "source": [
    "train = train.drop_duplicates(\"en\", keep='first')\n",
    "print(train.shape)\n",
    "train = train.drop_duplicates(\"ko\", keep='first')\n",
    "print(train.shape)"
   ]
  },
  {
   "cell_type": "markdown",
   "id": "approximate-projector",
   "metadata": {},
   "source": [
    "#### 4.3 공백만 있는 데이터 제거"
   ]
  },
  {
   "cell_type": "code",
   "execution_count": 334,
   "id": "primary-greenhouse",
   "metadata": {},
   "outputs": [
    {
     "name": "stdout",
     "output_type": "stream",
     "text": [
      "(74579, 4)\n"
     ]
    }
   ],
   "source": [
    "train = remove_nan(train)\n",
    "print(train.shape)"
   ]
  },
  {
   "cell_type": "markdown",
   "id": "confident-dimension",
   "metadata": {},
   "source": [
    "#### 4.4 영어, 한국어 텍스트 전처리"
   ]
  },
  {
   "cell_type": "code",
   "execution_count": 335,
   "id": "advisory-jungle",
   "metadata": {},
   "outputs": [],
   "source": [
    "mecab = Mecab()\n",
    "def ko_pre(sentence):\n",
    "    return mecab.morphs(sentence)\n",
    "\n",
    "\n",
    "def en_pre(sentence):\n",
    "    return [\"<sos>\"] + sentence.lower().split(\" \") + [\"<eos>\"]"
   ]
  },
  {
   "cell_type": "code",
   "execution_count": 10,
   "id": "sharing-selling",
   "metadata": {},
   "outputs": [
    {
     "data": {
      "text/html": [
       "<div>\n",
       "<style scoped>\n",
       "    .dataframe tbody tr th:only-of-type {\n",
       "        vertical-align: middle;\n",
       "    }\n",
       "\n",
       "    .dataframe tbody tr th {\n",
       "        vertical-align: top;\n",
       "    }\n",
       "\n",
       "    .dataframe thead th {\n",
       "        text-align: right;\n",
       "    }\n",
       "</style>\n",
       "<table border=\"1\" class=\"dataframe\">\n",
       "  <thead>\n",
       "    <tr style=\"text-align: right;\">\n",
       "      <th></th>\n",
       "      <th>ko</th>\n",
       "      <th>en</th>\n",
       "      <th>ko_len</th>\n",
       "      <th>en_len</th>\n",
       "      <th>encoder_input</th>\n",
       "      <th>pre_en</th>\n",
       "    </tr>\n",
       "  </thead>\n",
       "  <tbody>\n",
       "    <tr>\n",
       "      <th>0</th>\n",
       "      <td>개인용 컴퓨터 사용의 상당 부분은 이것보다 뛰어날 수 있느냐?</td>\n",
       "      <td>Much of personal computing is about can you to...</td>\n",
       "      <td>37</td>\n",
       "      <td>56</td>\n",
       "      <td>[개인, 용, 컴퓨터, 사용, 의, 상당, 부분, 은, 이것, 보다, 뛰어날, 수,...</td>\n",
       "      <td>[&lt;sos&gt;, much, of, personal, computing, is, abo...</td>\n",
       "    </tr>\n",
       "    <tr>\n",
       "      <th>1</th>\n",
       "      <td>모든 광마우스와 마찬가지 로 이 광마우스도 책상 위에 놓는 마우스 패드를 필요로 하...</td>\n",
       "      <td>so a mention a few weeks ago about a rechargea...</td>\n",
       "      <td>53</td>\n",
       "      <td>122</td>\n",
       "      <td>[모든, 광, 마우스, 와, 마찬가지, 로, 이, 광, 마우스, 도, 책상, 위, ...</td>\n",
       "      <td>[&lt;sos&gt;, so, a, mention, a, few, weeks, ago, ab...</td>\n",
       "    </tr>\n",
       "    <tr>\n",
       "      <th>2</th>\n",
       "      <td>그러나 이것은 또한 책상도 필요로 하지 않는다</td>\n",
       "      <td>Like all optical mice, But it also doesn t nee...</td>\n",
       "      <td>27</td>\n",
       "      <td>56</td>\n",
       "      <td>[그러나, 이것, 은, 또한, 책상, 도, 필요, 로, 하, 지, 않, 는다]</td>\n",
       "      <td>[&lt;sos&gt;, like, all, optical, mice,, but, it, al...</td>\n",
       "    </tr>\n",
       "    <tr>\n",
       "      <th>3</th>\n",
       "      <td>달러하는 이 최첨단 무선 광마우스는 허공에서 팔목, 팔, 그외에 어떤 부분이든 그 ...</td>\n",
       "      <td>uses gyroscopic sensors to control the cursor ...</td>\n",
       "      <td>91</td>\n",
       "      <td>110</td>\n",
       "      <td>[달러, 하, 는, 이, 최첨단, 무선, 광, 마우스, 는, 허공, 에서, 팔목, ...</td>\n",
       "      <td>[&lt;sos&gt;, uses, gyroscopic, sensors, to, control...</td>\n",
       "    </tr>\n",
       "    <tr>\n",
       "      <th>4</th>\n",
       "      <td>정보 관리들은 동남 아시아에서의 선박들에 대한 많은 테러 계획들이 실패로 돌아갔음을...</td>\n",
       "      <td>Intelligence officials have revealed a spate o...</td>\n",
       "      <td>120</td>\n",
       "      <td>225</td>\n",
       "      <td>[정보, 관리, 들, 은, 동남, 아시아, 에서, 의, 선박, 들, 에, 대한, 많...</td>\n",
       "      <td>[&lt;sos&gt;, intelligence, officials, have, reveale...</td>\n",
       "    </tr>\n",
       "  </tbody>\n",
       "</table>\n",
       "</div>"
      ],
      "text/plain": [
       "                                                  ko  \\\n",
       "0                 개인용 컴퓨터 사용의 상당 부분은 이것보다 뛰어날 수 있느냐?   \n",
       "1  모든 광마우스와 마찬가지 로 이 광마우스도 책상 위에 놓는 마우스 패드를 필요로 하...   \n",
       "2                          그러나 이것은 또한 책상도 필요로 하지 않는다   \n",
       "3  달러하는 이 최첨단 무선 광마우스는 허공에서 팔목, 팔, 그외에 어떤 부분이든 그 ...   \n",
       "4  정보 관리들은 동남 아시아에서의 선박들에 대한 많은 테러 계획들이 실패로 돌아갔음을...   \n",
       "\n",
       "                                                  en  ko_len  en_len  \\\n",
       "0  Much of personal computing is about can you to...      37      56   \n",
       "1  so a mention a few weeks ago about a rechargea...      53     122   \n",
       "2  Like all optical mice, But it also doesn t nee...      27      56   \n",
       "3  uses gyroscopic sensors to control the cursor ...      91     110   \n",
       "4  Intelligence officials have revealed a spate o...     120     225   \n",
       "\n",
       "                                       encoder_input  \\\n",
       "0  [개인, 용, 컴퓨터, 사용, 의, 상당, 부분, 은, 이것, 보다, 뛰어날, 수,...   \n",
       "1  [모든, 광, 마우스, 와, 마찬가지, 로, 이, 광, 마우스, 도, 책상, 위, ...   \n",
       "2        [그러나, 이것, 은, 또한, 책상, 도, 필요, 로, 하, 지, 않, 는다]   \n",
       "3  [달러, 하, 는, 이, 최첨단, 무선, 광, 마우스, 는, 허공, 에서, 팔목, ...   \n",
       "4  [정보, 관리, 들, 은, 동남, 아시아, 에서, 의, 선박, 들, 에, 대한, 많...   \n",
       "\n",
       "                                              pre_en  \n",
       "0  [<sos>, much, of, personal, computing, is, abo...  \n",
       "1  [<sos>, so, a, mention, a, few, weeks, ago, ab...  \n",
       "2  [<sos>, like, all, optical, mice,, but, it, al...  \n",
       "3  [<sos>, uses, gyroscopic, sensors, to, control...  \n",
       "4  [<sos>, intelligence, officials, have, reveale...  "
      ]
     },
     "execution_count": 10,
     "metadata": {},
     "output_type": "execute_result"
    }
   ],
   "source": [
    "train[\"encoder_input\"] = train[\"ko\"].apply(lambda x : ko_pre(x))\n",
    "train[\"pre_en\"] = train[\"en\"].apply(lambda x : en_pre(x))\n",
    "train.head()"
   ]
  },
  {
   "cell_type": "markdown",
   "id": "combined-funeral",
   "metadata": {},
   "source": [
    "#### 4.5 토큰화 및 패딩을 포함한 벡터화"
   ]
  },
  {
   "cell_type": "code",
   "execution_count": 336,
   "id": "global-tissue",
   "metadata": {},
   "outputs": [
    {
     "ename": "KeyError",
     "evalue": "'encoder_input'",
     "output_type": "error",
     "traceback": [
      "\u001b[0;31m---------------------------------------------------------------------------\u001b[0m",
      "\u001b[0;31mKeyError\u001b[0m                                  Traceback (most recent call last)",
      "\u001b[0;32m/opt/conda/lib/python3.7/site-packages/pandas/core/indexes/base.py\u001b[0m in \u001b[0;36mget_loc\u001b[0;34m(self, key, method, tolerance)\u001b[0m\n\u001b[1;32m   3079\u001b[0m             \u001b[0;32mtry\u001b[0m\u001b[0;34m:\u001b[0m\u001b[0;34m\u001b[0m\u001b[0;34m\u001b[0m\u001b[0m\n\u001b[0;32m-> 3080\u001b[0;31m                 \u001b[0;32mreturn\u001b[0m \u001b[0mself\u001b[0m\u001b[0;34m.\u001b[0m\u001b[0m_engine\u001b[0m\u001b[0;34m.\u001b[0m\u001b[0mget_loc\u001b[0m\u001b[0;34m(\u001b[0m\u001b[0mcasted_key\u001b[0m\u001b[0;34m)\u001b[0m\u001b[0;34m\u001b[0m\u001b[0;34m\u001b[0m\u001b[0m\n\u001b[0m\u001b[1;32m   3081\u001b[0m             \u001b[0;32mexcept\u001b[0m \u001b[0mKeyError\u001b[0m \u001b[0;32mas\u001b[0m \u001b[0merr\u001b[0m\u001b[0;34m:\u001b[0m\u001b[0;34m\u001b[0m\u001b[0;34m\u001b[0m\u001b[0m\n",
      "\u001b[0;32mpandas/_libs/index.pyx\u001b[0m in \u001b[0;36mpandas._libs.index.IndexEngine.get_loc\u001b[0;34m()\u001b[0m\n",
      "\u001b[0;32mpandas/_libs/index.pyx\u001b[0m in \u001b[0;36mpandas._libs.index.IndexEngine.get_loc\u001b[0;34m()\u001b[0m\n",
      "\u001b[0;32mpandas/_libs/hashtable_class_helper.pxi\u001b[0m in \u001b[0;36mpandas._libs.hashtable.PyObjectHashTable.get_item\u001b[0;34m()\u001b[0m\n",
      "\u001b[0;32mpandas/_libs/hashtable_class_helper.pxi\u001b[0m in \u001b[0;36mpandas._libs.hashtable.PyObjectHashTable.get_item\u001b[0;34m()\u001b[0m\n",
      "\u001b[0;31mKeyError\u001b[0m: 'encoder_input'",
      "\nThe above exception was the direct cause of the following exception:\n",
      "\u001b[0;31mKeyError\u001b[0m                                  Traceback (most recent call last)",
      "\u001b[0;32m<ipython-input-336-a544ec6582c6>\u001b[0m in \u001b[0;36m<module>\u001b[0;34m\u001b[0m\n\u001b[1;32m      1\u001b[0m \u001b[0mvocab_size\u001b[0m \u001b[0;34m=\u001b[0m \u001b[0;36m5000\u001b[0m\u001b[0;34m\u001b[0m\u001b[0;34m\u001b[0m\u001b[0m\n\u001b[1;32m      2\u001b[0m \u001b[0;34m\u001b[0m\u001b[0m\n\u001b[0;32m----> 3\u001b[0;31m \u001b[0mko_bin_dict\u001b[0m \u001b[0;34m=\u001b[0m \u001b[0mbin_dict\u001b[0m\u001b[0;34m(\u001b[0m\u001b[0mtrain\u001b[0m\u001b[0;34m[\u001b[0m\u001b[0;34m\"encoder_input\"\u001b[0m\u001b[0;34m]\u001b[0m\u001b[0;34m)\u001b[0m\u001b[0;34m\u001b[0m\u001b[0;34m\u001b[0m\u001b[0m\n\u001b[0m\u001b[1;32m      4\u001b[0m \u001b[0mko_word_index\u001b[0m\u001b[0;34m,\u001b[0m \u001b[0mko_index_word\u001b[0m \u001b[0;34m=\u001b[0m \u001b[0mword_index\u001b[0m\u001b[0;34m(\u001b[0m\u001b[0mko_bin_dict\u001b[0m\u001b[0;34m,\u001b[0m \u001b[0mvocab_size\u001b[0m\u001b[0;34m)\u001b[0m\u001b[0;34m\u001b[0m\u001b[0;34m\u001b[0m\u001b[0m\n\u001b[1;32m      5\u001b[0m \u001b[0mencoder_input\u001b[0m \u001b[0;34m=\u001b[0m \u001b[0mtokenization\u001b[0m\u001b[0;34m(\u001b[0m\u001b[0mtrain\u001b[0m\u001b[0;34m[\u001b[0m\u001b[0;34m\"encoder_input\"\u001b[0m\u001b[0;34m]\u001b[0m\u001b[0;34m,\u001b[0m \u001b[0mko_word_index\u001b[0m\u001b[0;34m)\u001b[0m\u001b[0;34m\u001b[0m\u001b[0;34m\u001b[0m\u001b[0m\n",
      "\u001b[0;32m/opt/conda/lib/python3.7/site-packages/pandas/core/frame.py\u001b[0m in \u001b[0;36m__getitem__\u001b[0;34m(self, key)\u001b[0m\n\u001b[1;32m   3022\u001b[0m             \u001b[0;32mif\u001b[0m \u001b[0mself\u001b[0m\u001b[0;34m.\u001b[0m\u001b[0mcolumns\u001b[0m\u001b[0;34m.\u001b[0m\u001b[0mnlevels\u001b[0m \u001b[0;34m>\u001b[0m \u001b[0;36m1\u001b[0m\u001b[0;34m:\u001b[0m\u001b[0;34m\u001b[0m\u001b[0;34m\u001b[0m\u001b[0m\n\u001b[1;32m   3023\u001b[0m                 \u001b[0;32mreturn\u001b[0m \u001b[0mself\u001b[0m\u001b[0;34m.\u001b[0m\u001b[0m_getitem_multilevel\u001b[0m\u001b[0;34m(\u001b[0m\u001b[0mkey\u001b[0m\u001b[0;34m)\u001b[0m\u001b[0;34m\u001b[0m\u001b[0;34m\u001b[0m\u001b[0m\n\u001b[0;32m-> 3024\u001b[0;31m             \u001b[0mindexer\u001b[0m \u001b[0;34m=\u001b[0m \u001b[0mself\u001b[0m\u001b[0;34m.\u001b[0m\u001b[0mcolumns\u001b[0m\u001b[0;34m.\u001b[0m\u001b[0mget_loc\u001b[0m\u001b[0;34m(\u001b[0m\u001b[0mkey\u001b[0m\u001b[0;34m)\u001b[0m\u001b[0;34m\u001b[0m\u001b[0;34m\u001b[0m\u001b[0m\n\u001b[0m\u001b[1;32m   3025\u001b[0m             \u001b[0;32mif\u001b[0m \u001b[0mis_integer\u001b[0m\u001b[0;34m(\u001b[0m\u001b[0mindexer\u001b[0m\u001b[0;34m)\u001b[0m\u001b[0;34m:\u001b[0m\u001b[0;34m\u001b[0m\u001b[0;34m\u001b[0m\u001b[0m\n\u001b[1;32m   3026\u001b[0m                 \u001b[0mindexer\u001b[0m \u001b[0;34m=\u001b[0m \u001b[0;34m[\u001b[0m\u001b[0mindexer\u001b[0m\u001b[0;34m]\u001b[0m\u001b[0;34m\u001b[0m\u001b[0;34m\u001b[0m\u001b[0m\n",
      "\u001b[0;32m/opt/conda/lib/python3.7/site-packages/pandas/core/indexes/base.py\u001b[0m in \u001b[0;36mget_loc\u001b[0;34m(self, key, method, tolerance)\u001b[0m\n\u001b[1;32m   3080\u001b[0m                 \u001b[0;32mreturn\u001b[0m \u001b[0mself\u001b[0m\u001b[0;34m.\u001b[0m\u001b[0m_engine\u001b[0m\u001b[0;34m.\u001b[0m\u001b[0mget_loc\u001b[0m\u001b[0;34m(\u001b[0m\u001b[0mcasted_key\u001b[0m\u001b[0;34m)\u001b[0m\u001b[0;34m\u001b[0m\u001b[0;34m\u001b[0m\u001b[0m\n\u001b[1;32m   3081\u001b[0m             \u001b[0;32mexcept\u001b[0m \u001b[0mKeyError\u001b[0m \u001b[0;32mas\u001b[0m \u001b[0merr\u001b[0m\u001b[0;34m:\u001b[0m\u001b[0;34m\u001b[0m\u001b[0;34m\u001b[0m\u001b[0m\n\u001b[0;32m-> 3082\u001b[0;31m                 \u001b[0;32mraise\u001b[0m \u001b[0mKeyError\u001b[0m\u001b[0;34m(\u001b[0m\u001b[0mkey\u001b[0m\u001b[0;34m)\u001b[0m \u001b[0;32mfrom\u001b[0m \u001b[0merr\u001b[0m\u001b[0;34m\u001b[0m\u001b[0;34m\u001b[0m\u001b[0m\n\u001b[0m\u001b[1;32m   3083\u001b[0m \u001b[0;34m\u001b[0m\u001b[0m\n\u001b[1;32m   3084\u001b[0m         \u001b[0;32mif\u001b[0m \u001b[0mtolerance\u001b[0m \u001b[0;32mis\u001b[0m \u001b[0;32mnot\u001b[0m \u001b[0;32mNone\u001b[0m\u001b[0;34m:\u001b[0m\u001b[0;34m\u001b[0m\u001b[0;34m\u001b[0m\u001b[0m\n",
      "\u001b[0;31mKeyError\u001b[0m: 'encoder_input'"
     ]
    }
   ],
   "source": [
    "vocab_size = 5000\n",
    "\n",
    "ko_bin_dict = bin_dict(train[\"encoder_input\"])\n",
    "ko_word_index, ko_index_word = word_index(ko_bin_dict, vocab_size)\n",
    "encoder_input = tokenization(train[\"encoder_input\"], ko_word_index)\n",
    "\n",
    "en_bin_dict = bin_dict(train[\"pre_en\"])\n",
    "en_word_index, en_index_word = word_index(en_bin_dict, vocab_size)\n",
    "\n",
    "train[\"decoder_input\"] = train[\"pre_en\"].apply(lambda x : x[:-1])\n",
    "decoder_input = tokenization(train[\"decoder_input\"], en_word_index, max_length = encoder_input.shape[1])\n",
    "\n",
    "train[\"decoder_output\"] = train[\"pre_en\"].apply(lambda x : x[1:])\n",
    "decoder_output = tokenization(train[\"decoder_output\"], en_word_index, max_length = encoder_input.shape[1])"
   ]
  },
  {
   "cell_type": "markdown",
   "id": "honey-istanbul",
   "metadata": {},
   "source": [
    "### 5. 전처리 후 데이터 살펴보기"
   ]
  },
  {
   "cell_type": "code",
   "execution_count": 278,
   "id": "protected-pathology",
   "metadata": {},
   "outputs": [
    {
     "name": "stdout",
     "output_type": "stream",
     "text": [
      "훈련 데이터 개수 : 74579\n",
      "\n",
      "\n",
      "en 평균 단어 갯수 : 24.74652382037839\n",
      "en 최소 단어 갯수 : 3.0\n",
      "en 최대 단어 갯수 : 96.0\n",
      "\n",
      "\n",
      "ko 평균 단어 갯수 : 28.41071883506081\n",
      "ko 최소 단어 갯수 : 1.0\n",
      "ko 최대 단어 갯수 : 125.0\n"
     ]
    }
   ],
   "source": [
    "train[\"pre_ko_len\"] = train[\"encoder_input\"].apply(lambda x: len(x))\n",
    "train[\"pre_en_len\"] = train[\"pre_en\"].apply(lambda x: len(x))\n",
    "\n",
    "train.head()\n",
    "\n",
    "ko_mean_len, en_mean_len = train.describe().loc[\"mean\", [\"pre_ko_len\", \"pre_en_len\"]]\n",
    "ko_max_len, en_max_len = train.describe().loc[\"max\", [\"pre_ko_len\", \"pre_en_len\"]]\n",
    "ko_min_len, en_min_len = train.describe().loc[\"min\", [\"pre_ko_len\", \"pre_en_len\"]]\n",
    "\n",
    "print(f\"훈련 데이터 개수 : {train.shape[0]}\")\n",
    "print(\"\\n\")\n",
    "print(f\"en 평균 단어 갯수 : {en_mean_len}\")\n",
    "print(f\"en 최소 단어 갯수 : {en_min_len}\")\n",
    "print(f\"en 최대 단어 갯수 : {en_max_len}\")\n",
    "print(\"\\n\")\n",
    "print(f\"ko 평균 단어 갯수 : {ko_mean_len}\")\n",
    "print(f\"ko 최소 단어 갯수 : {ko_min_len}\")\n",
    "print(f\"ko 최대 단어 갯수 : {ko_max_len}\")"
   ]
  },
  {
   "cell_type": "code",
   "execution_count": 279,
   "id": "indie-turner",
   "metadata": {},
   "outputs": [
    {
     "data": {
      "image/png": "[encoded data removed]",
      "text/plain": [
       "<Figure size 432x288 with 2 Axes>"
      ]
     },
     "metadata": {
      "image/png": {
       "height": 283,
       "width": 424
      },
      "needs_background": "light"
     },
     "output_type": "display_data"
    }
   ],
   "source": [
    "plt.subplot(1, 2, 1)\n",
    "train.groupby(\"pre_ko_len\").count().iloc[:,0].plot()\n",
    "plt.title(\"한국어 단어 갯수에 따른 데이터 빈도\")\n",
    "plt.subplot(1, 2, 2)\n",
    "train.groupby(\"pre_en_len\").count().iloc[:,0].plot()\n",
    "plt.title(\"영어 단어 갯수에 따른 데이터 빈도\")\n",
    "\n",
    "plt.tight_layout()\n",
    "plt.show()"
   ]
  },
  {
   "cell_type": "markdown",
   "id": "configured-plaintiff",
   "metadata": {},
   "source": [
    "### 6. 텐서플로우 데이터셋 구축"
   ]
  },
  {
   "cell_type": "code",
   "execution_count": 191,
   "id": "overhead-proportion",
   "metadata": {},
   "outputs": [
    {
     "name": "stdout",
     "output_type": "stream",
     "text": [
      "(74579, 125)\n"
     ]
    },
    {
     "data": {
      "text/plain": [
       "array([[ 591, 3369,   15, ...,    0,    0,    0],\n",
       "       [ 412,   44,   29, ...,    0,    0,    0],\n",
       "       [ 412,   44,   29, ...,    0,    0,    0],\n",
       "       ...,\n",
       "       [   4,   15,    5, ...,    0,    0,    0],\n",
       "       [   4,   15,   14, ...,    0,    0,    0],\n",
       "       [   4,    5, 2150, ...,    0,    0,    0]], dtype=int32)"
      ]
     },
     "execution_count": 191,
     "metadata": {},
     "output_type": "execute_result"
    }
   ],
   "source": [
    "reverse_encoder_input = np.array(list(map(lambda x : x[::-1], list(encoder_input))))\n",
    "print(reverse_encoder_input.shape)\n",
    "reverse_encoder_input"
   ]
  },
  {
   "cell_type": "code",
   "execution_count": 20,
   "id": "fitting-covering",
   "metadata": {},
   "outputs": [
    {
     "data": {
      "text/plain": [
       "<tf.Tensor: shape=(2, 74579, 125), dtype=int32, numpy=\n",
       "array([[[ 591, 3369,   15, ...,    0,    0,    0],\n",
       "        [ 412,   44,   29, ...,    0,    0,    0],\n",
       "        [ 412,   44,   29, ...,    0,    0,    0],\n",
       "        ...,\n",
       "        [   4,   15,    5, ...,    0,    0,    0],\n",
       "        [   4,   15,   14, ...,    0,    0,    0],\n",
       "        [   4,    5, 2150, ...,    0,    0,    0]],\n",
       "\n",
       "       [[   0,    0,    0, ...,   85,  197,    1],\n",
       "        [   0,    0,    0, ...,    1, 3707,    1],\n",
       "        [   0,    0,    0, ...,  412,    9,    1],\n",
       "        ...,\n",
       "        [   0,    0,    0, ..., 1784,  895,    1],\n",
       "        [   0,    0,    0, ..., 4227,    4, 1202],\n",
       "        [   0,    0,    0, ..., 1140, 2054,  662]]], dtype=int32)>"
      ]
     },
     "execution_count": 20,
     "metadata": {},
     "output_type": "execute_result"
    }
   ],
   "source": [
    "buffer_size = len(train)\n",
    "batch_size = 32\n",
    "embedd_size = 100\n",
    "hidden_size = 64\n",
    "#tf_train = tensorflow_dataset((reverse_encoder_input, decoder_input), decoder_output, buffer_size, batch_size)\n",
    "#tf_train"
   ]
  },
  {
   "cell_type": "markdown",
   "id": "chicken-actress",
   "metadata": {},
   "source": [
    "### 7. 인코더-디코더 모델 구축"
   ]
  },
  {
   "cell_type": "code",
   "execution_count": 315,
   "id": "amber-philippines",
   "metadata": {},
   "outputs": [],
   "source": [
    "class BahdanauAttention(tf.keras.layers.Layer):\n",
    "    def __init__(self, units):\n",
    "        super(BahdanauAttention, self).__init__()\n",
    "        self.w_dec = tf.keras.layers.Dense(units)\n",
    "        self.w_enc = tf.keras.layers.Dense(units)\n",
    "        self.w_com = tf.keras.layers.Dense(1)\n",
    "    \n",
    "    def call(self, h_enc, h_dec):\n",
    "        # h_enc shape: [batch x length x units]\n",
    "        # h_dec shape: [batch x units]\n",
    "\n",
    "        h_enc = self.w_enc(h_enc)\n",
    "        h_dec = tf.expand_dims(h_dec, 1)\n",
    "        h_dec = self.w_dec(h_dec)\n",
    "\n",
    "        score = self.w_com(tf.nn.tanh(h_dec + h_enc))\n",
    "        \n",
    "        attn = tf.nn.softmax(score, axis=1)\n",
    "\n",
    "        context_vec = attn * h_enc\n",
    "        context_vec = tf.reduce_sum(context_vec, axis=1)\n",
    "\n",
    "        return context_vec, attn"
   ]
  },
  {
   "cell_type": "code",
   "execution_count": 316,
   "id": "meaning-moldova",
   "metadata": {
    "scrolled": true
   },
   "outputs": [
    {
     "data": {
      "text/plain": [
       "(<tf.Tensor: shape=(32, 50), dtype=float32, numpy=\n",
       " array([[ 0.06147358, -0.19660173, -0.4667541 , ..., -0.65908015,\n",
       "         -0.12946804,  0.67095023],\n",
       "        [ 0.04353138, -0.20236662, -0.4246129 , ..., -0.6783301 ,\n",
       "         -0.12544686,  0.6146525 ],\n",
       "        [ 0.02815965, -0.19624159, -0.3945984 , ..., -0.60240144,\n",
       "         -0.14034064,  0.59644604],\n",
       "        ...,\n",
       "        [ 0.04452415, -0.22647285, -0.44494236, ..., -0.6401871 ,\n",
       "         -0.07186753,  0.63004917],\n",
       "        [-0.0288532 , -0.17997596, -0.42690518, ..., -0.6152547 ,\n",
       "         -0.09984954,  0.6389838 ],\n",
       "        [ 0.05098133, -0.18438974, -0.4040901 , ..., -0.6226345 ,\n",
       "         -0.11462824,  0.6393925 ]], dtype=float32)>,\n",
       " <tf.Tensor: shape=(32, 125, 1), dtype=float32, numpy=\n",
       " array([[[0.00412592],\n",
       "         [0.01115234],\n",
       "         [0.00569344],\n",
       "         ...,\n",
       "         [0.00968038],\n",
       "         [0.00381556],\n",
       "         [0.00978794]],\n",
       " \n",
       "        [[0.00792814],\n",
       "         [0.01223154],\n",
       "         [0.01159938],\n",
       "         ...,\n",
       "         [0.00681127],\n",
       "         [0.00842264],\n",
       "         [0.01098689]],\n",
       " \n",
       "        [[0.00563855],\n",
       "         [0.00759327],\n",
       "         [0.00646034],\n",
       "         ...,\n",
       "         [0.00503364],\n",
       "         [0.00509745],\n",
       "         [0.00974925]],\n",
       " \n",
       "        ...,\n",
       " \n",
       "        [[0.00826478],\n",
       "         [0.00913363],\n",
       "         [0.00832291],\n",
       "         ...,\n",
       "         [0.00809247],\n",
       "         [0.00704912],\n",
       "         [0.00448071]],\n",
       " \n",
       "        [[0.00627084],\n",
       "         [0.01204909],\n",
       "         [0.00529253],\n",
       "         ...,\n",
       "         [0.00843844],\n",
       "         [0.00659485],\n",
       "         [0.00877807]],\n",
       " \n",
       "        [[0.00630222],\n",
       "         [0.00469161],\n",
       "         [0.00867398],\n",
       "         ...,\n",
       "         [0.00716242],\n",
       "         [0.01020076],\n",
       "         [0.00903195]]], dtype=float32)>)"
      ]
     },
     "execution_count": 316,
     "metadata": {},
     "output_type": "execute_result"
    }
   ],
   "source": [
    "attn = BahdanauAttention(50)\n",
    "decoder_hidden = tf.random.uniform((32, hidden_size))\n",
    "encoder_output = tf.random.uniform((32, 125, hidden_size))\n",
    "attn(encoder_output, decoder_hidden)"
   ]
  },
  {
   "cell_type": "markdown",
   "id": "polished-structure",
   "metadata": {},
   "source": [
    "LSTM args 의미 \n",
    "- https://simpling.tistory.com/19\n",
    "- return_sequence는 문장의 시점별 hidden state가 모두 나옵니다\n",
    "- return_sequence는 보통 attention을 사용하기 위함입니다.\n",
    "- return_state는 마지막 시점의 output, hidden_state, cell_state가 출력되며 output과 hidden_state는 동일합니다."
   ]
  },
  {
   "cell_type": "code",
   "execution_count": 317,
   "id": "respected-field",
   "metadata": {},
   "outputs": [],
   "source": [
    "class Encoder(tf.keras.Model):\n",
    "    \n",
    "    def __init__(self, vocab_size, embedd_size, hidden_size):\n",
    "        super(Encoder, self).__init__()\n",
    "        self.embedd = tf.keras.layers.Embedding(input_dim = vocab_size,\n",
    "                                                output_dim = embedd_size)\n",
    "        self.lstm1 = tf.keras.layers.LSTM(hidden_size, return_sequences = True)\n",
    "        self.lstm2 = tf.keras.layers.LSTM(hidden_size, return_sequences = True)\n",
    "        self.lstm3 = tf.keras.layers.LSTM(hidden_size, return_sequences = True)\n",
    "        self.lstm4 = tf.keras.layers.LSTM(hidden_size, return_sequences = True)\n",
    "    \n",
    "    def call(self, encoder_input):\n",
    "        # shape(1,125,100)\n",
    "        encoder_input = self.embedd(encoder_input)\n",
    "        # shape(1,125,64)\n",
    "        encoder_input = self.lstm1(encoder_input)\n",
    "        encoder_input = self.lstm2(encoder_input)\n",
    "        encoder_input = self.lstm3(encoder_input)\n",
    "        encoder_input = self.lstm4(encoder_input)\n",
    "        return encoder_input"
   ]
  },
  {
   "cell_type": "code",
   "execution_count": 322,
   "id": "sapphire-stanford",
   "metadata": {},
   "outputs": [
    {
     "data": {
      "text/plain": [
       "<tf.Tensor: shape=(10, 125, 64), dtype=float32, numpy=\n",
       "array([[[ 4.53653556e-05,  1.60371219e-05,  3.68504552e-05, ...,\n",
       "          4.01682009e-05, -3.74783049e-05, -1.71915362e-05],\n",
       "        [ 1.29241758e-04,  3.78103905e-05,  7.72744970e-05, ...,\n",
       "          1.19027580e-04, -6.51297960e-05, -3.26810659e-05],\n",
       "        [ 2.69133277e-04,  5.37848900e-05,  1.16004703e-04, ...,\n",
       "          2.53344129e-04, -1.20490622e-04, -3.51059462e-05],\n",
       "        ...,\n",
       "        [-2.38480791e-03, -2.92222667e-03,  5.05350064e-03, ...,\n",
       "         -5.86639671e-03,  7.16284325e-04,  1.37792667e-02],\n",
       "        [-2.38480885e-03, -2.92222830e-03,  5.05350018e-03, ...,\n",
       "         -5.86639810e-03,  7.16283394e-04,  1.37792667e-02],\n",
       "        [-2.38480978e-03, -2.92222947e-03,  5.05350018e-03, ...,\n",
       "         -5.86639950e-03,  7.16282404e-04,  1.37792658e-02]],\n",
       "\n",
       "       [[ 1.47914279e-05,  2.02844512e-05,  5.60552508e-07, ...,\n",
       "         -1.56568785e-05,  1.74504021e-05,  7.08690959e-06],\n",
       "        [-1.93645174e-05,  4.07825719e-05,  1.36259234e-06, ...,\n",
       "         -5.62715504e-05,  1.05841806e-04,  1.78690170e-05],\n",
       "        [-1.01973812e-04,  6.74065959e-05,  1.59411957e-05, ...,\n",
       "         -1.13118724e-04,  2.59085878e-04,  3.16602418e-05],\n",
       "        ...,\n",
       "        [-2.38478556e-03, -2.92220549e-03,  5.05349832e-03, ...,\n",
       "         -5.86637110e-03,  7.16299808e-04,  1.37792630e-02],\n",
       "        [-2.38479045e-03, -2.92220945e-03,  5.05349832e-03, ...,\n",
       "         -5.86637575e-03,  7.16296607e-04,  1.37792639e-02],\n",
       "        [-2.38479441e-03, -2.92221294e-03,  5.05349832e-03, ...,\n",
       "         -5.86637855e-03,  7.16293522e-04,  1.37792639e-02]],\n",
       "\n",
       "       [[ 1.47914279e-05,  2.02844512e-05,  5.60552508e-07, ...,\n",
       "         -1.56568785e-05,  1.74504021e-05,  7.08690959e-06],\n",
       "        [-1.93645174e-05,  4.07825719e-05,  1.36259234e-06, ...,\n",
       "         -5.62715504e-05,  1.05841806e-04,  1.78690170e-05],\n",
       "        [-1.01973812e-04,  6.74065959e-05,  1.59411957e-05, ...,\n",
       "         -1.13118724e-04,  2.59085878e-04,  3.16602418e-05],\n",
       "        ...,\n",
       "        [-2.38480838e-03, -2.92222551e-03,  5.05349645e-03, ...,\n",
       "         -5.86639857e-03,  7.16280600e-04,  1.37792686e-02],\n",
       "        [-2.38480908e-03, -2.92222761e-03,  5.05349739e-03, ...,\n",
       "         -5.86639950e-03,  7.16280018e-04,  1.37792695e-02],\n",
       "        [-2.38480954e-03, -2.92222924e-03,  5.05349832e-03, ...,\n",
       "         -5.86639950e-03,  7.16279552e-04,  1.37792686e-02]],\n",
       "\n",
       "       ...,\n",
       "\n",
       "       [[-2.22724630e-05, -1.17951549e-05,  9.77622312e-06, ...,\n",
       "         -4.97662813e-06, -1.36321742e-05, -3.55524717e-05],\n",
       "        [-3.85963358e-05, -3.83842780e-05,  2.97980296e-05, ...,\n",
       "         -6.44502234e-06, -8.96712809e-05, -7.20795651e-05],\n",
       "        [-3.09098032e-05, -7.02636244e-05,  6.26958208e-05, ...,\n",
       "         -1.59120736e-06, -2.51746183e-04, -8.24214876e-05],\n",
       "        ...,\n",
       "        [-2.38382537e-03, -2.92224833e-03,  5.05372277e-03, ...,\n",
       "         -5.86553197e-03,  7.16935436e-04,  1.37792686e-02],\n",
       "        [-2.38397764e-03, -2.92223110e-03,  5.05370554e-03, ...,\n",
       "         -5.86566422e-03,  7.16849288e-04,  1.37792695e-02],\n",
       "        [-2.38410733e-03, -2.92221853e-03,  5.05368738e-03, ...,\n",
       "         -5.86577691e-03,  7.16774317e-04,  1.37792723e-02]],\n",
       "\n",
       "       [[ 4.39193900e-05,  1.09402517e-05,  5.19767018e-05, ...,\n",
       "          2.95687732e-05,  9.15978035e-06, -1.47264900e-05],\n",
       "        [ 1.22934405e-04,  2.05703582e-05,  1.44978723e-04, ...,\n",
       "          5.90339732e-05,  2.15087748e-05, -4.38020470e-05],\n",
       "        [ 2.46949290e-04,  1.82866097e-05,  2.63052090e-04, ...,\n",
       "          6.55806216e-05,  3.50027331e-05, -7.89030892e-05],\n",
       "        ...,\n",
       "        [-2.38480303e-03, -2.92223017e-03,  5.05350577e-03, ...,\n",
       "         -5.86639019e-03,  7.16289564e-04,  1.37792639e-02],\n",
       "        [-2.38480512e-03, -2.92223110e-03,  5.05350484e-03, ...,\n",
       "         -5.86639298e-03,  7.16287876e-04,  1.37792658e-02],\n",
       "        [-2.38480675e-03, -2.92223156e-03,  5.05350390e-03, ...,\n",
       "         -5.86639484e-03,  7.16286479e-04,  1.37792658e-02]],\n",
       "\n",
       "       [[ 1.04105611e-05,  4.92352501e-06, -1.32794894e-05, ...,\n",
       "         -2.77336676e-06, -2.43795421e-05,  1.28445026e-05],\n",
       "        [-4.46288368e-06,  1.31409870e-05, -6.04557135e-05, ...,\n",
       "         -2.58383097e-05, -3.59788210e-05,  9.03901855e-06],\n",
       "        [-5.46287338e-05,  3.10575633e-05, -1.32495945e-04, ...,\n",
       "         -6.31970979e-05, -1.08993190e-05, -1.76652611e-05],\n",
       "        ...,\n",
       "        [-2.38470244e-03, -2.92216497e-03,  5.05349692e-03, ...,\n",
       "         -5.86631428e-03,  7.16388051e-04,  1.37792714e-02],\n",
       "        [-2.38471990e-03, -2.92217196e-03,  5.05349599e-03, ...,\n",
       "         -5.86632732e-03,  7.16372509e-04,  1.37792714e-02],\n",
       "        [-2.38473457e-03, -2.92217801e-03,  5.05349599e-03, ...,\n",
       "         -5.86633896e-03,  7.16359180e-04,  1.37792705e-02]]],\n",
       "      dtype=float32)>"
      ]
     },
     "execution_count": 322,
     "metadata": {},
     "output_type": "execute_result"
    }
   ],
   "source": [
    "i = 10\n",
    "ex = reverse_encoder_input[0:i]\n",
    "\n",
    "ex_encoder = Encoder(vocab_size, embedd_size, hidden_size)\n",
    "ex_encoder_output = encoder(ex)\n",
    "ex_encoder_output"
   ]
  },
  {
   "cell_type": "code",
   "execution_count": 325,
   "id": "spanish-entertainment",
   "metadata": {},
   "outputs": [],
   "source": [
    "class Decoder(tf.keras.Model):\n",
    "    \n",
    "    def __init__(self, vocab_size, embedd_size, hidden_size):\n",
    "        super(Decoder, self).__init__()\n",
    "        \n",
    "        self.hidden_size = hidden_size\n",
    "        self.embedd = tf.keras.layers.Embedding(input_dim = vocab_size,\n",
    "                                                output_dim = embedd_size)\n",
    "        self.lstm1 = tf.keras.layers.LSTM(hidden_size, \n",
    "                                          return_sequences = True,\n",
    "                                          return_state = True)\n",
    "        \n",
    "        self.attention = BahdanauAttention(self.hidden_size)\n",
    "        \n",
    "        self.outputs = tf.keras.layers.Dense(vocab_size, activation = \"softmax\")\n",
    "        \n",
    "    def call(self, decoder_input, decoder_hidden, encoder_output):\n",
    "        \n",
    "        context_vec, attn = self.attention(encoder_output, decoder_hidden)\n",
    "        \n",
    "        \n",
    "        decoder_input = self.embedd(decoder_input)\n",
    "        decoder_input = tf.concat([context_vec, decoder_input], axis=-1)\n",
    "        \n",
    "#        decoder_input, decoder_hidden, _ = self.lstm1(decoder_input)\n",
    "#        decoder_input = tf.reshape(decoder_input, (-1, decoder_input.shape[2]))\n",
    "#        decoder_input = self.outputs(decoder_input)\n",
    "        return decoder_input"
   ]
  },
  {
   "cell_type": "code",
   "execution_count": 326,
   "id": "neither-repair",
   "metadata": {},
   "outputs": [
    {
     "ename": "InvalidArgumentError",
     "evalue": "ConcatOp : Ranks of all input tensors should match: shape[0] = [10,64] vs. shape[1] = [10,125,100] [Op:ConcatV2] name: concat",
     "output_type": "error",
     "traceback": [
      "\u001b[0;31m---------------------------------------------------------------------------\u001b[0m",
      "\u001b[0;31mInvalidArgumentError\u001b[0m                      Traceback (most recent call last)",
      "\u001b[0;32m<ipython-input-326-38239a8764cc>\u001b[0m in \u001b[0;36m<module>\u001b[0;34m\u001b[0m\n\u001b[1;32m      6\u001b[0m ex_pred = ex_decoder(ex_decoder_output, \n\u001b[1;32m      7\u001b[0m                                          \u001b[0mex_decoder_hidden\u001b[0m\u001b[0;34m,\u001b[0m\u001b[0;34m\u001b[0m\u001b[0;34m\u001b[0m\u001b[0m\n\u001b[0;32m----> 8\u001b[0;31m                                          ex_encoder_output)\n\u001b[0m\u001b[1;32m      9\u001b[0m \u001b[0;31m# result, hidden, attn = outputs\u001b[0m\u001b[0;34m\u001b[0m\u001b[0;34m\u001b[0m\u001b[0;34m\u001b[0m\u001b[0m\n\u001b[1;32m     10\u001b[0m \u001b[0;31m# print(result.shape)\u001b[0m\u001b[0;34m\u001b[0m\u001b[0;34m\u001b[0m\u001b[0;34m\u001b[0m\u001b[0m\n",
      "\u001b[0;32m/opt/conda/lib/python3.7/site-packages/tensorflow/python/keras/engine/base_layer.py\u001b[0m in \u001b[0;36m__call__\u001b[0;34m(self, *args, **kwargs)\u001b[0m\n\u001b[1;32m   1010\u001b[0m         with autocast_variable.enable_auto_cast_variables(\n\u001b[1;32m   1011\u001b[0m             self._compute_dtype_object):\n\u001b[0;32m-> 1012\u001b[0;31m           \u001b[0moutputs\u001b[0m \u001b[0;34m=\u001b[0m \u001b[0mcall_fn\u001b[0m\u001b[0;34m(\u001b[0m\u001b[0minputs\u001b[0m\u001b[0;34m,\u001b[0m \u001b[0;34m*\u001b[0m\u001b[0margs\u001b[0m\u001b[0;34m,\u001b[0m \u001b[0;34m**\u001b[0m\u001b[0mkwargs\u001b[0m\u001b[0;34m)\u001b[0m\u001b[0;34m\u001b[0m\u001b[0;34m\u001b[0m\u001b[0m\n\u001b[0m\u001b[1;32m   1013\u001b[0m \u001b[0;34m\u001b[0m\u001b[0m\n\u001b[1;32m   1014\u001b[0m         \u001b[0;32mif\u001b[0m \u001b[0mself\u001b[0m\u001b[0;34m.\u001b[0m\u001b[0m_activity_regularizer\u001b[0m\u001b[0;34m:\u001b[0m\u001b[0;34m\u001b[0m\u001b[0;34m\u001b[0m\u001b[0m\n",
      "\u001b[0;32m<ipython-input-325-cd91a57b0e21>\u001b[0m in \u001b[0;36mcall\u001b[0;34m(self, decoder_input, decoder_hidden, encoder_output)\u001b[0m\n\u001b[1;32m     21\u001b[0m \u001b[0;34m\u001b[0m\u001b[0m\n\u001b[1;32m     22\u001b[0m         \u001b[0mdecoder_input\u001b[0m \u001b[0;34m=\u001b[0m \u001b[0mself\u001b[0m\u001b[0;34m.\u001b[0m\u001b[0membedd\u001b[0m\u001b[0;34m(\u001b[0m\u001b[0mdecoder_input\u001b[0m\u001b[0;34m)\u001b[0m\u001b[0;34m\u001b[0m\u001b[0;34m\u001b[0m\u001b[0m\n\u001b[0;32m---> 23\u001b[0;31m         \u001b[0mdecoder_input\u001b[0m \u001b[0;34m=\u001b[0m \u001b[0mtf\u001b[0m\u001b[0;34m.\u001b[0m\u001b[0mconcat\u001b[0m\u001b[0;34m(\u001b[0m\u001b[0;34m[\u001b[0m\u001b[0mcontext_vec\u001b[0m\u001b[0;34m,\u001b[0m \u001b[0mdecoder_input\u001b[0m\u001b[0;34m]\u001b[0m\u001b[0;34m,\u001b[0m \u001b[0maxis\u001b[0m\u001b[0;34m=\u001b[0m\u001b[0;34m-\u001b[0m\u001b[0;36m1\u001b[0m\u001b[0;34m)\u001b[0m\u001b[0;34m\u001b[0m\u001b[0;34m\u001b[0m\u001b[0m\n\u001b[0m\u001b[1;32m     24\u001b[0m \u001b[0;34m\u001b[0m\u001b[0m\n\u001b[1;32m     25\u001b[0m \u001b[0;31m#        decoder_input, decoder_hidden, _ = self.lstm1(decoder_input)\u001b[0m\u001b[0;34m\u001b[0m\u001b[0;34m\u001b[0m\u001b[0;34m\u001b[0m\u001b[0m\n",
      "\u001b[0;32m/opt/conda/lib/python3.7/site-packages/tensorflow/python/util/dispatch.py\u001b[0m in \u001b[0;36mwrapper\u001b[0;34m(*args, **kwargs)\u001b[0m\n\u001b[1;32m    199\u001b[0m     \u001b[0;34m\"\"\"Call target, and fall back on dispatchers if there is a TypeError.\"\"\"\u001b[0m\u001b[0;34m\u001b[0m\u001b[0;34m\u001b[0m\u001b[0m\n\u001b[1;32m    200\u001b[0m     \u001b[0;32mtry\u001b[0m\u001b[0;34m:\u001b[0m\u001b[0;34m\u001b[0m\u001b[0;34m\u001b[0m\u001b[0m\n\u001b[0;32m--> 201\u001b[0;31m       \u001b[0;32mreturn\u001b[0m \u001b[0mtarget\u001b[0m\u001b[0;34m(\u001b[0m\u001b[0;34m*\u001b[0m\u001b[0margs\u001b[0m\u001b[0;34m,\u001b[0m \u001b[0;34m**\u001b[0m\u001b[0mkwargs\u001b[0m\u001b[0;34m)\u001b[0m\u001b[0;34m\u001b[0m\u001b[0;34m\u001b[0m\u001b[0m\n\u001b[0m\u001b[1;32m    202\u001b[0m     \u001b[0;32mexcept\u001b[0m \u001b[0;34m(\u001b[0m\u001b[0mTypeError\u001b[0m\u001b[0;34m,\u001b[0m \u001b[0mValueError\u001b[0m\u001b[0;34m)\u001b[0m\u001b[0;34m:\u001b[0m\u001b[0;34m\u001b[0m\u001b[0;34m\u001b[0m\u001b[0m\n\u001b[1;32m    203\u001b[0m       \u001b[0;31m# Note: convert_to_eager_tensor currently raises a ValueError, not a\u001b[0m\u001b[0;34m\u001b[0m\u001b[0;34m\u001b[0m\u001b[0;34m\u001b[0m\u001b[0m\n",
      "\u001b[0;32m/opt/conda/lib/python3.7/site-packages/tensorflow/python/ops/array_ops.py\u001b[0m in \u001b[0;36mconcat\u001b[0;34m(values, axis, name)\u001b[0m\n\u001b[1;32m   1675\u001b[0m           dtype=dtypes.int32).get_shape().assert_has_rank(0)\n\u001b[1;32m   1676\u001b[0m       \u001b[0;32mreturn\u001b[0m \u001b[0midentity\u001b[0m\u001b[0;34m(\u001b[0m\u001b[0mvalues\u001b[0m\u001b[0;34m[\u001b[0m\u001b[0;36m0\u001b[0m\u001b[0;34m]\u001b[0m\u001b[0;34m,\u001b[0m \u001b[0mname\u001b[0m\u001b[0;34m=\u001b[0m\u001b[0mname\u001b[0m\u001b[0;34m)\u001b[0m\u001b[0;34m\u001b[0m\u001b[0;34m\u001b[0m\u001b[0m\n\u001b[0;32m-> 1677\u001b[0;31m   \u001b[0;32mreturn\u001b[0m \u001b[0mgen_array_ops\u001b[0m\u001b[0;34m.\u001b[0m\u001b[0mconcat_v2\u001b[0m\u001b[0;34m(\u001b[0m\u001b[0mvalues\u001b[0m\u001b[0;34m=\u001b[0m\u001b[0mvalues\u001b[0m\u001b[0;34m,\u001b[0m \u001b[0maxis\u001b[0m\u001b[0;34m=\u001b[0m\u001b[0maxis\u001b[0m\u001b[0;34m,\u001b[0m \u001b[0mname\u001b[0m\u001b[0;34m=\u001b[0m\u001b[0mname\u001b[0m\u001b[0;34m)\u001b[0m\u001b[0;34m\u001b[0m\u001b[0;34m\u001b[0m\u001b[0m\n\u001b[0m\u001b[1;32m   1678\u001b[0m \u001b[0;34m\u001b[0m\u001b[0m\n\u001b[1;32m   1679\u001b[0m \u001b[0;34m\u001b[0m\u001b[0m\n",
      "\u001b[0;32m/opt/conda/lib/python3.7/site-packages/tensorflow/python/ops/gen_array_ops.py\u001b[0m in \u001b[0;36mconcat_v2\u001b[0;34m(values, axis, name)\u001b[0m\n\u001b[1;32m   1191\u001b[0m       \u001b[0;32mreturn\u001b[0m \u001b[0m_result\u001b[0m\u001b[0;34m\u001b[0m\u001b[0;34m\u001b[0m\u001b[0m\n\u001b[1;32m   1192\u001b[0m     \u001b[0;32mexcept\u001b[0m \u001b[0m_core\u001b[0m\u001b[0;34m.\u001b[0m\u001b[0m_NotOkStatusException\u001b[0m \u001b[0;32mas\u001b[0m \u001b[0me\u001b[0m\u001b[0;34m:\u001b[0m\u001b[0;34m\u001b[0m\u001b[0;34m\u001b[0m\u001b[0m\n\u001b[0;32m-> 1193\u001b[0;31m       \u001b[0m_ops\u001b[0m\u001b[0;34m.\u001b[0m\u001b[0mraise_from_not_ok_status\u001b[0m\u001b[0;34m(\u001b[0m\u001b[0me\u001b[0m\u001b[0;34m,\u001b[0m \u001b[0mname\u001b[0m\u001b[0;34m)\u001b[0m\u001b[0;34m\u001b[0m\u001b[0;34m\u001b[0m\u001b[0m\n\u001b[0m\u001b[1;32m   1194\u001b[0m     \u001b[0;32mexcept\u001b[0m \u001b[0m_core\u001b[0m\u001b[0;34m.\u001b[0m\u001b[0m_FallbackException\u001b[0m\u001b[0;34m:\u001b[0m\u001b[0;34m\u001b[0m\u001b[0;34m\u001b[0m\u001b[0m\n\u001b[1;32m   1195\u001b[0m       \u001b[0;32mpass\u001b[0m\u001b[0;34m\u001b[0m\u001b[0;34m\u001b[0m\u001b[0m\n",
      "\u001b[0;32m/opt/conda/lib/python3.7/site-packages/tensorflow/python/framework/ops.py\u001b[0m in \u001b[0;36mraise_from_not_ok_status\u001b[0;34m(e, name)\u001b[0m\n\u001b[1;32m   6860\u001b[0m   \u001b[0mmessage\u001b[0m \u001b[0;34m=\u001b[0m \u001b[0me\u001b[0m\u001b[0;34m.\u001b[0m\u001b[0mmessage\u001b[0m \u001b[0;34m+\u001b[0m \u001b[0;34m(\u001b[0m\u001b[0;34m\" name: \"\u001b[0m \u001b[0;34m+\u001b[0m \u001b[0mname\u001b[0m \u001b[0;32mif\u001b[0m \u001b[0mname\u001b[0m \u001b[0;32mis\u001b[0m \u001b[0;32mnot\u001b[0m \u001b[0;32mNone\u001b[0m \u001b[0;32melse\u001b[0m \u001b[0;34m\"\"\u001b[0m\u001b[0;34m)\u001b[0m\u001b[0;34m\u001b[0m\u001b[0;34m\u001b[0m\u001b[0m\n\u001b[1;32m   6861\u001b[0m   \u001b[0;31m# pylint: disable=protected-access\u001b[0m\u001b[0;34m\u001b[0m\u001b[0;34m\u001b[0m\u001b[0;34m\u001b[0m\u001b[0m\n\u001b[0;32m-> 6862\u001b[0;31m   \u001b[0msix\u001b[0m\u001b[0;34m.\u001b[0m\u001b[0mraise_from\u001b[0m\u001b[0;34m(\u001b[0m\u001b[0mcore\u001b[0m\u001b[0;34m.\u001b[0m\u001b[0m_status_to_exception\u001b[0m\u001b[0;34m(\u001b[0m\u001b[0me\u001b[0m\u001b[0;34m.\u001b[0m\u001b[0mcode\u001b[0m\u001b[0;34m,\u001b[0m \u001b[0mmessage\u001b[0m\u001b[0;34m)\u001b[0m\u001b[0;34m,\u001b[0m \u001b[0;32mNone\u001b[0m\u001b[0;34m)\u001b[0m\u001b[0;34m\u001b[0m\u001b[0;34m\u001b[0m\u001b[0m\n\u001b[0m\u001b[1;32m   6863\u001b[0m   \u001b[0;31m# pylint: enable=protected-access\u001b[0m\u001b[0;34m\u001b[0m\u001b[0;34m\u001b[0m\u001b[0;34m\u001b[0m\u001b[0m\n\u001b[1;32m   6864\u001b[0m \u001b[0;34m\u001b[0m\u001b[0m\n",
      "\u001b[0;32m/opt/conda/lib/python3.7/site-packages/six.py\u001b[0m in \u001b[0;36mraise_from\u001b[0;34m(value, from_value)\u001b[0m\n",
      "\u001b[0;31mInvalidArgumentError\u001b[0m: ConcatOp : Ranks of all input tensors should match: shape[0] = [10,64] vs. shape[1] = [10,125,100] [Op:ConcatV2] name: concat"
     ]
    }
   ],
   "source": [
    "ex_decoder_output = decoder_input[0:i]\n",
    "\n",
    "ex_decoder_hidden = tf.random.uniform((i, hidden_size))\n",
    "\n",
    "ex_decoder = Decoder(vocab_size, embedd_size, hidden_size)\n",
    "ex_pred = ex_decoder(ex_decoder_output, \n",
    "                                         ex_decoder_hidden, \n",
    "                                         ex_encoder_output)\n",
    "# result, hidden, attn = outputs\n",
    "# print(result.shape)\n",
    "# print(attn.shape)\n",
    "ex_pred"
   ]
  },
  {
   "cell_type": "code",
   "execution_count": 237,
   "id": "artificial-geography",
   "metadata": {},
   "outputs": [],
   "source": [
    "optimizer = tf.keras.optimizers.Adam()\n",
    "loss_object = tf.keras.losses.SparseCategoricalCrossentropy(\n",
    "    from_logits=True, reduction='none')\n",
    "\n",
    "def loss_function(real, pred):\n",
    "    mask = tf.math.logical_not(tf.math.equal(real, 0))\n",
    "    loss = loss_object(real, pred)\n",
    "    \n",
    "    mask = tf.cast(mask, dtype=loss.dtype)\n",
    "    loss *= mask\n",
    "    \n",
    "    return tf.reduce_mean(loss)"
   ]
  },
  {
   "cell_type": "code",
   "execution_count": null,
   "id": "conceptual-jenny",
   "metadata": {},
   "outputs": [],
   "source": []
  },
  {
   "cell_type": "code",
   "execution_count": null,
   "id": "stuck-northwest",
   "metadata": {},
   "outputs": [],
   "source": []
  },
  {
   "cell_type": "code",
   "execution_count": null,
   "id": "governmental-moderator",
   "metadata": {},
   "outputs": [],
   "source": []
  },
  {
   "cell_type": "code",
   "execution_count": 299,
   "id": "obvious-ghost",
   "metadata": {},
   "outputs": [
    {
     "name": "stdout",
     "output_type": "stream",
     "text": [
      "(74579, 125)\n",
      "(74579, 125)\n",
      "(74579, 125)\n"
     ]
    }
   ],
   "source": [
    "print(reverse_encoder_input.shape)\n",
    "print(decoder_input.shape)\n",
    "print(decoder_output.shape)\n",
    "\n",
    "batch_encoder_input = reverse_encoder_input[:32,:]\n",
    "batch_decoder_input = decoder_input[:32,:]\n",
    "batch_decoder_output = decoder_output[:32,:]"
   ]
  },
  {
   "cell_type": "code",
   "execution_count": 305,
   "id": "accompanied-costume",
   "metadata": {
    "scrolled": true
   },
   "outputs": [
    {
     "data": {
      "text/plain": [
       "<tf.Tensor: shape=(32, 125, 5000), dtype=float32, numpy=\n",
       "array([[[0.00020024, 0.0001999 , 0.00020036, ..., 0.00019997,\n",
       "         0.00020016, 0.00020016],\n",
       "        [0.00020039, 0.00019983, 0.00020057, ..., 0.00019995,\n",
       "         0.0002003 , 0.00020028],\n",
       "        [0.00020047, 0.00019978, 0.0002007 , ..., 0.00019994,\n",
       "         0.00020041, 0.00020037],\n",
       "        ...,\n",
       "        [0.00019983, 0.00020009, 0.00019978, ..., 0.00020015,\n",
       "         0.00020011, 0.00020034],\n",
       "        [0.00019993, 0.00020014, 0.00019982, ..., 0.00020031,\n",
       "         0.00020018, 0.00020019],\n",
       "        [0.00020019, 0.00020004, 0.00019973, ..., 0.00020029,\n",
       "         0.00020028, 0.00020014]],\n",
       "\n",
       "       [[0.00020024, 0.0001999 , 0.00020036, ..., 0.00019997,\n",
       "         0.00020016, 0.00020016],\n",
       "        [0.00020039, 0.00019983, 0.00020057, ..., 0.00019995,\n",
       "         0.0002003 , 0.00020028],\n",
       "        [0.00020047, 0.00019978, 0.0002007 , ..., 0.00019994,\n",
       "         0.00020041, 0.00020037],\n",
       "        ...,\n",
       "        [0.00020035, 0.00019959, 0.00019983, ..., 0.00020031,\n",
       "         0.00020014, 0.00019974],\n",
       "        [0.00020021, 0.00019969, 0.00020005, ..., 0.00020019,\n",
       "         0.00020005, 0.0001999 ],\n",
       "        [0.0002004 , 0.00019973, 0.00019985, ..., 0.00020023,\n",
       "         0.00020015, 0.00019987]],\n",
       "\n",
       "       [[0.00020024, 0.0001999 , 0.00020036, ..., 0.00019997,\n",
       "         0.00020016, 0.00020016],\n",
       "        [0.00020039, 0.00019983, 0.00020057, ..., 0.00019995,\n",
       "         0.0002003 , 0.00020028],\n",
       "        [0.00020047, 0.00019978, 0.0002007 , ..., 0.00019994,\n",
       "         0.00020041, 0.00020037],\n",
       "        ...,\n",
       "        [0.00020011, 0.00020018, 0.00020034, ..., 0.00020005,\n",
       "         0.00020006, 0.00020005],\n",
       "        [0.00020013, 0.00019992, 0.00020005, ..., 0.00020017,\n",
       "         0.00020007, 0.00020008],\n",
       "        [0.00020034, 0.00019991, 0.00019985, ..., 0.00020019,\n",
       "         0.00020019, 0.00020006]],\n",
       "\n",
       "       ...,\n",
       "\n",
       "       [[0.00020024, 0.0001999 , 0.00020036, ..., 0.00019997,\n",
       "         0.00020016, 0.00020016],\n",
       "        [0.00020039, 0.00019983, 0.00020057, ..., 0.00019995,\n",
       "         0.0002003 , 0.00020028],\n",
       "        [0.00020047, 0.00019978, 0.0002007 , ..., 0.00019994,\n",
       "         0.00020041, 0.00020037],\n",
       "        ...,\n",
       "        [0.00020026, 0.00019977, 0.00019984, ..., 0.00019984,\n",
       "         0.00020013, 0.00019997],\n",
       "        [0.00019996, 0.00019949, 0.00020005, ..., 0.00019983,\n",
       "         0.00020014, 0.00020011],\n",
       "        [0.00019994, 0.00019975, 0.00020009, ..., 0.0002    ,\n",
       "         0.00019995, 0.00020014]],\n",
       "\n",
       "       [[0.00020024, 0.0001999 , 0.00020036, ..., 0.00019997,\n",
       "         0.00020016, 0.00020016],\n",
       "        [0.00020039, 0.00019983, 0.00020057, ..., 0.00019995,\n",
       "         0.0002003 , 0.00020028],\n",
       "        [0.00020047, 0.00019978, 0.0002007 , ..., 0.00019994,\n",
       "         0.00020041, 0.00020037],\n",
       "        ...,\n",
       "        [0.00020011, 0.00020003, 0.00020002, ..., 0.00019959,\n",
       "         0.0001998 , 0.00020055],\n",
       "        [0.00019999, 0.00020002, 0.00019995, ..., 0.00019968,\n",
       "         0.00019983, 0.00020044],\n",
       "        [0.00020014, 0.00019999, 0.0001999 , ..., 0.00019952,\n",
       "         0.00019978, 0.00020048]],\n",
       "\n",
       "       [[0.00020024, 0.0001999 , 0.00020036, ..., 0.00019997,\n",
       "         0.00020016, 0.00020016],\n",
       "        [0.00020039, 0.00019983, 0.00020057, ..., 0.00019995,\n",
       "         0.0002003 , 0.00020028],\n",
       "        [0.00020047, 0.00019978, 0.0002007 , ..., 0.00019994,\n",
       "         0.00020041, 0.00020037],\n",
       "        ...,\n",
       "        [0.00020045, 0.00020014, 0.00019952, ..., 0.00019996,\n",
       "         0.00019999, 0.00019974],\n",
       "        [0.0002007 , 0.00020004, 0.00019952, ..., 0.0002    ,\n",
       "         0.00020008, 0.00019942],\n",
       "        [0.00020078, 0.00019997, 0.00019944, ..., 0.00020008,\n",
       "         0.0002002 , 0.00019951]]], dtype=float32)>"
      ]
     },
     "execution_count": 305,
     "metadata": {},
     "output_type": "execute_result"
    }
   ],
   "source": [
    "vocab_size = 5000\n",
    "batch_size = 32\n",
    "embedd_size = 100\n",
    "hidden_size = 64\n",
    "\n",
    "encoder = Encoder(vocab_size, embedd_size, hidden_size)\n",
    "decoder = Decoder(vocab_size, embedd_size, hidden_size)\n",
    "\n",
    "encoder_output = encoder(batch_encoder_input)\n",
    "batch_decoder_hidden = encoder_output[:, -1]\n",
    "loss = 0\n",
    "t = 1\n",
    "pred, batch_decoder_hidden, _ = decoder(batch_decoder_input, \n",
    "                                        batch_decoder_hidden, \n",
    "                                        encoder_output)\n",
    "#loss += loss_function(batch_decoder_output[:,t], pred)\n",
    "pred"
   ]
  },
  {
   "cell_type": "code",
   "execution_count": 302,
   "id": "important-census",
   "metadata": {},
   "outputs": [
    {
     "data": {
      "text/plain": [
       "(32,)"
      ]
     },
     "execution_count": 302,
     "metadata": {},
     "output_type": "execute_result"
    }
   ],
   "source": [
    "batch_decoder_output[:,t].shape"
   ]
  },
  {
   "cell_type": "code",
   "execution_count": 226,
   "id": "polyphonic-cooper",
   "metadata": {},
   "outputs": [
    {
     "data": {
      "text/plain": [
       "<tf.Tensor: shape=(32, 64), dtype=float32, numpy=\n",
       "array([[-0.00167533,  0.00269996,  0.00798906, ...,  0.01256416,\n",
       "        -0.01775637,  0.00054503],\n",
       "       [-0.00167531,  0.00269998,  0.00798908, ...,  0.01256413,\n",
       "        -0.01775636,  0.00054507],\n",
       "       [-0.00167534,  0.00269995,  0.00798906, ...,  0.01256418,\n",
       "        -0.01775637,  0.00054503],\n",
       "       ...,\n",
       "       [-0.00167531,  0.00270007,  0.00798909, ...,  0.012564  ,\n",
       "        -0.01775629,  0.00054512],\n",
       "       [-0.00167532,  0.00269996,  0.00798907, ...,  0.01256415,\n",
       "        -0.01775637,  0.00054504],\n",
       "       [-0.00167531,  0.00269998,  0.00798907, ...,  0.01256415,\n",
       "        -0.01775637,  0.00054505]], dtype=float32)>"
      ]
     },
     "execution_count": 226,
     "metadata": {},
     "output_type": "execute_result"
    }
   ],
   "source": [
    "encoder_output[:,-1]"
   ]
  },
  {
   "cell_type": "code",
   "execution_count": null,
   "id": "thrown-utility",
   "metadata": {},
   "outputs": [],
   "source": []
  },
  {
   "cell_type": "code",
   "execution_count": 175,
   "id": "standard-basketball",
   "metadata": {},
   "outputs": [],
   "source": [
    "@tf.function\n",
    "def train_step(src, tgt, encoder, decoder, optimizer, dec_tok):\n",
    "    bsz = src.shape[0]\n",
    "    loss = 0\n",
    "\n",
    "    with tf.GradientTape() as tape:\n",
    "        enc_out = encoder(src)\n",
    "        h_dec = enc_out[:, -1]\n",
    "        \n",
    "        dec_src = tf.expand_dims([dec_tok.word_index['<start>']] * bsz, 1)\n",
    "\n",
    "        for t in range(1, tgt.shape[1]):\n",
    "            pred, h_dec, _ = decoder(dec_src, h_dec, enc_out)\n",
    "\n",
    "            loss += loss_function(tgt[:, t], pred)\n",
    "            dec_src = tf.expand_dims(tgt[:, t], 1)\n",
    "        \n",
    "    batch_loss = (loss / int(tgt.shape[1]))\n",
    "\n",
    "    variables = encoder.trainable_variables + decoder.trainable_variables\n",
    "    gradients = tape.gradient(loss, variables)\n",
    "    optimizer.apply_gradients(zip(gradients, variables))\n",
    "    \n",
    "    return batch_loss\n"
   ]
  },
  {
   "cell_type": "code",
   "execution_count": null,
   "id": "stuffed-rental",
   "metadata": {},
   "outputs": [],
   "source": []
  },
  {
   "cell_type": "code",
   "execution_count": 176,
   "id": "balanced-european",
   "metadata": {},
   "outputs": [
    {
     "ename": "NameError",
     "evalue": "name 'enc_train' is not defined",
     "output_type": "error",
     "traceback": [
      "\u001b[0;31m---------------------------------------------------------------------------\u001b[0m",
      "\u001b[0;31mNameError\u001b[0m                                 Traceback (most recent call last)",
      "\u001b[0;32m<ipython-input-176-949f58802324>\u001b[0m in \u001b[0;36m<module>\u001b[0;34m\u001b[0m\n\u001b[1;32m      7\u001b[0m     \u001b[0mtotal_loss\u001b[0m \u001b[0;34m=\u001b[0m \u001b[0;36m0\u001b[0m\u001b[0;34m\u001b[0m\u001b[0;34m\u001b[0m\u001b[0m\n\u001b[1;32m      8\u001b[0m \u001b[0;34m\u001b[0m\u001b[0m\n\u001b[0;32m----> 9\u001b[0;31m     \u001b[0midx_list\u001b[0m \u001b[0;34m=\u001b[0m \u001b[0mlist\u001b[0m\u001b[0;34m(\u001b[0m\u001b[0mrange\u001b[0m\u001b[0;34m(\u001b[0m\u001b[0;36m0\u001b[0m\u001b[0;34m,\u001b[0m \u001b[0menc_train\u001b[0m\u001b[0;34m.\u001b[0m\u001b[0mshape\u001b[0m\u001b[0;34m[\u001b[0m\u001b[0;36m0\u001b[0m\u001b[0;34m]\u001b[0m\u001b[0;34m,\u001b[0m \u001b[0mBATCH_SIZE\u001b[0m\u001b[0;34m)\u001b[0m\u001b[0;34m)\u001b[0m\u001b[0;34m\u001b[0m\u001b[0;34m\u001b[0m\u001b[0m\n\u001b[0m\u001b[1;32m     10\u001b[0m     \u001b[0mrandom\u001b[0m\u001b[0;34m.\u001b[0m\u001b[0mshuffle\u001b[0m\u001b[0;34m(\u001b[0m\u001b[0midx_list\u001b[0m\u001b[0;34m)\u001b[0m\u001b[0;34m\u001b[0m\u001b[0;34m\u001b[0m\u001b[0m\n\u001b[1;32m     11\u001b[0m     \u001b[0mt\u001b[0m \u001b[0;34m=\u001b[0m \u001b[0mtqdm\u001b[0m\u001b[0;34m(\u001b[0m\u001b[0midx_list\u001b[0m\u001b[0;34m)\u001b[0m    \u001b[0;31m# tqdm\u001b[0m\u001b[0;34m\u001b[0m\u001b[0;34m\u001b[0m\u001b[0m\n",
      "\u001b[0;31mNameError\u001b[0m: name 'enc_train' is not defined"
     ]
    }
   ],
   "source": [
    "from tqdm import tqdm    # tqdm\n",
    "import random\n",
    "\n",
    "EPOCHS = 10\n",
    "\n",
    "for epoch in range(EPOCHS):\n",
    "    total_loss = 0\n",
    "    \n",
    "    idx_list = list(range(0, enc_train.shape[0], BATCH_SIZE))\n",
    "    random.shuffle(idx_list)\n",
    "    t = tqdm(idx_list)    # tqdm\n",
    "\n",
    "    for (batch, idx) in enumerate(t):\n",
    "        batch_loss = train_step(enc_train[idx:idx+BATCH_SIZE],\n",
    "                                dec_train[idx:idx+BATCH_SIZE],\n",
    "                                encoder,\n",
    "                                decoder,\n",
    "                                optimizer,\n",
    "                                dec_tokenizer)\n",
    "    \n",
    "        total_loss += batch_loss\n",
    "        \n",
    "        t.set_description_str('Epoch %2d' % (epoch + 1))    # tqdm\n",
    "        t.set_postfix_str('Loss %.4f' % (total_loss.numpy() / (batch + 1)))    # tqdm"
   ]
  }
 ],
 "metadata": {
  "kernelspec": {
   "display_name": "Python 3",
   "language": "python",
   "name": "python3"
  },
  "language_info": {
   "codemirror_mode": {
    "name": "ipython",
    "version": 3
   },
   "file_extension": ".py",
   "mimetype": "text/x-python",
   "name": "python",
   "nbconvert_exporter": "python",
   "pygments_lexer": "ipython3",
   "version": "3.7.9"
  }
 },
 "nbformat": 4,
 "nbformat_minor": 5
}
