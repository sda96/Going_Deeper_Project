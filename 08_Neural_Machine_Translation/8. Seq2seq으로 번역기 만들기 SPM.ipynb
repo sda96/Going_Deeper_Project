{
 "cells": [
  {
   "cell_type": "markdown",
   "id": "bridal-animal",
   "metadata": {
    "scrolled": true
   },
   "source": [
    "!sudo apt-get install curl git  \n",
    "\n",
    "!bash <(curl -s https://raw.githubusercontent.com/konlpy/konlpy/master/scripts/mecab.sh)"
   ]
  },
  {
   "cell_type": "code",
   "execution_count": 1,
   "id": "floral-poster",
   "metadata": {},
   "outputs": [
    {
     "name": "stderr",
     "output_type": "stream",
     "text": [
      "/opt/conda/lib/python3.7/site-packages/gensim/similarities/__init__.py:15: UserWarning: The gensim.similarities.levenshtein submodule is disabled, because the optional Levenshtein package <https://pypi.org/project/python-Levenshtein/> is unavailable. Install Levenhstein (e.g. `pip install python-Levenshtein`) to suppress this warning.\n",
      "  warnings.warn(msg)\n"
     ]
    }
   ],
   "source": [
    "from konlpy.tag import Mecab\n",
    "from packages import utils # package 폴더에 utils라는 script에 있는 모듈을 불러옵니다.\n",
    "\n",
    "\n",
    "from glob import  glob\n",
    "import pandas as pd\n",
    "import numpy as np\n",
    "import matplotlib.pyplot as plt\n",
    "import matplotlib.ticker as ticker\n",
    "\n",
    "import tensorflow as tf\n",
    "from tensorflow.keras.preprocessing.sequence import pad_sequences"
   ]
  },
  {
   "cell_type": "code",
   "execution_count": 2,
   "id": "encouraging-baking",
   "metadata": {},
   "outputs": [],
   "source": [
    "import numpy as np; \n",
    "import seaborn as sns; \n",
    "\n",
    "np.random.seed(0)\n",
    "\n",
    "# 한글 지원 폰트\n",
    "sns.set(font='NanumGothic')\n",
    "\n",
    "# 마이너스 부호 \n",
    "\n",
    "plt.rcParams['axes.unicode_minus'] = False"
   ]
  },
  {
   "cell_type": "markdown",
   "id": "occupied-break",
   "metadata": {},
   "source": [
    "## Step 1. 데이터 로드"
   ]
  },
  {
   "cell_type": "markdown",
   "id": "optimum-saint",
   "metadata": {},
   "source": [
    "로드하는 데이터 관련 사이트 : [링크](https://sites.google.com/site/koreanparalleldata/)"
   ]
  },
  {
   "cell_type": "markdown",
   "id": "selective-surgeon",
   "metadata": {},
   "source": [
    "해당 데이터는 한국인 고등학생 대상 영어 번역 데이터로 다양한 종류의 주제를 가지고 만들어졌습니다.\n",
    "\n",
    "주제 \n",
    "- 뉴스 기사\n",
    "- 짧은 스토리\n",
    "- 편지\n",
    "- 광고"
   ]
  },
  {
   "cell_type": "code",
   "execution_count": 3,
   "id": "quick-programmer",
   "metadata": {},
   "outputs": [],
   "source": [
    "train_data_path = glob(\"./data/train/*\")\n",
    "test_data_path = glob(\"./data/test/*\")\n",
    "dev_data_path = glob(\"./data/dev/*\")\n",
    "\n",
    "def data_load(data_path):\n",
    "    result = []\n",
    "    for setences in data_path:\n",
    "        with open(setences) as f:\n",
    "            result += [f.readlines()]\n",
    "    en, ko = result        \n",
    "    data = pd.DataFrame({\"en\":en, \"ko\":ko})\n",
    "    return data\n",
    "\n",
    "train = data_load(train_data_path)\n",
    "test = data_load(test_data_path)\n",
    "dev = data_load(dev_data_path)\n",
    "\n",
    "cp_train = train.copy()\n",
    "cp_test = test.copy()\n",
    "cp_dev = dev.copy()"
   ]
  },
  {
   "cell_type": "markdown",
   "id": "female-asthma",
   "metadata": {},
   "source": [
    "## Step 2. 데이터 정제"
   ]
  },
  {
   "cell_type": "markdown",
   "id": "functioning-breast",
   "metadata": {},
   "source": [
    "### 중복 데이터 제거"
   ]
  },
  {
   "cell_type": "code",
   "execution_count": 4,
   "id": "detailed-reform",
   "metadata": {},
   "outputs": [],
   "source": [
    "cp_train = cp_train.drop_duplicates(\"en\", keep = \"first\")\n",
    "cp_train = cp_train.drop_duplicates(\"ko\", keep = \"first\").reset_index()\n",
    "\n",
    "cp_test = cp_test.drop_duplicates(\"en\", keep = \"first\")\n",
    "cp_test = cp_test.drop_duplicates(\"ko\", keep = \"first\").reset_index()\n",
    "\n",
    "cp_dev = cp_dev.drop_duplicates(\"en\", keep = \"first\")\n",
    "cp_dev = cp_dev.drop_duplicates(\"ko\", keep = \"first\").reset_index()"
   ]
  },
  {
   "cell_type": "markdown",
   "id": "honest-suggestion",
   "metadata": {},
   "source": [
    "### 공동 텍스트 전처리"
   ]
  },
  {
   "cell_type": "code",
   "execution_count": 5,
   "id": "pleased-russell",
   "metadata": {},
   "outputs": [],
   "source": [
    "cp_train[\"ko\"] = cp_train[\"ko\"].apply(lambda x : utils.text_preprocessing(x))\n",
    "cp_train[\"en\"] = cp_train[\"en\"].apply(lambda x : utils.text_preprocessing(x))\n",
    "\n",
    "cp_test[\"ko\"] = cp_test[\"ko\"].apply(lambda x : utils.text_preprocessing(x))\n",
    "cp_test[\"en\"] = cp_test[\"en\"].apply(lambda x : utils.text_preprocessing(x))\n",
    "\n",
    "cp_dev[\"ko\"] = cp_dev[\"ko\"].apply(lambda x : utils.text_preprocessing(x))\n",
    "cp_dev[\"en\"] = cp_dev[\"en\"].apply(lambda x : utils.text_preprocessing(x))"
   ]
  },
  {
   "cell_type": "markdown",
   "id": "sweet-point",
   "metadata": {},
   "source": [
    "### 결측 데이터 제거"
   ]
  },
  {
   "cell_type": "code",
   "execution_count": 6,
   "id": "smoking-maker",
   "metadata": {},
   "outputs": [],
   "source": [
    "cp_train = utils.remove_nan(cp_train)\n",
    "cp_test = utils.remove_nan(cp_test)\n",
    "cp_dev = utils.remove_nan(cp_dev)"
   ]
  },
  {
   "cell_type": "markdown",
   "id": "imperial-instrument",
   "metadata": {},
   "source": [
    "### 영어, 한국어 텍스트 전처리"
   ]
  },
  {
   "cell_type": "code",
   "execution_count": 7,
   "id": "happy-learning",
   "metadata": {},
   "outputs": [],
   "source": [
    "def en_pre(sentence):\n",
    "    return \"<bos> \" + sentence.lower() + \" <eos>\"\n",
    "\n",
    "cp_train[\"en\"] = cp_train[\"en\"].apply(lambda x: en_pre(x))\n",
    "cp_dev[\"en\"] = cp_dev[\"en\"].apply(lambda x: en_pre(x))"
   ]
  },
  {
   "cell_type": "markdown",
   "id": "selective-tooth",
   "metadata": {},
   "source": [
    "## Step 3. SentencePiece BPE 방법으로 토큰화"
   ]
  },
  {
   "cell_type": "markdown",
   "id": "unusual-policy",
   "metadata": {},
   "source": [
    "### 영어와 한국어 SentencePiece model, vocab 구축"
   ]
  },
  {
   "cell_type": "code",
   "execution_count": 8,
   "id": "important-timing",
   "metadata": {
    "scrolled": true
   },
   "outputs": [],
   "source": [
    "model_type = \"bpe\"\n",
    "data = cp_train[\"ko\"]\n",
    "SRC_VOCAB_SIZE = 20000\n",
    "\n",
    "add = False\n",
    "train_test = \"train_ko\"\n",
    "temp_file = \"./spm_ko_train.tmp\"\n",
    "\n",
    "ko_spm = utils.SentencePiece(model_type, \n",
    "                             data, \n",
    "                             SRC_VOCAB_SIZE, \n",
    "                             add, \n",
    "                             train_test, \n",
    "                             temp_file)"
   ]
  },
  {
   "cell_type": "code",
   "execution_count": 9,
   "id": "illegal-provider",
   "metadata": {},
   "outputs": [],
   "source": [
    "model_type = \"bpe\"\n",
    "data = cp_train[\"en\"]\n",
    "TGT_VOCAB_SIZE = 20000\n",
    "add = False\n",
    "train_test = \"train_en\"\n",
    "temp_file = \"./spm_en_train.tmp\"\n",
    "\n",
    "en_spm = utils.SentencePiece(model_type, \n",
    "                             data, \n",
    "                             TGT_VOCAB_SIZE, \n",
    "                             add, \n",
    "                             train_test, \n",
    "                             temp_file)"
   ]
  },
  {
   "cell_type": "markdown",
   "id": "worldwide-issue",
   "metadata": {},
   "source": [
    "### 구축된 SPM모델로 토큰화"
   ]
  },
  {
   "cell_type": "code",
   "execution_count": 10,
   "id": "conditional-timing",
   "metadata": {},
   "outputs": [],
   "source": [
    "token_blank = en_spm.EncodeAsIds(\"<bos>\")[0]\n",
    "cp_train[\"pre_ko\"] = cp_train[\"ko\"].apply(lambda x: ko_spm.encode_as_ids(x))\n",
    "cp_train[\"pre_ko\"] = cp_train[\"pre_ko\"].apply(lambda x: list(filter((token_blank).__ne__,x)))\n",
    "\n",
    "cp_train[\"pre_en\"] = cp_train[\"en\"].apply(lambda x: en_spm.encode_as_ids(x))\n",
    "cp_train[\"pre_en\"] = cp_train[\"pre_en\"].apply(lambda x: list(filter((token_blank).__ne__,x)))"
   ]
  },
  {
   "cell_type": "markdown",
   "id": "expected-leadership",
   "metadata": {},
   "source": [
    "### 너무 긴 문장 제거"
   ]
  },
  {
   "cell_type": "markdown",
   "id": "negative-cabin",
   "metadata": {},
   "source": [
    "- 토큰화 시킨 뒤 문장의 길이가 40 이상인 데이터는 제거합니다."
   ]
  },
  {
   "cell_type": "code",
   "execution_count": 11,
   "id": "adaptive-relief",
   "metadata": {},
   "outputs": [],
   "source": [
    "cp_train[\"pre_ko_len\"] = cp_train[\"pre_ko\"].apply(lambda x: len(x))\n",
    "cp_train[\"pre_en_len\"] = cp_train[\"pre_en\"].apply(lambda x: len(x))\n",
    "\n",
    "cp_train = cp_train[cp_train[\"pre_ko_len\"] <= 40].reset_index(drop=True)\n",
    "cp_train = cp_train[cp_train[\"pre_en_len\"] <= 40].reset_index(drop=True)"
   ]
  },
  {
   "cell_type": "markdown",
   "id": "important-hygiene",
   "metadata": {},
   "source": [
    "### 모든 데이터를 길이 40인 문장으로 패딩"
   ]
  },
  {
   "cell_type": "markdown",
   "id": "compatible-charger",
   "metadata": {},
   "source": [
    "- 패딩 토큰의 id는 1입니다."
   ]
  },
  {
   "cell_type": "code",
   "execution_count": 12,
   "id": "reverse-maker",
   "metadata": {},
   "outputs": [
    {
     "data": {
      "text/plain": [
       "(array([[ 1461, 18906,  1063, ...,     1,     1,     1],\n",
       "        [  453,   639, 18840, ...,     1,     1,     1],\n",
       "        [  190,  2879,   386, ...,     1,     1,     1],\n",
       "        ...,\n",
       "        [  190,   130, 19200, ...,     1,     1,     1],\n",
       "        [  622, 18852,  2204, ...,     1,     1,     1],\n",
       "        [  536,   622, 18852, ...,     1,     1,     1]], dtype=int32),\n",
       " array([[   4, 1094,   37, ...,    1,    1,    1],\n",
       "        [   4,  377,    7, ...,    1,    1,    1],\n",
       "        [   4,  573,  295, ...,    1,    1,    1],\n",
       "        ...,\n",
       "        [   4,  181,   11, ...,    1,    1,    1],\n",
       "        [   4, 1059,   45, ...,    1,    1,    1],\n",
       "        [   4,  355,  151, ...,    1,    1,    1]], dtype=int32),\n",
       " (63055, 40),\n",
       " (63055, 40))"
      ]
     },
     "execution_count": 12,
     "metadata": {},
     "output_type": "execute_result"
    }
   ],
   "source": [
    "x_train = pad_sequences(cp_train[\"pre_ko\"], \n",
    "                        maxlen = 40,\n",
    "                        value = 1,\n",
    "                        padding = \"post\")\n",
    "y_train = pad_sequences(cp_train[\"pre_en\"], \n",
    "                        maxlen = 40, \n",
    "                        value = 1,\n",
    "                        padding = \"post\")\n",
    "\n",
    "x_train, y_train, x_train.shape, y_train.shape"
   ]
  },
  {
   "cell_type": "markdown",
   "id": "welcome-wilderness",
   "metadata": {},
   "source": [
    "### 검증 데이터에도 훈련 데이터에 적용한 부분 똑같이 적용"
   ]
  },
  {
   "cell_type": "code",
   "execution_count": 13,
   "id": "excess-defense",
   "metadata": {},
   "outputs": [
    {
     "data": {
      "text/plain": [
       "(array([[ 1133,  1452,  2136, ...,     1,     1,     1],\n",
       "        [  224,  6560, 19066, ...,     1,     1,     1],\n",
       "        [ 2879,   289, 13910, ...,     1,     1,     1],\n",
       "        ...,\n",
       "        [  954, 14472,     1, ...,     1,     1,     1],\n",
       "        [ 2225, 17003,    58, ...,     1,     1,     1],\n",
       "        [ 1720,  1847, 19510, ...,     1,     1,     1]], dtype=int32),\n",
       " array([[    4,   792,  1149, ...,     1,     1,     1],\n",
       "        [    4,    11,  1698, ...,     1,     1,     1],\n",
       "        [    4,    93,   351, ...,     1,     1,     1],\n",
       "        ...,\n",
       "        [    4,   582, 19995, ...,     1,     1,     1],\n",
       "        [    4,   517,   480, ...,     5,     1,     1],\n",
       "        [    4,  2483, 15777, ...,     1,     1,     1]], dtype=int32),\n",
       " (812, 40),\n",
       " (812, 40))"
      ]
     },
     "execution_count": 13,
     "metadata": {},
     "output_type": "execute_result"
    }
   ],
   "source": [
    "cp_dev[\"pre_ko\"] = cp_dev[\"ko\"].apply(lambda x: ko_spm.encode_as_ids(x))\n",
    "cp_dev[\"pre_ko\"] = cp_dev[\"pre_ko\"].apply(lambda x: list(filter((token_blank).__ne__,x)))\n",
    "cp_dev[\"pre_en\"] = cp_dev[\"en\"].apply(lambda x: en_spm.encode_as_ids(x))\n",
    "cp_dev[\"pre_en\"] = cp_dev[\"pre_en\"].apply(lambda x: list(filter((token_blank).__ne__,x)))\n",
    "\n",
    "cp_dev[\"pre_ko_len\"] = cp_dev[\"pre_ko\"].apply(lambda x: len(x))\n",
    "cp_dev[\"pre_en_len\"] = cp_dev[\"pre_en\"].apply(lambda x: len(x))\n",
    "\n",
    "cp_dev = cp_dev[cp_dev[\"pre_ko_len\"] <= 40].reset_index(drop=True)\n",
    "cp_dev = cp_dev[cp_dev[\"pre_en_len\"] <= 40].reset_index(drop=True)\n",
    "\n",
    "x_dev = pad_sequences(cp_dev[\"pre_ko\"], \n",
    "                      maxlen = 40, \n",
    "                      value = 1,\n",
    "                      padding = \"post\")\n",
    "y_dev = pad_sequences(cp_dev[\"pre_en\"], \n",
    "                      maxlen = 40, \n",
    "                      value = 1,\n",
    "                      padding = \"post\")\n",
    "\n",
    "x_dev, y_dev, x_dev.shape, y_dev.shape"
   ]
  },
  {
   "cell_type": "markdown",
   "id": "official-instruction",
   "metadata": {},
   "source": [
    "## Step 4. 모델 설계"
   ]
  },
  {
   "cell_type": "code",
   "execution_count": 14,
   "id": "significant-secret",
   "metadata": {},
   "outputs": [],
   "source": [
    "class BahdanauAttention(tf.keras.layers.Layer):\n",
    "    def __init__(self, units):\n",
    "        super(BahdanauAttention, self).__init__()\n",
    "        self.w_dec = tf.keras.layers.Dense(units)\n",
    "        self.w_enc = tf.keras.layers.Dense(units)\n",
    "        self.w_com = tf.keras.layers.Dense(1)\n",
    "    \n",
    "    def call(self, h_enc, h_dec):\n",
    "        # h_enc shape: [batch x length x units]\n",
    "        # h_dec shape: [batch x units]\n",
    "\n",
    "        h_enc = self.w_enc(h_enc) \n",
    "        h_dec = tf.expand_dims(h_dec, 1) # [batch, 1, units]\n",
    "        h_dec = self.w_dec(h_dec)\n",
    "        \n",
    "        # score shape : [batch, length, units]\n",
    "        score = self.w_com(tf.nn.tanh(h_dec + h_enc))\n",
    "        \n",
    "        # attn shape : [batch, length, 1]\n",
    "        attn = tf.nn.softmax(score, axis=1)\n",
    "        \n",
    "        # context_vec.shape : [batch, length, units]\n",
    "        context_vec = attn * h_enc\n",
    "        # context_vec.shape : [batch, units]\n",
    "        context_vec = tf.reduce_sum(context_vec, axis=1)\n",
    "\n",
    "        return context_vec, attn"
   ]
  },
  {
   "cell_type": "code",
   "execution_count": 15,
   "id": "ethical-programming",
   "metadata": {},
   "outputs": [],
   "source": [
    "class Encoder(tf.keras.Model):\n",
    "    def __init__(self, vocab_size, embedding_dim, enc_units):\n",
    "        super(Encoder, self).__init__()\n",
    "        \n",
    "        self.enc_units = enc_units\n",
    "        self.embedding = tf.keras.layers.Embedding(vocab_size, embedding_dim)\n",
    "        self.gru = tf.keras.layers.GRU(enc_units,\n",
    "                                       return_sequences=True)\n",
    "        self.dropout = tf.keras.layers.Dropout(0.2)\n",
    "        \n",
    "    def call(self, x):\n",
    "        # embedding shape : [batch, length, embedding_dim]\n",
    "        out = self.embedding(x) \n",
    "        # gru shape : [batch, length, enc_units]\n",
    "        out = self.gru(out) \n",
    "        out = self.dropout(out)\n",
    "        \n",
    "        return out"
   ]
  },
  {
   "cell_type": "code",
   "execution_count": 16,
   "id": "excellent-canadian",
   "metadata": {},
   "outputs": [],
   "source": [
    "class Decoder(tf.keras.Model):\n",
    "    def __init__(self, vocab_size, embedding_dim, dec_units):\n",
    "        super(Decoder, self).__init__()\n",
    "        self.dec_units = dec_units\n",
    "        self.embedding = tf.keras.layers.Embedding(vocab_size, embedding_dim)\n",
    "        self.gru = tf.keras.layers.GRU(dec_units,\n",
    "                                       return_sequences=True,\n",
    "                                       return_state=True)\n",
    "        self.bn = tf.keras.layers.BatchNormalization()\n",
    "        self.fc = tf.keras.layers.Dense(vocab_size)\n",
    "\n",
    "        self.attention = BahdanauAttention(self.dec_units)\n",
    "    # 학습과정에서 문장이 통째로가 아닌 문장에 있는 한 단어씩 들어옴 (batch, 1)\n",
    "    def call(self, x, h_dec, enc_out):\n",
    "        # enc_out.shape = [batch, length, units]\n",
    "        # h_dec shape = [batch, units]\n",
    "        context_vec, attn = self.attention(enc_out, h_dec) # context_vec.shape : [batch, units]\n",
    "        \n",
    "        out = self.embedding(x) # out shape = [batch, 1, embedding_dim]\n",
    "        out = tf.concat([tf.expand_dims(context_vec, 1), out], axis=-1) # out shape = [batch, 1, embedding_dim + units]\n",
    "        out, h_dec = self.gru(out) # out shape = [batch, 1, units]\n",
    "        out = self.bn(out)\n",
    "        out = tf.reshape(out, (-1, out.shape[2])) # out shape = [batch, units]\n",
    "        out = self.fc(out) # out shape = [batch, vocab_size]\n",
    "        return out, h_dec, attn"
   ]
  },
  {
   "cell_type": "code",
   "execution_count": 17,
   "id": "mediterranean-vertex",
   "metadata": {},
   "outputs": [],
   "source": [
    "optimizer = tf.keras.optimizers.Adam()\n",
    "loss_object = tf.keras.losses.SparseCategoricalCrossentropy(\n",
    "    from_logits=True, reduction='none')\n",
    "\n",
    "def loss_function(real, pred):\n",
    "    mask = tf.math.logical_not(tf.math.equal(real, 0))\n",
    "    loss = loss_object(real, pred)\n",
    "    \n",
    "    mask = tf.cast(mask, dtype=loss.dtype)\n",
    "    loss *= mask\n",
    "    \n",
    "    return tf.reduce_mean(loss)"
   ]
  },
  {
   "cell_type": "markdown",
   "id": "sharp-advocate",
   "metadata": {},
   "source": [
    "## Step 5. 훈련하기"
   ]
  },
  {
   "cell_type": "code",
   "execution_count": 18,
   "id": "indian-affairs",
   "metadata": {},
   "outputs": [],
   "source": [
    "@tf.function\n",
    "def train_step(src, tgt, encoder, decoder, optimizer, dec_tok):\n",
    "    bsz = src.shape[0]\n",
    "    loss = 0\n",
    "\n",
    "    with tf.GradientTape() as tape:\n",
    "        enc_out = encoder(src)\n",
    "        h_dec = enc_out[:, -1]\n",
    "        # encode_as_ids('<bos>') = (9970, 4)[-1] => 4\n",
    "        dec_src = tf.expand_dims([dec_tok.encode_as_ids('<bos>')[-1]] * bsz, 1)\n",
    "        for t in range(1, tgt.shape[1]):\n",
    "            pred, h_dec, _ = decoder(dec_src, h_dec, enc_out)\n",
    "\n",
    "            loss += loss_function(tgt[:, t], pred)\n",
    "            dec_src = tf.expand_dims(tgt[:, t], 1)\n",
    "        \n",
    "    batch_loss = (loss / int(tgt.shape[1]))\n",
    "\n",
    "    variables = encoder.trainable_variables + decoder.trainable_variables\n",
    "    gradients = tape.gradient(loss, variables)\n",
    "    optimizer.apply_gradients(zip(gradients, variables))\n",
    "    \n",
    "    return batch_loss"
   ]
  },
  {
   "cell_type": "code",
   "execution_count": 19,
   "id": "bibliographic-closure",
   "metadata": {},
   "outputs": [],
   "source": [
    "@tf.function\n",
    "def eval_step(src, tgt, encoder, decoder, dec_tok):\n",
    "    bsz = src.shape[0]\n",
    "    loss = 0\n",
    "\n",
    "    enc_out = encoder(src)\n",
    "\n",
    "    h_dec = enc_out[:, -1]\n",
    "    \n",
    "    dec_src = tf.expand_dims([dec_tok.encode_as_ids('<bos>')[-1]] * bsz, 1)\n",
    "\n",
    "    for t in range(1, tgt.shape[1]):\n",
    "        pred, h_dec, _ = decoder(dec_src, h_dec, enc_out)\n",
    "\n",
    "        loss += loss_function(tgt[:, t], pred)\n",
    "        dec_src = tf.expand_dims(tgt[:, t], 1)\n",
    "        \n",
    "    batch_loss = (loss / int(tgt.shape[1]))\n",
    "    \n",
    "    return batch_loss"
   ]
  },
  {
   "cell_type": "code",
   "execution_count": 20,
   "id": "tutorial-stanley",
   "metadata": {},
   "outputs": [],
   "source": [
    "def evaluate(sentence, encoder, decoder, enc_tok, dec_tok):\n",
    "    attention = np.zeros((y_train.shape[-1], x_train.shape[-1]))\n",
    "    \n",
    "    \n",
    "    inputs = [ko_spm.EncodeAsIds(sentence)]\n",
    "    inputs = pad_sequences(inputs, \n",
    "                           maxlen = 40, \n",
    "                           value = 1,\n",
    "                           padding = \"pre\")\n",
    "    result = ''\n",
    "    \n",
    "    # enc_out : [batch, length, units]\n",
    "    enc_out = encoder(inputs)\n",
    "    \n",
    "    # dec_hidden : [batch, units]\n",
    "    dec_hidden = enc_out[:, -1]\n",
    "    # dec_input : [batch, 1]\n",
    "    dec_input = tf.expand_dims([enc_tok.encode_as_ids('<bos>')[-1]], 0)\n",
    "\n",
    "    for t in range(y_train.shape[-1]):\n",
    "        # predictions : [batch, vocab_size]\n",
    "        predictions, dec_hidden, attention_weights = decoder(dec_input,\n",
    "                                                             dec_hidden,\n",
    "                                                             enc_out)\n",
    "\n",
    "        attention_weights = tf.reshape(attention_weights, (-1, ))\n",
    "        attention[t] = attention_weights.numpy()\n",
    "        \n",
    "        # predicted_id : numpy.int64\n",
    "        predicted_id = \\\n",
    "        tf.argmax(tf.math.softmax(predictions, axis=-1)[0]).numpy()\n",
    "        result += dec_tok.DecodeIds([int(predicted_id)]) + ' '\n",
    "\n",
    "        if dec_tok.DecodeIds([int(predicted_id)]) == '<eos>':\n",
    "            return result, sentence, attention\n",
    "\n",
    "        dec_input = tf.expand_dims([predicted_id], 0)\n",
    "\n",
    "    return result, sentence, attention\n",
    "\n",
    "\n",
    "def plot_attention(attention, sentence, predicted_sentence):\n",
    "    fig = plt.figure(figsize=(10,10))\n",
    "    ax = fig.add_subplot(1, 1, 1)\n",
    "    ax.matshow(attention, cmap='viridis')\n",
    "\n",
    "    fontdict = {'fontsize': 14}\n",
    "\n",
    "    ax.set_xticklabels([''] + sentence, fontdict=fontdict, rotation=90)\n",
    "    ax.set_yticklabels([''] + predicted_sentence, fontdict=fontdict)\n",
    "\n",
    "    ax.xaxis.set_major_locator(ticker.MultipleLocator(1))\n",
    "    ax.yaxis.set_major_locator(ticker.MultipleLocator(1))\n",
    "\n",
    "    plt.show()\n",
    "\n",
    "\n",
    "def translate(sentence, encoder, decoder, enc_tok, dec_tok):\n",
    "    result, sentence, attention = evaluate(sentence, encoder, decoder, enc_tok, dec_tok)\n",
    "\n",
    "    print('Input: %s' % (sentence))\n",
    "    print('Predicted translation: {}'.format(result))\n",
    "    \n",
    "#    attention = attention[:len(result.split()), :len(sentence.split())]\n",
    "#    plot_attention(attention, sentence.split(), result.split(' '))\n",
    "# translate(\"나는 배가 고프다\", encoder, decoder, ko_spm, en_spm)"
   ]
  },
  {
   "cell_type": "code",
   "execution_count": 21,
   "id": "passing-bhutan",
   "metadata": {
    "scrolled": false
   },
   "outputs": [
    {
     "name": "stderr",
     "output_type": "stream",
     "text": [
      "Epoch  1: 100%|██████████| 493/493 [07:31<00:00,  1.09it/s, Loss 4.9693]\n",
      "Test Epoch  1: 100%|██████████| 7/7 [00:22<00:00,  3.15s/it, Test Loss 4.8090]\n"
     ]
    },
    {
     "name": "stdout",
     "output_type": "stream",
     "text": [
      "Input: 오바마는 대통령이다.\n",
      "Predicted translation: <pad> <pad> <pad> <pad> <pad> <pad> <pad> <pad> <pad> <pad> <pad> <pad> <pad> <pad> <pad> <pad> <pad> <pad> <pad> <pad> <pad> <pad> <pad> <pad> <pad> <pad> <pad> <pad> <pad> <pad> <pad> <pad> <pad> <pad> <pad> <pad> <pad> <pad> <pad> <pad> \n",
      "Input: 시민들은 도시 속에 산다.\n",
      "Predicted translation: <pad> <pad> <pad> <pad> <pad> <pad> <pad> <pad> <pad> <pad> <pad> <pad> <pad> <pad> <pad> <pad> <pad> <pad> <pad> <pad> <pad> <pad> <pad> <pad> <pad> <pad> <pad> <pad> <pad> <pad> <pad> <pad> <pad> <pad> <pad> <pad> <pad> <pad> <pad> <pad> \n",
      "Input: 커피는 필요 없다.\n",
      "Predicted translation: <pad> <pad> <pad> <pad> <pad> <pad> <pad> <pad> <pad> <pad> <pad> <pad> <pad> <pad> <pad> <pad> <pad> <pad> <pad> <pad> <pad> <pad> <pad> <pad> <pad> <pad> <pad> <pad> <pad> <pad> <pad> <pad> <pad> <pad> <pad> <pad> <pad> <pad> <pad> <pad> \n"
     ]
    },
    {
     "name": "stderr",
     "output_type": "stream",
     "text": [
      "\r",
      "  0%|          | 0/493 [00:00<?, ?it/s]"
     ]
    },
    {
     "name": "stdout",
     "output_type": "stream",
     "text": [
      "Input: 일곱 명의 사망자가 발생했다.\n",
      "Predicted translation: <pad> <pad> <pad> <pad> <pad> <pad> <pad> <pad> <pad> <pad> <pad> <pad> <pad> <pad> <pad> <pad> <pad> <pad> <pad> <pad> <pad> <pad> <pad> <pad> <pad> <pad> <pad> <pad> <pad> <pad> <pad> <pad> <pad> <pad> <pad> <pad> <pad> <pad> <pad> <pad> \n"
     ]
    },
    {
     "name": "stderr",
     "output_type": "stream",
     "text": [
      "Epoch  2: 100%|██████████| 493/493 [06:16<00:00,  1.31it/s, Loss 4.8435]\n",
      "Test Epoch  2: 100%|██████████| 7/7 [00:01<00:00,  4.80it/s, Test Loss 4.7874]\n"
     ]
    },
    {
     "name": "stdout",
     "output_type": "stream",
     "text": [
      "Input: 오바마는 대통령이다.\n",
      "Predicted translation: <pad> <pad> <pad> <pad> <pad> <pad> <pad> <pad> <pad> <pad> <pad> <pad> <pad> <pad> <pad> <pad> <pad> <pad> <pad> <pad> <pad> <pad> <pad> <pad> <pad> <pad> <pad> <pad> <pad> <pad> <pad> <pad> <pad> <pad> <pad> <pad> <pad> <pad> <pad> <pad> \n",
      "Input: 시민들은 도시 속에 산다.\n",
      "Predicted translation: <pad> <pad> <pad> <pad> <pad> <pad> <pad> <pad> <pad> <pad> <pad> <pad> <pad> <pad> <pad> <pad> <pad> <pad> <pad> <pad> <pad> <pad> <pad> <pad> <pad> <pad> <pad> <pad> <pad> <pad> <pad> <pad> <pad> <pad> <pad> <pad> <pad> <pad> <pad> <pad> \n",
      "Input: 커피는 필요 없다.\n",
      "Predicted translation: <pad> <pad> <pad> <pad> <pad> <pad> <pad> <pad> <pad> <pad> <pad> <pad> <pad> <pad> <pad> <pad> <pad> <pad> <pad> <pad> <pad> <pad> <pad> <pad> <pad> <pad> <pad> <pad> <pad> <pad> <pad> <pad> <pad> <pad> <pad> <pad> <pad> <pad> <pad> <pad> \n"
     ]
    },
    {
     "name": "stderr",
     "output_type": "stream",
     "text": [
      "\r",
      "  0%|          | 0/493 [00:00<?, ?it/s]"
     ]
    },
    {
     "name": "stdout",
     "output_type": "stream",
     "text": [
      "Input: 일곱 명의 사망자가 발생했다.\n",
      "Predicted translation: <pad> <pad> <pad> <pad> <pad> <pad> <pad> <pad> <pad> <pad> <pad> <pad> <pad> <pad> <pad> <pad> <pad> <pad> <pad> <pad> <pad> <pad> <pad> <pad> <pad> <pad> <pad> <pad> <pad> <pad> <pad> <pad> <pad> <pad> <pad> <pad> <pad> <pad> <pad> <pad> \n"
     ]
    },
    {
     "name": "stderr",
     "output_type": "stream",
     "text": [
      "Epoch  3: 100%|██████████| 493/493 [06:21<00:00,  1.29it/s, Loss 4.8240]\n",
      "Test Epoch  3: 100%|██████████| 7/7 [00:01<00:00,  4.73it/s, Test Loss 4.7717]\n"
     ]
    },
    {
     "name": "stdout",
     "output_type": "stream",
     "text": [
      "Input: 오바마는 대통령이다.\n",
      "Predicted translation: <pad> <pad> <pad> <pad> <pad> <pad> <pad> <pad> <pad> <pad> <pad> <pad> <pad> <pad> <pad> <pad> <pad> <pad> <pad> <pad> <pad> <pad> <pad> <pad> <pad> <pad> <pad> <pad> <pad> <pad> <pad> <pad> <pad> <pad> <pad> <pad> <pad> <pad> <pad> <pad> \n",
      "Input: 시민들은 도시 속에 산다.\n",
      "Predicted translation: <pad> <pad> <pad> <pad> <pad> <pad> <pad> <pad> <pad> <pad> <pad> <pad> <pad> <pad> <pad> <pad> <pad> <pad> <pad> <pad> <pad> <pad> <pad> <pad> <pad> <pad> <pad> <pad> <pad> <pad> <pad> <pad> <pad> <pad> <pad> <pad> <pad> <pad> <pad> <pad> \n",
      "Input: 커피는 필요 없다.\n",
      "Predicted translation: <pad> <pad> <pad> <pad> <pad> <pad> <pad> <pad> <pad> <pad> <pad> <pad> <pad> <pad> <pad> <pad> <pad> <pad> <pad> <pad> <pad> <pad> <pad> <pad> <pad> <pad> <pad> <pad> <pad> <pad> <pad> <pad> <pad> <pad> <pad> <pad> <pad> <pad> <pad> <pad> \n"
     ]
    },
    {
     "name": "stderr",
     "output_type": "stream",
     "text": [
      "\r",
      "  0%|          | 0/493 [00:00<?, ?it/s]"
     ]
    },
    {
     "name": "stdout",
     "output_type": "stream",
     "text": [
      "Input: 일곱 명의 사망자가 발생했다.\n",
      "Predicted translation: <pad> <pad> <pad> <pad> <pad> <pad> <pad> <pad> <pad> <pad> <pad> <pad> <pad> <pad> <pad> <pad> <pad> <pad> <pad> <pad> <pad> <pad> <pad> <pad> <pad> <pad> <pad> <pad> <pad> <pad> <pad> <pad> <pad> <pad> <pad> <pad> <pad> <pad> <pad> <pad> \n"
     ]
    },
    {
     "name": "stderr",
     "output_type": "stream",
     "text": [
      "Epoch  4: 100%|██████████| 493/493 [06:17<00:00,  1.31it/s, Loss 4.8160]\n",
      "Test Epoch  4: 100%|██████████| 7/7 [00:01<00:00,  4.80it/s, Test Loss 4.7686]\n"
     ]
    },
    {
     "name": "stdout",
     "output_type": "stream",
     "text": [
      "Input: 오바마는 대통령이다.\n",
      "Predicted translation: <pad> <pad> <pad> <pad> <pad> <pad> <pad> <pad> <pad> <pad> <pad> <pad> <pad> <pad> <pad> <pad> <pad> <pad> <pad> <pad> <pad> <pad> <pad> <pad> <pad> <pad> <pad> <pad> <pad> <pad> <pad> <pad> <pad> <pad> <pad> <pad> <pad> <pad> <pad> <pad> \n",
      "Input: 시민들은 도시 속에 산다.\n",
      "Predicted translation: <pad> <pad> <pad> <pad> <pad> <pad> <pad> <pad> <pad> <pad> <pad> <pad> <pad> <pad> <pad> <pad> <pad> <pad> <pad> <pad> <pad> <pad> <pad> <pad> <pad> <pad> <pad> <pad> <pad> <pad> <pad> <pad> <pad> <pad> <pad> <pad> <pad> <pad> <pad> <pad> \n",
      "Input: 커피는 필요 없다.\n",
      "Predicted translation: <pad> <pad> <pad> <pad> <pad> <pad> <pad> <pad> <pad> <pad> <pad> <pad> <pad> <pad> <pad> <pad> <pad> <pad> <pad> <pad> <pad> <pad> <pad> <pad> <pad> <pad> <pad> <pad> <pad> <pad> <pad> <pad> <pad> <pad> <pad> <pad> <pad> <pad> <pad> <pad> \n"
     ]
    },
    {
     "name": "stderr",
     "output_type": "stream",
     "text": [
      "\r",
      "  0%|          | 0/493 [00:00<?, ?it/s]"
     ]
    },
    {
     "name": "stdout",
     "output_type": "stream",
     "text": [
      "Input: 일곱 명의 사망자가 발생했다.\n",
      "Predicted translation: <pad> <pad> <pad> <pad> <pad> <pad> <pad> <pad> <pad> <pad> <pad> <pad> <pad> <pad> <pad> <pad> <pad> <pad> <pad> <pad> <pad> <pad> <pad> <pad> <pad> <pad> <pad> <pad> <pad> <pad> <pad> <pad> <pad> <pad> <pad> <pad> <pad> <pad> <pad> <pad> \n"
     ]
    },
    {
     "name": "stderr",
     "output_type": "stream",
     "text": [
      "Epoch  5: 100%|██████████| 493/493 [06:16<00:00,  1.31it/s, Loss 4.8117]\n",
      "Test Epoch  5: 100%|██████████| 7/7 [00:01<00:00,  4.78it/s, Test Loss 4.7644]\n"
     ]
    },
    {
     "name": "stdout",
     "output_type": "stream",
     "text": [
      "Input: 오바마는 대통령이다.\n",
      "Predicted translation: <pad> <pad> <pad> <pad> <pad> <pad> <pad> <pad> <pad> <pad> <pad> <pad> <pad> <pad> <pad> <pad> <pad> <pad> <pad> <pad> <pad> <pad> <pad> <pad> <pad> <pad> <pad> <pad> <pad> <pad> <pad> <pad> <pad> <pad> <pad> <pad> <pad> <pad> <pad> <pad> \n",
      "Input: 시민들은 도시 속에 산다.\n",
      "Predicted translation: <pad> <pad> <pad> <pad> <pad> <pad> <pad> <pad> <pad> <pad> <pad> <pad> <pad> <pad> <pad> <pad> <pad> <pad> <pad> <pad> <pad> <pad> <pad> <pad> <pad> <pad> <pad> <pad> <pad> <pad> <pad> <pad> <pad> <pad> <pad> <pad> <pad> <pad> <pad> <pad> \n",
      "Input: 커피는 필요 없다.\n",
      "Predicted translation: <pad> <pad> <pad> <pad> <pad> <pad> <pad> <pad> <pad> <pad> <pad> <pad> <pad> <pad> <pad> <pad> <pad> <pad> <pad> <pad> <pad> <pad> <pad> <pad> <pad> <pad> <pad> <pad> <pad> <pad> <pad> <pad> <pad> <pad> <pad> <pad> <pad> <pad> <pad> <pad> \n"
     ]
    },
    {
     "name": "stderr",
     "output_type": "stream",
     "text": [
      "\r",
      "  0%|          | 0/493 [00:00<?, ?it/s]"
     ]
    },
    {
     "name": "stdout",
     "output_type": "stream",
     "text": [
      "Input: 일곱 명의 사망자가 발생했다.\n",
      "Predicted translation: <pad> <pad> <pad> <pad> <pad> <pad> <pad> <pad> <pad> <pad> <pad> <pad> <pad> <pad> <pad> <pad> <pad> <pad> <pad> <pad> <pad> <pad> <pad> <pad> <pad> <pad> <pad> <pad> <pad> <pad> <pad> <pad> <pad> <pad> <pad> <pad> <pad> <pad> <pad> <pad> \n"
     ]
    },
    {
     "name": "stderr",
     "output_type": "stream",
     "text": [
      "Epoch  6: 100%|██████████| 493/493 [06:16<00:00,  1.31it/s, Loss 4.8094]\n",
      "Test Epoch  6: 100%|██████████| 7/7 [00:01<00:00,  4.82it/s, Test Loss 4.7612]\n"
     ]
    },
    {
     "name": "stdout",
     "output_type": "stream",
     "text": [
      "Input: 오바마는 대통령이다.\n",
      "Predicted translation: <pad> <pad> <pad> <pad> <pad> <pad> <pad> <pad> <pad> <pad> <pad> <pad> <pad> <pad> <pad> <pad> <pad> <pad> <pad> <pad> <pad> <pad> <pad> <pad> <pad> <pad> <pad> <pad> <pad> <pad> <pad> <pad> <pad> <pad> <pad> <pad> <pad> <pad> <pad> <pad> \n",
      "Input: 시민들은 도시 속에 산다.\n",
      "Predicted translation: <pad> <pad> <pad> <pad> <pad> <pad> <pad> <pad> <pad> <pad> <pad> <pad> <pad> <pad> <pad> <pad> <pad> <pad> <pad> <pad> <pad> <pad> <pad> <pad> <pad> <pad> <pad> <pad> <pad> <pad> <pad> <pad> <pad> <pad> <pad> <pad> <pad> <pad> <pad> <pad> \n",
      "Input: 커피는 필요 없다.\n",
      "Predicted translation: <pad> <pad> <pad> <pad> <pad> <pad> <pad> <pad> <pad> <pad> <pad> <pad> <pad> <pad> <pad> <pad> <pad> <pad> <pad> <pad> <pad> <pad> <pad> <pad> <pad> <pad> <pad> <pad> <pad> <pad> <pad> <pad> <pad> <pad> <pad> <pad> <pad> <pad> <pad> <pad> \n"
     ]
    },
    {
     "name": "stderr",
     "output_type": "stream",
     "text": [
      "\r",
      "  0%|          | 0/493 [00:00<?, ?it/s]"
     ]
    },
    {
     "name": "stdout",
     "output_type": "stream",
     "text": [
      "Input: 일곱 명의 사망자가 발생했다.\n",
      "Predicted translation: <pad> <pad> <pad> <pad> <pad> <pad> <pad> <pad> <pad> <pad> <pad> <pad> <pad> <pad> <pad> <pad> <pad> <pad> <pad> <pad> <pad> <pad> <pad> <pad> <pad> <pad> <pad> <pad> <pad> <pad> <pad> <pad> <pad> <pad> <pad> <pad> <pad> <pad> <pad> <pad> \n"
     ]
    },
    {
     "name": "stderr",
     "output_type": "stream",
     "text": [
      "Epoch  7: 100%|██████████| 493/493 [06:16<00:00,  1.31it/s, Loss 4.8231]\n",
      "Test Epoch  7: 100%|██████████| 7/7 [00:01<00:00,  4.82it/s, Test Loss 4.7666]\n"
     ]
    },
    {
     "name": "stdout",
     "output_type": "stream",
     "text": [
      "Input: 오바마는 대통령이다.\n",
      "Predicted translation: <pad> <pad> <pad> <pad> <pad> <pad> <pad> <pad> <pad> <pad> <pad> <pad> <pad> <pad> <pad> <pad> <pad> <pad> <pad> <pad> <pad> <pad> <pad> <pad> <pad> <pad> <pad> <pad> <pad> <pad> <pad> <pad> <pad> <pad> <pad> <pad> <pad> <pad> <pad> <pad> \n",
      "Input: 시민들은 도시 속에 산다.\n",
      "Predicted translation: <pad> <pad> <pad> <pad> <pad> <pad> <pad> <pad> <pad> <pad> <pad> <pad> <pad> <pad> <pad> <pad> <pad> <pad> <pad> <pad> <pad> <pad> <pad> <pad> <pad> <pad> <pad> <pad> <pad> <pad> <pad> <pad> <pad> <pad> <pad> <pad> <pad> <pad> <pad> <pad> \n",
      "Input: 커피는 필요 없다.\n",
      "Predicted translation: <pad> <pad> <pad> <pad> <pad> <pad> <pad> <pad> <pad> <pad> <pad> <pad> <pad> <pad> <pad> <pad> <pad> <pad> <pad> <pad> <pad> <pad> <pad> <pad> <pad> <pad> <pad> <pad> <pad> <pad> <pad> <pad> <pad> <pad> <pad> <pad> <pad> <pad> <pad> <pad> \n"
     ]
    },
    {
     "name": "stderr",
     "output_type": "stream",
     "text": [
      "\r",
      "  0%|          | 0/493 [00:00<?, ?it/s]"
     ]
    },
    {
     "name": "stdout",
     "output_type": "stream",
     "text": [
      "Input: 일곱 명의 사망자가 발생했다.\n",
      "Predicted translation: <pad> <pad> <pad> <pad> <pad> <pad> <pad> <pad> <pad> <pad> <pad> <pad> <pad> <pad> <pad> <pad> <pad> <pad> <pad> <pad> <pad> <pad> <pad> <pad> <pad> <pad> <pad> <pad> <pad> <pad> <pad> <pad> <pad> <pad> <pad> <pad> <pad> <pad> <pad> <pad> \n"
     ]
    },
    {
     "name": "stderr",
     "output_type": "stream",
     "text": [
      "Epoch  8: 100%|██████████| 493/493 [06:18<00:00,  1.30it/s, Loss 4.8105]\n",
      "Test Epoch  8: 100%|██████████| 7/7 [00:01<00:00,  4.76it/s, Test Loss 4.7630]\n"
     ]
    },
    {
     "name": "stdout",
     "output_type": "stream",
     "text": [
      "Input: 오바마는 대통령이다.\n",
      "Predicted translation: <pad> <pad> <pad> <pad> <pad> <pad> <pad> <pad> <pad> <pad> <pad> <pad> <pad> <pad> <pad> <pad> <pad> <pad> <pad> <pad> <pad> <pad> <pad> <pad> <pad> <pad> <pad> <pad> <pad> <pad> <pad> <pad> <pad> <pad> <pad> <pad> <pad> <pad> <pad> <pad> \n",
      "Input: 시민들은 도시 속에 산다.\n",
      "Predicted translation: <pad> <pad> <pad> <pad> <pad> <pad> <pad> <pad> <pad> <pad> <pad> <pad> <pad> <pad> <pad> <pad> <pad> <pad> <pad> <pad> <pad> <pad> <pad> <pad> <pad> <pad> <pad> <pad> <pad> <pad> <pad> <pad> <pad> <pad> <pad> <pad> <pad> <pad> <pad> <pad> \n",
      "Input: 커피는 필요 없다.\n",
      "Predicted translation: <pad> <pad> <pad> <pad> <pad> <pad> <pad> <pad> <pad> <pad> <pad> <pad> <pad> <pad> <pad> <pad> <pad> <pad> <pad> <pad> <pad> <pad> <pad> <pad> <pad> <pad> <pad> <pad> <pad> <pad> <pad> <pad> <pad> <pad> <pad> <pad> <pad> <pad> <pad> <pad> \n"
     ]
    },
    {
     "name": "stderr",
     "output_type": "stream",
     "text": [
      "\r",
      "  0%|          | 0/493 [00:00<?, ?it/s]"
     ]
    },
    {
     "name": "stdout",
     "output_type": "stream",
     "text": [
      "Input: 일곱 명의 사망자가 발생했다.\n",
      "Predicted translation: <pad> <pad> <pad> <pad> <pad> <pad> <pad> <pad> <pad> <pad> <pad> <pad> <pad> <pad> <pad> <pad> <pad> <pad> <pad> <pad> <pad> <pad> <pad> <pad> <pad> <pad> <pad> <pad> <pad> <pad> <pad> <pad> <pad> <pad> <pad> <pad> <pad> <pad> <pad> <pad> \n"
     ]
    },
    {
     "name": "stderr",
     "output_type": "stream",
     "text": [
      "Epoch  9: 100%|██████████| 493/493 [06:21<00:00,  1.29it/s, Loss 4.8066]\n",
      "Test Epoch  9: 100%|██████████| 7/7 [00:01<00:00,  4.81it/s, Test Loss 4.7574]\n"
     ]
    },
    {
     "name": "stdout",
     "output_type": "stream",
     "text": [
      "Input: 오바마는 대통령이다.\n",
      "Predicted translation: <pad> <pad> <pad> <pad> <pad> <pad> <pad> <pad> <pad> <pad> <pad> <pad> <pad> <pad> <pad> <pad> <pad> <pad> <pad> <pad> <pad> <pad> <pad> <pad> <pad> <pad> <pad> <pad> <pad> <pad> <pad> <pad> <pad> <pad> <pad> <pad> <pad> <pad> <pad> <pad> \n",
      "Input: 시민들은 도시 속에 산다.\n",
      "Predicted translation: <pad> <pad> <pad> <pad> <pad> <pad> <pad> <pad> <pad> <pad> <pad> <pad> <pad> <pad> <pad> <pad> <pad> <pad> <pad> <pad> <pad> <pad> <pad> <pad> <pad> <pad> <pad> <pad> <pad> <pad> <pad> <pad> <pad> <pad> <pad> <pad> <pad> <pad> <pad> <pad> \n",
      "Input: 커피는 필요 없다.\n",
      "Predicted translation: <pad> <pad> <pad> <pad> <pad> <pad> <pad> <pad> <pad> <pad> <pad> <pad> <pad> <pad> <pad> <pad> <pad> <pad> <pad> <pad> <pad> <pad> <pad> <pad> <pad> <pad> <pad> <pad> <pad> <pad> <pad> <pad> <pad> <pad> <pad> <pad> <pad> <pad> <pad> <pad> \n"
     ]
    },
    {
     "name": "stderr",
     "output_type": "stream",
     "text": [
      "\r",
      "  0%|          | 0/493 [00:00<?, ?it/s]"
     ]
    },
    {
     "name": "stdout",
     "output_type": "stream",
     "text": [
      "Input: 일곱 명의 사망자가 발생했다.\n",
      "Predicted translation: <pad> <pad> <pad> <pad> <pad> <pad> <pad> <pad> <pad> <pad> <pad> <pad> <pad> <pad> <pad> <pad> <pad> <pad> <pad> <pad> <pad> <pad> <pad> <pad> <pad> <pad> <pad> <pad> <pad> <pad> <pad> <pad> <pad> <pad> <pad> <pad> <pad> <pad> <pad> <pad> \n"
     ]
    },
    {
     "name": "stderr",
     "output_type": "stream",
     "text": [
      "Epoch 10: 100%|██████████| 493/493 [06:16<00:00,  1.31it/s, Loss 4.8042]\n",
      "Test Epoch 10: 100%|██████████| 7/7 [00:01<00:00,  4.84it/s, Test Loss 4.7552]\n"
     ]
    },
    {
     "name": "stdout",
     "output_type": "stream",
     "text": [
      "Input: 오바마는 대통령이다.\n",
      "Predicted translation: <pad> <pad> <pad> <pad> <pad> <pad> <pad> <pad> <pad> <pad> <pad> <pad> <pad> <pad> <pad> <pad> <pad> <pad> <pad> <pad> <pad> <pad> <pad> <pad> <pad> <pad> <pad> <pad> <pad> <pad> <pad> <pad> <pad> <pad> <pad> <pad> <pad> <pad> <pad> <pad> \n",
      "Input: 시민들은 도시 속에 산다.\n",
      "Predicted translation: <pad> <pad> <pad> <pad> <pad> <pad> <pad> <pad> <pad> <pad> <pad> <pad> <pad> <pad> <pad> <pad> <pad> <pad> <pad> <pad> <pad> <pad> <pad> <pad> <pad> <pad> <pad> <pad> <pad> <pad> <pad> <pad> <pad> <pad> <pad> <pad> <pad> <pad> <pad> <pad> \n",
      "Input: 커피는 필요 없다.\n",
      "Predicted translation: <pad> <pad> <pad> <pad> <pad> <pad> <pad> <pad> <pad> <pad> <pad> <pad> <pad> <pad> <pad> <pad> <pad> <pad> <pad> <pad> <pad> <pad> <pad> <pad> <pad> <pad> <pad> <pad> <pad> <pad> <pad> <pad> <pad> <pad> <pad> <pad> <pad> <pad> <pad> <pad> \n"
     ]
    },
    {
     "name": "stderr",
     "output_type": "stream",
     "text": [
      "\r",
      "  0%|          | 0/493 [00:00<?, ?it/s]"
     ]
    },
    {
     "name": "stdout",
     "output_type": "stream",
     "text": [
      "Input: 일곱 명의 사망자가 발생했다.\n",
      "Predicted translation: <pad> <pad> <pad> <pad> <pad> <pad> <pad> <pad> <pad> <pad> <pad> <pad> <pad> <pad> <pad> <pad> <pad> <pad> <pad> <pad> <pad> <pad> <pad> <pad> <pad> <pad> <pad> <pad> <pad> <pad> <pad> <pad> <pad> <pad> <pad> <pad> <pad> <pad> <pad> <pad> \n"
     ]
    },
    {
     "name": "stderr",
     "output_type": "stream",
     "text": [
      "Epoch 11: 100%|██████████| 493/493 [06:16<00:00,  1.31it/s, Loss 4.7889]\n",
      "Test Epoch 11: 100%|██████████| 7/7 [00:01<00:00,  4.81it/s, Test Loss 4.7357]\n"
     ]
    },
    {
     "name": "stdout",
     "output_type": "stream",
     "text": [
      "Input: 오바마는 대통령이다.\n",
      "Predicted translation: the <pad> <pad> <pad> <pad> <pad> <pad> <pad> <pad> <pad> <pad> <pad> <pad> <pad> <pad> <pad> <pad> <pad> <pad> <pad> <pad> <pad> <pad> <pad> <pad> <pad> <pad> <pad> <pad> <pad> <pad> <pad> <pad> <pad> <pad> <pad> <pad> <pad> <pad> <pad> \n",
      "Input: 시민들은 도시 속에 산다.\n",
      "Predicted translation: the <pad> <pad> <pad> <pad> <pad> <pad> <pad> <pad> <pad> <pad> <pad> <pad> <pad> <pad> <pad> <pad> <pad> <pad> <pad> <pad> <pad> <pad> <pad> <pad> <pad> <pad> <pad> <pad> <pad> <pad> <pad> <pad> <pad> <pad> <pad> <pad> <pad> <pad> <pad> \n",
      "Input: 커피는 필요 없다.\n",
      "Predicted translation: the <pad> <pad> <pad> <pad> <pad> <pad> <pad> <pad> <pad> <pad> <pad> <pad> <pad> <pad> <pad> <pad> <pad> <pad> <pad> <pad> <pad> <pad> <pad> <pad> <pad> <pad> <pad> <pad> <pad> <pad> <pad> <pad> <pad> <pad> <pad> <pad> <pad> <pad> <pad> \n"
     ]
    },
    {
     "name": "stderr",
     "output_type": "stream",
     "text": [
      "\r",
      "  0%|          | 0/493 [00:00<?, ?it/s]"
     ]
    },
    {
     "name": "stdout",
     "output_type": "stream",
     "text": [
      "Input: 일곱 명의 사망자가 발생했다.\n",
      "Predicted translation: the <pad> <pad> <pad> <pad> <pad> <pad> <pad> <pad> <pad> <pad> <pad> <pad> <pad> <pad> <pad> <pad> <pad> <pad> <pad> <pad> <pad> <pad> <pad> <pad> <pad> <pad> <pad> <pad> <pad> <pad> <pad> <pad> <pad> <pad> <pad> <pad> <pad> <pad> <pad> \n"
     ]
    },
    {
     "name": "stderr",
     "output_type": "stream",
     "text": [
      "Epoch 12: 100%|██████████| 493/493 [06:17<00:00,  1.31it/s, Loss 4.3212]\n",
      "Test Epoch 12: 100%|██████████| 7/7 [00:01<00:00,  4.83it/s, Test Loss 3.8166]\n"
     ]
    },
    {
     "name": "stdout",
     "output_type": "stream",
     "text": [
      "Input: 오바마는 대통령이다.\n",
      "Predicted translation: the first <eos> \n",
      "Input: 시민들은 도시 속에 산다.\n",
      "Predicted translation: the first <eos> \n"
     ]
    },
    {
     "name": "stderr",
     "output_type": "stream",
     "text": [
      "\r",
      "  0%|          | 0/493 [00:00<?, ?it/s]"
     ]
    },
    {
     "name": "stdout",
     "output_type": "stream",
     "text": [
      "Input: 커피는 필요 없다.\n",
      "Predicted translation: the first <eos> \n",
      "Input: 일곱 명의 사망자가 발생했다.\n",
      "Predicted translation: the first <eos> \n"
     ]
    },
    {
     "name": "stderr",
     "output_type": "stream",
     "text": [
      "Epoch 13: 100%|██████████| 493/493 [06:17<00:00,  1.30it/s, Loss 3.7190]\n",
      "Test Epoch 13: 100%|██████████| 7/7 [00:01<00:00,  4.77it/s, Test Loss 3.5670]\n"
     ]
    },
    {
     "name": "stdout",
     "output_type": "stream",
     "text": [
      "Input: 오바마는 대통령이다.\n",
      "Predicted translation: the u s <eos> \n",
      "Input: 시민들은 도시 속에 산다.\n",
      "Predicted translation: the u s <eos> \n"
     ]
    },
    {
     "name": "stderr",
     "output_type": "stream",
     "text": [
      "\r",
      "  0%|          | 0/493 [00:00<?, ?it/s]"
     ]
    },
    {
     "name": "stdout",
     "output_type": "stream",
     "text": [
      "Input: 커피는 필요 없다.\n",
      "Predicted translation: the u s <eos> \n",
      "Input: 일곱 명의 사망자가 발생했다.\n",
      "Predicted translation: the u s <eos> \n"
     ]
    },
    {
     "name": "stderr",
     "output_type": "stream",
     "text": [
      "Epoch 14: 100%|██████████| 493/493 [06:18<00:00,  1.30it/s, Loss 3.5127]\n",
      "Test Epoch 14: 100%|██████████| 7/7 [00:01<00:00,  4.79it/s, Test Loss 3.4103]\n"
     ]
    },
    {
     "name": "stdout",
     "output_type": "stream",
     "text": [
      "Input: 오바마는 대통령이다.\n",
      "Predicted translation: the united states <eos> \n",
      "Input: 시민들은 도시 속에 산다.\n",
      "Predicted translation: the first time <eos> \n"
     ]
    },
    {
     "name": "stderr",
     "output_type": "stream",
     "text": [
      "\r",
      "  0%|          | 0/493 [00:00<?, ?it/s]"
     ]
    },
    {
     "name": "stdout",
     "output_type": "stream",
     "text": [
      "Input: 커피는 필요 없다.\n",
      "Predicted translation: the first time <eos> \n",
      "Input: 일곱 명의 사망자가 발생했다.\n",
      "Predicted translation: the first <eos> \n"
     ]
    },
    {
     "name": "stderr",
     "output_type": "stream",
     "text": [
      "Epoch 15: 100%|██████████| 493/493 [06:18<00:00,  1.30it/s, Loss 3.3512]\n",
      "Test Epoch 15: 100%|██████████| 7/7 [00:01<00:00,  4.75it/s, Test Loss 3.2993]\n"
     ]
    },
    {
     "name": "stdout",
     "output_type": "stream",
     "text": [
      "Input: 오바마는 대통령이다.\n",
      "Predicted translation: obama ' s a new york <eos> \n",
      "Input: 시민들은 도시 속에 산다.\n",
      "Predicted translation: the first time <eos> \n"
     ]
    },
    {
     "name": "stderr",
     "output_type": "stream",
     "text": [
      "\r",
      "  0%|          | 0/493 [00:00<?, ?it/s]"
     ]
    },
    {
     "name": "stdout",
     "output_type": "stream",
     "text": [
      "Input: 커피는 필요 없다.\n",
      "Predicted translation: the first time <eos> \n",
      "Input: 일곱 명의 사망자가 발생했다.\n",
      "Predicted translation: the country <eos> \n"
     ]
    },
    {
     "name": "stderr",
     "output_type": "stream",
     "text": [
      "Epoch 16: 100%|██████████| 493/493 [06:18<00:00,  1.30it/s, Loss 3.2090]\n",
      "Test Epoch 16: 100%|██████████| 7/7 [00:01<00:00,  4.79it/s, Test Loss 3.2009]\n"
     ]
    },
    {
     "name": "stdout",
     "output_type": "stream",
     "text": [
      "Input: 오바마는 대통령이다.\n",
      "Predicted translation: obama ' s <eos> \n",
      "Input: 시민들은 도시 속에 산다.\n",
      "Predicted translation: the first time <eos> \n"
     ]
    },
    {
     "name": "stderr",
     "output_type": "stream",
     "text": [
      "\r",
      "  0%|          | 0/493 [00:00<?, ?it/s]"
     ]
    },
    {
     "name": "stdout",
     "output_type": "stream",
     "text": [
      "Input: 커피는 필요 없다.\n",
      "Predicted translation: the first time <eos> \n",
      "Input: 일곱 명의 사망자가 발생했다.\n",
      "Predicted translation: the city <eos> \n"
     ]
    },
    {
     "name": "stderr",
     "output_type": "stream",
     "text": [
      "Epoch 17: 100%|██████████| 493/493 [06:18<00:00,  1.30it/s, Loss 3.0917]\n",
      "Test Epoch 17: 100%|██████████| 7/7 [00:01<00:00,  4.78it/s, Test Loss 3.1267]\n"
     ]
    },
    {
     "name": "stdout",
     "output_type": "stream",
     "text": [
      "Input: 오바마는 대통령이다.\n",
      "Predicted translation: obama <eos> \n",
      "Input: 시민들은 도시 속에 산다.\n",
      "Predicted translation: the first time <eos> \n"
     ]
    },
    {
     "name": "stderr",
     "output_type": "stream",
     "text": [
      "\r",
      "  0%|          | 0/493 [00:00<?, ?it/s]"
     ]
    },
    {
     "name": "stdout",
     "output_type": "stream",
     "text": [
      "Input: 커피는 필요 없다.\n",
      "Predicted translation: the first time <eos> \n",
      "Input: 일곱 명의 사망자가 발생했다.\n",
      "Predicted translation: the first time <eos> \n"
     ]
    },
    {
     "name": "stderr",
     "output_type": "stream",
     "text": [
      "Epoch 18: 100%|██████████| 493/493 [06:17<00:00,  1.30it/s, Loss 2.9636]\n",
      "Test Epoch 18: 100%|██████████| 7/7 [00:01<00:00,  4.78it/s, Test Loss 3.0640]\n"
     ]
    },
    {
     "name": "stdout",
     "output_type": "stream",
     "text": [
      "Input: 오바마는 대통령이다.\n",
      "Predicted translation: obama <eos> \n",
      "Input: 시민들은 도시 속에 산다.\n",
      "Predicted translation: the first time <eos> \n",
      "Input: 커피는 필요 없다.\n",
      "Predicted translation: the first time <eos> \n"
     ]
    },
    {
     "name": "stderr",
     "output_type": "stream",
     "text": [
      "\r",
      "  0%|          | 0/493 [00:00<?, ?it/s]"
     ]
    },
    {
     "name": "stdout",
     "output_type": "stream",
     "text": [
      "Input: 일곱 명의 사망자가 발생했다.\n",
      "Predicted translation: the number of the city of the city of the city of the city of the city of the city of the city of the city of the city of the city of the city of the city of the \n"
     ]
    },
    {
     "name": "stderr",
     "output_type": "stream",
     "text": [
      "Epoch 19: 100%|██████████| 493/493 [06:19<00:00,  1.30it/s, Loss 2.8550]\n",
      "Test Epoch 19: 100%|██████████| 7/7 [00:01<00:00,  4.80it/s, Test Loss 3.0217]\n"
     ]
    },
    {
     "name": "stdout",
     "output_type": "stream",
     "text": [
      "Input: 오바마는 대통령이다.\n",
      "Predicted translation: obama <eos> \n",
      "Input: 시민들은 도시 속에 산다.\n",
      "Predicted translation: in the city <eos> \n"
     ]
    },
    {
     "name": "stderr",
     "output_type": "stream",
     "text": [
      "\r",
      "  0%|          | 0/493 [00:00<?, ?it/s]"
     ]
    },
    {
     "name": "stdout",
     "output_type": "stream",
     "text": [
      "Input: 커피는 필요 없다.\n",
      "Predicted translation: the white house <eos> \n",
      "Input: 일곱 명의 사망자가 발생했다.\n",
      "Predicted translation: in the dead <eos> \n"
     ]
    },
    {
     "name": "stderr",
     "output_type": "stream",
     "text": [
      "Epoch 20: 100%|██████████| 493/493 [06:18<00:00,  1.30it/s, Loss 2.7559]\n",
      "Test Epoch 20: 100%|██████████| 7/7 [00:01<00:00,  4.78it/s, Test Loss 2.9919]\n"
     ]
    },
    {
     "name": "stdout",
     "output_type": "stream",
     "text": [
      "Input: 오바마는 대통령이다.\n",
      "Predicted translation: in the first time <eos> \n",
      "Input: 시민들은 도시 속에 산다.\n",
      "Predicted translation: the first time <eos> \n"
     ]
    },
    {
     "name": "stderr",
     "output_type": "stream",
     "text": [
      "\r",
      "  0%|          | 0/493 [00:00<?, ?it/s]"
     ]
    },
    {
     "name": "stdout",
     "output_type": "stream",
     "text": [
      "Input: 커피는 필요 없다.\n",
      "Predicted translation: the name <eos> \n",
      "Input: 일곱 명의 사망자가 발생했다.\n",
      "Predicted translation: in the crash <eos> \n"
     ]
    },
    {
     "name": "stderr",
     "output_type": "stream",
     "text": [
      "Epoch 21: 100%|██████████| 493/493 [06:18<00:00,  1.30it/s, Loss 2.6610]\n",
      "Test Epoch 21: 100%|██████████| 7/7 [00:01<00:00,  4.74it/s, Test Loss 2.9739]\n"
     ]
    },
    {
     "name": "stdout",
     "output_type": "stream",
     "text": [
      "Input: 오바마는 대통령이다.\n",
      "Predicted translation: in the first lady <eos> \n",
      "Input: 시민들은 도시 속에 산다.\n",
      "Predicted translation: the most famous for the city <eos> \n"
     ]
    },
    {
     "name": "stderr",
     "output_type": "stream",
     "text": [
      "\r",
      "  0%|          | 0/493 [00:00<?, ?it/s]"
     ]
    },
    {
     "name": "stdout",
     "output_type": "stream",
     "text": [
      "Input: 커피는 필요 없다.\n",
      "Predicted translation: the fda ' s <eos> \n",
      "Input: 일곱 명의 사망자가 발생했다.\n",
      "Predicted translation: in the city of death <eos> \n"
     ]
    },
    {
     "name": "stderr",
     "output_type": "stream",
     "text": [
      "Epoch 22: 100%|██████████| 493/493 [06:19<00:00,  1.30it/s, Loss 2.5697]\n",
      "Test Epoch 22: 100%|██████████| 7/7 [00:01<00:00,  4.74it/s, Test Loss 2.9733]\n"
     ]
    },
    {
     "name": "stdout",
     "output_type": "stream",
     "text": [
      "Input: 오바마는 대통령이다.\n",
      "Predicted translation: in the first time <eos> \n",
      "Input: 시민들은 도시 속에 산다.\n",
      "Predicted translation: in the street <eos> \n"
     ]
    },
    {
     "name": "stderr",
     "output_type": "stream",
     "text": [
      "\r",
      "  0%|          | 0/493 [00:00<?, ?it/s]"
     ]
    },
    {
     "name": "stdout",
     "output_type": "stream",
     "text": [
      "Input: 커피는 필요 없다.\n",
      "Predicted translation: there <eos> \n",
      "Input: 일곱 명의 사망자가 발생했다.\n",
      "Predicted translation: in the city of death <eos> \n"
     ]
    },
    {
     "name": "stderr",
     "output_type": "stream",
     "text": [
      "Epoch 23: 100%|██████████| 493/493 [06:18<00:00,  1.30it/s, Loss 2.4823]\n",
      "Test Epoch 23: 100%|██████████| 7/7 [00:01<00:00,  4.75it/s, Test Loss 2.9735]\n"
     ]
    },
    {
     "name": "stdout",
     "output_type": "stream",
     "text": [
      "Input: 오바마는 대통령이다.\n",
      "Predicted translation: in the same <eos> \n",
      "Input: 시민들은 도시 속에 산다.\n",
      "Predicted translation: in the street <eos> \n"
     ]
    },
    {
     "name": "stderr",
     "output_type": "stream",
     "text": [
      "\r",
      "  0%|          | 0/493 [00:00<?, ?it/s]"
     ]
    },
    {
     "name": "stdout",
     "output_type": "stream",
     "text": [
      "Input: 커피는 필요 없다.\n",
      "Predicted translation: in the same <eos> \n",
      "Input: 일곱 명의 사망자가 발생했다.\n",
      "Predicted translation: in the past two weeks <eos> \n"
     ]
    },
    {
     "name": "stderr",
     "output_type": "stream",
     "text": [
      "Epoch 24: 100%|██████████| 493/493 [06:18<00:00,  1.30it/s, Loss 2.3961]\n",
      "Test Epoch 24: 100%|██████████| 7/7 [00:01<00:00,  4.77it/s, Test Loss 2.9854]\n"
     ]
    },
    {
     "name": "stdout",
     "output_type": "stream",
     "text": [
      "Input: 오바마는 대통령이다.\n",
      "Predicted translation: in <eos> \n",
      "Input: 시민들은 도시 속에 산다.\n",
      "Predicted translation: in <eos> \n"
     ]
    },
    {
     "name": "stderr",
     "output_type": "stream",
     "text": [
      "\r",
      "  0%|          | 0/493 [00:00<?, ?it/s]"
     ]
    },
    {
     "name": "stdout",
     "output_type": "stream",
     "text": [
      "Input: 커피는 필요 없다.\n",
      "Predicted translation: in the same time <eos> \n",
      "Input: 일곱 명의 사망자가 발생했다.\n",
      "Predicted translation: in the case of the dead were killed <eos> \n"
     ]
    },
    {
     "name": "stderr",
     "output_type": "stream",
     "text": [
      "Epoch 25: 100%|██████████| 493/493 [06:19<00:00,  1.30it/s, Loss 2.3109]\n",
      "Test Epoch 25: 100%|██████████| 7/7 [00:01<00:00,  4.75it/s, Test Loss 3.0082]\n"
     ]
    },
    {
     "name": "stdout",
     "output_type": "stream",
     "text": [
      "Input: 오바마는 대통령이다.\n",
      "Predicted translation: in <eos> \n",
      "Input: 시민들은 도시 속에 산다.\n",
      "Predicted translation: in <eos> \n",
      "Input: 커피는 필요 없다.\n",
      "Predicted translation: in <eos> \n",
      "Input: 일곱 명의 사망자가 발생했다.\n",
      "Predicted translation: in the same time <eos> \n"
     ]
    }
   ],
   "source": [
    "from tqdm import tqdm    # tqdm\n",
    "import random\n",
    "\n",
    "EPOCHS = 25\n",
    "BATCH_SIZE = 128\n",
    "\n",
    "\n",
    "units = 512\n",
    "embedding_dim = 256\n",
    "\n",
    "encoder = Encoder(SRC_VOCAB_SIZE, embedding_dim, units)\n",
    "decoder = Decoder(TGT_VOCAB_SIZE, embedding_dim, units)\n",
    "\n",
    "history_train_loss = []\n",
    "history_test_loss = []\n",
    "for epoch in range(EPOCHS):\n",
    "    total_loss = 0\n",
    "    \n",
    "    idx_list = list(range(0, x_train.shape[0], BATCH_SIZE))\n",
    "    random.shuffle(idx_list)\n",
    "    t = tqdm(idx_list)\n",
    "\n",
    "    for (batch, idx) in enumerate(t):\n",
    "        batch_loss = train_step(x_train[idx:idx+BATCH_SIZE],\n",
    "                                y_train[idx:idx+BATCH_SIZE],\n",
    "                                encoder,\n",
    "                                decoder,\n",
    "                                optimizer,\n",
    "                                en_spm)\n",
    "    \n",
    "        total_loss += batch_loss\n",
    "        \n",
    "        t.set_description_str('Epoch %2d' % (epoch + 1))\n",
    "        t.set_postfix_str('Loss %.4f' % (total_loss.numpy() / (batch + 1)))\n",
    "    \n",
    "    \n",
    "    test_loss = 0\n",
    "    \n",
    "    idx_list = list(range(0, x_dev.shape[0], BATCH_SIZE))\n",
    "    random.shuffle(idx_list)\n",
    "    t = tqdm(idx_list)\n",
    "\n",
    "    for (test_batch, idx) in enumerate(t):\n",
    "        test_batch_loss = eval_step(x_dev[idx:idx+BATCH_SIZE],\n",
    "                                    y_dev[idx:idx+BATCH_SIZE],\n",
    "                                    encoder,\n",
    "                                    decoder,\n",
    "                                    en_spm)\n",
    "    \n",
    "        test_loss += test_batch_loss\n",
    "    \n",
    "        t.set_description_str('Test Epoch %2d' % (epoch + 1))\n",
    "        t.set_postfix_str('Test Loss %.4f' % (test_loss.numpy() / (test_batch + 1)))\n",
    "\n",
    "    history_train_loss += [total_loss.numpy()]\n",
    "    history_test_loss += [test_loss.numpy()]\n",
    "    \n",
    "    sentence = \"오바마는 대통령이다.\"\n",
    "    translate(sentence, encoder, decoder, ko_spm, en_spm)\n",
    "    sentence = \"시민들은 도시 속에 산다.\"\n",
    "    translate(sentence, encoder, decoder, ko_spm, en_spm)\n",
    "    sentence = \"커피는 필요 없다.\"\n",
    "    translate(sentence, encoder, decoder, ko_spm, en_spm)\n",
    "    sentence = \"일곱 명의 사망자가 발생했다.\"\n",
    "    translate(sentence, encoder, decoder, ko_spm, en_spm)    "
   ]
  },
  {
   "cell_type": "code",
   "execution_count": 22,
   "id": "interesting-event",
   "metadata": {},
   "outputs": [
    {
     "data": {
      "image/png": "[encoded data removed]",
      "text/plain": [
       "<Figure size 432x288 with 1 Axes>"
      ]
     },
     "metadata": {},
     "output_type": "display_data"
    }
   ],
   "source": [
    "plt.plot(history_train_loss, label = \"train_loss\")\n",
    "plt.plot(history_test_loss, label = \"test_loss\")\n",
    "plt.legend()\n",
    "plt.title(\"Seq2seq based Bahdana attention learning process\")\n",
    "plt.ylabel(\"loss\")\n",
    "plt.xlabel(\"epochs\")\n",
    "plt.show()"
   ]
  }
 ],
 "metadata": {
  "kernelspec": {
   "display_name": "Python 3",
   "language": "python",
   "name": "python3"
  },
  "language_info": {
   "codemirror_mode": {
    "name": "ipython",
    "version": 3
   },
   "file_extension": ".py",
   "mimetype": "text/x-python",
   "name": "python",
   "nbconvert_exporter": "python",
   "pygments_lexer": "ipython3",
   "version": "3.7.9"
  }
 },
 "nbformat": 4,
 "nbformat_minor": 5
}
