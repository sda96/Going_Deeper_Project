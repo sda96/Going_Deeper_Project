{
 "cells": [
  {
   "cell_type": "markdown",
   "id": "eight-rapid",
   "metadata": {},
   "source": [
    "### konlpy에 있는 Mecab 클래스 사용하기\n",
    "\n",
    "출처\n",
    "- https://konlpy.org/en/latest/install/"
   ]
  },
  {
   "cell_type": "markdown",
   "id": "expanded-checkout",
   "metadata": {},
   "source": [
    "#### Ubuntu"
   ]
  },
  {
   "cell_type": "markdown",
   "id": "warming-flood",
   "metadata": {},
   "source": [
    "$ sudo apt-get install curl git  \n",
    "\n",
    "$ bash <(curl -s https://raw.githubusercontent.com/konlpy/konlpy/master/scripts/mecab.sh)"
   ]
  }
 ],
 "metadata": {
  "kernelspec": {
   "display_name": "Python 3",
   "language": "python",
   "name": "python3"
  },
  "language_info": {
   "codemirror_mode": {
    "name": "ipython",
    "version": 3
   },
   "file_extension": ".py",
   "mimetype": "text/x-python",
   "name": "python",
   "nbconvert_exporter": "python",
   "pygments_lexer": "ipython3",
   "version": "3.7.9"
  }
 },
 "nbformat": 4,
 "nbformat_minor": 5
}
