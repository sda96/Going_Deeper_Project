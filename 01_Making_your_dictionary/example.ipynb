{
 "cells": [
  {
   "cell_type": "code",
   "execution_count": 92,
   "id": "designed-hygiene",
   "metadata": {},
   "outputs": [],
   "source": [
    "import os\n",
    "from tqdm import tqdm\n",
    "import pandas as pd\n",
    "from collections import defaultdict\n",
    "import matplotlib.pyplot as plt\n",
    "import numpy as np\n",
    "\n",
    "import re\n",
    "from konlpy.tag import Mecab\n",
    "import sentencepiece as spm\n",
    "\n",
    "import tensorflow as tf\n",
    "from tensorflow.keras.preprocessing.sequence import pad_sequences\n",
    "%matplotlib inline"
   ]
  },
  {
   "cell_type": "markdown",
   "id": "pressed-rouge",
   "metadata": {},
   "source": [
    "## 1. 데이터 불러오기"
   ]
  },
  {
   "cell_type": "code",
   "execution_count": 2,
   "id": "described-paragraph",
   "metadata": {},
   "outputs": [
    {
     "name": "stdout",
     "output_type": "stream",
     "text": [
      "Korean Data Size: 94123\n",
      "English Data Size: 94123\n",
      "Example:\n",
      ">> 개인용 컴퓨터 사용의 상당 부분은 \"이것보다 뛰어날 수 있느냐?\"\n",
      ">> Much of personal computing is about \"can you top this?\"\n",
      "\n",
      "\n",
      ">> 북한의 핵무기 계획을 포기하도록 하려는 압력이 거세지고 있는 가운데, 일본과 북한의 외교관들이 외교 관계를 정상화하려는 회담을 재개했다.\n",
      ">> Amid mounting pressure on North Korea to abandon its nuclear weapons program Japanese and North Korean diplomats have resumed talks on normalizing diplomatic relations.\n",
      "\n",
      "\n",
      ">> \"경호 로보트가 침입자나 화재를 탐지하기 위해서 개인적으로, 그리고 전문적으로 사용되고 있습니다.\"\n",
      ">> “Guard robots are used privately and professionally to detect intruders or fire,” Karlsson said.\n",
      "\n",
      "\n",
      ">> 수자원부 당국은 논란이 되고 있고, 막대한 비용이 드는 이 사업에 대해 내년에 건설을 시작할 계획이다.\n",
      ">> Authorities from the Water Resources Ministry plan to begin construction next year on the controversial and hugely expensive project.\n",
      "\n",
      "\n",
      ">> 또한 근력 운동은 활발하게 걷는 것이나 최소한 20분 동안 뛰는 것과 같은 유산소 활동에서 얻는 운동 효과를 심장과 폐에 주지 않기 때문에, 연구학자들은 근력 운동이 심장에 큰 영향을 미치는지 여부에 대해 논쟁을 해왔다.\n",
      ">> Researchers also have debated whether weight-training has a big impact on the heart, since it does not give the heart and lungs the kind of workout they get from aerobic activities such as brisk walking or running for at least 20 minutes.\n",
      "\n",
      "\n"
     ]
    }
   ],
   "source": [
    "ko_path_to_file = \"./data/korean-english-park.train.ko\"\n",
    "en_path_to_file = \"./data/korean-english-park.train.en\"\n",
    "\n",
    "with open(ko_path_to_file, \"r\") as f:\n",
    "    ko_raw = f.read().splitlines()\n",
    "with open(en_path_to_file, \"r\") as f:\n",
    "    en_raw = f.read().splitlines()\n",
    "\n",
    "\n",
    "    \n",
    "print(\"Korean Data Size:\", len(ko_raw))\n",
    "print(\"English Data Size:\", len(en_raw))\n",
    "\n",
    "\n",
    "print(\"Example:\")\n",
    "example = zip(ko_raw[0:100][::20], en_raw[0:100][::20])\n",
    "for ko_sen, en_sen in example: \n",
    "    print(\">>\", ko_sen)\n",
    "    print(\">>\", en_sen)\n",
    "    print(\"\\n\")"
   ]
  },
  {
   "cell_type": "code",
   "execution_count": 3,
   "id": "mediterranean-lightweight",
   "metadata": {},
   "outputs": [
    {
     "data": {
      "text/html": [
       "<div>\n",
       "<style scoped>\n",
       "    .dataframe tbody tr th:only-of-type {\n",
       "        vertical-align: middle;\n",
       "    }\n",
       "\n",
       "    .dataframe tbody tr th {\n",
       "        vertical-align: top;\n",
       "    }\n",
       "\n",
       "    .dataframe thead th {\n",
       "        text-align: right;\n",
       "    }\n",
       "</style>\n",
       "<table border=\"1\" class=\"dataframe\">\n",
       "  <thead>\n",
       "    <tr style=\"text-align: right;\">\n",
       "      <th></th>\n",
       "      <th>ko</th>\n",
       "      <th>en</th>\n",
       "    </tr>\n",
       "  </thead>\n",
       "  <tbody>\n",
       "    <tr>\n",
       "      <th>0</th>\n",
       "      <td>개인용 컴퓨터 사용의 상당 부분은 \"이것보다 뛰어날 수 있느냐?\"</td>\n",
       "      <td>Much of personal computing is about \"can you t...</td>\n",
       "    </tr>\n",
       "    <tr>\n",
       "      <th>1</th>\n",
       "      <td>모든 광마우스와 마찬가지 로 이 광마우스도 책상 위에 놓는 마우스 패드를 필요로 하...</td>\n",
       "      <td>so a mention a few weeks ago about a rechargea...</td>\n",
       "    </tr>\n",
       "    <tr>\n",
       "      <th>2</th>\n",
       "      <td>그러나 이것은 또한 책상도 필요로 하지 않는다.</td>\n",
       "      <td>Like all optical mice, But it also doesn't nee...</td>\n",
       "    </tr>\n",
       "    <tr>\n",
       "      <th>3</th>\n",
       "      <td>79.95달러하는 이 최첨단 무선 광마우스는 허공에서 팔목, 팔, 그외에 어떤 부분...</td>\n",
       "      <td>uses gyroscopic sensors to control the cursor ...</td>\n",
       "    </tr>\n",
       "    <tr>\n",
       "      <th>4</th>\n",
       "      <td>정보 관리들은 동남 아시아에서의 선박들에 대한 많은 (테러) 계획들이 실패로 돌아갔...</td>\n",
       "      <td>Intelligence officials have revealed a spate o...</td>\n",
       "    </tr>\n",
       "  </tbody>\n",
       "</table>\n",
       "</div>"
      ],
      "text/plain": [
       "                                                  ko  \\\n",
       "0               개인용 컴퓨터 사용의 상당 부분은 \"이것보다 뛰어날 수 있느냐?\"   \n",
       "1  모든 광마우스와 마찬가지 로 이 광마우스도 책상 위에 놓는 마우스 패드를 필요로 하...   \n",
       "2                         그러나 이것은 또한 책상도 필요로 하지 않는다.   \n",
       "3  79.95달러하는 이 최첨단 무선 광마우스는 허공에서 팔목, 팔, 그외에 어떤 부분...   \n",
       "4  정보 관리들은 동남 아시아에서의 선박들에 대한 많은 (테러) 계획들이 실패로 돌아갔...   \n",
       "\n",
       "                                                  en  \n",
       "0  Much of personal computing is about \"can you t...  \n",
       "1  so a mention a few weeks ago about a rechargea...  \n",
       "2  Like all optical mice, But it also doesn't nee...  \n",
       "3  uses gyroscopic sensors to control the cursor ...  \n",
       "4  Intelligence officials have revealed a spate o...  "
      ]
     },
     "execution_count": 3,
     "metadata": {},
     "output_type": "execute_result"
    }
   ],
   "source": [
    "data = pd.DataFrame({\"ko\":ko_raw, \"en\":en_raw})\n",
    "data.head()"
   ]
  },
  {
   "cell_type": "markdown",
   "id": "matched-mistress",
   "metadata": {},
   "source": [
    "## 2. 데이터 살펴보기 (시각화)"
   ]
  },
  {
   "cell_type": "code",
   "execution_count": 4,
   "id": "advance-combat",
   "metadata": {},
   "outputs": [
    {
     "name": "stdout",
     "output_type": "stream",
     "text": [
      "한국어 문장의 최단 길이: 1\n",
      "한국어 문장의 최장 길이: 377\n",
      "한국어 문장의 평균 길이: 60\n",
      "영어 문장의 최단 길이: 1\n",
      "영어 문장의 최장 길이: 605\n",
      "영어 문장의 평균 길이: 126\n"
     ]
    }
   ],
   "source": [
    "def text_summary(raw):\n",
    "    min_len = 999\n",
    "    max_len = 0\n",
    "    sum_len = 0\n",
    "\n",
    "    for sen in raw:\n",
    "        length = len(sen)\n",
    "        if min_len > length: \n",
    "            min_len = length\n",
    "        if max_len < length: \n",
    "            max_len = length\n",
    "        sum_len += length\n",
    "    return min_len, max_len, sum_len // len(raw)\n",
    "\n",
    "ko_min, ko_max, ko_mean = text_summary(data[\"ko\"])\n",
    "en_min, en_max, en_mean = text_summary(data[\"en\"])\n",
    "\n",
    "print(\"한국어 문장의 최단 길이:\", ko_min)\n",
    "print(\"한국어 문장의 최장 길이:\", ko_max)\n",
    "print(\"한국어 문장의 평균 길이:\", ko_mean)\n",
    "print(\"영어 문장의 최단 길이:\", en_min)\n",
    "print(\"영어 문장의 최장 길이:\", en_max)\n",
    "print(\"영어 문장의 평균 길이:\", en_mean)"
   ]
  },
  {
   "cell_type": "code",
   "execution_count": 6,
   "id": "infrared-muscle",
   "metadata": {},
   "outputs": [
    {
     "name": "stdout",
     "output_type": "stream",
     "text": [
      "한국어 중에서 가장 긴 문장의 길이 : 377\n",
      "한국어 중에서 가장 짧은 문장의 길이 : 1\n",
      "\n",
      "\n",
      "영어 중에서 가장 긴 문장의 길이 : 605\n",
      "영어 중에서 가장 짧은 문장의 길이 : 1\n",
      "\n",
      "\n",
      "한국어 중에서 가장 많은 데이터 수 : 2113\n",
      "영어 중에서 가장 많은 데이터 수 : 4623\n"
     ]
    },
    {
     "data": {
      "image/png": "[encoded data removed]",
      "text/plain": [
       "<Figure size 432x288 with 1 Axes>"
      ]
     },
     "metadata": {
      "needs_background": "light"
     },
     "output_type": "display_data"
    }
   ],
   "source": [
    "def length_count_vis(copy):\n",
    "    # 문장별 길이를 구합니다\n",
    "    copy[\"ko_len\"] = copy[\"ko\"].apply(lambda x : len(x))\n",
    "    copy[\"en_len\"] = copy[\"en\"].apply(lambda x : len(x))\n",
    "    \n",
    "    ko_max_len = max(copy[\"ko_len\"])\n",
    "    ko_min_len = min(copy[\"ko_len\"])\n",
    "    en_max_len = max(copy[\"en_len\"])\n",
    "    en_min_len = min(copy[\"en_len\"])\n",
    "    \n",
    "    print(f'한국어 중에서 가장 긴 문장의 길이 : {ko_max_len}')\n",
    "    print(f'한국어 중에서 가장 짧은 문장의 길이 : {ko_min_len}')\n",
    "    print(\"\\n\")\n",
    "    print(f'영어 중에서 가장 긴 문장의 길이 : {en_max_len}')\n",
    "    print(f'영어 중에서 가장 짧은 문장의 길이 : {en_min_len}')\n",
    "    print(\"\\n\")\n",
    "\n",
    "    # 막대그림의 x축\n",
    "    max_length = max(ko_max_len, en_max_len)\n",
    "    min_length = min(ko_min_len, en_min_len)\n",
    "\n",
    "\n",
    "    # 길이에 따른 데이터 개수를 구합니다.\n",
    "    ko_len_count = copy[\"ko_len\"].value_counts().sort_index()\n",
    "    en_len_count = copy[\"en_len\"].value_counts().sort_index()\n",
    "    # 막대그림의 축의 길이를 맞춰줍니다.\n",
    "\n",
    "    ko_count = np.zeros(max_length + 1)\n",
    "    en_count = np.zeros(max_length + 1)\n",
    "    # 막대그림의 y축\n",
    "    for i,j in dict(ko_len_count).items():\n",
    "        ko_count[i] = j\n",
    "    for i,j in dict(en_len_count).items():\n",
    "        en_count[i] = j\n",
    "\n",
    "    print(f\"한국어 중에서 가장 많은 데이터 수 : {max(ko_len_count)}\")\n",
    "    print(f\"영어 중에서 가장 많은 데이터 수 : {max(en_len_count)}\")\n",
    "    \n",
    "    plt.plot(ko_count, label = \"ko\")\n",
    "    plt.plot(en_count, label = \"en\")\n",
    "    plt.legend()\n",
    "    plt.title(\"Count by sentence length\")\n",
    "    plt.xlabel(\"Length\")\n",
    "    plt.ylabel(\"Count\")\n",
    "    plt.show()\n",
    "    return copy\n",
    "\n",
    "cp_data = data.copy()\n",
    "cp_data = length_count_vis(cp_data)"
   ]
  },
  {
   "cell_type": "markdown",
   "id": "mature-bonus",
   "metadata": {},
   "source": [
    "## 3. 데이터 전처리"
   ]
  },
  {
   "cell_type": "markdown",
   "id": "retained-withdrawal",
   "metadata": {},
   "source": [
    "- 이상치 데이터 제거\n",
    "- 중복되는 데이터 제거\n",
    "- 텍스트 전처리\n",
    "- 결측치 데이터 제거\n",
    "- 토큰화\n",
    "- 벡터화"
   ]
  },
  {
   "cell_type": "markdown",
   "id": "coated-destiny",
   "metadata": {},
   "source": [
    "### 3.1 중복 데이터 제거"
   ]
  },
  {
   "cell_type": "code",
   "execution_count": 7,
   "id": "bearing-plane",
   "metadata": {},
   "outputs": [
    {
     "name": "stdout",
     "output_type": "stream",
     "text": [
      "중복 제거하기 전의 데이터 수 : 94123\n",
      "중복 제거한 후의 데이터 수 : 74849\n",
      "한국어 중에서 가장 긴 문장의 길이 : 377\n",
      "한국어 중에서 가장 짧은 문장의 길이 : 1\n",
      "\n",
      "\n",
      "영어 중에서 가장 긴 문장의 길이 : 605\n",
      "영어 중에서 가장 짧은 문장의 길이 : 1\n",
      "\n",
      "\n",
      "한국어 중에서 가장 많은 데이터 수 : 1218\n",
      "영어 중에서 가장 많은 데이터 수 : 559\n"
     ]
    },
    {
     "data": {
      "image/png": "[encoded data removed]",
      "text/plain": [
       "<Figure size 432x288 with 1 Axes>"
      ]
     },
     "metadata": {
      "needs_background": "light"
     },
     "output_type": "display_data"
    }
   ],
   "source": [
    "print(f\"중복 제거하기 전의 데이터 수 : {len(cp_data)}\")\n",
    "cp_data = cp_data.drop_duplicates(\"ko\")\n",
    "cp_data = cp_data.drop_duplicates(\"en\")\n",
    "cp_data = cp_data.reset_index()\n",
    "print(f\"중복 제거한 후의 데이터 수 : {len(cp_data)}\")\n",
    "cp_data = length_count_vis(cp_data)"
   ]
  },
  {
   "cell_type": "markdown",
   "id": "alpha-burden",
   "metadata": {},
   "source": [
    "### 3.1 이상치 데이터 제거"
   ]
  },
  {
   "cell_type": "markdown",
   "id": "sealed-fleet",
   "metadata": {},
   "source": [
    "#### 사분위수 범위를 기준으로한 이상치 데이터 제거"
   ]
  },
  {
   "cell_type": "code",
   "execution_count": 8,
   "id": "several-literature",
   "metadata": {},
   "outputs": [
    {
     "name": "stdout",
     "output_type": "stream",
     "text": [
      "upper \n",
      " index     150989.0\n",
      "ko_len       133.5\n",
      "en_len       300.0\n",
      "dtype: float64\n",
      "\n",
      "lower \n",
      " index     60499.0\n",
      "ko_len        6.5\n",
      "en_len       36.0\n",
      "dtype: float64\n",
      "\n",
      "\n",
      "이상치 제거하기 전의 데이터 수 : 74849\n",
      "이상치 제거한 후의 데이터 수 : 71513\n",
      "한국어 중에서 가장 긴 문장의 길이 : 133\n",
      "한국어 중에서 가장 짧은 문장의 길이 : 7\n",
      "\n",
      "\n",
      "영어 중에서 가장 긴 문장의 길이 : 300\n",
      "영어 중에서 가장 짧은 문장의 길이 : 36\n",
      "\n",
      "\n",
      "한국어 중에서 가장 많은 데이터 수 : 1215\n",
      "영어 중에서 가장 많은 데이터 수 : 557\n"
     ]
    },
    {
     "data": {
      "image/png": "[encoded data removed]",
      "text/plain": [
       "<Figure size 432x288 with 1 Axes>"
      ]
     },
     "metadata": {
      "needs_background": "light"
     },
     "output_type": "display_data"
    }
   ],
   "source": [
    "desc = cp_data.copy().describe()\n",
    "IQR = desc.loc[\"75%\", :] - desc.loc[\"25%\", :]\n",
    "upper = desc.loc[\"75%\"] + 1.5 * IQR\n",
    "lower = 1.5 * IQR - desc.loc[\"25%\"]\n",
    "print(f\"upper \\n {upper}\\n\")\n",
    "print(f\"lower \\n {lower}\")\n",
    "print(\"\\n\")\n",
    "print(f\"이상치 제거하기 전의 데이터 수 : {len(cp_data)}\")\n",
    "cp_data = cp_data[(cp_data[\"ko_len\"] >= lower[\"ko_len\"]) & \n",
    "            (cp_data[\"ko_len\"] <= upper[\"ko_len\"])]\n",
    "cp_data = cp_data[(cp_data[\"en_len\"] >= lower[\"en_len\"]) & \n",
    "            (cp_data[\"en_len\"] <= upper[\"en_len\"])]\n",
    "print(f\"이상치 제거한 후의 데이터 수 : {len(cp_data)}\")\n",
    "\n",
    "cp_data = length_count_vis(cp_data)\n",
    "cp_data = cp_data.reset_index(drop=True)"
   ]
  },
  {
   "cell_type": "markdown",
   "id": "contained-enemy",
   "metadata": {},
   "source": [
    "### 3.3 텍스트 전처리\n",
    "- 특수기호 제거\n",
    "- 불용어 제거"
   ]
  },
  {
   "cell_type": "code",
   "execution_count": 9,
   "id": "bigger-scanner",
   "metadata": {},
   "outputs": [
    {
     "data": {
      "text/html": [
       "<div>\n",
       "<style scoped>\n",
       "    .dataframe tbody tr th:only-of-type {\n",
       "        vertical-align: middle;\n",
       "    }\n",
       "\n",
       "    .dataframe tbody tr th {\n",
       "        vertical-align: top;\n",
       "    }\n",
       "\n",
       "    .dataframe thead th {\n",
       "        text-align: right;\n",
       "    }\n",
       "</style>\n",
       "<table border=\"1\" class=\"dataframe\">\n",
       "  <thead>\n",
       "    <tr style=\"text-align: right;\">\n",
       "      <th></th>\n",
       "      <th>index</th>\n",
       "      <th>ko</th>\n",
       "      <th>en</th>\n",
       "      <th>ko_len</th>\n",
       "      <th>en_len</th>\n",
       "      <th>ko_pre</th>\n",
       "      <th>en_pre</th>\n",
       "    </tr>\n",
       "  </thead>\n",
       "  <tbody>\n",
       "    <tr>\n",
       "      <th>0</th>\n",
       "      <td>0</td>\n",
       "      <td>개인용 컴퓨터 사용의 상당 부분은 \"이것보다 뛰어날 수 있느냐?\"</td>\n",
       "      <td>Much of personal computing is about \"can you t...</td>\n",
       "      <td>36</td>\n",
       "      <td>55</td>\n",
       "      <td>개인용 컴퓨터 사용의 상당 부분은 이것보다 뛰어날 수 있느냐</td>\n",
       "      <td>much of personal computing is about can you to...</td>\n",
       "    </tr>\n",
       "    <tr>\n",
       "      <th>1</th>\n",
       "      <td>1</td>\n",
       "      <td>모든 광마우스와 마찬가지 로 이 광마우스도 책상 위에 놓는 마우스 패드를 필요로 하...</td>\n",
       "      <td>so a mention a few weeks ago about a rechargea...</td>\n",
       "      <td>52</td>\n",
       "      <td>121</td>\n",
       "      <td>모든 광마우스와 마찬가지 로 이 광마우스도 책상 위에 놓는 마우스 패드를 필요로 하...</td>\n",
       "      <td>so a mention a few weeks ago about a rechargea...</td>\n",
       "    </tr>\n",
       "    <tr>\n",
       "      <th>2</th>\n",
       "      <td>2</td>\n",
       "      <td>그러나 이것은 또한 책상도 필요로 하지 않는다.</td>\n",
       "      <td>Like all optical mice, But it also doesn't nee...</td>\n",
       "      <td>26</td>\n",
       "      <td>55</td>\n",
       "      <td>그러나 이것은 또한 책상도 필요로 하지 않는다</td>\n",
       "      <td>like all optical mice but it also doesn't need...</td>\n",
       "    </tr>\n",
       "    <tr>\n",
       "      <th>3</th>\n",
       "      <td>3</td>\n",
       "      <td>79.95달러하는 이 최첨단 무선 광마우스는 허공에서 팔목, 팔, 그외에 어떤 부분...</td>\n",
       "      <td>uses gyroscopic sensors to control the cursor ...</td>\n",
       "      <td>90</td>\n",
       "      <td>109</td>\n",
       "      <td>달러하는 이 최첨단 무선 광마우스는 허공에서 팔목 팔 그외에 어떤 부분이든 그 움...</td>\n",
       "      <td>uses gyroscopic sensors to control the cursor ...</td>\n",
       "    </tr>\n",
       "    <tr>\n",
       "      <th>4</th>\n",
       "      <td>4</td>\n",
       "      <td>정보 관리들은 동남 아시아에서의 선박들에 대한 많은 (테러) 계획들이 실패로 돌아갔...</td>\n",
       "      <td>Intelligence officials have revealed a spate o...</td>\n",
       "      <td>119</td>\n",
       "      <td>224</td>\n",
       "      <td>정보 관리들은 동남 아시아에서의 선박들에 대한 많은 테러 계획들이 실패로 돌아갔음을...</td>\n",
       "      <td>intelligence officials have revealed a spate o...</td>\n",
       "    </tr>\n",
       "  </tbody>\n",
       "</table>\n",
       "</div>"
      ],
      "text/plain": [
       "   index                                                 ko  \\\n",
       "0      0               개인용 컴퓨터 사용의 상당 부분은 \"이것보다 뛰어날 수 있느냐?\"   \n",
       "1      1  모든 광마우스와 마찬가지 로 이 광마우스도 책상 위에 놓는 마우스 패드를 필요로 하...   \n",
       "2      2                         그러나 이것은 또한 책상도 필요로 하지 않는다.   \n",
       "3      3  79.95달러하는 이 최첨단 무선 광마우스는 허공에서 팔목, 팔, 그외에 어떤 부분...   \n",
       "4      4  정보 관리들은 동남 아시아에서의 선박들에 대한 많은 (테러) 계획들이 실패로 돌아갔...   \n",
       "\n",
       "                                                  en  ko_len  en_len  \\\n",
       "0  Much of personal computing is about \"can you t...      36      55   \n",
       "1  so a mention a few weeks ago about a rechargea...      52     121   \n",
       "2  Like all optical mice, But it also doesn't nee...      26      55   \n",
       "3  uses gyroscopic sensors to control the cursor ...      90     109   \n",
       "4  Intelligence officials have revealed a spate o...     119     224   \n",
       "\n",
       "                                              ko_pre  \\\n",
       "0                 개인용 컴퓨터 사용의 상당 부분은 이것보다 뛰어날 수 있느냐    \n",
       "1  모든 광마우스와 마찬가지 로 이 광마우스도 책상 위에 놓는 마우스 패드를 필요로 하...   \n",
       "2                         그러나 이것은 또한 책상도 필요로 하지 않는다    \n",
       "3   달러하는 이 최첨단 무선 광마우스는 허공에서 팔목 팔 그외에 어떤 부분이든 그 움...   \n",
       "4  정보 관리들은 동남 아시아에서의 선박들에 대한 많은 테러 계획들이 실패로 돌아갔음을...   \n",
       "\n",
       "                                              en_pre  \n",
       "0  much of personal computing is about can you to...  \n",
       "1  so a mention a few weeks ago about a rechargea...  \n",
       "2  like all optical mice but it also doesn't need...  \n",
       "3  uses gyroscopic sensors to control the cursor ...  \n",
       "4  intelligence officials have revealed a spate o...  "
      ]
     },
     "execution_count": 9,
     "metadata": {},
     "output_type": "execute_result"
    }
   ],
   "source": [
    "def ko_preprocess(x):\n",
    "    x = re.sub(\"[^ㄱ-ㅎ가-힣]\", \" \", x)\n",
    "    x = re.sub(\"[ ]+\", \" \", x)\n",
    "    return x\n",
    "\n",
    "def en_preprocess(x):\n",
    "    x = x.lower()\n",
    "    x = re.sub(r\"[^a-z']\", \" \", x)\n",
    "    x = re.sub(\"[ ]+\", \" \", x)\n",
    "    return x\n",
    "\n",
    "\n",
    "cp_data[\"ko_pre\"] = cp_data[\"ko\"].apply(lambda x: ko_preprocess(x))\n",
    "cp_data[\"en_pre\"] = cp_data[\"en\"].apply(lambda x: en_preprocess(x))\n",
    "cp_data.head()"
   ]
  },
  {
   "cell_type": "markdown",
   "id": "critical-royalty",
   "metadata": {},
   "source": [
    "### 3.4 결측값 데이터 제거"
   ]
  },
  {
   "cell_type": "code",
   "execution_count": 10,
   "id": "elegant-costs",
   "metadata": {},
   "outputs": [
    {
     "data": {
      "text/plain": [
       "index      0\n",
       "ko         0\n",
       "en         0\n",
       "ko_len     0\n",
       "en_len     0\n",
       "ko_pre    90\n",
       "en_pre     0\n",
       "dtype: int64"
      ]
     },
     "execution_count": 10,
     "metadata": {},
     "output_type": "execute_result"
    }
   ],
   "source": [
    "cp_data = cp_data.replace([\"\",'', \" \", ' '], np.nan)\n",
    "cp_data.isnull().sum()"
   ]
  },
  {
   "cell_type": "code",
   "execution_count": 11,
   "id": "approved-nutrition",
   "metadata": {},
   "outputs": [
    {
     "name": "stdout",
     "output_type": "stream",
     "text": [
      "텍스트 전처리 후 결측 데이터 개수 : 90\n",
      "                                                     ko ko_pre\n",
      "6188  BEIJING, China (CNN) ##http://article.joins.co...    NaN\n",
      "7199  (CNN)/ (JOINS) ##http://article.joins.com/arti...    NaN\n",
      "7261  (CNN)/ (JOINS) ##http://article.joins.com/arti...    NaN\n"
     ]
    }
   ],
   "source": [
    "nan_data = cp_data[cp_data.isnull()[\"ko_pre\"]]\n",
    "print(f\"텍스트 전처리 후 결측 데이터 개수 : {len(nan_data)}\")\n",
    "print(nan_data[[\"ko\",\"ko_pre\"]].head(3))"
   ]
  },
  {
   "cell_type": "code",
   "execution_count": 12,
   "id": "immediate-bradley",
   "metadata": {
    "scrolled": false
   },
   "outputs": [
    {
     "name": "stdout",
     "output_type": "stream",
     "text": [
      "결측치 제거하기 전의 데이터 수 : 71513\n",
      "결측치 제거한 후의 데이터 수 : 71423\n",
      "\n",
      "\n",
      "한국어 중에서 가장 긴 문장의 길이 : 133\n",
      "한국어 중에서 가장 짧은 문장의 길이 : 7\n",
      "\n",
      "\n",
      "영어 중에서 가장 긴 문장의 길이 : 300\n",
      "영어 중에서 가장 짧은 문장의 길이 : 36\n",
      "\n",
      "\n",
      "한국어 중에서 가장 많은 데이터 수 : 1215\n",
      "영어 중에서 가장 많은 데이터 수 : 557\n"
     ]
    },
    {
     "data": {
      "image/png": "[encoded data removed]",
      "text/plain": [
       "<Figure size 432x288 with 1 Axes>"
      ]
     },
     "metadata": {
      "needs_background": "light"
     },
     "output_type": "display_data"
    }
   ],
   "source": [
    "print(f\"결측치 제거하기 전의 데이터 수 : {len(cp_data)}\")\n",
    "cp_data = cp_data.dropna()\n",
    "print(f\"결측치 제거한 후의 데이터 수 : {len(cp_data)}\")\n",
    "print(\"\\n\")\n",
    "cp_data = length_count_vis(cp_data)\n",
    "cp_data = cp_data.reset_index(drop=True)"
   ]
  },
  {
   "cell_type": "markdown",
   "id": "altered-journalism",
   "metadata": {},
   "source": [
    "### 3.5 토큰화"
   ]
  },
  {
   "cell_type": "markdown",
   "id": "understood-saturn",
   "metadata": {},
   "source": [
    "#### 형태소 분절후 빈도 기반 토큰화 - 한국어"
   ]
  },
  {
   "cell_type": "code",
   "execution_count": 26,
   "id": "convinced-oxide",
   "metadata": {},
   "outputs": [
    {
     "name": "stderr",
     "output_type": "stream",
     "text": [
      "100%|██████████| 71423/71423 [00:14<00:00, 5060.94it/s]\n",
      "100%|██████████| 71423/71423 [00:00<00:00, 229017.50it/s]\n"
     ]
    }
   ],
   "source": [
    "mecab = Mecab()\n",
    "tqdm.pandas()\n",
    "ko_token = cp_data[\"ko_pre\"].progress_apply(lambda x: mecab.morphs(x))\n",
    "en_token = cp_data[\"en_pre\"].progress_apply(lambda x: x.split())"
   ]
  },
  {
   "cell_type": "code",
   "execution_count": null,
   "id": "spiritual-yemen",
   "metadata": {},
   "outputs": [],
   "source": [
    "def bin_dict(tokens):\n",
    "    dic = defaultdict()\n",
    "    for data in tokens:\n",
    "        for word in data:\n",
    "            if word in dic:\n",
    "                dic[word] += 1\n",
    "            else:\n",
    "                dic[word] = 0\n",
    "\n",
    "    dic = sorted(dic.items(), key = lambda x: x[1], reverse = True)\n",
    "    dic = dict(dic)\n",
    "    return dic\n",
    "\n",
    "\n",
    "def word_index(dic):\n",
    "    word_to_index = defaultdict()\n",
    "    index_to_word = defaultdict()\n",
    "\n",
    "    for ind, word in enumerate(dic):\n",
    "        word_to_index[word] = ind\n",
    "        index_to_word[ind] = word\n",
    "\n",
    "    word_to_index = dict(word_to_index)\n",
    "    index_to_word = dict(index_to_word)\n",
    "    return word_to_index, index_to_word\n",
    "\n",
    "\n",
    "def tokenization(token, dictionary):\n",
    "    tokens = []\n",
    "    for setence in tqdm(token):\n",
    "        tmp = [dictionary[word] for word in setence]\n",
    "        tokens += [tmp]\n",
    "    return tokens"
   ]
  },
  {
   "cell_type": "code",
   "execution_count": 61,
   "id": "restricted-buddy",
   "metadata": {},
   "outputs": [
    {
     "name": "stdout",
     "output_type": "stream",
     "text": [
      "[('다', 68037), ('이', 66101), ('는', 59792), ('을', 56623), ('의', 48659)]\n"
     ]
    }
   ],
   "source": [
    "ko_dic = bin_dict(ko_token)\n",
    "word_to_index, index_to_word = word_index(ko_dic)\n",
    "ko_tokenization = tokenization(ko_token, word_to_index)"
   ]
  },
  {
   "cell_type": "markdown",
   "id": "administrative-scanner",
   "metadata": {},
   "source": [
    "#### 공백 분절후 빈도 기반 토큰화 - 영어"
   ]
  },
  {
   "cell_type": "code",
   "execution_count": 75,
   "id": "trained-coordination",
   "metadata": {},
   "outputs": [
    {
     "name": "stderr",
     "output_type": "stream",
     "text": [
      "100%|██████████| 71423/71423 [00:02<00:00, 33537.41it/s] \n"
     ]
    }
   ],
   "source": [
    "en_dic = bin_dict(en_token)\n",
    "en_word_to_index, en_index_to_word = word_index(en_dic)\n",
    "en_tokenization = tokenization(en_token, en_word_to_index)"
   ]
  },
  {
   "cell_type": "markdown",
   "id": "recognized-grenada",
   "metadata": {},
   "source": [
    "#### 패딩"
   ]
  },
  {
   "cell_type": "code",
   "execution_count": 96,
   "id": "faced-rebel",
   "metadata": {},
   "outputs": [
    {
     "name": "stdout",
     "output_type": "stream",
     "text": [
      "(71423, 67) (71423, 67)\n"
     ]
    }
   ],
   "source": [
    "ko_max_len = len(max(ko_toeknization, key = lambda x: len(x)))\n",
    "en_max_len = len(max(en_toeknization, key = lambda x: len(x)))\n",
    "max_len = max(ko_max_len, en_max_len)\n",
    "\n",
    "ko_tokenization = pad_sequences(ko_tokenization, padding='post', maxlen = max_len)\n",
    "en_tokenization = pad_sequences(en_tokenization, padding='post', maxlen = max_len)\n",
    "print(ko_tokenization.shape, en_tokenization.shape)"
   ]
  },
  {
   "cell_type": "markdown",
   "id": "biblical-concrete",
   "metadata": {},
   "source": [
    "#### SentencePiece 분절 토큰화 - 한국어"
   ]
  },
  {
   "cell_type": "code",
   "execution_count": 104,
   "id": "stylish-signature",
   "metadata": {},
   "outputs": [],
   "source": [
    "ko_temp_file = \"./data/ko_tokenization.tmp\"\n",
    "\n",
    "with open(ko_temp_file, 'w') as f:\n",
    "    for row in ko_token:   # 이전 스텝에서 정제했던 corpus를 활용합니다.\n",
    "        f.write(str(row) + '\\n')\n",
    "\n",
    "vocab_size = 5000\n",
    "spm.SentencePieceTrainer.Train('--input={} --model_prefix=korean_spm --vocab_size={}'.format(ko_temp_file, vocab_size))  \n",
    "\n",
    "s = spm.SentencePieceProcessor()\n",
    "s.Load('korean_spm.model')\n",
    "\n",
    "# SentencePiece를 활용한 sentence -> encoding\n",
    "tokensIDs = s.EncodeAsIds('아버지가방에들어가신다.')\n",
    "print(tokensIDs)\n",
    "\n",
    "# SentencePiece를 활용한 sentence -> encoded pieces\n",
    "print(s.SampleEncodeAsPieces('아버지가방에들어가신다.',1, 0.0))\n",
    "\n",
    "# SentencePiece를 활용한 encoding -> sentence 복원\n",
    "print(s.DecodeIds(tokensIDs))"
   ]
  },
  {
   "cell_type": "code",
   "execution_count": 115,
   "id": "blank-knock",
   "metadata": {},
   "outputs": [
    {
     "data": {
      "text/plain": [
       "(71423, 67)"
      ]
     },
     "execution_count": 115,
     "metadata": {},
     "output_type": "execute_result"
    }
   ],
   "source": [
    "ko_spm_token = list(map(lambda x: s.EncodeAsIds(\" \".join(x)), ko_token))\n",
    "ko_spm_token = pad_sequences(ko_spm_token, padding='post', maxlen = max_len)\n",
    "ko_spm_token.shape"
   ]
  },
  {
   "cell_type": "markdown",
   "id": "northern-passport",
   "metadata": {},
   "source": [
    "#### SentencePiece 분절 토큰화 - 영어"
   ]
  },
  {
   "cell_type": "code",
   "execution_count": 116,
   "id": "generous-humanity",
   "metadata": {},
   "outputs": [],
   "source": [
    "en_temp_file = \"./data/en_tokenization.tmp\"\n",
    "\n",
    "with open(en_temp_file, 'w') as f:\n",
    "    for row in en_token:   # 이전 스텝에서 정제했던 corpus를 활용합니다.\n",
    "        f.write(str(row) + '\\n')\n",
    "\n",
    "vocab_size = 5000\n",
    "spm.SentencePieceTrainer.Train('--input={} --model_prefix=english_spm --vocab_size={}'.format(en_temp_file, vocab_size))  \n",
    "\n",
    "en_s = spm.SentencePieceProcessor()"
   ]
  },
  {
   "cell_type": "code",
   "execution_count": 117,
   "id": "adaptive-communications",
   "metadata": {},
   "outputs": [
    {
     "data": {
      "text/plain": [
       "(71423, 67)"
      ]
     },
     "execution_count": 117,
     "metadata": {},
     "output_type": "execute_result"
    }
   ],
   "source": [
    "en_spm_token = list(map(lambda x: en_s.EncodeAsIds(\" \".join(x)), en_token))\n",
    "en_spm_token = pad_sequences(en_spm_token, padding='post', maxlen = max_len)\n",
    "en_spm_token.shape"
   ]
  },
  {
   "cell_type": "code",
   "execution_count": null,
   "id": "every-destiny",
   "metadata": {},
   "outputs": [],
   "source": []
  },
  {
   "cell_type": "code",
   "execution_count": null,
   "id": "absolute-chain",
   "metadata": {},
   "outputs": [],
   "source": []
  },
  {
   "cell_type": "code",
   "execution_count": 118,
   "id": "composite-immigration",
   "metadata": {},
   "outputs": [
    {
     "data": {
      "text/plain": [
       "array([[4998,  847, 4998, ...,    0,    0,    0],\n",
       "       [4998,   79,  220, ...,    0,    0,    0],\n",
       "       [4998,   31,  180, ...,    0,    0,    0],\n",
       "       ...,\n",
       "       [4998,   31,  180, ...,    0,    0,    0],\n",
       "       [4998,  600, 4998, ...,    0,    0,    0],\n",
       "       [4998,  138, 4998, ...,    0,    0,    0]], dtype=int32)"
      ]
     },
     "execution_count": 118,
     "metadata": {},
     "output_type": "execute_result"
    }
   ],
   "source": [
    "ko_spm_token"
   ]
  },
  {
   "cell_type": "code",
   "execution_count": 120,
   "id": "signed-foster",
   "metadata": {},
   "outputs": [
    {
     "data": {
      "text/plain": [
       "array([0, 0, 0, 0, 0, 0, 0, 0, 0, 0, 0, 0, 0, 0, 0, 0, 0, 0, 0, 0, 0, 0,\n",
       "       0, 0, 0, 0, 0, 0, 0, 0, 0, 0, 0, 0, 0, 0, 0, 0, 0, 0, 0, 0, 0, 0,\n",
       "       0, 0, 0, 0, 0, 0, 0, 0, 0, 0, 0, 0, 0, 0, 0, 0, 0, 0, 0, 0, 0, 0,\n",
       "       0], dtype=int32)"
      ]
     },
     "execution_count": 120,
     "metadata": {},
     "output_type": "execute_result"
    }
   ],
   "source": [
    "en_spm_token[0]"
   ]
  },
  {
   "cell_type": "markdown",
   "id": "verbal-camera",
   "metadata": {},
   "source": [
    "### 3.6 벡터화"
   ]
  },
  {
   "cell_type": "code",
   "execution_count": null,
   "id": "answering-watershed",
   "metadata": {},
   "outputs": [],
   "source": []
  },
  {
   "cell_type": "code",
   "execution_count": null,
   "id": "rapid-concentrate",
   "metadata": {},
   "outputs": [],
   "source": []
  },
  {
   "cell_type": "code",
   "execution_count": null,
   "id": "obvious-absence",
   "metadata": {},
   "outputs": [],
   "source": []
  },
  {
   "cell_type": "code",
   "execution_count": null,
   "id": "iraqi-parish",
   "metadata": {},
   "outputs": [],
   "source": []
  },
  {
   "cell_type": "code",
   "execution_count": null,
   "id": "suitable-squad",
   "metadata": {},
   "outputs": [],
   "source": []
  }
 ],
 "metadata": {
  "kernelspec": {
   "display_name": "Python 3",
   "language": "python",
   "name": "python3"
  },
  "language_info": {
   "codemirror_mode": {
    "name": "ipython",
    "version": 3
   },
   "file_extension": ".py",
   "mimetype": "text/x-python",
   "name": "python",
   "nbconvert_exporter": "python",
   "pygments_lexer": "ipython3",
   "version": "3.7.9"
  }
 },
 "nbformat": 4,
 "nbformat_minor": 5
}
