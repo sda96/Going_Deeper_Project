{
 "cells": [
  {
   "cell_type": "code",
   "execution_count": 65,
   "id": "dutch-yorkshire",
   "metadata": {},
   "outputs": [],
   "source": [
    "import os\n",
    "from tqdm import tqdm\n",
    "import pandas as pd\n",
    "from collections import defaultdict\n",
    "import matplotlib.pyplot as plt\n",
    "import numpy as np\n",
    "\n",
    "import re\n",
    "from konlpy.tag import Mecab\n",
    "import sentencepiece as spm\n",
    "import gensim\n",
    "\n",
    "import tensorflow as tf\n",
    "from sklearn.model_selection import train_test_split\n",
    "from tensorflow.keras.preprocessing.sequence import pad_sequences\n",
    "\n",
    "\n",
    "from sklearn.metrics import confusion_matrix\n",
    "import seaborn as sns\n",
    "%matplotlib inline"
   ]
  },
  {
   "cell_type": "markdown",
   "id": "grateful-display",
   "metadata": {},
   "source": [
    "## 1. 데이터 불러오기"
   ]
  },
  {
   "cell_type": "code",
   "execution_count": 3,
   "id": "empty-hammer",
   "metadata": {},
   "outputs": [
    {
     "name": "stdout",
     "output_type": "stream",
     "text": [
      "Train Data Size: 150000\n",
      "Test Data Size: 50000\n",
      "Example:\n",
      ">> 아 더빙.. 진짜 짜증나네요 목소리\n",
      ">> 굳 ㅋ\n",
      "\n",
      "\n",
      ">> 나름 심오한 뜻도 있는 듯. 그냥 학생이 선생과 놀아나는 영화는 절대 아님\n",
      ">> '13일의 금요일', '나이트메어'시리즈와 함께 가장 많은 시리즈를 양산해냈던 헬레이저 시리즈의 첫편. 작가의 상상력이 돋보이는 작품이며, 갈고리로 사지찢는 고어씬은 지금보더라도 상당히 잔인하고 충격적이다.\n",
      "\n",
      "\n",
      ">> 단순하면서 은은한 매력의 영화\n",
      ">> EBS 한국영화특선 해서 봤다.Biff 개막작 선정되서 왤까 궁금 했었는데 봐도 이율 모르겠다...\n",
      "\n",
      "\n",
      ">> 보는내내 그대로 들어맞는 예측 카리스마 없는 악역\n",
      ">> 콩콩~~~~ㅋㄲㅈㅁ\n",
      "\n",
      "\n",
      ">> 뭐냐..시작하고 3분만에 나왔다. 리플릿 사진 보며 불안하더니만..\n",
      ">> 솔직히 이건 C급 그 이하의 영화이긴 함 ㅎㅎ;\n",
      "\n",
      "\n"
     ]
    }
   ],
   "source": [
    "tr_path_to_file = \"./nsmc/ratings_train.txt\"\n",
    "te_path_to_file = \"./nsmc/ratings_test.txt\"\n",
    "\n",
    "train_data = pd.read_csv(tr_path_to_file, sep = \"\\t\")\n",
    "test_data = pd.read_csv(te_path_to_file, sep = \"\\t\")\n",
    "\n",
    "    \n",
    "print(\"Train Data Size:\", len(train_data))\n",
    "print(\"Test Data Size:\", len(test_data))\n",
    "\n",
    "\n",
    "\n",
    "print(\"Example:\")\n",
    "example = zip(train_data[\"document\"][0:100][::20], test_data[\"document\"][0:100][::20])\n",
    "for ko_sen, en_sen in example: \n",
    "    print(\">>\", ko_sen)\n",
    "    print(\">>\", en_sen)\n",
    "    print(\"\\n\")"
   ]
  },
  {
   "cell_type": "code",
   "execution_count": 4,
   "id": "split-greece",
   "metadata": {},
   "outputs": [
    {
     "data": {
      "text/html": [
       "<div>\n",
       "<style scoped>\n",
       "    .dataframe tbody tr th:only-of-type {\n",
       "        vertical-align: middle;\n",
       "    }\n",
       "\n",
       "    .dataframe tbody tr th {\n",
       "        vertical-align: top;\n",
       "    }\n",
       "\n",
       "    .dataframe thead th {\n",
       "        text-align: right;\n",
       "    }\n",
       "</style>\n",
       "<table border=\"1\" class=\"dataframe\">\n",
       "  <thead>\n",
       "    <tr style=\"text-align: right;\">\n",
       "      <th></th>\n",
       "      <th>id</th>\n",
       "      <th>document</th>\n",
       "      <th>label</th>\n",
       "    </tr>\n",
       "  </thead>\n",
       "  <tbody>\n",
       "    <tr>\n",
       "      <th>0</th>\n",
       "      <td>9976970</td>\n",
       "      <td>아 더빙.. 진짜 짜증나네요 목소리</td>\n",
       "      <td>0</td>\n",
       "    </tr>\n",
       "    <tr>\n",
       "      <th>1</th>\n",
       "      <td>3819312</td>\n",
       "      <td>흠...포스터보고 초딩영화줄....오버연기조차 가볍지 않구나</td>\n",
       "      <td>1</td>\n",
       "    </tr>\n",
       "    <tr>\n",
       "      <th>2</th>\n",
       "      <td>10265843</td>\n",
       "      <td>너무재밓었다그래서보는것을추천한다</td>\n",
       "      <td>0</td>\n",
       "    </tr>\n",
       "    <tr>\n",
       "      <th>3</th>\n",
       "      <td>9045019</td>\n",
       "      <td>교도소 이야기구먼 ..솔직히 재미는 없다..평점 조정</td>\n",
       "      <td>0</td>\n",
       "    </tr>\n",
       "    <tr>\n",
       "      <th>4</th>\n",
       "      <td>6483659</td>\n",
       "      <td>사이몬페그의 익살스런 연기가 돋보였던 영화!스파이더맨에서 늙어보이기만 했던 커스틴 ...</td>\n",
       "      <td>1</td>\n",
       "    </tr>\n",
       "  </tbody>\n",
       "</table>\n",
       "</div>"
      ],
      "text/plain": [
       "         id                                           document  label\n",
       "0   9976970                                아 더빙.. 진짜 짜증나네요 목소리      0\n",
       "1   3819312                  흠...포스터보고 초딩영화줄....오버연기조차 가볍지 않구나      1\n",
       "2  10265843                                  너무재밓었다그래서보는것을추천한다      0\n",
       "3   9045019                      교도소 이야기구먼 ..솔직히 재미는 없다..평점 조정      0\n",
       "4   6483659  사이몬페그의 익살스런 연기가 돋보였던 영화!스파이더맨에서 늙어보이기만 했던 커스틴 ...      1"
      ]
     },
     "execution_count": 4,
     "metadata": {},
     "output_type": "execute_result"
    }
   ],
   "source": [
    "train_data.head()"
   ]
  },
  {
   "cell_type": "markdown",
   "id": "compatible-patient",
   "metadata": {},
   "source": [
    "## 2. 데이터 살펴보기 (시각화)"
   ]
  },
  {
   "cell_type": "code",
   "execution_count": 5,
   "id": "supposed-techno",
   "metadata": {
    "scrolled": false
   },
   "outputs": [
    {
     "name": "stdout",
     "output_type": "stream",
     "text": [
      "한국어 문장의 최단 길이: 1\n",
      "한국어 문장의 최장 길이: 146\n",
      "한국어 문장의 평균 길이: 35\n"
     ]
    }
   ],
   "source": [
    "def text_summary(raw):\n",
    "    min_len = 999\n",
    "    max_len = 0\n",
    "    sum_len = 0\n",
    "\n",
    "    for sen in raw:\n",
    "        length = len(str(sen))\n",
    "        if min_len > length: \n",
    "            min_len = length\n",
    "        if max_len < length: \n",
    "            max_len = length\n",
    "        sum_len += length\n",
    "    return min_len, max_len, sum_len // len(raw)\n",
    "\n",
    "ko_min, ko_max, ko_mean = text_summary(train_data[\"document\"])\n",
    "\n",
    "print(\"한국어 문장의 최단 길이:\", ko_min)\n",
    "print(\"한국어 문장의 최장 길이:\", ko_max)\n",
    "print(\"한국어 문장의 평균 길이:\", ko_mean)"
   ]
  },
  {
   "cell_type": "code",
   "execution_count": 6,
   "id": "major-modeling",
   "metadata": {},
   "outputs": [
    {
     "name": "stdout",
     "output_type": "stream",
     "text": [
      "한국어 중에서 가장 긴 문장의 길이 : 146\n",
      "한국어 중에서 가장 짧은 문장의 길이 : 1\n",
      "\n",
      "\n",
      "한국어 중에서 가장 많은 데이터 수 : 4472\n"
     ]
    },
    {
     "data": {
      "image/png": "[encoded data removed]",
      "text/plain": [
       "<Figure size 432x288 with 1 Axes>"
      ]
     },
     "metadata": {
      "needs_background": "light"
     },
     "output_type": "display_data"
    }
   ],
   "source": [
    "def length_count_vis(copy, col):\n",
    "    # 문장별 길이를 구합니다\n",
    "    copy[\"ko_len\"] = copy[col].apply(lambda x : len(str(x)))\n",
    "    \n",
    "    ko_max_len = max(copy[\"ko_len\"])\n",
    "    ko_min_len = min(copy[\"ko_len\"])\n",
    "    \n",
    "    print(f'한국어 중에서 가장 긴 문장의 길이 : {ko_max_len}')\n",
    "    print(f'한국어 중에서 가장 짧은 문장의 길이 : {ko_min_len}')\n",
    "    print(\"\\n\")\n",
    "\n",
    "\n",
    "    # 길이에 따른 데이터 개수를 구합니다.\n",
    "    ko_len_count = copy[\"ko_len\"].value_counts().sort_index()\n",
    "\n",
    "    # 막대그림의 축의 길이를 맞춰줍니다.\n",
    "    \n",
    "    ko_count = np.zeros(len(ko_len_count) + 2)\n",
    "\n",
    "    # 막대그림의 y축\n",
    "    for i,j in dict(ko_len_count).items():\n",
    "        ko_count[i] = j\n",
    "\n",
    "    print(f\"한국어 중에서 가장 많은 데이터 수 : {max(ko_len_count)}\")\n",
    "\n",
    "    \n",
    "    plt.plot(ko_count, label = \"ko\")\n",
    "    plt.legend()\n",
    "    plt.title(\"Count by sentence length\")\n",
    "    plt.xlabel(\"Length\")\n",
    "    plt.ylabel(\"Count\")\n",
    "    plt.show()\n",
    "    return copy\n",
    "\n",
    "cp_train = train_data.copy()\n",
    "cp_train = length_count_vis(cp_train, \"document\")"
   ]
  },
  {
   "cell_type": "code",
   "execution_count": 7,
   "id": "useful-louisville",
   "metadata": {},
   "outputs": [
    {
     "data": {
      "image/png": "[encoded data removed]",
      "text/plain": [
       "<Figure size 432x288 with 1 Axes>"
      ]
     },
     "metadata": {
      "needs_background": "light"
     },
     "output_type": "display_data"
    }
   ],
   "source": [
    "bad_corpus = cp_train.loc[cp_train[\"label\"] == 0, :]\n",
    "good_corpus = cp_train.loc[cp_train[\"label\"] == 1, :]\n",
    "\n",
    "bad_len_count = bad_corpus.groupby(\"ko_len\").count().iloc[:,0]\n",
    "good_len_count = good_corpus.groupby(\"ko_len\").count().iloc[:,0]\n",
    "\n",
    "plt.plot(bad_len_count, label = \"Bad\")\n",
    "plt.plot(good_len_count, label = \"Good\")\n",
    "plt.legend()\n",
    "plt.title(\"sentence length by Good, Bad\")\n",
    "plt.show()"
   ]
  },
  {
   "cell_type": "code",
   "execution_count": 8,
   "id": "through-millennium",
   "metadata": {},
   "outputs": [
    {
     "data": {
      "text/plain": [
       "Text(0.5, 1.0, 'Numbers of class')"
      ]
     },
     "execution_count": 8,
     "metadata": {},
     "output_type": "execute_result"
    },
    {
     "data": {
      "image/png": "[encoded data removed]",
      "text/plain": [
       "<Figure size 432x288 with 1 Axes>"
      ]
     },
     "metadata": {
      "needs_background": "light"
     },
     "output_type": "display_data"
    }
   ],
   "source": [
    "count_label = train_data.groupby(\"label\").count().iloc[:,0]\n",
    "plt.bar(x = [\"Bad\", \"Good\"], height = count_label)\n",
    "plt.title(\"Numbers of class\")"
   ]
  },
  {
   "cell_type": "markdown",
   "id": "ancient-bailey",
   "metadata": {},
   "source": [
    "## 3. 데이터 전처리"
   ]
  },
  {
   "cell_type": "markdown",
   "id": "reported-battle",
   "metadata": {},
   "source": [
    "- 중복되는 데이터 제거\n",
    "- 결측치 데이터 제거\n",
    "- 토큰화 (SentencePiece)"
   ]
  },
  {
   "cell_type": "markdown",
   "id": "registered-spanish",
   "metadata": {},
   "source": [
    "### 3.1 중복 데이터 제거"
   ]
  },
  {
   "cell_type": "code",
   "execution_count": 9,
   "id": "unnecessary-thomson",
   "metadata": {},
   "outputs": [
    {
     "name": "stdout",
     "output_type": "stream",
     "text": [
      "중복 제거하기 전의 데이터 수 : 150000\n",
      "중복 제거한 후의 데이터 수 : 146183\n",
      "한국어 중에서 가장 긴 문장의 길이 : 146\n",
      "한국어 중에서 가장 짧은 문장의 길이 : 1\n",
      "\n",
      "\n",
      "한국어 중에서 가장 많은 데이터 수 : 4431\n"
     ]
    },
    {
     "data": {
      "image/png": "[encoded data removed]",
      "text/plain": [
       "<Figure size 432x288 with 1 Axes>"
      ]
     },
     "metadata": {
      "needs_background": "light"
     },
     "output_type": "display_data"
    }
   ],
   "source": [
    "print(f\"중복 제거하기 전의 데이터 수 : {len(cp_train)}\")\n",
    "cp_train = cp_train.drop_duplicates(\"document\")\n",
    "cp_train = cp_train.reset_index()\n",
    "print(f\"중복 제거한 후의 데이터 수 : {len(cp_train)}\")\n",
    "cp_train = length_count_vis(cp_train, \"document\")"
   ]
  },
  {
   "cell_type": "markdown",
   "id": "executed-think",
   "metadata": {},
   "source": [
    "### 3.2 결측치 데이터 제거"
   ]
  },
  {
   "cell_type": "code",
   "execution_count": 10,
   "id": "comic-finish",
   "metadata": {},
   "outputs": [
    {
     "data": {
      "text/plain": [
       "index       0\n",
       "id          0\n",
       "document    1\n",
       "label       0\n",
       "ko_len      0\n",
       "dtype: int64"
      ]
     },
     "execution_count": 10,
     "metadata": {},
     "output_type": "execute_result"
    }
   ],
   "source": [
    "cp_train = cp_train.replace([\"\",'', \" \", ' '], np.nan)\n",
    "cp_train.isnull().sum()"
   ]
  },
  {
   "cell_type": "code",
   "execution_count": 11,
   "id": "ready-copying",
   "metadata": {},
   "outputs": [
    {
     "name": "stdout",
     "output_type": "stream",
     "text": [
      "결측치 제거하기 전의 데이터 수 : 146183\n",
      "결측치 제거한 후의 데이터 수 : 146182\n"
     ]
    }
   ],
   "source": [
    "print(f\"결측치 제거하기 전의 데이터 수 : {len(cp_train)}\")\n",
    "cp_train = cp_train.dropna()\n",
    "print(f\"결측치 제거한 후의 데이터 수 : {len(cp_train)}\")"
   ]
  },
  {
   "cell_type": "markdown",
   "id": "impressive-merit",
   "metadata": {},
   "source": [
    "### 3.3 토큰화 (SentencePiece)"
   ]
  },
  {
   "cell_type": "code",
   "execution_count": 13,
   "id": "announced-nomination",
   "metadata": {},
   "outputs": [
    {
     "data": {
      "text/plain": [
       "True"
      ]
     },
     "execution_count": 13,
     "metadata": {},
     "output_type": "execute_result"
    }
   ],
   "source": [
    "tr_temp_file = \"./model/nsmc_bpe_train.tmp\"\n",
    "\n",
    "with open(tr_temp_file, 'w') as f:\n",
    "    for row in cp_train[\"document\"]:   # 이전 스텝에서 정제했던 corpus를 활용합니다.\n",
    "        f.write(str(row) + '\\n')\n",
    "\n",
    "vocab_size = 8000\n",
    "spm.SentencePieceTrainer.Train('--input={} --model_prefix=nsmc_bpe_spm --vocab_size={} --model_type=bpe'.format(tr_temp_file, vocab_size))  \n",
    "\n",
    "s = spm.SentencePieceProcessor()\n",
    "s.Load('nsmc_bpe_spm.model')"
   ]
  },
  {
   "cell_type": "code",
   "execution_count": 14,
   "id": "recognized-seeker",
   "metadata": {},
   "outputs": [
    {
     "data": {
      "text/plain": [
       "(146182, 146)"
      ]
     },
     "execution_count": 14,
     "metadata": {},
     "output_type": "execute_result"
    }
   ],
   "source": [
    "max_len = max(cp_train[\"ko_len\"])\n",
    "id_document = cp_train[\"document\"].apply(lambda x : s.EncodeAsIds(str(x)))\n",
    "pad_document = pad_sequences(id_document, maxlen = max_len, padding = \"post\")\n",
    "pad_document.shape"
   ]
  },
  {
   "cell_type": "markdown",
   "id": "organized-heather",
   "metadata": {},
   "source": [
    "## 4. 분류 모델 구축"
   ]
  },
  {
   "cell_type": "markdown",
   "id": "confirmed-hughes",
   "metadata": {},
   "source": [
    "### 4.1 모델 하이퍼파라미터 지정"
   ]
  },
  {
   "cell_type": "code",
   "execution_count": 15,
   "id": "killing-gamma",
   "metadata": {},
   "outputs": [],
   "source": [
    "batch_size = 128\n",
    "hidden_size = 64\n",
    "word_vector_dim = 200\n",
    "epochs = 1"
   ]
  },
  {
   "cell_type": "markdown",
   "id": "residential-regular",
   "metadata": {},
   "source": [
    "### 4.2 훈련셋, 검증셋 분리"
   ]
  },
  {
   "cell_type": "code",
   "execution_count": 16,
   "id": "collaborative-african",
   "metadata": {
    "scrolled": true
   },
   "outputs": [
    {
     "data": {
      "text/plain": [
       "((116945, 146), (29237, 146), (116945, 1), (29237, 1))"
      ]
     },
     "execution_count": 16,
     "metadata": {},
     "output_type": "execute_result"
    }
   ],
   "source": [
    "x_data = pad_document\n",
    "y_data = cp_train[\"label\"].to_numpy().reshape(-1, 1)\n",
    "\n",
    "x_train, x_val, y_train, y_val = train_test_split(x_data, y_data, \n",
    "                                                  test_size = 0.2)\n",
    "x_train.shape, x_val.shape, y_train.shape, y_val.shape"
   ]
  },
  {
   "cell_type": "markdown",
   "id": "metropolitan-helicopter",
   "metadata": {},
   "source": [
    "### 4.3 텐서플로우 데이터셋으로 변환"
   ]
  },
  {
   "cell_type": "code",
   "execution_count": 17,
   "id": "champion-green",
   "metadata": {},
   "outputs": [],
   "source": [
    "def tensorflow_dataset(input_x, input_y, buffer_size, batch_size):\n",
    "    tf_data = tf.data.Dataset.from_tensor_slices((input_x, input_y))\n",
    "    tf_data = tf_data.shuffle(buffer_size)\n",
    "    tf_data = tf_data.repeat()\n",
    "    tf_data = tf_data.batch(batch_size)\n",
    "    tf_data = tf_data.prefetch(buffer_size = -1)\n",
    "    return tf_data \n",
    "\n",
    "train_buffer_size = len(x_train)\n",
    "val_buffer_size = len(x_val)\n",
    "tf_train = tensorflow_dataset(x_train, y_train, \n",
    "                              train_buffer_size, batch_size)\n",
    "tf_val = tensorflow_dataset(x_val, y_val, \n",
    "                              val_buffer_size, batch_size)"
   ]
  },
  {
   "cell_type": "markdown",
   "id": "featured-twins",
   "metadata": {},
   "source": [
    "### 4.4 이진분류 모델 설계 및 컴파일"
   ]
  },
  {
   "cell_type": "code",
   "execution_count": 18,
   "id": "pressed-transport",
   "metadata": {},
   "outputs": [],
   "source": [
    "class NSMC_model(tf.keras.Model):\n",
    "    \n",
    "    def __init__(self, vocab_size, embedd_size, hidden_size):\n",
    "        super(NSMC_model, self).__init__()\n",
    "        self.embedding = tf.keras.layers.Embedding(input_dim = vocab_size,\n",
    "                                                   output_dim = embedd_size)\n",
    "        self.BiLSTM = tf.keras.layers.Bidirectional(tf.keras.layers.LSTM(units = hidden_size, return_sequences = True))\n",
    "        self.BN = tf.keras.layers.BatchNormalization()\n",
    "        self.dense = tf.keras.layers.Dense(16, activation = \"relu\")\n",
    "        self.out = tf.keras.layers.Dense(1, activation = \"sigmoid\")\n",
    "        \n",
    "    def call(self, x):\n",
    "        x = self.embedding(x)\n",
    "        x = self.BiLSTM(x)\n",
    "        x = self.BN(x)\n",
    "        x = self.dense(x)\n",
    "        x = self.out(x)\n",
    "        return x\n",
    "\n",
    "model = NSMC_model(vocab_size, word_vector_dim, hidden_size)\n",
    "model.compile(optimizer=\"adam\",\n",
    "              loss = \"binary_crossentropy\",\n",
    "              metrics = [\"accuracy\"])"
   ]
  },
  {
   "cell_type": "markdown",
   "id": "departmental-prophet",
   "metadata": {},
   "source": [
    "### 4.5 모델 학습"
   ]
  },
  {
   "cell_type": "code",
   "execution_count": 19,
   "id": "optional-specific",
   "metadata": {},
   "outputs": [],
   "source": [
    "es = tf.keras.callbacks.EarlyStopping(monitor=\"val_loss\", patience=1)\n",
    "lr_reduce = tf.keras.callbacks.ReduceLROnPlateau(patience = 5)"
   ]
  },
  {
   "cell_type": "code",
   "execution_count": 20,
   "id": "corresponding-weekly",
   "metadata": {},
   "outputs": [
    {
     "name": "stdout",
     "output_type": "stream",
     "text": [
      "913/913 [==============================] - 73s 75ms/step - loss: 0.4751 - accuracy: 0.7523 - val_loss: 0.3844 - val_accuracy: 0.8480\n"
     ]
    }
   ],
   "source": [
    "history = model.fit(tf_train, \n",
    "                    steps_per_epoch = train_buffer_size // batch_size,\n",
    "                    validation_data = tf_val,\n",
    "                    validation_steps = val_buffer_size // batch_size,\n",
    "                    epochs = epochs,\n",
    "                    callbacks = [es, lr_reduce]\n",
    "                   )"
   ]
  },
  {
   "cell_type": "code",
   "execution_count": 21,
   "id": "cosmetic-serum",
   "metadata": {},
   "outputs": [
    {
     "name": "stdout",
     "output_type": "stream",
     "text": [
      "Model: \"nsmc_model\"\n",
      "_________________________________________________________________\n",
      "Layer (type)                 Output Shape              Param #   \n",
      "=================================================================\n",
      "embedding (Embedding)        multiple                  1600000   \n",
      "_________________________________________________________________\n",
      "bidirectional (Bidirectional multiple                  135680    \n",
      "_________________________________________________________________\n",
      "batch_normalization (BatchNo multiple                  512       \n",
      "_________________________________________________________________\n",
      "dense (Dense)                multiple                  2064      \n",
      "_________________________________________________________________\n",
      "dense_1 (Dense)              multiple                  17        \n",
      "=================================================================\n",
      "Total params: 1,738,273\n",
      "Trainable params: 1,738,017\n",
      "Non-trainable params: 256\n",
      "_________________________________________________________________\n"
     ]
    }
   ],
   "source": [
    "model.summary()"
   ]
  },
  {
   "cell_type": "markdown",
   "id": "olive-beauty",
   "metadata": {},
   "source": [
    "### 5. 모델 검증 및 평가"
   ]
  },
  {
   "cell_type": "code",
   "execution_count": 22,
   "id": "annoying-reynolds",
   "metadata": {},
   "outputs": [
    {
     "ename": "ValueError",
     "evalue": "too many values to unpack (expected 4)",
     "output_type": "error",
     "traceback": [
      "\u001b[0;31m---------------------------------------------------------------------------\u001b[0m",
      "\u001b[0;31mValueError\u001b[0m                                Traceback (most recent call last)",
      "\u001b[0;32m<ipython-input-22-8d88d3a3921c>\u001b[0m in \u001b[0;36m<module>\u001b[0;34m\u001b[0m\n\u001b[1;32m     10\u001b[0m     \u001b[0mplt\u001b[0m\u001b[0;34m.\u001b[0m\u001b[0mshow\u001b[0m\u001b[0;34m(\u001b[0m\u001b[0;34m)\u001b[0m\u001b[0;34m\u001b[0m\u001b[0;34m\u001b[0m\u001b[0m\n\u001b[1;32m     11\u001b[0m \u001b[0;34m\u001b[0m\u001b[0m\n\u001b[0;32m---> 12\u001b[0;31m \u001b[0mshow_performance\u001b[0m\u001b[0;34m(\u001b[0m\u001b[0mhistory\u001b[0m\u001b[0;34m)\u001b[0m\u001b[0;34m\u001b[0m\u001b[0;34m\u001b[0m\u001b[0m\n\u001b[0m",
      "\u001b[0;32m<ipython-input-22-8d88d3a3921c>\u001b[0m in \u001b[0;36mshow_performance\u001b[0;34m(history)\u001b[0m\n\u001b[1;32m      1\u001b[0m \u001b[0;32mdef\u001b[0m \u001b[0mshow_performance\u001b[0m\u001b[0;34m(\u001b[0m\u001b[0mhistory\u001b[0m\u001b[0;34m)\u001b[0m\u001b[0;34m:\u001b[0m\u001b[0;34m\u001b[0m\u001b[0;34m\u001b[0m\u001b[0m\n\u001b[0;32m----> 2\u001b[0;31m     \u001b[0mloss\u001b[0m\u001b[0;34m,\u001b[0m \u001b[0macc\u001b[0m\u001b[0;34m,\u001b[0m \u001b[0mval_loss\u001b[0m\u001b[0;34m,\u001b[0m \u001b[0mval_acc\u001b[0m \u001b[0;34m=\u001b[0m \u001b[0mhistory\u001b[0m\u001b[0;34m.\u001b[0m\u001b[0mhistory\u001b[0m\u001b[0;34m.\u001b[0m\u001b[0mvalues\u001b[0m\u001b[0;34m(\u001b[0m\u001b[0;34m)\u001b[0m\u001b[0;34m\u001b[0m\u001b[0;34m\u001b[0m\u001b[0m\n\u001b[0m\u001b[1;32m      3\u001b[0m     \u001b[0mplt\u001b[0m\u001b[0;34m.\u001b[0m\u001b[0mplot\u001b[0m\u001b[0;34m(\u001b[0m\u001b[0mloss\u001b[0m\u001b[0;34m,\u001b[0m \u001b[0mlabel\u001b[0m \u001b[0;34m=\u001b[0m \u001b[0;34m\"loss\"\u001b[0m\u001b[0;34m)\u001b[0m\u001b[0;34m\u001b[0m\u001b[0;34m\u001b[0m\u001b[0m\n\u001b[1;32m      4\u001b[0m     \u001b[0mplt\u001b[0m\u001b[0;34m.\u001b[0m\u001b[0mplot\u001b[0m\u001b[0;34m(\u001b[0m\u001b[0macc\u001b[0m\u001b[0;34m,\u001b[0m \u001b[0mlabel\u001b[0m \u001b[0;34m=\u001b[0m \u001b[0;34m\"acc\"\u001b[0m\u001b[0;34m)\u001b[0m\u001b[0;34m\u001b[0m\u001b[0;34m\u001b[0m\u001b[0m\n\u001b[1;32m      5\u001b[0m     \u001b[0mplt\u001b[0m\u001b[0;34m.\u001b[0m\u001b[0mplot\u001b[0m\u001b[0;34m(\u001b[0m\u001b[0mval_loss\u001b[0m\u001b[0;34m,\u001b[0m \u001b[0mlabel\u001b[0m \u001b[0;34m=\u001b[0m \u001b[0;34m\"val_loss\"\u001b[0m\u001b[0;34m)\u001b[0m\u001b[0;34m\u001b[0m\u001b[0;34m\u001b[0m\u001b[0m\n",
      "\u001b[0;31mValueError\u001b[0m: too many values to unpack (expected 4)"
     ]
    }
   ],
   "source": [
    "def show_performance(history):\n",
    "    loss, acc, val_loss, val_acc = history.history.values()\n",
    "    plt.plot(loss, label = \"loss\")\n",
    "    plt.plot(acc, label = \"acc\")\n",
    "    plt.plot(val_loss, label = \"val_loss\")\n",
    "    plt.plot(val_acc, label = \"val_acc\")\n",
    "    plt.title(\"Model Performance\")\n",
    "    plt.xlabel(\"epochs\")\n",
    "    plt.legend()\n",
    "    plt.show()\n",
    "    \n",
    "show_performance(history)"
   ]
  },
  {
   "cell_type": "code",
   "execution_count": 23,
   "id": "delayed-typing",
   "metadata": {},
   "outputs": [
    {
     "name": "stdout",
     "output_type": "stream",
     "text": [
      "914/914 [==============================] - 15s 16ms/step - loss: 0.3842 - accuracy: 0.8481\n"
     ]
    },
    {
     "data": {
      "text/plain": [
       "[0.3841555118560791, 0.848077118396759]"
      ]
     },
     "execution_count": 23,
     "metadata": {},
     "output_type": "execute_result"
    }
   ],
   "source": [
    "model.evaluate(x_val, y_val)"
   ]
  },
  {
   "cell_type": "code",
   "execution_count": 47,
   "id": "indonesian-string",
   "metadata": {},
   "outputs": [],
   "source": [
    "y_preds = model.predict(x_val)\n",
    "y_pred_mean = np.mean(y_preds, axis= 1)\n",
    "y_pred = np.where(y_pred_mean < 0.5, 0, 1)"
   ]
  },
  {
   "cell_type": "code",
   "execution_count": 64,
   "id": "respiratory-preservation",
   "metadata": {
    "scrolled": true
   },
   "outputs": [
    {
     "data": {
      "image/png": "[encoded data removed]",
      "text/plain": [
       "<Figure size 432x288 with 2 Axes>"
      ]
     },
     "metadata": {
      "needs_background": "light"
     },
     "output_type": "display_data"
    }
   ],
   "source": [
    "sns.heatmap(confusion_matrix(y_pred, y_val), annot=True, fmt='d')\n",
    "plt.title(\"Confusion Matrix\")\n",
    "plt.show()"
   ]
  }
 ],
 "metadata": {
  "kernelspec": {
   "display_name": "Python 3",
   "language": "python",
   "name": "python3"
  },
  "language_info": {
   "codemirror_mode": {
    "name": "ipython",
    "version": 3
   },
   "file_extension": ".py",
   "mimetype": "text/x-python",
   "name": "python",
   "nbconvert_exporter": "python",
   "pygments_lexer": "ipython3",
   "version": "3.7.9"
  }
 },
 "nbformat": 4,
 "nbformat_minor": 5
}
