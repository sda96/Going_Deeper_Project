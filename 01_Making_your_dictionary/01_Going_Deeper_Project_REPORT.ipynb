{
 "cells": [
  {
   "cell_type": "markdown",
   "id": "severe-orientation",
   "metadata": {},
   "source": [
    "## 1. 서론"
   ]
  },
  {
   "cell_type": "markdown",
   "id": "extreme-accommodation",
   "metadata": {},
   "source": [
    "네이버 영화 댓글 감성 분석 데이터셋인 nsmc를 활용하여 어떠한 벡터화 기법이 가장 정확도(accuracy)가 좋은지 실험해보겠습니다."
   ]
  },
  {
   "cell_type": "markdown",
   "id": "asian-disclosure",
   "metadata": {},
   "source": [
    "성능 비교용 벡터화 기법\n",
    "- 전처리 전 형태소 분석기 (Mecab)\n",
    "- 전처리 후 형태소 분석기 (Mecab)\n",
    "- 전처리 후 형태소 분석기 + 사전 학습된 임베딩 벡터 (전이학습)\n",
    "\n",
    "\n",
    "- 전처리 전 SentencePiece (uni-gram)\n",
    "- 전처리 전 SentencePiece (byte-pair-enocding)\n",
    "- 전처리 후 SentencePiece (uni-gram)\n",
    "- 전처리 후 SentencePiece (byte-pair-enocding)\n",
    "\n",
    "\n",
    "- 형태소 분석기 (Mecab) + SetencePiece (uni-gram)\n",
    "- 형태소 분석기 (Mecab) + SetencePiece (byte-pair-enocding)"
   ]
  },
  {
   "cell_type": "markdown",
   "id": "purple-campbell",
   "metadata": {},
   "source": [
    "위의 성능 비교용에서 사용될 모델의 arguments 로 분류 모델은 기본적으로 BiLSTM을 공통적으로 사용하겠습니다.\n",
    "- batch_size = 128\n",
    "- epochs = 5\n",
    "- vocab_size = 8000\n",
    "- embedding_size = 200\n",
    "- hidden_size = 64"
   ]
  }
 ],
 "metadata": {
  "kernelspec": {
   "display_name": "Python 3",
   "language": "python",
   "name": "python3"
  },
  "language_info": {
   "codemirror_mode": {
    "name": "ipython",
    "version": 3
   },
   "file_extension": ".py",
   "mimetype": "text/x-python",
   "name": "python",
   "nbconvert_exporter": "python",
   "pygments_lexer": "ipython3",
   "version": "3.7.9"
  }
 },
 "nbformat": 4,
 "nbformat_minor": 5
}
